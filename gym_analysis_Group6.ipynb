{
 "cells": [
  {
   "cell_type": "markdown",
   "metadata": {
    "colab_type": "text",
    "id": "rVWe09OarHtr"
   },
   "source": [
    "<div>\n",
    "<img src=\"https://www.automation.com/getmedia/3c46e651-52ef-4d7e-9ee1-4e2132173f57/EUS031---Image\" width=\"250\" align=\"left\"/>\n",
    "</div>"
   ]
  },
  {
   "cell_type": "markdown",
   "metadata": {
    "colab_type": "text",
    "id": "xId9RYtarHtt"
   },
   "source": [
    "## Reinforcement Learning Final Project: Inventory Management\n",
    "Group 6: Michael, Annie, Targoon"
   ]
  },
  {
   "cell_type": "code",
   "execution_count": 1,
   "metadata": {
    "colab": {},
    "colab_type": "code",
    "id": "bK0HJ53YrHtu"
   },
   "outputs": [],
   "source": [
    "# 1. Problem Introduction\n",
    "    # - EDA / Markov Process Description\n",
    "# 2. Solve Problem in a small scale (Value Iteration)\n",
    "    # - Calculate Probability Matrix & Rewards by simulation\n",
    "    # - plot different graphs between optimal action vs initial state given different values\n",
    "# 3. Increase problem scaling (Value Iteration with Simulation & Q-Learning)"
   ]
  },
  {
   "cell_type": "markdown",
   "metadata": {
    "colab_type": "text",
    "id": "8Exio1zorHt2"
   },
   "source": [
    "### Necessary imports"
   ]
  },
  {
   "cell_type": "code",
   "execution_count": 8,
   "metadata": {
    "colab": {
     "base_uri": "https://localhost:8080/",
     "height": 35
    },
    "colab_type": "code",
    "id": "NRvdefo3rHt4",
    "outputId": "ddce3f4b-7c88-4fd0-9bfd-1eed14d58dc2"
   },
   "outputs": [],
   "source": [
    "#!!pip install gym\n",
    "#!pip install quantecon \n",
    "#!pip install numpy==1.19.1\n",
    "\n",
    "import gym\n",
    "from gym import spaces\n",
    "from gym import utils\n",
    "from gym.utils import seeding\n",
    "\n",
    "import logging\n",
    "logger = logging.getLogger(__name__)\n",
    "\n",
    "import os\n",
    "from os.path import basename\n",
    "import sys\n",
    "import platform\n",
    "\n",
    "import gym\n",
    "from gym import spaces\n",
    "from gym import utils\n",
    "from gym.utils import seeding\n",
    "\n",
    "import pandas as pd\n",
    "import numpy as np\n",
    "import quantecon as qe\n",
    "\n",
    "import matplotlib.pyplot as plt\n",
    "\n",
    "from collections import Counter\n",
    "from itertools import groupby\n",
    "\n",
    "import warnings\n",
    "warnings.filterwarnings(\"ignore\") # supress warnings\n",
    "\n",
    "import matplotlib.pyplot as plt\n",
    "\n",
    "pd.set_option('display.max_colwidth', -1)\n",
    "pd.set_option('display.max_row', 20) # set max row display\n",
    "pd.set_option('display.max_columns', 20) # set max column width\n",
    "\n",
    "# enable ability to see the value of multiple statements at once\n",
    "# from IPython.core.interactiveshell import InteractiveShell\n",
    "# InteractiveShell.ast_node_interactivity = \"all\"\n",
    "\n",
    "%matplotlib inline"
   ]
  },
  {
   "cell_type": "code",
   "execution_count": 9,
   "metadata": {
    "colab": {
     "base_uri": "https://localhost:8080/",
     "height": 35
    },
    "colab_type": "code",
    "id": "6Wz0OYJ0rHuD",
    "outputId": "4a827e6a-6fc9-46f6-de70-c0ac35dc77f6"
   },
   "outputs": [
    {
     "name": "stdout",
     "output_type": "stream",
     "text": [
      "3.7.3\n"
     ]
    }
   ],
   "source": [
    "# check python version\n",
    "from platform import python_version\n",
    "print(python_version())"
   ]
  },
  {
   "cell_type": "markdown",
   "metadata": {
    "colab_type": "text",
    "id": "YeefXXc2rHuN"
   },
   "source": [
    "### Instantiate class from gym environment"
   ]
  },
  {
   "cell_type": "code",
   "execution_count": 10,
   "metadata": {
    "colab": {},
    "colab_type": "code",
    "id": "bZPeZeAjrHuO"
   },
   "outputs": [],
   "source": [
    "class InventoryEnv(gym.Env, utils.EzPickle):\n",
    "    \"\"\"Inventory control with lost sales environment\n",
    "\n",
    "    TO BE EDITED\n",
    "\n",
    "    This environment corresponds to the version of the inventory control\n",
    "    with lost sales problem described in Example 1.1 in Algorithms for\n",
    "    Reinforcement Learning by Csaba Szepesvari (2010).\n",
    "    https://sites.ualberta.ca/~szepesva/RLBook.html\n",
    "    \"\"\"\n",
    "\n",
    "    # our problem statement does not fully define these parameters\n",
    "    # we will explain what happens to our optimal policy, given changing parameters -- we will show this w/ graphs\n",
    "    \n",
    "    def __init__(self, n=10, k=1, c=2, h=0, p=5, lam=5): # default values\n",
    "        self.n = n # items held at certain time\n",
    "        self.action_space = spaces.Discrete(n + 1)\n",
    "        self.observation_space = spaces.Discrete(n + 1)\n",
    "        self.max = n # have to optimize max items held at certain time\n",
    "        self.state = np.random.choice(range(n + 1))\n",
    "        self.k = k # fixed entry cost for ordering; k must be greater than 0\n",
    "        self.c = c # fixed price of purchase for items\n",
    "        self.h = h # proportionality value must be greater than 0; cost per unit; constant that we multiply by remaining inventory\n",
    "        self.p = p # p is price and must be greater than 0\n",
    "        self.lam = lam # trace-decay parameter; makes algo incremental\n",
    "        \n",
    "        # we do not know what demand will be \n",
    "        # upon selling z units the manager is paid the monetary amount of p z, where p > 0.\n",
    "\n",
    "        # Set seed\n",
    "        self._seed()\n",
    "\n",
    "        # Start the first round\n",
    "        self._reset()\n",
    "\n",
    "    def demand(self):\n",
    "        return np.random.poisson(self.lam) # randomly generated demand based on poisson distribution\n",
    "\n",
    "    # transition probabilities\n",
    "    def transition(self, x, a, d): # action At gives the number of items ordered in the evening of day t\n",
    "        # x is initial state\n",
    "        \n",
    "        m = self.max\n",
    "        \n",
    "        # size of next inventory is xt+1\n",
    "        return max(min(x + a, m) - d, 0) # subtract the d (demand) that you will recieve the next day\n",
    "\n",
    "    # a controller receives the controlled system's state and a reward associated with the last state transition\n",
    "    def reward(self, x, a, y):\n",
    "        k = self.k\n",
    "        m = self.max # m is equal to n\n",
    "        c = self.c\n",
    "        h = self.h\n",
    "        p = self.p\n",
    "        \n",
    "        # a, amount purchased, + max inventory; if over amount of storage, affix penalty\n",
    "        if a + x > self.max:\n",
    "            return -99999\n",
    "        else:\n",
    "            r = -k * (a > 0) - c * max(min(x + a, m) - x, 0) - h * x + p * max(min(x + a, m) - y, 0)\n",
    "            return r\n",
    "\n",
    "    def _seed(self, seed=None):\n",
    "        self.np_random, seed = seeding.np_random(seed)\n",
    "        return [seed]\n",
    "\n",
    "    def _step(self, action):\n",
    "        assert self.action_space.contains(action)\n",
    "        obs = self.state\n",
    "        demand = self.demand()\n",
    "        obs2 = self.transition(obs, action, demand)\n",
    "        self.state = obs2\n",
    "        reward = self.reward(obs, action, obs2)\n",
    "        done = 0\n",
    "        return obs2, reward, done, {}\n",
    "\n",
    "    def _reset(self):\n",
    "        return self.state"
   ]
  },
  {
   "cell_type": "markdown",
   "metadata": {
    "colab_type": "text",
    "id": "SzAbJ56NrHub"
   },
   "source": [
    "We are going to start with a smaller sample set."
   ]
  },
  {
   "cell_type": "markdown",
   "metadata": {
    "colab_type": "text",
    "id": "xJNP8nzgrHud"
   },
   "source": [
    "### Step 1: Transition probability and Reward matrices"
   ]
  },
  {
   "cell_type": "code",
   "execution_count": 11,
   "metadata": {
    "colab": {
     "base_uri": "https://localhost:8080/",
     "height": 35
    },
    "colab_type": "code",
    "id": "2v5M5U4drHue",
    "outputId": "385de656-45ef-4492-dc16-14767bea11c2"
   },
   "outputs": [
    {
     "data": {
      "text/plain": [
       "10"
      ]
     },
     "execution_count": 11,
     "metadata": {},
     "output_type": "execute_result"
    }
   ],
   "source": [
    "env = InventoryEnv()\n",
    "env.n"
   ]
  },
  {
   "cell_type": "code",
   "execution_count": 59,
   "metadata": {
    "colab": {},
    "colab_type": "code",
    "id": "pK2vS9UNvc0-"
   },
   "outputs": [],
   "source": [
    "#env = updated gym env\n",
    "#T= simulated demand iterations \n",
    "\n",
    "def transition_prob(env,T=10000):\n",
    "  P_t = np.zeros([env.n + 1, env.n + 1, env.n + 1]) #(action, current_state, next_state)\n",
    "  RR = np.zeros([env.n + 1, env.n + 1, env.n + 1]) \n",
    "  #print('Shape of probability matrix and Reward Matrix is',RR.shape)\n",
    "\n",
    "  demand_list = []\n",
    "  for init_state in range(env.n + 1):\n",
    "      for action in range(env.n + 1):\n",
    "          final_state_list = []\n",
    "\n",
    "          for i in range(T):\n",
    "              demand = env.demand()\n",
    "              final_state = env.transition(init_state, action, demand)\n",
    "              \n",
    "              demand_list.append(demand)\n",
    "              final_state_list.append(final_state)\n",
    "              \n",
    "          final_state_count = Counter(final_state_list)\n",
    "          \n",
    "          \n",
    "          for (final_state,probability) in final_state_count.items():\n",
    "              P_t[action, init_state, final_state] = probability / T\n",
    "              \n",
    "          for final_state in range(env.n + 1):\n",
    "              RR[action, init_state, final_state] = env.reward(init_state, action, final_state)\n",
    "\n",
    "  return P_t,RR,demand_list"
   ]
  },
  {
   "cell_type": "code",
   "execution_count": 43,
   "metadata": {
    "colab": {
     "base_uri": "https://localhost:8080/",
     "height": 35
    },
    "colab_type": "code",
    "id": "8FlX0SI1w3b7",
    "outputId": "100e2d4b-e8e0-4b76-8877-612e4239d53c"
   },
   "outputs": [
    {
     "name": "stdout",
     "output_type": "stream",
     "text": [
      "Shape of probability matrix and Reward Matrix is (11, 11, 11)\n"
     ]
    }
   ],
   "source": [
    "P_t,RR,demand_list = transition_prob(env)"
   ]
  },
  {
   "cell_type": "code",
   "execution_count": 44,
   "metadata": {
    "colab": {
     "base_uri": "https://localhost:8080/",
     "height": 389
    },
    "colab_type": "code",
    "id": "G1qyeuVXrHu1",
    "outputId": "420fbd90-3ae6-4fc6-8c1f-f9d329008ba7",
    "scrolled": false
   },
   "outputs": [
    {
     "data": {
      "text/plain": [
       "(array([4.85750e+04, 2.71253e+05, 4.25713e+05, 3.03330e+05, 1.22541e+05,\n",
       "        3.20240e+04, 5.76000e+03, 7.35000e+02, 6.50000e+01, 4.00000e+00]),\n",
       " array([ 0. ,  1.9,  3.8,  5.7,  7.6,  9.5, 11.4, 13.3, 15.2, 17.1, 19. ]),\n",
       " <a list of 10 Patch objects>)"
      ]
     },
     "execution_count": 44,
     "metadata": {},
     "output_type": "execute_result"
    },
    {
     "data": {
      "image/png": "[encoded data removed]",
      "text/plain": [
       "<Figure size 432x288 with 1 Axes>"
      ]
     },
     "metadata": {
      "needs_background": "light"
     },
     "output_type": "display_data"
    }
   ],
   "source": [
    "plt.hist(demand_list)"
   ]
  },
  {
   "cell_type": "code",
   "execution_count": 45,
   "metadata": {
    "colab": {
     "base_uri": "https://localhost:8080/",
     "height": 370
    },
    "colab_type": "code",
    "id": "4N9273GDrHu8",
    "outputId": "90437bc9-8c0a-409e-b95a-9f6c45c6bb7d"
   },
   "outputs": [
    {
     "data": {
      "text/html": [
       "<div>\n",
       "<style scoped>\n",
       "    .dataframe tbody tr th:only-of-type {\n",
       "        vertical-align: middle;\n",
       "    }\n",
       "\n",
       "    .dataframe tbody tr th {\n",
       "        vertical-align: top;\n",
       "    }\n",
       "\n",
       "    .dataframe thead th {\n",
       "        text-align: right;\n",
       "    }\n",
       "</style>\n",
       "<table border=\"1\" class=\"dataframe\">\n",
       "  <thead>\n",
       "    <tr style=\"text-align: right;\">\n",
       "      <th></th>\n",
       "      <th>0</th>\n",
       "      <th>1</th>\n",
       "      <th>2</th>\n",
       "      <th>3</th>\n",
       "      <th>4</th>\n",
       "      <th>5</th>\n",
       "      <th>6</th>\n",
       "      <th>7</th>\n",
       "      <th>8</th>\n",
       "      <th>9</th>\n",
       "      <th>10</th>\n",
       "    </tr>\n",
       "  </thead>\n",
       "  <tbody>\n",
       "    <tr>\n",
       "      <th>0</th>\n",
       "      <td>0.5614</td>\n",
       "      <td>0.1769</td>\n",
       "      <td>0.1367</td>\n",
       "      <td>0.0844</td>\n",
       "      <td>0.0352</td>\n",
       "      <td>0.0054</td>\n",
       "      <td>0.0000</td>\n",
       "      <td>0.0000</td>\n",
       "      <td>0.0000</td>\n",
       "      <td>0.0000</td>\n",
       "      <td>0.0000</td>\n",
       "    </tr>\n",
       "    <tr>\n",
       "      <th>1</th>\n",
       "      <td>0.3832</td>\n",
       "      <td>0.1788</td>\n",
       "      <td>0.1741</td>\n",
       "      <td>0.1387</td>\n",
       "      <td>0.0871</td>\n",
       "      <td>0.0326</td>\n",
       "      <td>0.0055</td>\n",
       "      <td>0.0000</td>\n",
       "      <td>0.0000</td>\n",
       "      <td>0.0000</td>\n",
       "      <td>0.0000</td>\n",
       "    </tr>\n",
       "    <tr>\n",
       "      <th>2</th>\n",
       "      <td>0.2413</td>\n",
       "      <td>0.1410</td>\n",
       "      <td>0.1746</td>\n",
       "      <td>0.1754</td>\n",
       "      <td>0.1371</td>\n",
       "      <td>0.0879</td>\n",
       "      <td>0.0353</td>\n",
       "      <td>0.0074</td>\n",
       "      <td>0.0000</td>\n",
       "      <td>0.0000</td>\n",
       "      <td>0.0000</td>\n",
       "    </tr>\n",
       "    <tr>\n",
       "      <th>3</th>\n",
       "      <td>0.1346</td>\n",
       "      <td>0.1057</td>\n",
       "      <td>0.1425</td>\n",
       "      <td>0.1749</td>\n",
       "      <td>0.1753</td>\n",
       "      <td>0.1421</td>\n",
       "      <td>0.0833</td>\n",
       "      <td>0.0350</td>\n",
       "      <td>0.0066</td>\n",
       "      <td>0.0000</td>\n",
       "      <td>0.0000</td>\n",
       "    </tr>\n",
       "    <tr>\n",
       "      <th>4</th>\n",
       "      <td>0.0705</td>\n",
       "      <td>0.0692</td>\n",
       "      <td>0.1037</td>\n",
       "      <td>0.1431</td>\n",
       "      <td>0.1788</td>\n",
       "      <td>0.1714</td>\n",
       "      <td>0.1376</td>\n",
       "      <td>0.0855</td>\n",
       "      <td>0.0337</td>\n",
       "      <td>0.0065</td>\n",
       "      <td>0.0000</td>\n",
       "    </tr>\n",
       "    <tr>\n",
       "      <th>5</th>\n",
       "      <td>0.0321</td>\n",
       "      <td>0.0347</td>\n",
       "      <td>0.0638</td>\n",
       "      <td>0.1029</td>\n",
       "      <td>0.1482</td>\n",
       "      <td>0.1705</td>\n",
       "      <td>0.1692</td>\n",
       "      <td>0.1455</td>\n",
       "      <td>0.0931</td>\n",
       "      <td>0.0323</td>\n",
       "      <td>0.0077</td>\n",
       "    </tr>\n",
       "    <tr>\n",
       "      <th>6</th>\n",
       "      <td>0.0311</td>\n",
       "      <td>0.0370</td>\n",
       "      <td>0.0667</td>\n",
       "      <td>0.1021</td>\n",
       "      <td>0.1466</td>\n",
       "      <td>0.1804</td>\n",
       "      <td>0.1776</td>\n",
       "      <td>0.1382</td>\n",
       "      <td>0.0794</td>\n",
       "      <td>0.0347</td>\n",
       "      <td>0.0062</td>\n",
       "    </tr>\n",
       "    <tr>\n",
       "      <th>7</th>\n",
       "      <td>0.0335</td>\n",
       "      <td>0.0370</td>\n",
       "      <td>0.0645</td>\n",
       "      <td>0.1047</td>\n",
       "      <td>0.1547</td>\n",
       "      <td>0.1696</td>\n",
       "      <td>0.1754</td>\n",
       "      <td>0.1434</td>\n",
       "      <td>0.0811</td>\n",
       "      <td>0.0309</td>\n",
       "      <td>0.0052</td>\n",
       "    </tr>\n",
       "    <tr>\n",
       "      <th>8</th>\n",
       "      <td>0.0303</td>\n",
       "      <td>0.0374</td>\n",
       "      <td>0.0706</td>\n",
       "      <td>0.1024</td>\n",
       "      <td>0.1486</td>\n",
       "      <td>0.1685</td>\n",
       "      <td>0.1809</td>\n",
       "      <td>0.1394</td>\n",
       "      <td>0.0829</td>\n",
       "      <td>0.0337</td>\n",
       "      <td>0.0053</td>\n",
       "    </tr>\n",
       "    <tr>\n",
       "      <th>9</th>\n",
       "      <td>0.0327</td>\n",
       "      <td>0.0358</td>\n",
       "      <td>0.0641</td>\n",
       "      <td>0.0998</td>\n",
       "      <td>0.1505</td>\n",
       "      <td>0.1781</td>\n",
       "      <td>0.1762</td>\n",
       "      <td>0.1406</td>\n",
       "      <td>0.0823</td>\n",
       "      <td>0.0333</td>\n",
       "      <td>0.0066</td>\n",
       "    </tr>\n",
       "    <tr>\n",
       "      <th>10</th>\n",
       "      <td>0.0322</td>\n",
       "      <td>0.0350</td>\n",
       "      <td>0.0639</td>\n",
       "      <td>0.1032</td>\n",
       "      <td>0.1455</td>\n",
       "      <td>0.1796</td>\n",
       "      <td>0.1787</td>\n",
       "      <td>0.1404</td>\n",
       "      <td>0.0821</td>\n",
       "      <td>0.0340</td>\n",
       "      <td>0.0054</td>\n",
       "    </tr>\n",
       "  </tbody>\n",
       "</table>\n",
       "</div>"
      ],
      "text/plain": [
       "         0       1       2       3       4       5       6       7       8  \\\n",
       "0   0.5614  0.1769  0.1367  0.0844  0.0352  0.0054  0.0000  0.0000  0.0000   \n",
       "1   0.3832  0.1788  0.1741  0.1387  0.0871  0.0326  0.0055  0.0000  0.0000   \n",
       "2   0.2413  0.1410  0.1746  0.1754  0.1371  0.0879  0.0353  0.0074  0.0000   \n",
       "3   0.1346  0.1057  0.1425  0.1749  0.1753  0.1421  0.0833  0.0350  0.0066   \n",
       "4   0.0705  0.0692  0.1037  0.1431  0.1788  0.1714  0.1376  0.0855  0.0337   \n",
       "5   0.0321  0.0347  0.0638  0.1029  0.1482  0.1705  0.1692  0.1455  0.0931   \n",
       "6   0.0311  0.0370  0.0667  0.1021  0.1466  0.1804  0.1776  0.1382  0.0794   \n",
       "7   0.0335  0.0370  0.0645  0.1047  0.1547  0.1696  0.1754  0.1434  0.0811   \n",
       "8   0.0303  0.0374  0.0706  0.1024  0.1486  0.1685  0.1809  0.1394  0.0829   \n",
       "9   0.0327  0.0358  0.0641  0.0998  0.1505  0.1781  0.1762  0.1406  0.0823   \n",
       "10  0.0322  0.0350  0.0639  0.1032  0.1455  0.1796  0.1787  0.1404  0.0821   \n",
       "\n",
       "         9      10  \n",
       "0   0.0000  0.0000  \n",
       "1   0.0000  0.0000  \n",
       "2   0.0000  0.0000  \n",
       "3   0.0000  0.0000  \n",
       "4   0.0065  0.0000  \n",
       "5   0.0323  0.0077  \n",
       "6   0.0347  0.0062  \n",
       "7   0.0309  0.0052  \n",
       "8   0.0337  0.0053  \n",
       "9   0.0333  0.0066  \n",
       "10  0.0340  0.0054  "
      ]
     },
     "execution_count": 45,
     "metadata": {},
     "output_type": "execute_result"
    }
   ],
   "source": [
    "pd.DataFrame(P_t[5,:,:])"
   ]
  },
  {
   "cell_type": "code",
   "execution_count": 46,
   "metadata": {
    "colab": {
     "base_uri": "https://localhost:8080/",
     "height": 35
    },
    "colab_type": "code",
    "id": "H1tCGjYHrHvF",
    "outputId": "b15d7d41-3e93-4021-8e60-f4e81c2791d3"
   },
   "outputs": [
    {
     "data": {
      "text/plain": [
       "(11, 11, 11)"
      ]
     },
     "execution_count": 46,
     "metadata": {},
     "output_type": "execute_result"
    }
   ],
   "source": [
    "K,N,M = P_t.shape\n",
    "K,N,M"
   ]
  },
  {
   "cell_type": "code",
   "execution_count": 17,
   "metadata": {
    "colab": {},
    "colab_type": "code",
    "id": "WtqGGXrXrHvM"
   },
   "outputs": [],
   "source": [
    "# k = action\n",
    "# i = current state\n",
    "# j = next state"
   ]
  },
  {
   "cell_type": "markdown",
   "metadata": {
    "colab_type": "text",
    "id": "B6HX00bHrHvS"
   },
   "source": [
    "### Step 2: EDA"
   ]
  },
  {
   "cell_type": "markdown",
   "metadata": {},
   "source": [
    " - We are starting with action 0, which is ordering nothing, which means that there is nothing in inventory\n",
    " - This means that demand is being realized in every step that we are taking"
   ]
  },
  {
   "cell_type": "code",
   "execution_count": 18,
   "metadata": {},
   "outputs": [
    {
     "data": {
      "image/png": "[encoded data removed]",
      "text/plain": [
       "<Figure size 1800x1800 with 121 Axes>"
      ]
     },
     "metadata": {
      "needs_background": "light"
     },
     "output_type": "display_data"
    }
   ],
   "source": [
    "P_t[0,:,:].shape\n",
    "\n",
    "prob_matrix = P_t[0]\n",
    "\n",
    "# define # of periods / decision epochs / stages\n",
    "T = 10\n",
    "\n",
    "# define # of rows & cols\n",
    "n = 11\n",
    "\n",
    "# create array for storing transition probs\n",
    "P = np.zeros((T,n,n),dtype=np.float64) # reflects steps 0 through 99\n",
    "\n",
    "P.shape\n",
    "\n",
    "\n",
    "# take array of 0's and set equal to first set of transition probabilities\n",
    "P[0] = prob_matrix\n",
    "P[0]\n",
    "\n",
    "\n",
    "for item in range(1,T):\n",
    "    P[item] = np.matmul(P[item - 1], prob_matrix)\n",
    "    \n",
    "    \n",
    "# map actions\n",
    "states = {\n",
    "    \n",
    "    0:'state1', \n",
    "    1:'state2', \n",
    "    2:'state3', \n",
    "    3:'state4', \n",
    "    4:'state4', \n",
    "    5:'state5', \n",
    "    6:'state6', \n",
    "    7:'state7',\n",
    "    8:'state8',\n",
    "    9:'state9',\n",
    "    10:'state10'\n",
    "    \n",
    "}\n",
    "\n",
    "\n",
    "# plot\n",
    "fig, axes = plt.subplots(n, n, figsize=(25, 25), sharey = True)\n",
    "\n",
    "for i in range(n):\n",
    "    \n",
    "    for j in range(n):\n",
    "        \n",
    "        var_name = '({},{})'.format(states[i],states[j])\n",
    "        \n",
    "        plt.sca(axes[i, j]) \n",
    "        plt.plot(range(T), P[:,i,j])\n",
    "        \n",
    "        axes[i,j].set_title(f'P$_{{{var_name}}}$(n)')\n",
    "\n",
    "fig.subplots_adjust(top = 0.8)\n",
    "plt.show()"
   ]
  },
  {
   "cell_type": "code",
   "execution_count": 19,
   "metadata": {},
   "outputs": [
    {
     "data": {
      "text/plain": [
       "Text(0, 0.5, 'states')"
      ]
     },
     "execution_count": 19,
     "metadata": {},
     "output_type": "execute_result"
    },
    {
     "data": {
      "image/png": "[encoded data removed]",
      "text/plain": [
       "<Figure size 720x504 with 1 Axes>"
      ]
     },
     "metadata": {
      "needs_background": "light"
     },
     "output_type": "display_data"
    }
   ],
   "source": [
    "im_states1 = qe.MarkovChain(P_t[0,:,:])\n",
    "\n",
    "simulations = 100\n",
    "\n",
    "simulation = im_states1.simulate(simulations, random_state = 33)\n",
    "\n",
    "# plot sequence of transitions as step function of time\n",
    "\n",
    "fig, ax = plt.subplots(1, 1, figsize=(10, 7))\n",
    "fig.suptitle('State Simulation Plot for Action 0 - Number of Items in Inventory')\n",
    "\n",
    "plt.plot(simulation, lw = 5, color = 'b')\n",
    "\n",
    "plt.ylabel('states')\n",
    "\n",
    "# this is what we would expect when not ordering anything"
   ]
  },
  {
   "cell_type": "markdown",
   "metadata": {},
   "source": [
    " - Here we are starting with action 5, which means we are ordering 5 items\n",
    " - Here, we are still converging relatively quickly\n",
    " - There is some variation in how exactly that convergence happens; actual ordering is occurring"
   ]
  },
  {
   "cell_type": "code",
   "execution_count": 20,
   "metadata": {
    "colab": {},
    "colab_type": "code",
    "id": "nlm-1Lw_rHvT",
    "outputId": "10c2a678-e540-420e-e9b1-a1d45417dd70"
   },
   "outputs": [
    {
     "data": {
      "image/png": "[encoded data removed]",
      "text/plain": [
       "<Figure size 1800x1800 with 121 Axes>"
      ]
     },
     "metadata": {
      "needs_background": "light"
     },
     "output_type": "display_data"
    }
   ],
   "source": [
    "P_t[5,:,:] # use array 5th array as example\n",
    "\n",
    "P_t[5,:,:].shape\n",
    "\n",
    "prob_matrix = P_t[5]\n",
    "\n",
    "\n",
    "# define # of periods / decision epochs / stages\n",
    "T = 10\n",
    "\n",
    "# define # of rows & cols\n",
    "n = 11\n",
    "\n",
    "# create array for storing transition probs\n",
    "P = np.zeros((T,n,n),dtype=np.float64) # reflects steps 0 through 99\n",
    "\n",
    "\n",
    "# take array of 0's and set equal to first set of transition probabilities\n",
    "P[0] = prob_matrix\n",
    "\n",
    "for item in range(1,T):\n",
    "    P[item] = np.matmul(P[item - 1], prob_matrix)\n",
    "\n",
    "\n",
    "# plot\n",
    "fig, axes = plt.subplots(n, n, figsize=(25, 25), sharey = True)\n",
    "\n",
    "for i in range(n):\n",
    "    \n",
    "    for j in range(n):\n",
    "        \n",
    "        var_name = '({},{})'.format(states[i],states[j])\n",
    "        \n",
    "        plt.sca(axes[i, j]) \n",
    "        plt.plot(range(T), P[:,i,j])\n",
    "        \n",
    "        axes[i,j].set_title(f'P$_{{{var_name}}}$(n)')\n",
    "\n",
    "fig.subplots_adjust(top = 0.8)\n",
    "plt.show()"
   ]
  },
  {
   "cell_type": "code",
   "execution_count": 21,
   "metadata": {},
   "outputs": [
    {
     "name": "stdout",
     "output_type": "stream",
     "text": [
      "[array([ 0,  1,  2,  3,  4,  5,  6,  7,  8,  9, 10])]\n"
     ]
    },
    {
     "data": {
      "text/plain": [
       "1"
      ]
     },
     "execution_count": 21,
     "metadata": {},
     "output_type": "execute_result"
    }
   ],
   "source": [
    "# group all states into classes; report the classes and the total number of classes\n",
    "\n",
    "im_states3 = qe.MarkovChain(prob_matrix)\n",
    "\n",
    "# calculate communication classes\n",
    "print(im_states3.communication_classes) \n",
    "\n",
    "# get # of classes\n",
    "len(im_states3.communication_classes)"
   ]
  },
  {
   "cell_type": "code",
   "execution_count": 22,
   "metadata": {},
   "outputs": [
    {
     "name": "stdout",
     "output_type": "stream",
     "text": [
      "True\n"
     ]
    }
   ],
   "source": [
    "print(im_states3.is_irreducible)"
   ]
  },
  {
   "cell_type": "code",
   "execution_count": 23,
   "metadata": {},
   "outputs": [
    {
     "data": {
      "text/plain": [
       "1"
      ]
     },
     "execution_count": 23,
     "metadata": {},
     "output_type": "execute_result"
    }
   ],
   "source": [
    "# periodicity\n",
    "im_states3 = qe.MarkovChain(prob_matrix)\n",
    "\n",
    "# calculate # of periods\n",
    "im_states3.period"
   ]
  },
  {
   "cell_type": "code",
   "execution_count": 24,
   "metadata": {},
   "outputs": [
    {
     "data": {
      "text/plain": [
       "True"
      ]
     },
     "execution_count": 24,
     "metadata": {},
     "output_type": "execute_result"
    }
   ],
   "source": [
    "# since the # of periods = 1, this means the matrix is aperiodic, something confirmed by \n",
    "# the plots with no discernable pattern\n",
    "\n",
    "# shows matrix is aperiodic\n",
    "im_states3.is_aperiodic "
   ]
  },
  {
   "cell_type": "code",
   "execution_count": 25,
   "metadata": {},
   "outputs": [
    {
     "data": {
      "text/plain": [
       "array([4, 5, 6, 8, 2, 4, 5, 7, 8, 0, 2, 0, 4, 4, 1, 3, 7, 2, 0, 0, 2, 4,\n",
       "       2, 1, 1, 2, 0, 0, 3, 4, 3, 4, 8, 6, 5, 1, 1, 0, 0, 3, 0, 0, 1, 0,\n",
       "       0, 0, 0, 0, 3, 5, 9, 7, 8, 7, 9, 3, 0, 2, 3, 7, 4, 4, 7, 8, 5, 7,\n",
       "       6, 8, 4, 4, 6, 6, 0, 0, 2, 2, 4, 6, 7, 9, 5, 5, 5, 3, 3, 3, 1, 1,\n",
       "       0, 4, 2, 0, 1, 0, 1, 0, 0, 1, 1, 1])"
      ]
     },
     "execution_count": 25,
     "metadata": {},
     "output_type": "execute_result"
    }
   ],
   "source": [
    "# simulation\n",
    "\n",
    "# construct a 100-step simulation assuming an intial state and the above transition matrix\n",
    "simulations = 100\n",
    "\n",
    "simulation = im_states3.simulate(simulations, random_state = 33)\n",
    "simulation"
   ]
  },
  {
   "cell_type": "code",
   "execution_count": 26,
   "metadata": {},
   "outputs": [
    {
     "data": {
      "text/plain": [
       "Text(0, 0.5, 'states')"
      ]
     },
     "execution_count": 26,
     "metadata": {},
     "output_type": "execute_result"
    },
    {
     "data": {
      "image/png": "[encoded data removed]",
      "text/plain": [
       "<Figure size 720x504 with 1 Axes>"
      ]
     },
     "metadata": {
      "needs_background": "light"
     },
     "output_type": "display_data"
    }
   ],
   "source": [
    "# plot sequence of transitions as step function of time\n",
    "\n",
    "fig, ax = plt.subplots(1, 1, figsize=(10, 7))\n",
    "fig.suptitle('State Simulation Plot for Action 5 - Number of Items in Inventory')\n",
    "\n",
    "plt.plot(simulation, lw = 5, color = 'm')\n",
    "\n",
    "plt.ylabel('states')"
   ]
  },
  {
   "cell_type": "markdown",
   "metadata": {},
   "source": [
    " - Here we are starting with action 10, which means we are ordering 10 items\n",
    " - Here, we are still converging relatively quickly\n",
    " - There is some variation in how exactly that convergence happens; actual ordering is occurring"
   ]
  },
  {
   "cell_type": "code",
   "execution_count": 27,
   "metadata": {},
   "outputs": [
    {
     "data": {
      "image/png": "[encoded data removed]",
      "text/plain": [
       "<Figure size 1800x1800 with 121 Axes>"
      ]
     },
     "metadata": {
      "needs_background": "light"
     },
     "output_type": "display_data"
    }
   ],
   "source": [
    "P_t[10,:,:].shape\n",
    "\n",
    "prob_matrix = P_t[10]\n",
    "\n",
    "\n",
    "# define # of periods / decision epochs / stages\n",
    "T = 10\n",
    "\n",
    "# define # of rows & cols\n",
    "n = 11\n",
    "\n",
    "# create array for storing transition probs\n",
    "P = np.zeros((T,n,n),dtype=np.float64) # reflects steps 0 through 99\n",
    "\n",
    "# take array of 0's and set equal to first set of transition probabilities\n",
    "P[0] = prob_matrix\n",
    "P[0]\n",
    "\n",
    "for item in range(1,T):\n",
    "    P[item] = np.matmul(P[item - 1], prob_matrix)\n",
    "    \n",
    "\n",
    "# plot\n",
    "fig, axes = plt.subplots(n, n, figsize=(25, 25), sharey = True)\n",
    "\n",
    "for i in range(n):\n",
    "    \n",
    "    for j in range(n):\n",
    "        \n",
    "        var_name = '({},{})'.format(states[i],states[j])\n",
    "        \n",
    "        plt.sca(axes[i, j]) \n",
    "        plt.plot(range(T), P[:,i,j])\n",
    "        \n",
    "        axes[i,j].set_title(f'P$_{{{var_name}}}$(n)')\n",
    "\n",
    "fig.subplots_adjust(top = 0.8)\n",
    "plt.show()"
   ]
  },
  {
   "cell_type": "code",
   "execution_count": 28,
   "metadata": {},
   "outputs": [
    {
     "data": {
      "text/plain": [
       "Text(0, 0.5, 'states')"
      ]
     },
     "execution_count": 28,
     "metadata": {},
     "output_type": "execute_result"
    },
    {
     "data": {
      "image/png": "[encoded data removed]",
      "text/plain": [
       "<Figure size 720x504 with 1 Axes>"
      ]
     },
     "metadata": {
      "needs_background": "light"
     },
     "output_type": "display_data"
    }
   ],
   "source": [
    "im_states4 = qe.MarkovChain(P_t[10,:,:])\n",
    "\n",
    "# remove variable names for credit ratings\n",
    "im_states4 = qe.MarkovChain(P_t[10,:,:])\n",
    "\n",
    "simulations = 100\n",
    "\n",
    "simulation = im_states4.simulate(simulations, random_state = 33)\n",
    "\n",
    "# plot sequence of transitions as step function of time\n",
    "\n",
    "fig, ax = plt.subplots(1, 1, figsize=(10, 7))\n",
    "fig.suptitle('State Simulation Plot for Action 10 - Number of Items in Inventory')\n",
    "\n",
    "plt.plot(simulation, lw = 5, color = 'r')\n",
    "\n",
    "plt.ylabel('states')\n",
    "\n",
    "# this is what we would expect when not ordering anything"
   ]
  },
  {
   "cell_type": "markdown",
   "metadata": {},
   "source": [
    " - Report the likehood of each transition and the likelihood of the entire simulated sequence for ***ACTION 5***\n",
    " (re-run section above for Action 5 before proceeding)"
   ]
  },
  {
   "cell_type": "code",
   "execution_count": 29,
   "metadata": {},
   "outputs": [],
   "source": [
    "# sequence probability for all steps -- 100\n",
    "probability = 1\n",
    "\n",
    "# transition probability set\n",
    "prob_set = []\n",
    "\n",
    "\n",
    "for i in range(1, simulations):\n",
    "    \n",
    "    # current state -- first state\n",
    "    c_s = simulation[i - 1]\n",
    "    \n",
    "    # following state -- second state\n",
    "    f_s = simulation[i]\n",
    "    \n",
    "    # transition probability\n",
    "    prob_set2 = prob_matrix[c_s,f_s]\n",
    "    prob_set2 = round(prob_set2,3)\n",
    "    \n",
    "    # append new transition probabilities\n",
    "    prob_set.append(((c_s, f_s), prob_set2))\n",
    "    \n",
    "    # multiply sequence probabilities by calculated probabilities\n",
    "    probability *= prob_set2"
   ]
  },
  {
   "cell_type": "code",
   "execution_count": 30,
   "metadata": {
    "scrolled": true
   },
   "outputs": [
    {
     "data": {
      "text/plain": [
       "[((4, 6), 0.174),\n",
       " ((6, 6), 0.172),\n",
       " ((6, 8), 0.079),\n",
       " ((8, 2), 0.064),\n",
       " ((2, 7), 0.136),\n",
       " ((7, 6), 0.174),\n",
       " ((6, 7), 0.143),\n",
       " ((7, 8), 0.085),\n",
       " ((8, 0), 0.032),\n",
       " ((0, 7), 0.148),\n",
       " ((7, 3), 0.109),\n",
       " ((3, 9), 0.032),\n",
       " ((9, 5), 0.174),\n",
       " ((5, 2), 0.063),\n",
       " ((2, 7), 0.136),\n",
       " ((7, 9), 0.033),\n",
       " ((9, 2), 0.068),\n",
       " ((2, 3), 0.101),\n",
       " ((3, 4), 0.149),\n",
       " ((4, 7), 0.137),\n",
       " ((7, 7), 0.136),\n",
       " ((7, 3), 0.109),\n",
       " ((3, 4), 0.149),\n",
       " ((4, 5), 0.171),\n",
       " ((5, 6), 0.177),\n",
       " ((6, 2), 0.063),\n",
       " ((2, 2), 0.067),\n",
       " ((2, 8), 0.088),\n",
       " ((8, 6), 0.172),\n",
       " ((6, 4), 0.154),\n",
       " ((4, 6), 0.174),\n",
       " ((6, 9), 0.031),\n",
       " ((9, 6), 0.169),\n",
       " ((6, 5), 0.181),\n",
       " ((5, 1), 0.033),\n",
       " ((1, 5), 0.182),\n",
       " ((5, 2), 0.063),\n",
       " ((2, 2), 0.067),\n",
       " ((2, 8), 0.088),\n",
       " ((8, 0), 0.032),\n",
       " ((0, 3), 0.1),\n",
       " ((3, 6), 0.172),\n",
       " ((6, 2), 0.063),\n",
       " ((2, 4), 0.149),\n",
       " ((4, 2), 0.066),\n",
       " ((2, 3), 0.101),\n",
       " ((3, 5), 0.177),\n",
       " ((5, 8), 0.088),\n",
       " ((8, 7), 0.142),\n",
       " ((7, 9), 0.033),\n",
       " ((9, 7), 0.144),\n",
       " ((7, 8), 0.085),\n",
       " ((8, 7), 0.142),\n",
       " ((7, 9), 0.033),\n",
       " ((9, 3), 0.097),\n",
       " ((3, 2), 0.064),\n",
       " ((2, 7), 0.136),\n",
       " ((7, 6), 0.174),\n",
       " ((6, 9), 0.031),\n",
       " ((9, 4), 0.148),\n",
       " ((4, 5), 0.171),\n",
       " ((5, 8), 0.088),\n",
       " ((8, 8), 0.088),\n",
       " ((8, 5), 0.175),\n",
       " ((5, 7), 0.141),\n",
       " ((7, 6), 0.174),\n",
       " ((6, 8), 0.079),\n",
       " ((8, 4), 0.146),\n",
       " ((4, 5), 0.171),\n",
       " ((5, 7), 0.141),\n",
       " ((7, 6), 0.174),\n",
       " ((6, 0), 0.033),\n",
       " ((0, 0), 0.033),\n",
       " ((0, 7), 0.148),\n",
       " ((7, 5), 0.178),\n",
       " ((5, 7), 0.141),\n",
       " ((7, 7), 0.136),\n",
       " ((7, 7), 0.136),\n",
       " ((7, 9), 0.033),\n",
       " ((9, 5), 0.174),\n",
       " ((5, 5), 0.173),\n",
       " ((5, 6), 0.177),\n",
       " ((6, 3), 0.103),\n",
       " ((3, 5), 0.177),\n",
       " ((5, 5), 0.173),\n",
       " ((5, 3), 0.102),\n",
       " ((3, 4), 0.149),\n",
       " ((4, 4), 0.154),\n",
       " ((4, 9), 0.037),\n",
       " ((9, 3), 0.097),\n",
       " ((3, 2), 0.064),\n",
       " ((2, 6), 0.171),\n",
       " ((6, 3), 0.103),\n",
       " ((3, 6), 0.172),\n",
       " ((6, 3), 0.103),\n",
       " ((3, 3), 0.107),\n",
       " ((3, 6), 0.172),\n",
       " ((6, 5), 0.181),\n",
       " ((5, 5), 0.173)]"
      ]
     },
     "execution_count": 30,
     "metadata": {},
     "output_type": "execute_result"
    }
   ],
   "source": [
    "# likelihood of each transition\n",
    "prob_set"
   ]
  },
  {
   "cell_type": "code",
   "execution_count": 31,
   "metadata": {},
   "outputs": [
    {
     "data": {
      "text/plain": [
       "1.2875196059125382e-97"
      ]
     },
     "execution_count": 31,
     "metadata": {},
     "output_type": "execute_result"
    }
   ],
   "source": [
    "# likelihood of entire simulated sequencen (total):\n",
    "probability"
   ]
  },
  {
   "cell_type": "markdown",
   "metadata": {},
   "source": [
    " - Examine stationarity: is this Markov chain ***stationary***?"
   ]
  },
  {
   "cell_type": "code",
   "execution_count": 32,
   "metadata": {},
   "outputs": [
    {
     "data": {
      "text/plain": [
       "array([0.03214821, 0.03570934, 0.06486487, 0.1038264 , 0.14966985,\n",
       "       0.17608146, 0.17328319, 0.14029014, 0.08389584, 0.03364581,\n",
       "       0.00658487])"
      ]
     },
     "execution_count": 32,
     "metadata": {},
     "output_type": "execute_result"
    }
   ],
   "source": [
    "# stationarity\n",
    "\n",
    "# stationary distribution\n",
    "\n",
    "a = np.ones((n,)) \n",
    "b = np.ones((n, n))\n",
    "\n",
    "i = np.identity(11)\n",
    "\n",
    "p = np.matmul(a,np.linalg.inv(i - prob_matrix + b)) \n",
    "# linalg.inv() calculates inverse of matrix\n",
    "# inverse of a matrix is such that if multiplied by original matrix, results in identity\n",
    "# matrix\n",
    "# identity matrix is square matrix with ones on main diagonal\n",
    "\n",
    "p"
   ]
  },
  {
   "cell_type": "code",
   "execution_count": 33,
   "metadata": {},
   "outputs": [
    {
     "data": {
      "text/plain": [
       "array([0.03214821, 0.03570934, 0.06486487, 0.1038264 , 0.14966985,\n",
       "       0.17608146, 0.17328319, 0.14029014, 0.08389584, 0.03364581,\n",
       "       0.00658487])"
      ]
     },
     "execution_count": 33,
     "metadata": {},
     "output_type": "execute_result"
    }
   ],
   "source": [
    "# can confirm stationary by multiplying by transition probability matrix\n",
    "p = np.matmul(p, prob_matrix)\n",
    "p"
   ]
  },
  {
   "cell_type": "code",
   "execution_count": 34,
   "metadata": {},
   "outputs": [
    {
     "data": {
      "text/plain": [
       "array([[0.23672931, 0.11144438, 0.12362169, 0.12670941, 0.11995433,\n",
       "        0.10526335, 0.08092947, 0.05444497, 0.02868668, 0.01023364,\n",
       "        0.00198277]])"
      ]
     },
     "execution_count": 34,
     "metadata": {},
     "output_type": "execute_result"
    }
   ],
   "source": [
    "# confirm stationarity with quant econ function\n",
    "im_states3.stationary_distributions\n",
    "\n",
    "# stationary distrib. of a Markov chain is a prob. distrib. that remains unchanged in the \n",
    "# Markov chain over time\n",
    "\n",
    "# Markov chain is stationary b/c of existence of stationary distribution & b/c it satisfies \n",
    "# mathematical condition of pi^T = pi^T * P. pi is a row vector with probabilities that sum \n",
    "# to 1"
   ]
  },
  {
   "cell_type": "markdown",
   "metadata": {},
   "source": [
    " - Is this Markov chain time homogeneous?"
   ]
  },
  {
   "cell_type": "code",
   "execution_count": 35,
   "metadata": {},
   "outputs": [],
   "source": [
    "# The Markov chain is homogeneous due to stationarity of transition probabilities. So, the\n",
    "# probability of visiting a future state only depends on present state. The probability \n",
    "# transition matrix does not depend on time. The probability of visiting a future state is\n",
    "# equal given any current state."
   ]
  },
  {
   "cell_type": "code",
   "execution_count": 36,
   "metadata": {
    "colab": {},
    "colab_type": "code",
    "id": "u3t1f87KrHvb"
   },
   "outputs": [],
   "source": [
    "# recurrent states -- including explanation(s)\n",
    "\n",
    "\n"
   ]
  },
  {
   "cell_type": "markdown",
   "metadata": {
    "colab_type": "text",
    "id": "e4poZqrLrHve"
   },
   "source": [
    "### Step 3: Value Iteration (Bellman back-up)\n",
    " - Given optimal actions across a time horizon, considers expected sum of rewards after starting from a specific state\n",
    " - Method of computing an optimal MDP policy and its value\n",
    " - Starts at arbitrary end-point & works backward, refining estimate of V\n",
    " - Output: approximate optimal policy\n",
    " -  S states, A actions, P transition f(x) for P(s'|s,a), R reward f(x) given (s,a,s') and theta, a pre-defined threshold\n",
    "     -  Smaller the threshold, the higher the precision\n",
    "     - Utility values need to converge\n",
    "     - Calculates expected utility of each state using utilities of tneighboring states until utilities calculated on two successive steps are close enough"
   ]
  },
  {
   "cell_type": "code",
   "execution_count": 62,
   "metadata": {
    "colab": {},
    "colab_type": "code",
    "id": "I1wOKI9WxLAv"
   },
   "outputs": [],
   "source": [
    "def value_iteration(P_t,RR,t=600):\n",
    "    \n",
    "  K,N,M = P_t.shape\n",
    "  q = np.zeros((K,N,1),dtype=np.float64)\n",
    "  # print(q)\n",
    "    \n",
    "  #print('The shape of K,N,M is:', K,N,M) \n",
    "  #print('The shape of q is:',q.shape) # creates eleven 11 x 1 arrays\n",
    "    \n",
    "  for i in range(0,N):\n",
    "    for k in range(0,K):\n",
    "        for j in range(0,M):\n",
    "            q[k,i,0] = q[k,i,0] + RR[k,i,j]*P_t[k,i,j]\n",
    "\n",
    "  v = np.zeros((N,t),dtype=np.float64)\n",
    "  d = np.zeros((N,t),dtype=np.float64)\n",
    "    \n",
    "  for n in range(1,t):   \n",
    "      for i in range(0,N):\n",
    "          rhs = np.zeros((1,K),dtype=np.float64)\n",
    "        \n",
    "          for k in range(0,K):\n",
    "              rhs[0][k] = q[k][i][0] + np.matmul(P_t[k,i,:],v[:,n-1]) \n",
    "            \n",
    "          v[i,n] = max(rhs[0])\n",
    "          d[i,n] = np.argmax(rhs[0])\n",
    "  \n",
    "  v = v.T\n",
    "  d = d.T\n",
    "\n",
    "  return v,d"
   ]
  },
  {
   "cell_type": "code",
   "execution_count": 47,
   "metadata": {
    "colab": {
     "base_uri": "https://localhost:8080/",
     "height": 52
    },
    "colab_type": "code",
    "id": "JpPLW-_Oxwa4",
    "outputId": "dcb9406e-b27c-47c9-8b89-6d876ea1167b"
   },
   "outputs": [
    {
     "name": "stdout",
     "output_type": "stream",
     "text": [
      "The shape of K,N,M is: 11 11 11\n",
      "The shape of q is: (11, 11, 1)\n"
     ]
    }
   ],
   "source": [
    "v,d=value_iteration(P_t,RR)"
   ]
  },
  {
   "cell_type": "code",
   "execution_count": 48,
   "metadata": {
    "colab": {},
    "colab_type": "code",
    "id": "iSC0gmYBrHvt"
   },
   "outputs": [
    {
     "data": {
      "text/html": [
       "<div>\n",
       "<style scoped>\n",
       "    .dataframe tbody tr th:only-of-type {\n",
       "        vertical-align: middle;\n",
       "    }\n",
       "\n",
       "    .dataframe tbody tr th {\n",
       "        vertical-align: top;\n",
       "    }\n",
       "\n",
       "    .dataframe thead th {\n",
       "        text-align: right;\n",
       "    }\n",
       "</style>\n",
       "<table border=\"1\" class=\"dataframe\">\n",
       "  <thead>\n",
       "    <tr style=\"text-align: right;\">\n",
       "      <th></th>\n",
       "      <th>0</th>\n",
       "      <th>1</th>\n",
       "      <th>2</th>\n",
       "      <th>3</th>\n",
       "      <th>4</th>\n",
       "      <th>5</th>\n",
       "      <th>6</th>\n",
       "      <th>7</th>\n",
       "      <th>8</th>\n",
       "      <th>9</th>\n",
       "      <th>10</th>\n",
       "    </tr>\n",
       "  </thead>\n",
       "  <tbody>\n",
       "    <tr>\n",
       "      <th>0</th>\n",
       "      <td>0.000000</td>\n",
       "      <td>0.000000</td>\n",
       "      <td>0.000000</td>\n",
       "      <td>0.000000</td>\n",
       "      <td>0.000000</td>\n",
       "      <td>0.000000</td>\n",
       "      <td>0.000000</td>\n",
       "      <td>0.000000</td>\n",
       "      <td>0.000000</td>\n",
       "      <td>0.000000</td>\n",
       "      <td>0.000000</td>\n",
       "    </tr>\n",
       "    <tr>\n",
       "      <th>1</th>\n",
       "      <td>9.643500</td>\n",
       "      <td>11.699500</td>\n",
       "      <td>13.667000</td>\n",
       "      <td>15.579500</td>\n",
       "      <td>17.848000</td>\n",
       "      <td>20.507500</td>\n",
       "      <td>22.715500</td>\n",
       "      <td>23.762500</td>\n",
       "      <td>24.600000</td>\n",
       "      <td>24.687000</td>\n",
       "      <td>24.860000</td>\n",
       "    </tr>\n",
       "    <tr>\n",
       "      <th>2</th>\n",
       "      <td>23.752472</td>\n",
       "      <td>25.758205</td>\n",
       "      <td>27.738343</td>\n",
       "      <td>29.727895</td>\n",
       "      <td>31.837706</td>\n",
       "      <td>33.821641</td>\n",
       "      <td>35.729097</td>\n",
       "      <td>38.038999</td>\n",
       "      <td>40.640328</td>\n",
       "      <td>42.751628</td>\n",
       "      <td>44.716730</td>\n",
       "    </tr>\n",
       "    <tr>\n",
       "      <th>3</th>\n",
       "      <td>37.869572</td>\n",
       "      <td>39.876085</td>\n",
       "      <td>41.806446</td>\n",
       "      <td>43.823165</td>\n",
       "      <td>45.870592</td>\n",
       "      <td>47.746257</td>\n",
       "      <td>49.800010</td>\n",
       "      <td>52.023004</td>\n",
       "      <td>54.543698</td>\n",
       "      <td>56.642285</td>\n",
       "      <td>58.842072</td>\n",
       "    </tr>\n",
       "    <tr>\n",
       "      <th>4</th>\n",
       "      <td>51.882434</td>\n",
       "      <td>53.890121</td>\n",
       "      <td>55.820350</td>\n",
       "      <td>57.836117</td>\n",
       "      <td>59.883234</td>\n",
       "      <td>61.770380</td>\n",
       "      <td>63.813306</td>\n",
       "      <td>66.097891</td>\n",
       "      <td>68.599572</td>\n",
       "      <td>70.676378</td>\n",
       "      <td>72.855151</td>\n",
       "    </tr>\n",
       "    <tr>\n",
       "      <th>5</th>\n",
       "      <td>65.910721</td>\n",
       "      <td>67.917772</td>\n",
       "      <td>69.848319</td>\n",
       "      <td>71.864401</td>\n",
       "      <td>73.911085</td>\n",
       "      <td>75.792331</td>\n",
       "      <td>77.841393</td>\n",
       "      <td>80.112479</td>\n",
       "      <td>82.616395</td>\n",
       "      <td>84.698328</td>\n",
       "      <td>86.883365</td>\n",
       "    </tr>\n",
       "    <tr>\n",
       "      <th>6</th>\n",
       "      <td>79.934594</td>\n",
       "      <td>81.941801</td>\n",
       "      <td>83.872284</td>\n",
       "      <td>85.888282</td>\n",
       "      <td>87.935033</td>\n",
       "      <td>89.817741</td>\n",
       "      <td>91.865315</td>\n",
       "      <td>94.139930</td>\n",
       "      <td>96.643132</td>\n",
       "      <td>98.723726</td>\n",
       "      <td>100.907267</td>\n",
       "    </tr>\n",
       "    <tr>\n",
       "      <th>7</th>\n",
       "      <td>93.959579</td>\n",
       "      <td>95.966745</td>\n",
       "      <td>97.897245</td>\n",
       "      <td>99.913265</td>\n",
       "      <td>101.959997</td>\n",
       "      <td>103.842334</td>\n",
       "      <td>105.890287</td>\n",
       "      <td>108.164007</td>\n",
       "      <td>110.667388</td>\n",
       "      <td>112.748322</td>\n",
       "      <td>114.932244</td>\n",
       "    </tr>\n",
       "    <tr>\n",
       "      <th>8</th>\n",
       "      <td>107.984281</td>\n",
       "      <td>109.991457</td>\n",
       "      <td>111.921953</td>\n",
       "      <td>113.937967</td>\n",
       "      <td>115.984704</td>\n",
       "      <td>117.867136</td>\n",
       "      <td>119.914992</td>\n",
       "      <td>122.188940</td>\n",
       "      <td>124.692275</td>\n",
       "      <td>126.773123</td>\n",
       "      <td>128.956948</td>\n",
       "    </tr>\n",
       "    <tr>\n",
       "      <th>9</th>\n",
       "      <td>122.009054</td>\n",
       "      <td>124.016228</td>\n",
       "      <td>125.946725</td>\n",
       "      <td>127.962741</td>\n",
       "      <td>130.009477</td>\n",
       "      <td>131.891884</td>\n",
       "      <td>133.939765</td>\n",
       "      <td>136.213655</td>\n",
       "      <td>138.717002</td>\n",
       "      <td>140.797872</td>\n",
       "      <td>142.981721</td>\n",
       "    </tr>\n",
       "    <tr>\n",
       "      <th>...</th>\n",
       "      <td>...</td>\n",
       "      <td>...</td>\n",
       "      <td>...</td>\n",
       "      <td>...</td>\n",
       "      <td>...</td>\n",
       "      <td>...</td>\n",
       "      <td>...</td>\n",
       "      <td>...</td>\n",
       "      <td>...</td>\n",
       "      <td>...</td>\n",
       "      <td>...</td>\n",
       "    </tr>\n",
       "    <tr>\n",
       "      <th>590</th>\n",
       "      <td>8270.394150</td>\n",
       "      <td>8272.401325</td>\n",
       "      <td>8274.331822</td>\n",
       "      <td>8276.347837</td>\n",
       "      <td>8278.394573</td>\n",
       "      <td>8280.276985</td>\n",
       "      <td>8282.324861</td>\n",
       "      <td>8284.598763</td>\n",
       "      <td>8287.102107</td>\n",
       "      <td>8289.182973</td>\n",
       "      <td>8291.366817</td>\n",
       "    </tr>\n",
       "    <tr>\n",
       "      <th>591</th>\n",
       "      <td>8284.418909</td>\n",
       "      <td>8286.426084</td>\n",
       "      <td>8288.356581</td>\n",
       "      <td>8290.372596</td>\n",
       "      <td>8292.419332</td>\n",
       "      <td>8294.301745</td>\n",
       "      <td>8296.349621</td>\n",
       "      <td>8298.623522</td>\n",
       "      <td>8301.126867</td>\n",
       "      <td>8303.207732</td>\n",
       "      <td>8305.391577</td>\n",
       "    </tr>\n",
       "    <tr>\n",
       "      <th>592</th>\n",
       "      <td>8298.443669</td>\n",
       "      <td>8300.450843</td>\n",
       "      <td>8302.381340</td>\n",
       "      <td>8304.397355</td>\n",
       "      <td>8306.444092</td>\n",
       "      <td>8308.326504</td>\n",
       "      <td>8310.374380</td>\n",
       "      <td>8312.648281</td>\n",
       "      <td>8315.151626</td>\n",
       "      <td>8317.232491</td>\n",
       "      <td>8319.416336</td>\n",
       "    </tr>\n",
       "    <tr>\n",
       "      <th>593</th>\n",
       "      <td>8312.468428</td>\n",
       "      <td>8314.475602</td>\n",
       "      <td>8316.406099</td>\n",
       "      <td>8318.422114</td>\n",
       "      <td>8320.468851</td>\n",
       "      <td>8322.351263</td>\n",
       "      <td>8324.399139</td>\n",
       "      <td>8326.673040</td>\n",
       "      <td>8329.176385</td>\n",
       "      <td>8331.257250</td>\n",
       "      <td>8333.441095</td>\n",
       "    </tr>\n",
       "    <tr>\n",
       "      <th>594</th>\n",
       "      <td>8326.493187</td>\n",
       "      <td>8328.500362</td>\n",
       "      <td>8330.430858</td>\n",
       "      <td>8332.446874</td>\n",
       "      <td>8334.493610</td>\n",
       "      <td>8336.376022</td>\n",
       "      <td>8338.423898</td>\n",
       "      <td>8340.697800</td>\n",
       "      <td>8343.201144</td>\n",
       "      <td>8345.282010</td>\n",
       "      <td>8347.465854</td>\n",
       "    </tr>\n",
       "    <tr>\n",
       "      <th>595</th>\n",
       "      <td>8340.517946</td>\n",
       "      <td>8342.525121</td>\n",
       "      <td>8344.455618</td>\n",
       "      <td>8346.471633</td>\n",
       "      <td>8348.518369</td>\n",
       "      <td>8350.400781</td>\n",
       "      <td>8352.448657</td>\n",
       "      <td>8354.722559</td>\n",
       "      <td>8357.225903</td>\n",
       "      <td>8359.306769</td>\n",
       "      <td>8361.490613</td>\n",
       "    </tr>\n",
       "    <tr>\n",
       "      <th>596</th>\n",
       "      <td>8354.542706</td>\n",
       "      <td>8356.549880</td>\n",
       "      <td>8358.480377</td>\n",
       "      <td>8360.496392</td>\n",
       "      <td>8362.543128</td>\n",
       "      <td>8364.425541</td>\n",
       "      <td>8366.473417</td>\n",
       "      <td>8368.747318</td>\n",
       "      <td>8371.250663</td>\n",
       "      <td>8373.331528</td>\n",
       "      <td>8375.515373</td>\n",
       "    </tr>\n",
       "    <tr>\n",
       "      <th>597</th>\n",
       "      <td>8368.567465</td>\n",
       "      <td>8370.574639</td>\n",
       "      <td>8372.505136</td>\n",
       "      <td>8374.521151</td>\n",
       "      <td>8376.567888</td>\n",
       "      <td>8378.450300</td>\n",
       "      <td>8380.498176</td>\n",
       "      <td>8382.772077</td>\n",
       "      <td>8385.275422</td>\n",
       "      <td>8387.356287</td>\n",
       "      <td>8389.540132</td>\n",
       "    </tr>\n",
       "    <tr>\n",
       "      <th>598</th>\n",
       "      <td>8382.592224</td>\n",
       "      <td>8384.599399</td>\n",
       "      <td>8386.529895</td>\n",
       "      <td>8388.545910</td>\n",
       "      <td>8390.592647</td>\n",
       "      <td>8392.475059</td>\n",
       "      <td>8394.522935</td>\n",
       "      <td>8396.796836</td>\n",
       "      <td>8399.300181</td>\n",
       "      <td>8401.381046</td>\n",
       "      <td>8403.564891</td>\n",
       "    </tr>\n",
       "    <tr>\n",
       "      <th>599</th>\n",
       "      <td>8396.616983</td>\n",
       "      <td>8398.624158</td>\n",
       "      <td>8400.554654</td>\n",
       "      <td>8402.570670</td>\n",
       "      <td>8404.617406</td>\n",
       "      <td>8406.499818</td>\n",
       "      <td>8408.547694</td>\n",
       "      <td>8410.821596</td>\n",
       "      <td>8413.324940</td>\n",
       "      <td>8415.405806</td>\n",
       "      <td>8417.589650</td>\n",
       "    </tr>\n",
       "  </tbody>\n",
       "</table>\n",
       "<p>600 rows × 11 columns</p>\n",
       "</div>"
      ],
      "text/plain": [
       "               0            1            2            3            4  \\\n",
       "0    0.000000     0.000000     0.000000     0.000000     0.000000      \n",
       "1    9.643500     11.699500    13.667000    15.579500    17.848000     \n",
       "2    23.752472    25.758205    27.738343    29.727895    31.837706     \n",
       "3    37.869572    39.876085    41.806446    43.823165    45.870592     \n",
       "4    51.882434    53.890121    55.820350    57.836117    59.883234     \n",
       "5    65.910721    67.917772    69.848319    71.864401    73.911085     \n",
       "6    79.934594    81.941801    83.872284    85.888282    87.935033     \n",
       "7    93.959579    95.966745    97.897245    99.913265    101.959997    \n",
       "8    107.984281   109.991457   111.921953   113.937967   115.984704    \n",
       "9    122.009054   124.016228   125.946725   127.962741   130.009477    \n",
       "..          ...          ...          ...          ...          ...    \n",
       "590  8270.394150  8272.401325  8274.331822  8276.347837  8278.394573   \n",
       "591  8284.418909  8286.426084  8288.356581  8290.372596  8292.419332   \n",
       "592  8298.443669  8300.450843  8302.381340  8304.397355  8306.444092   \n",
       "593  8312.468428  8314.475602  8316.406099  8318.422114  8320.468851   \n",
       "594  8326.493187  8328.500362  8330.430858  8332.446874  8334.493610   \n",
       "595  8340.517946  8342.525121  8344.455618  8346.471633  8348.518369   \n",
       "596  8354.542706  8356.549880  8358.480377  8360.496392  8362.543128   \n",
       "597  8368.567465  8370.574639  8372.505136  8374.521151  8376.567888   \n",
       "598  8382.592224  8384.599399  8386.529895  8388.545910  8390.592647   \n",
       "599  8396.616983  8398.624158  8400.554654  8402.570670  8404.617406   \n",
       "\n",
       "               5            6            7            8            9  \\\n",
       "0    0.000000     0.000000     0.000000     0.000000     0.000000      \n",
       "1    20.507500    22.715500    23.762500    24.600000    24.687000     \n",
       "2    33.821641    35.729097    38.038999    40.640328    42.751628     \n",
       "3    47.746257    49.800010    52.023004    54.543698    56.642285     \n",
       "4    61.770380    63.813306    66.097891    68.599572    70.676378     \n",
       "5    75.792331    77.841393    80.112479    82.616395    84.698328     \n",
       "6    89.817741    91.865315    94.139930    96.643132    98.723726     \n",
       "7    103.842334   105.890287   108.164007   110.667388   112.748322    \n",
       "8    117.867136   119.914992   122.188940   124.692275   126.773123    \n",
       "9    131.891884   133.939765   136.213655   138.717002   140.797872    \n",
       "..          ...          ...          ...          ...          ...    \n",
       "590  8280.276985  8282.324861  8284.598763  8287.102107  8289.182973   \n",
       "591  8294.301745  8296.349621  8298.623522  8301.126867  8303.207732   \n",
       "592  8308.326504  8310.374380  8312.648281  8315.151626  8317.232491   \n",
       "593  8322.351263  8324.399139  8326.673040  8329.176385  8331.257250   \n",
       "594  8336.376022  8338.423898  8340.697800  8343.201144  8345.282010   \n",
       "595  8350.400781  8352.448657  8354.722559  8357.225903  8359.306769   \n",
       "596  8364.425541  8366.473417  8368.747318  8371.250663  8373.331528   \n",
       "597  8378.450300  8380.498176  8382.772077  8385.275422  8387.356287   \n",
       "598  8392.475059  8394.522935  8396.796836  8399.300181  8401.381046   \n",
       "599  8406.499818  8408.547694  8410.821596  8413.324940  8415.405806   \n",
       "\n",
       "              10  \n",
       "0    0.000000     \n",
       "1    24.860000    \n",
       "2    44.716730    \n",
       "3    58.842072    \n",
       "4    72.855151    \n",
       "5    86.883365    \n",
       "6    100.907267   \n",
       "7    114.932244   \n",
       "8    128.956948   \n",
       "9    142.981721   \n",
       "..          ...   \n",
       "590  8291.366817  \n",
       "591  8305.391577  \n",
       "592  8319.416336  \n",
       "593  8333.441095  \n",
       "594  8347.465854  \n",
       "595  8361.490613  \n",
       "596  8375.515373  \n",
       "597  8389.540132  \n",
       "598  8403.564891  \n",
       "599  8417.589650  \n",
       "\n",
       "[600 rows x 11 columns]"
      ]
     },
     "execution_count": 48,
     "metadata": {},
     "output_type": "execute_result"
    }
   ],
   "source": [
    "value_df = pd.DataFrame(v)\n",
    "value_df"
   ]
  },
  {
   "cell_type": "code",
   "execution_count": 49,
   "metadata": {
    "colab": {},
    "colab_type": "code",
    "id": "9SvQUyk0rHvw"
   },
   "outputs": [
    {
     "data": {
      "text/html": [
       "<div>\n",
       "<style scoped>\n",
       "    .dataframe tbody tr th:only-of-type {\n",
       "        vertical-align: middle;\n",
       "    }\n",
       "\n",
       "    .dataframe tbody tr th {\n",
       "        vertical-align: top;\n",
       "    }\n",
       "\n",
       "    .dataframe thead th {\n",
       "        text-align: right;\n",
       "    }\n",
       "</style>\n",
       "<table border=\"1\" class=\"dataframe\">\n",
       "  <thead>\n",
       "    <tr style=\"text-align: right;\">\n",
       "      <th></th>\n",
       "      <th>0</th>\n",
       "      <th>1</th>\n",
       "      <th>2</th>\n",
       "      <th>3</th>\n",
       "      <th>4</th>\n",
       "      <th>5</th>\n",
       "      <th>6</th>\n",
       "      <th>7</th>\n",
       "      <th>8</th>\n",
       "      <th>9</th>\n",
       "      <th>10</th>\n",
       "    </tr>\n",
       "  </thead>\n",
       "  <tbody>\n",
       "    <tr>\n",
       "      <th>590</th>\n",
       "      <td>10.0</td>\n",
       "      <td>9.0</td>\n",
       "      <td>8.0</td>\n",
       "      <td>7.0</td>\n",
       "      <td>6.0</td>\n",
       "      <td>4.0</td>\n",
       "      <td>4.0</td>\n",
       "      <td>0.0</td>\n",
       "      <td>0.0</td>\n",
       "      <td>0.0</td>\n",
       "      <td>0.0</td>\n",
       "    </tr>\n",
       "    <tr>\n",
       "      <th>591</th>\n",
       "      <td>10.0</td>\n",
       "      <td>9.0</td>\n",
       "      <td>8.0</td>\n",
       "      <td>7.0</td>\n",
       "      <td>6.0</td>\n",
       "      <td>4.0</td>\n",
       "      <td>4.0</td>\n",
       "      <td>0.0</td>\n",
       "      <td>0.0</td>\n",
       "      <td>0.0</td>\n",
       "      <td>0.0</td>\n",
       "    </tr>\n",
       "    <tr>\n",
       "      <th>592</th>\n",
       "      <td>10.0</td>\n",
       "      <td>9.0</td>\n",
       "      <td>8.0</td>\n",
       "      <td>7.0</td>\n",
       "      <td>6.0</td>\n",
       "      <td>4.0</td>\n",
       "      <td>4.0</td>\n",
       "      <td>0.0</td>\n",
       "      <td>0.0</td>\n",
       "      <td>0.0</td>\n",
       "      <td>0.0</td>\n",
       "    </tr>\n",
       "    <tr>\n",
       "      <th>593</th>\n",
       "      <td>10.0</td>\n",
       "      <td>9.0</td>\n",
       "      <td>8.0</td>\n",
       "      <td>7.0</td>\n",
       "      <td>6.0</td>\n",
       "      <td>4.0</td>\n",
       "      <td>4.0</td>\n",
       "      <td>0.0</td>\n",
       "      <td>0.0</td>\n",
       "      <td>0.0</td>\n",
       "      <td>0.0</td>\n",
       "    </tr>\n",
       "    <tr>\n",
       "      <th>594</th>\n",
       "      <td>10.0</td>\n",
       "      <td>9.0</td>\n",
       "      <td>8.0</td>\n",
       "      <td>7.0</td>\n",
       "      <td>6.0</td>\n",
       "      <td>4.0</td>\n",
       "      <td>4.0</td>\n",
       "      <td>0.0</td>\n",
       "      <td>0.0</td>\n",
       "      <td>0.0</td>\n",
       "      <td>0.0</td>\n",
       "    </tr>\n",
       "    <tr>\n",
       "      <th>595</th>\n",
       "      <td>10.0</td>\n",
       "      <td>9.0</td>\n",
       "      <td>8.0</td>\n",
       "      <td>7.0</td>\n",
       "      <td>6.0</td>\n",
       "      <td>4.0</td>\n",
       "      <td>4.0</td>\n",
       "      <td>0.0</td>\n",
       "      <td>0.0</td>\n",
       "      <td>0.0</td>\n",
       "      <td>0.0</td>\n",
       "    </tr>\n",
       "    <tr>\n",
       "      <th>596</th>\n",
       "      <td>10.0</td>\n",
       "      <td>9.0</td>\n",
       "      <td>8.0</td>\n",
       "      <td>7.0</td>\n",
       "      <td>6.0</td>\n",
       "      <td>4.0</td>\n",
       "      <td>4.0</td>\n",
       "      <td>0.0</td>\n",
       "      <td>0.0</td>\n",
       "      <td>0.0</td>\n",
       "      <td>0.0</td>\n",
       "    </tr>\n",
       "    <tr>\n",
       "      <th>597</th>\n",
       "      <td>10.0</td>\n",
       "      <td>9.0</td>\n",
       "      <td>8.0</td>\n",
       "      <td>7.0</td>\n",
       "      <td>6.0</td>\n",
       "      <td>4.0</td>\n",
       "      <td>4.0</td>\n",
       "      <td>0.0</td>\n",
       "      <td>0.0</td>\n",
       "      <td>0.0</td>\n",
       "      <td>0.0</td>\n",
       "    </tr>\n",
       "    <tr>\n",
       "      <th>598</th>\n",
       "      <td>10.0</td>\n",
       "      <td>9.0</td>\n",
       "      <td>8.0</td>\n",
       "      <td>7.0</td>\n",
       "      <td>6.0</td>\n",
       "      <td>4.0</td>\n",
       "      <td>4.0</td>\n",
       "      <td>0.0</td>\n",
       "      <td>0.0</td>\n",
       "      <td>0.0</td>\n",
       "      <td>0.0</td>\n",
       "    </tr>\n",
       "    <tr>\n",
       "      <th>599</th>\n",
       "      <td>10.0</td>\n",
       "      <td>9.0</td>\n",
       "      <td>8.0</td>\n",
       "      <td>7.0</td>\n",
       "      <td>6.0</td>\n",
       "      <td>4.0</td>\n",
       "      <td>4.0</td>\n",
       "      <td>0.0</td>\n",
       "      <td>0.0</td>\n",
       "      <td>0.0</td>\n",
       "      <td>0.0</td>\n",
       "    </tr>\n",
       "  </tbody>\n",
       "</table>\n",
       "</div>"
      ],
      "text/plain": [
       "        0    1    2    3    4    5    6    7    8    9   10\n",
       "590  10.0  9.0  8.0  7.0  6.0  4.0  4.0  0.0  0.0  0.0  0.0\n",
       "591  10.0  9.0  8.0  7.0  6.0  4.0  4.0  0.0  0.0  0.0  0.0\n",
       "592  10.0  9.0  8.0  7.0  6.0  4.0  4.0  0.0  0.0  0.0  0.0\n",
       "593  10.0  9.0  8.0  7.0  6.0  4.0  4.0  0.0  0.0  0.0  0.0\n",
       "594  10.0  9.0  8.0  7.0  6.0  4.0  4.0  0.0  0.0  0.0  0.0\n",
       "595  10.0  9.0  8.0  7.0  6.0  4.0  4.0  0.0  0.0  0.0  0.0\n",
       "596  10.0  9.0  8.0  7.0  6.0  4.0  4.0  0.0  0.0  0.0  0.0\n",
       "597  10.0  9.0  8.0  7.0  6.0  4.0  4.0  0.0  0.0  0.0  0.0\n",
       "598  10.0  9.0  8.0  7.0  6.0  4.0  4.0  0.0  0.0  0.0  0.0\n",
       "599  10.0  9.0  8.0  7.0  6.0  4.0  4.0  0.0  0.0  0.0  0.0"
      ]
     },
     "execution_count": 49,
     "metadata": {},
     "output_type": "execute_result"
    }
   ],
   "source": [
    "policy_df = pd.DataFrame(d)\n",
    "policy_df.tail(10)"
   ]
  },
  {
   "cell_type": "markdown",
   "metadata": {},
   "source": [
    "#### Adjusting inventory cost "
   ]
  },
  {
   "cell_type": "code",
   "execution_count": 107,
   "metadata": {
    "scrolled": false
   },
   "outputs": [
    {
     "data": {
      "image/png": "[encoded data removed]",
      "text/plain": [
       "<Figure size 720x576 with 1 Axes>"
      ]
     },
     "metadata": {
      "needs_background": "light"
     },
     "output_type": "display_data"
    }
   ],
   "source": [
    "optimal_policy_list_h = []\n",
    "for h in np.arange(0, 2.5, 0.5):\n",
    "    env = InventoryEnv(h=h)\n",
    "    P_t,RR,demand_list = transition_prob(env)\n",
    "    v,d=value_iteration(P_t,RR)\n",
    "    optimal_policy_list_h.append(d[-1,:])\n",
    "    plt.plot(range(N), d[-1,:], label='h='+str(h), lw = 2.5)\n",
    "plt.legend()\n",
    "plt.rcParams[\"figure.figsize\"] = (10,8)\n",
    "plt.title('Optimal Policy for each State with Varying Inventory Cost')\n",
    "plt.xlabel('State')\n",
    "plt.ylabel('Optimal Policy')\n",
    "plt.show()"
   ]
  },
  {
   "cell_type": "markdown",
   "metadata": {},
   "source": [
    "#### Adjusting fixed order price"
   ]
  },
  {
   "cell_type": "code",
   "execution_count": 113,
   "metadata": {
    "scrolled": false
   },
   "outputs": [
    {
     "data": {
      "image/png": "[encoded data removed]",
      "text/plain": [
       "<Figure size 720x576 with 1 Axes>"
      ]
     },
     "metadata": {
      "needs_background": "light"
     },
     "output_type": "display_data"
    }
   ],
   "source": [
    "optimal_policy_list_k = []\n",
    "for k in np.arange(0, 5, 1):\n",
    "    env = InventoryEnv(k=k)\n",
    "    P_t,RR,demand_list = transition_prob(env)\n",
    "    v,d=value_iteration(P_t,RR)\n",
    "    optimal_policy_list_k.append(d[-1,:])\n",
    "    plt.plot(range(N), d[-1,:], label='k='+str(k), lw = 2.5)\n",
    "plt.legend()\n",
    "plt.rcParams[\"figure.figsize\"] = (10,8)\n",
    "plt.title('Optimal Policy for each State with Varying Fixed Order Price')\n",
    "plt.xlabel('State')\n",
    "plt.ylabel('Optimal Policy')\n",
    "plt.show()"
   ]
  },
  {
   "cell_type": "markdown",
   "metadata": {},
   "source": [
    "#### Adjusting demand distribution"
   ]
  },
  {
   "cell_type": "code",
   "execution_count": 112,
   "metadata": {},
   "outputs": [
    {
     "data": {
      "image/png": "[encoded data removed]",
      "text/plain": [
       "<Figure size 720x576 with 1 Axes>"
      ]
     },
     "metadata": {
      "needs_background": "light"
     },
     "output_type": "display_data"
    }
   ],
   "source": [
    "optimal_policy_list_lam = []\n",
    "for lam in np.arange(2, 7, 1):\n",
    "    env = InventoryEnv(lam=lam)\n",
    "    P_t,RR,demand_list = transition_prob(env)\n",
    "    v,d=value_iteration(P_t,RR)\n",
    "    optimal_policy_list_lam.append(d[-1,:])\n",
    "    plt.plot(range(N), d[-1,:], label='lambda='+str(lam), lw = 2.5)\n",
    "plt.legend()\n",
    "plt.rcParams[\"figure.figsize\"] = (10,8)\n",
    "plt.title('Optimal Policy for each State with Different Demand Distribution Parameter')\n",
    "plt.xlabel('State')\n",
    "plt.ylabel('Optimal Policy')\n",
    "plt.show()"
   ]
  },
  {
   "cell_type": "markdown",
   "metadata": {},
   "source": [
    "#### Adjusting item purchase cost"
   ]
  },
  {
   "cell_type": "code",
   "execution_count": 116,
   "metadata": {},
   "outputs": [
    {
     "data": {
      "image/png": "[encoded data removed]",
      "text/plain": [
       "<Figure size 720x576 with 1 Axes>"
      ]
     },
     "metadata": {
      "needs_background": "light"
     },
     "output_type": "display_data"
    }
   ],
   "source": [
    "optimal_policy_list_c = []\n",
    "for c in np.arange(0, 6, 1):\n",
    "    env = InventoryEnv(c=c)\n",
    "    P_t,RR,demand_list = transition_prob(env)\n",
    "    v,d=value_iteration(P_t,RR)\n",
    "    optimal_policy_list_c.append(d[-1,:])\n",
    "    plt.plot(range(N), d[-1,:], label='c='+str(c), lw = 2.5)\n",
    "plt.legend()\n",
    "plt.rcParams[\"figure.figsize\"] = (10,8)\n",
    "plt.title('Optimal Policy for each State with Varying Purchase Cost')\n",
    "plt.xlabel('State')\n",
    "plt.ylabel('Optimal Policy')\n",
    "plt.show()"
   ]
  },
  {
   "cell_type": "markdown",
   "metadata": {
    "colab_type": "text",
    "id": "vvzHgFalrHv7"
   },
   "source": [
    "### Step 4: Value Iteration by Simulation"
   ]
  },
  {
   "cell_type": "code",
   "execution_count": 82,
   "metadata": {
    "colab": {
     "base_uri": "https://localhost:8080/",
     "height": 35
    },
    "colab_type": "code",
    "id": "inSeKFuB0S3D",
    "outputId": "b0440917-b51a-4f5f-c3ad-0a95fc322d0e"
   },
   "outputs": [
    {
     "data": {
      "text/plain": [
       "(11, 11)"
      ]
     },
     "execution_count": 82,
     "metadata": {},
     "output_type": "execute_result"
    }
   ],
   "source": [
    "a = P_t.sum(axis=1)\n",
    "a.shape"
   ]
  },
  {
   "cell_type": "code",
   "execution_count": 83,
   "metadata": {},
   "outputs": [
    {
     "data": {
      "text/html": [
       "<div>\n",
       "<style scoped>\n",
       "    .dataframe tbody tr th:only-of-type {\n",
       "        vertical-align: middle;\n",
       "    }\n",
       "\n",
       "    .dataframe tbody tr th {\n",
       "        vertical-align: top;\n",
       "    }\n",
       "\n",
       "    .dataframe thead th {\n",
       "        text-align: right;\n",
       "    }\n",
       "</style>\n",
       "<table border=\"1\" class=\"dataframe\">\n",
       "  <thead>\n",
       "    <tr style=\"text-align: right;\">\n",
       "      <th></th>\n",
       "      <th>0</th>\n",
       "      <th>1</th>\n",
       "      <th>2</th>\n",
       "      <th>3</th>\n",
       "      <th>4</th>\n",
       "      <th>5</th>\n",
       "      <th>6</th>\n",
       "      <th>7</th>\n",
       "      <th>8</th>\n",
       "      <th>9</th>\n",
       "      <th>10</th>\n",
       "    </tr>\n",
       "  </thead>\n",
       "  <tbody>\n",
       "    <tr>\n",
       "      <th>0</th>\n",
       "      <td>5.9849</td>\n",
       "      <td>0.9671</td>\n",
       "      <td>0.9204</td>\n",
       "      <td>0.8652</td>\n",
       "      <td>0.7596</td>\n",
       "      <td>0.6112</td>\n",
       "      <td>0.4494</td>\n",
       "      <td>0.2682</td>\n",
       "      <td>0.1309</td>\n",
       "      <td>0.0361</td>\n",
       "      <td>0.0070</td>\n",
       "    </tr>\n",
       "    <tr>\n",
       "      <th>1</th>\n",
       "      <td>5.0105</td>\n",
       "      <td>1.0041</td>\n",
       "      <td>0.9925</td>\n",
       "      <td>0.9704</td>\n",
       "      <td>0.9193</td>\n",
       "      <td>0.7953</td>\n",
       "      <td>0.6101</td>\n",
       "      <td>0.4041</td>\n",
       "      <td>0.2063</td>\n",
       "      <td>0.0739</td>\n",
       "      <td>0.0135</td>\n",
       "    </tr>\n",
       "    <tr>\n",
       "      <th>2</th>\n",
       "      <td>4.0557</td>\n",
       "      <td>1.0345</td>\n",
       "      <td>1.0596</td>\n",
       "      <td>1.0776</td>\n",
       "      <td>1.0395</td>\n",
       "      <td>0.9680</td>\n",
       "      <td>0.7990</td>\n",
       "      <td>0.5351</td>\n",
       "      <td>0.2981</td>\n",
       "      <td>0.1125</td>\n",
       "      <td>0.0204</td>\n",
       "    </tr>\n",
       "    <tr>\n",
       "      <th>3</th>\n",
       "      <td>3.1146</td>\n",
       "      <td>1.0329</td>\n",
       "      <td>1.1173</td>\n",
       "      <td>1.1840</td>\n",
       "      <td>1.2052</td>\n",
       "      <td>1.1489</td>\n",
       "      <td>0.9751</td>\n",
       "      <td>0.6809</td>\n",
       "      <td>0.3727</td>\n",
       "      <td>0.1409</td>\n",
       "      <td>0.0275</td>\n",
       "    </tr>\n",
       "    <tr>\n",
       "      <th>4</th>\n",
       "      <td>2.2778</td>\n",
       "      <td>0.9971</td>\n",
       "      <td>1.1609</td>\n",
       "      <td>1.2800</td>\n",
       "      <td>1.3416</td>\n",
       "      <td>1.3348</td>\n",
       "      <td>1.1245</td>\n",
       "      <td>0.8202</td>\n",
       "      <td>0.4579</td>\n",
       "      <td>0.1733</td>\n",
       "      <td>0.0319</td>\n",
       "    </tr>\n",
       "    <tr>\n",
       "      <th>5</th>\n",
       "      <td>1.5719</td>\n",
       "      <td>0.8852</td>\n",
       "      <td>1.1296</td>\n",
       "      <td>1.3465</td>\n",
       "      <td>1.5082</td>\n",
       "      <td>1.5000</td>\n",
       "      <td>1.2999</td>\n",
       "      <td>0.9583</td>\n",
       "      <td>0.5460</td>\n",
       "      <td>0.2124</td>\n",
       "      <td>0.0420</td>\n",
       "    </tr>\n",
       "    <tr>\n",
       "      <th>6</th>\n",
       "      <td>1.0617</td>\n",
       "      <td>0.7403</td>\n",
       "      <td>1.0527</td>\n",
       "      <td>1.3663</td>\n",
       "      <td>1.5909</td>\n",
       "      <td>1.6619</td>\n",
       "      <td>1.5262</td>\n",
       "      <td>1.0986</td>\n",
       "      <td>0.6160</td>\n",
       "      <td>0.2385</td>\n",
       "      <td>0.0469</td>\n",
       "    </tr>\n",
       "    <tr>\n",
       "      <th>7</th>\n",
       "      <td>0.6930</td>\n",
       "      <td>0.6028</td>\n",
       "      <td>0.9341</td>\n",
       "      <td>1.3135</td>\n",
       "      <td>1.6778</td>\n",
       "      <td>1.8267</td>\n",
       "      <td>1.6643</td>\n",
       "      <td>1.2466</td>\n",
       "      <td>0.7148</td>\n",
       "      <td>0.2700</td>\n",
       "      <td>0.0564</td>\n",
       "    </tr>\n",
       "    <tr>\n",
       "      <th>8</th>\n",
       "      <td>0.4795</td>\n",
       "      <td>0.5169</td>\n",
       "      <td>0.8291</td>\n",
       "      <td>1.2722</td>\n",
       "      <td>1.6690</td>\n",
       "      <td>1.8790</td>\n",
       "      <td>1.7948</td>\n",
       "      <td>1.3762</td>\n",
       "      <td>0.8122</td>\n",
       "      <td>0.3062</td>\n",
       "      <td>0.0649</td>\n",
       "    </tr>\n",
       "    <tr>\n",
       "      <th>9</th>\n",
       "      <td>0.3785</td>\n",
       "      <td>0.4253</td>\n",
       "      <td>0.7474</td>\n",
       "      <td>1.2076</td>\n",
       "      <td>1.6470</td>\n",
       "      <td>1.9360</td>\n",
       "      <td>1.9016</td>\n",
       "      <td>1.4779</td>\n",
       "      <td>0.8803</td>\n",
       "      <td>0.3319</td>\n",
       "      <td>0.0665</td>\n",
       "    </tr>\n",
       "    <tr>\n",
       "      <th>10</th>\n",
       "      <td>0.3447</td>\n",
       "      <td>0.3899</td>\n",
       "      <td>0.7304</td>\n",
       "      <td>1.1547</td>\n",
       "      <td>1.6064</td>\n",
       "      <td>1.9071</td>\n",
       "      <td>1.9399</td>\n",
       "      <td>1.5606</td>\n",
       "      <td>0.9205</td>\n",
       "      <td>0.3727</td>\n",
       "      <td>0.0731</td>\n",
       "    </tr>\n",
       "  </tbody>\n",
       "</table>\n",
       "</div>"
      ],
      "text/plain": [
       "         0       1       2       3       4       5       6       7       8  \\\n",
       "0   5.9849  0.9671  0.9204  0.8652  0.7596  0.6112  0.4494  0.2682  0.1309   \n",
       "1   5.0105  1.0041  0.9925  0.9704  0.9193  0.7953  0.6101  0.4041  0.2063   \n",
       "2   4.0557  1.0345  1.0596  1.0776  1.0395  0.9680  0.7990  0.5351  0.2981   \n",
       "3   3.1146  1.0329  1.1173  1.1840  1.2052  1.1489  0.9751  0.6809  0.3727   \n",
       "4   2.2778  0.9971  1.1609  1.2800  1.3416  1.3348  1.1245  0.8202  0.4579   \n",
       "5   1.5719  0.8852  1.1296  1.3465  1.5082  1.5000  1.2999  0.9583  0.5460   \n",
       "6   1.0617  0.7403  1.0527  1.3663  1.5909  1.6619  1.5262  1.0986  0.6160   \n",
       "7   0.6930  0.6028  0.9341  1.3135  1.6778  1.8267  1.6643  1.2466  0.7148   \n",
       "8   0.4795  0.5169  0.8291  1.2722  1.6690  1.8790  1.7948  1.3762  0.8122   \n",
       "9   0.3785  0.4253  0.7474  1.2076  1.6470  1.9360  1.9016  1.4779  0.8803   \n",
       "10  0.3447  0.3899  0.7304  1.1547  1.6064  1.9071  1.9399  1.5606  0.9205   \n",
       "\n",
       "         9      10  \n",
       "0   0.0361  0.0070  \n",
       "1   0.0739  0.0135  \n",
       "2   0.1125  0.0204  \n",
       "3   0.1409  0.0275  \n",
       "4   0.1733  0.0319  \n",
       "5   0.2124  0.0420  \n",
       "6   0.2385  0.0469  \n",
       "7   0.2700  0.0564  \n",
       "8   0.3062  0.0649  \n",
       "9   0.3319  0.0665  \n",
       "10  0.3727  0.0731  "
      ]
     },
     "execution_count": 83,
     "metadata": {},
     "output_type": "execute_result"
    }
   ],
   "source": [
    "pd.DataFrame(a)"
   ]
  },
  {
   "cell_type": "code",
   "execution_count": 84,
   "metadata": {},
   "outputs": [
    {
     "data": {
      "text/plain": [
       "array([11., 11., 11., 11., 11., 11., 11., 11., 11., 11., 11.])"
      ]
     },
     "execution_count": 84,
     "metadata": {},
     "output_type": "execute_result"
    }
   ],
   "source": [
    "a.sum(axis=1)"
   ]
  },
  {
   "cell_type": "code",
   "execution_count": 85,
   "metadata": {
    "colab": {},
    "colab_type": "code",
    "id": "4yyC4sH41Cmr"
   },
   "outputs": [],
   "source": [
    "np.set_printoptions(precision=15)"
   ]
  },
  {
   "cell_type": "code",
   "execution_count": 86,
   "metadata": {
    "colab": {
     "base_uri": "https://localhost:8080/",
     "height": 408
    },
    "colab_type": "code",
    "id": "EHjwr-pr00oH",
    "outputId": "66387c9c-92ec-445a-8389-1855ae5286fc"
   },
   "outputs": [
    {
     "data": {
      "text/plain": [
       "array([[0.0669, 0.0639, 0.1053, 0.1489, 0.1805, 0.1726, 0.1406, 0.0818,\n",
       "        0.0331, 0.0064, 0.    ],\n",
       "       [0.0326, 0.0351, 0.0619, 0.107 , 0.1458, 0.1823, 0.177 , 0.1342,\n",
       "        0.086 , 0.0316, 0.0065],\n",
       "       [0.0293, 0.0373, 0.0651, 0.1111, 0.1465, 0.1788, 0.1715, 0.1375,\n",
       "        0.0832, 0.0329, 0.0068],\n",
       "       [0.031 , 0.0335, 0.0652, 0.1021, 0.15  , 0.1733, 0.1729, 0.1466,\n",
       "        0.0842, 0.0349, 0.0063],\n",
       "       [0.033 , 0.0348, 0.0662, 0.1048, 0.1525, 0.17  , 0.1794, 0.1391,\n",
       "        0.083 , 0.032 , 0.0052],\n",
       "       [0.0307, 0.0379, 0.0623, 0.1081, 0.144 , 0.177 , 0.1746, 0.144 ,\n",
       "        0.0833, 0.0307, 0.0074],\n",
       "       [0.0295, 0.0357, 0.0619, 0.0997, 0.1478, 0.1819, 0.1813, 0.1425,\n",
       "        0.0809, 0.0321, 0.0067],\n",
       "       [0.0332, 0.0354, 0.063 , 0.1074, 0.15  , 0.1687, 0.1764, 0.1393,\n",
       "        0.0877, 0.0314, 0.0075],\n",
       "       [0.0307, 0.0391, 0.0639, 0.1045, 0.1435, 0.1829, 0.1654, 0.1422,\n",
       "        0.0874, 0.0333, 0.0071],\n",
       "       [0.0297, 0.0344, 0.0673, 0.1065, 0.1428, 0.1772, 0.1844, 0.1352,\n",
       "        0.0851, 0.0313, 0.0061],\n",
       "       [0.0319, 0.0382, 0.0653, 0.1075, 0.1436, 0.1713, 0.1781, 0.1355,\n",
       "        0.0864, 0.0353, 0.0069]])"
      ]
     },
     "execution_count": 86,
     "metadata": {},
     "output_type": "execute_result"
    }
   ],
   "source": [
    "P_t[9,:,:]"
   ]
  },
  {
   "cell_type": "code",
   "execution_count": 87,
   "metadata": {
    "colab": {},
    "colab_type": "code",
    "id": "nGPnYOHJx76a"
   },
   "outputs": [],
   "source": [
    "#T= number of episodes \n",
    "# maximum number of transitions (=maximum number of simulations -1)\n",
    "\n",
    "\n",
    "def val_iter_sim(P_mat,RR,T=1000,Tmax=1000):\n",
    "  K,N,M = P_t.shape\n",
    "  # compute the expected reward (immediate)\n",
    "  q = np.zeros((K,N,1),dtype=np.float64)\n",
    "\n",
    "  for i in range(0,N):\n",
    "      for k in range(0,K):\n",
    "          for j in range(0,M):\n",
    "              q[k,i,0] = q[k,i,0] + RR[k,i,j]*P_t[k,i,j]\n",
    "\n",
    "\n",
    "  v = np.zeros((N,T+1),dtype=np.float64)\n",
    "  d = np.zeros((N,T+1),dtype=np.int)\n",
    "  visits = np.zeros((N,1),dtype=np.int)\n",
    "\n",
    "\n",
    "\n",
    "  for n in range(1,T):\n",
    "      t = 1\n",
    "      y0 = N-1\n",
    "      while (t<=Tmax+1):\n",
    "          visits[y0]+=1\n",
    "          for i in range(0,N):\n",
    "              if i==y0:\n",
    "                  rhs = np.zeros((1,K),dtype=np.float64)\n",
    "                  for k in range(0,K):\n",
    "                      rhs[0][k] = q[k][i][0] + np.matmul(P_t[k,i,:],v[:,n-1]) \n",
    "                  v[i,n] = max(rhs[0])\n",
    "                  if np.random.uniform(0,1,1)>=0.1:\n",
    "                      d[i,n] = np.argmax(rhs[0])\n",
    "                  else:\n",
    "                      d[i,n] = np.random.choice(range(0,K))\n",
    "          y1 = np.random.choice(range(0,N),p=P_t[d[y0,n],y0,:])\n",
    "          y0 = y1\n",
    "          t = t+1\n",
    "      v[:,n+1] = v[:,n]\n",
    "      d[:,n+1] = d[:,n]\n",
    "      \n",
    "  v = v.T\n",
    "  d = d.T\n",
    "  return v,d, visits"
   ]
  },
  {
   "cell_type": "code",
   "execution_count": 105,
   "metadata": {},
   "outputs": [],
   "source": [
    "env = InventoryEnv()\n",
    "P_t,RR,demand_list = transition_prob(env)"
   ]
  },
  {
   "cell_type": "code",
   "execution_count": 106,
   "metadata": {
    "colab": {
     "base_uri": "https://localhost:8080/",
     "height": 292
    },
    "colab_type": "code",
    "id": "NR6TTT-Oywkr",
    "outputId": "d57196c0-b263-476d-96ba-ad26c67ccf60"
   },
   "outputs": [
    {
     "name": "stdout",
     "output_type": "stream",
     "text": [
      "CPU times: user 1min 29s, sys: 1.08 s, total: 1min 30s\n",
      "Wall time: 1min 32s\n"
     ]
    }
   ],
   "source": [
    "%%time\n",
    "\n",
    "v,d,visits=val_iter_sim(P_t,RR)"
   ]
  },
  {
   "cell_type": "code",
   "execution_count": 91,
   "metadata": {
    "colab": {},
    "colab_type": "code",
    "id": "1fxvJ5eCrHv_",
    "outputId": "a9d87ce5-fa00-4d63-ea6a-30046a3b7296",
    "scrolled": true
   },
   "outputs": [
    {
     "data": {
      "text/html": [
       "<div>\n",
       "<style scoped>\n",
       "    .dataframe tbody tr th:only-of-type {\n",
       "        vertical-align: middle;\n",
       "    }\n",
       "\n",
       "    .dataframe tbody tr th {\n",
       "        vertical-align: top;\n",
       "    }\n",
       "\n",
       "    .dataframe thead th {\n",
       "        text-align: right;\n",
       "    }\n",
       "</style>\n",
       "<table border=\"1\" class=\"dataframe\">\n",
       "  <thead>\n",
       "    <tr style=\"text-align: right;\">\n",
       "      <th></th>\n",
       "      <th>0</th>\n",
       "      <th>1</th>\n",
       "      <th>2</th>\n",
       "      <th>3</th>\n",
       "      <th>4</th>\n",
       "      <th>5</th>\n",
       "      <th>6</th>\n",
       "      <th>7</th>\n",
       "      <th>8</th>\n",
       "      <th>9</th>\n",
       "      <th>10</th>\n",
       "    </tr>\n",
       "  </thead>\n",
       "  <tbody>\n",
       "    <tr>\n",
       "      <th>0</th>\n",
       "      <td>0.0</td>\n",
       "      <td>0.0</td>\n",
       "      <td>0.0</td>\n",
       "      <td>0.0</td>\n",
       "      <td>0.0</td>\n",
       "      <td>0.0</td>\n",
       "      <td>0.0</td>\n",
       "      <td>0.0</td>\n",
       "      <td>0.0</td>\n",
       "      <td>0.0</td>\n",
       "      <td>0.0</td>\n",
       "    </tr>\n",
       "    <tr>\n",
       "      <th>1</th>\n",
       "      <td>0.0</td>\n",
       "      <td>0.0</td>\n",
       "      <td>0.0</td>\n",
       "      <td>0.0</td>\n",
       "      <td>0.0</td>\n",
       "      <td>0.0</td>\n",
       "      <td>0.0</td>\n",
       "      <td>0.0</td>\n",
       "      <td>0.0</td>\n",
       "      <td>0.0</td>\n",
       "      <td>0.0</td>\n",
       "    </tr>\n",
       "    <tr>\n",
       "      <th>2</th>\n",
       "      <td>0.0</td>\n",
       "      <td>0.0</td>\n",
       "      <td>0.0</td>\n",
       "      <td>0.0</td>\n",
       "      <td>0.0</td>\n",
       "      <td>0.0</td>\n",
       "      <td>0.0</td>\n",
       "      <td>0.0</td>\n",
       "      <td>0.0</td>\n",
       "      <td>0.0</td>\n",
       "      <td>0.0</td>\n",
       "    </tr>\n",
       "    <tr>\n",
       "      <th>3</th>\n",
       "      <td>0.0</td>\n",
       "      <td>0.0</td>\n",
       "      <td>0.0</td>\n",
       "      <td>0.0</td>\n",
       "      <td>0.0</td>\n",
       "      <td>0.0</td>\n",
       "      <td>0.0</td>\n",
       "      <td>0.0</td>\n",
       "      <td>0.0</td>\n",
       "      <td>0.0</td>\n",
       "      <td>0.0</td>\n",
       "    </tr>\n",
       "    <tr>\n",
       "      <th>4</th>\n",
       "      <td>0.0</td>\n",
       "      <td>0.0</td>\n",
       "      <td>0.0</td>\n",
       "      <td>0.0</td>\n",
       "      <td>0.0</td>\n",
       "      <td>0.0</td>\n",
       "      <td>0.0</td>\n",
       "      <td>0.0</td>\n",
       "      <td>0.0</td>\n",
       "      <td>0.0</td>\n",
       "      <td>0.0</td>\n",
       "    </tr>\n",
       "    <tr>\n",
       "      <th>5</th>\n",
       "      <td>0.0</td>\n",
       "      <td>0.0</td>\n",
       "      <td>0.0</td>\n",
       "      <td>0.0</td>\n",
       "      <td>0.0</td>\n",
       "      <td>0.0</td>\n",
       "      <td>0.0</td>\n",
       "      <td>0.0</td>\n",
       "      <td>0.0</td>\n",
       "      <td>0.0</td>\n",
       "      <td>0.0</td>\n",
       "    </tr>\n",
       "    <tr>\n",
       "      <th>6</th>\n",
       "      <td>0.0</td>\n",
       "      <td>0.0</td>\n",
       "      <td>0.0</td>\n",
       "      <td>0.0</td>\n",
       "      <td>0.0</td>\n",
       "      <td>0.0</td>\n",
       "      <td>0.0</td>\n",
       "      <td>0.0</td>\n",
       "      <td>0.0</td>\n",
       "      <td>0.0</td>\n",
       "      <td>0.0</td>\n",
       "    </tr>\n",
       "    <tr>\n",
       "      <th>7</th>\n",
       "      <td>0.0</td>\n",
       "      <td>0.0</td>\n",
       "      <td>0.0</td>\n",
       "      <td>0.0</td>\n",
       "      <td>0.0</td>\n",
       "      <td>0.0</td>\n",
       "      <td>0.0</td>\n",
       "      <td>0.0</td>\n",
       "      <td>0.0</td>\n",
       "      <td>0.0</td>\n",
       "      <td>0.0</td>\n",
       "    </tr>\n",
       "    <tr>\n",
       "      <th>8</th>\n",
       "      <td>0.0</td>\n",
       "      <td>0.0</td>\n",
       "      <td>0.0</td>\n",
       "      <td>0.0</td>\n",
       "      <td>0.0</td>\n",
       "      <td>0.0</td>\n",
       "      <td>0.0</td>\n",
       "      <td>0.0</td>\n",
       "      <td>0.0</td>\n",
       "      <td>0.0</td>\n",
       "      <td>0.0</td>\n",
       "    </tr>\n",
       "    <tr>\n",
       "      <th>9</th>\n",
       "      <td>0.0</td>\n",
       "      <td>0.0</td>\n",
       "      <td>0.0</td>\n",
       "      <td>0.0</td>\n",
       "      <td>0.0</td>\n",
       "      <td>0.0</td>\n",
       "      <td>0.0</td>\n",
       "      <td>0.0</td>\n",
       "      <td>0.0</td>\n",
       "      <td>0.0</td>\n",
       "      <td>0.0</td>\n",
       "    </tr>\n",
       "    <tr>\n",
       "      <th>...</th>\n",
       "      <td>...</td>\n",
       "      <td>...</td>\n",
       "      <td>...</td>\n",
       "      <td>...</td>\n",
       "      <td>...</td>\n",
       "      <td>...</td>\n",
       "      <td>...</td>\n",
       "      <td>...</td>\n",
       "      <td>...</td>\n",
       "      <td>...</td>\n",
       "      <td>...</td>\n",
       "    </tr>\n",
       "    <tr>\n",
       "      <th>590</th>\n",
       "      <td>0.0</td>\n",
       "      <td>0.0</td>\n",
       "      <td>0.0</td>\n",
       "      <td>0.0</td>\n",
       "      <td>0.0</td>\n",
       "      <td>0.0</td>\n",
       "      <td>0.0</td>\n",
       "      <td>0.0</td>\n",
       "      <td>0.0</td>\n",
       "      <td>0.0</td>\n",
       "      <td>0.0</td>\n",
       "    </tr>\n",
       "    <tr>\n",
       "      <th>591</th>\n",
       "      <td>0.0</td>\n",
       "      <td>0.0</td>\n",
       "      <td>0.0</td>\n",
       "      <td>0.0</td>\n",
       "      <td>0.0</td>\n",
       "      <td>0.0</td>\n",
       "      <td>0.0</td>\n",
       "      <td>0.0</td>\n",
       "      <td>0.0</td>\n",
       "      <td>0.0</td>\n",
       "      <td>0.0</td>\n",
       "    </tr>\n",
       "    <tr>\n",
       "      <th>592</th>\n",
       "      <td>0.0</td>\n",
       "      <td>0.0</td>\n",
       "      <td>0.0</td>\n",
       "      <td>0.0</td>\n",
       "      <td>0.0</td>\n",
       "      <td>0.0</td>\n",
       "      <td>0.0</td>\n",
       "      <td>0.0</td>\n",
       "      <td>0.0</td>\n",
       "      <td>0.0</td>\n",
       "      <td>0.0</td>\n",
       "    </tr>\n",
       "    <tr>\n",
       "      <th>593</th>\n",
       "      <td>0.0</td>\n",
       "      <td>0.0</td>\n",
       "      <td>0.0</td>\n",
       "      <td>0.0</td>\n",
       "      <td>0.0</td>\n",
       "      <td>0.0</td>\n",
       "      <td>0.0</td>\n",
       "      <td>0.0</td>\n",
       "      <td>0.0</td>\n",
       "      <td>0.0</td>\n",
       "      <td>0.0</td>\n",
       "    </tr>\n",
       "    <tr>\n",
       "      <th>594</th>\n",
       "      <td>0.0</td>\n",
       "      <td>0.0</td>\n",
       "      <td>0.0</td>\n",
       "      <td>0.0</td>\n",
       "      <td>0.0</td>\n",
       "      <td>0.0</td>\n",
       "      <td>0.0</td>\n",
       "      <td>0.0</td>\n",
       "      <td>0.0</td>\n",
       "      <td>0.0</td>\n",
       "      <td>0.0</td>\n",
       "    </tr>\n",
       "    <tr>\n",
       "      <th>595</th>\n",
       "      <td>0.0</td>\n",
       "      <td>0.0</td>\n",
       "      <td>0.0</td>\n",
       "      <td>0.0</td>\n",
       "      <td>0.0</td>\n",
       "      <td>0.0</td>\n",
       "      <td>0.0</td>\n",
       "      <td>0.0</td>\n",
       "      <td>0.0</td>\n",
       "      <td>0.0</td>\n",
       "      <td>0.0</td>\n",
       "    </tr>\n",
       "    <tr>\n",
       "      <th>596</th>\n",
       "      <td>0.0</td>\n",
       "      <td>0.0</td>\n",
       "      <td>0.0</td>\n",
       "      <td>0.0</td>\n",
       "      <td>0.0</td>\n",
       "      <td>0.0</td>\n",
       "      <td>0.0</td>\n",
       "      <td>0.0</td>\n",
       "      <td>0.0</td>\n",
       "      <td>0.0</td>\n",
       "      <td>0.0</td>\n",
       "    </tr>\n",
       "    <tr>\n",
       "      <th>597</th>\n",
       "      <td>0.0</td>\n",
       "      <td>0.0</td>\n",
       "      <td>0.0</td>\n",
       "      <td>0.0</td>\n",
       "      <td>0.0</td>\n",
       "      <td>0.0</td>\n",
       "      <td>0.0</td>\n",
       "      <td>0.0</td>\n",
       "      <td>0.0</td>\n",
       "      <td>0.0</td>\n",
       "      <td>0.0</td>\n",
       "    </tr>\n",
       "    <tr>\n",
       "      <th>598</th>\n",
       "      <td>0.0</td>\n",
       "      <td>0.0</td>\n",
       "      <td>0.0</td>\n",
       "      <td>0.0</td>\n",
       "      <td>0.0</td>\n",
       "      <td>0.0</td>\n",
       "      <td>0.0</td>\n",
       "      <td>0.0</td>\n",
       "      <td>0.0</td>\n",
       "      <td>0.0</td>\n",
       "      <td>0.0</td>\n",
       "    </tr>\n",
       "    <tr>\n",
       "      <th>599</th>\n",
       "      <td>0.0</td>\n",
       "      <td>0.0</td>\n",
       "      <td>0.0</td>\n",
       "      <td>0.0</td>\n",
       "      <td>0.0</td>\n",
       "      <td>0.0</td>\n",
       "      <td>0.0</td>\n",
       "      <td>0.0</td>\n",
       "      <td>0.0</td>\n",
       "      <td>0.0</td>\n",
       "      <td>0.0</td>\n",
       "    </tr>\n",
       "  </tbody>\n",
       "</table>\n",
       "<p>600 rows × 11 columns</p>\n",
       "</div>"
      ],
      "text/plain": [
       "       0    1    2    3    4    5    6    7    8    9   10\n",
       "0    0.0  0.0  0.0  0.0  0.0  0.0  0.0  0.0  0.0  0.0  0.0\n",
       "1    0.0  0.0  0.0  0.0  0.0  0.0  0.0  0.0  0.0  0.0  0.0\n",
       "2    0.0  0.0  0.0  0.0  0.0  0.0  0.0  0.0  0.0  0.0  0.0\n",
       "3    0.0  0.0  0.0  0.0  0.0  0.0  0.0  0.0  0.0  0.0  0.0\n",
       "4    0.0  0.0  0.0  0.0  0.0  0.0  0.0  0.0  0.0  0.0  0.0\n",
       "5    0.0  0.0  0.0  0.0  0.0  0.0  0.0  0.0  0.0  0.0  0.0\n",
       "6    0.0  0.0  0.0  0.0  0.0  0.0  0.0  0.0  0.0  0.0  0.0\n",
       "7    0.0  0.0  0.0  0.0  0.0  0.0  0.0  0.0  0.0  0.0  0.0\n",
       "8    0.0  0.0  0.0  0.0  0.0  0.0  0.0  0.0  0.0  0.0  0.0\n",
       "9    0.0  0.0  0.0  0.0  0.0  0.0  0.0  0.0  0.0  0.0  0.0\n",
       "..   ...  ...  ...  ...  ...  ...  ...  ...  ...  ...  ...\n",
       "590  0.0  0.0  0.0  0.0  0.0  0.0  0.0  0.0  0.0  0.0  0.0\n",
       "591  0.0  0.0  0.0  0.0  0.0  0.0  0.0  0.0  0.0  0.0  0.0\n",
       "592  0.0  0.0  0.0  0.0  0.0  0.0  0.0  0.0  0.0  0.0  0.0\n",
       "593  0.0  0.0  0.0  0.0  0.0  0.0  0.0  0.0  0.0  0.0  0.0\n",
       "594  0.0  0.0  0.0  0.0  0.0  0.0  0.0  0.0  0.0  0.0  0.0\n",
       "595  0.0  0.0  0.0  0.0  0.0  0.0  0.0  0.0  0.0  0.0  0.0\n",
       "596  0.0  0.0  0.0  0.0  0.0  0.0  0.0  0.0  0.0  0.0  0.0\n",
       "597  0.0  0.0  0.0  0.0  0.0  0.0  0.0  0.0  0.0  0.0  0.0\n",
       "598  0.0  0.0  0.0  0.0  0.0  0.0  0.0  0.0  0.0  0.0  0.0\n",
       "599  0.0  0.0  0.0  0.0  0.0  0.0  0.0  0.0  0.0  0.0  0.0\n",
       "\n",
       "[600 rows x 11 columns]"
      ]
     },
     "execution_count": 91,
     "metadata": {},
     "output_type": "execute_result"
    }
   ],
   "source": [
    "pd.DataFrame(d)"
   ]
  },
  {
   "cell_type": "markdown",
   "metadata": {
    "colab_type": "text",
    "id": "prJJemHTrHwD"
   },
   "source": [
    "### Step 5: Q (Quality)-Learning\n",
    " - Off-policy RL technique that searches for the best action to take given a current state; aimed at maximizing total reward\n",
    "     - Off-policy b/c Q function learns from actions outside current policy (e.g., taking random actions)\n",
    " - Quality refers to usefulness of an action in terms of earning a reward\n",
    " - Necessitates creation of q-table (reference table for agent to select optimal action) with (state, action) form \n",
    "     - Values initialized to 0\n",
    "     - Update q-values post each episode\n",
    " - Can explore or exploit\n",
    "     - Exploit: given universe of possible actions for given state, selects action based on max value\n",
    "     - Explore: random actions based on discovery"
   ]
  },
  {
   "cell_type": "code",
   "execution_count": 101,
   "metadata": {
    "colab": {},
    "colab_type": "code",
    "id": "wVFGBKSr21C3"
   },
   "outputs": [],
   "source": [
    "# Tmax=maximum number of transitions (=maximum number of simulations -1)\n",
    "\n",
    "def Q_learning(env=InventoryEnv(),lr=0.01,Tmax=1000,T=5000):\n",
    "\n",
    "  v = np.zeros((env.n + 1,T+1),dtype=np.float64) #value\n",
    "  d = np.zeros((env.n + 1,T+1),dtype=np.int) #policy\n",
    "  visits = np.zeros((env.n + 1,env.n + 1),dtype=np.int) #current/action\n",
    "\n",
    "  Q = np.zeros((env.n + 1,env.n + 1),dtype=np.float64)\n",
    "\n",
    "  learning_rate = lr\n",
    "  for num_ep in range(1,T):\n",
    "      t = 1\n",
    "      current_state = env.state\n",
    "      while (t <= Tmax+1):\n",
    "          if t < Tmax / 2:\n",
    "              if np.random.uniform(0,1,1)>=((Tmax - t) / Tmax):\n",
    "                  action = np.argmax(Q[current_state,:]) #greedy\n",
    "              else:\n",
    "                  action = np.random.choice(range(0,K)) #exploring\n",
    "          else:\n",
    "              action = np.argmax(Q[current_state,:]) #greedy / exploiting\n",
    "          visits[current_state,action]+=1\n",
    "          #print(\"state: \" + str(env.state))\n",
    "          next_state, reward, done, z = env._step(action)\n",
    "          #print(\"action: \" + str(action))\n",
    "          #print(\"next state: \" + str(env.state))\n",
    "          \n",
    "          Q[current_state,action] = (1-learning_rate)*Q[current_state,action] + learning_rate*(reward + \n",
    "                                                                              0.99 * max(Q[next_state,:]))      \n",
    "          current_state = env.state\n",
    "          t += 1\n",
    "          \n",
    "  J = np.zeros((env.n + 1,1),dtype=np.float64)\n",
    "  d = np.zeros((env.n + 1,1),dtype=np.float64)\n",
    "  for j in range(0,env.n + 1):\n",
    "      J[j,0] = max(Q[j,:])\n",
    "      d[j,0] = np.argmax(Q[j,:])\n",
    "  return Q,J,d"
   ]
  },
  {
   "cell_type": "code",
   "execution_count": 102,
   "metadata": {
    "colab": {},
    "colab_type": "code",
    "id": "kElkCeIg3w3_"
   },
   "outputs": [],
   "source": [
    "Q,J,d=Q_learning()"
   ]
  },
  {
   "cell_type": "code",
   "execution_count": 103,
   "metadata": {
    "colab": {
     "base_uri": "https://localhost:8080/",
     "height": 370
    },
    "colab_type": "code",
    "id": "SNXGPAWLrHwJ",
    "outputId": "6cabbd5c-5463-4d29-d652-8971d54db340",
    "scrolled": false
   },
   "outputs": [
    {
     "data": {
      "text/html": [
       "<div>\n",
       "<style scoped>\n",
       "    .dataframe tbody tr th:only-of-type {\n",
       "        vertical-align: middle;\n",
       "    }\n",
       "\n",
       "    .dataframe tbody tr th {\n",
       "        vertical-align: top;\n",
       "    }\n",
       "\n",
       "    .dataframe thead th {\n",
       "        text-align: right;\n",
       "    }\n",
       "</style>\n",
       "<table border=\"1\" class=\"dataframe\">\n",
       "  <thead>\n",
       "    <tr style=\"text-align: right;\">\n",
       "      <th></th>\n",
       "      <th>0</th>\n",
       "      <th>1</th>\n",
       "      <th>2</th>\n",
       "      <th>3</th>\n",
       "      <th>4</th>\n",
       "      <th>5</th>\n",
       "      <th>6</th>\n",
       "      <th>7</th>\n",
       "      <th>8</th>\n",
       "      <th>9</th>\n",
       "      <th>10</th>\n",
       "    </tr>\n",
       "  </thead>\n",
       "  <tbody>\n",
       "    <tr>\n",
       "      <th>0</th>\n",
       "      <td>1377.773993</td>\n",
       "      <td>1379.710121</td>\n",
       "      <td>1382.600901</td>\n",
       "      <td>1385.302336</td>\n",
       "      <td>1387.468787</td>\n",
       "      <td>1389.105607</td>\n",
       "      <td>1390.662110</td>\n",
       "      <td>1390.885602</td>\n",
       "      <td>1390.926177</td>\n",
       "      <td>1391.107657</td>\n",
       "      <td>1391.344741</td>\n",
       "    </tr>\n",
       "    <tr>\n",
       "      <th>1</th>\n",
       "      <td>1383.092084</td>\n",
       "      <td>1384.868410</td>\n",
       "      <td>1387.531300</td>\n",
       "      <td>1389.632554</td>\n",
       "      <td>1390.931332</td>\n",
       "      <td>1392.157841</td>\n",
       "      <td>1392.504628</td>\n",
       "      <td>1392.674715</td>\n",
       "      <td>1393.788428</td>\n",
       "      <td>1393.062393</td>\n",
       "      <td>-98610.384412</td>\n",
       "    </tr>\n",
       "    <tr>\n",
       "      <th>2</th>\n",
       "      <td>1387.881969</td>\n",
       "      <td>1389.371698</td>\n",
       "      <td>1391.921330</td>\n",
       "      <td>1393.554660</td>\n",
       "      <td>1394.333525</td>\n",
       "      <td>1394.642655</td>\n",
       "      <td>1395.171477</td>\n",
       "      <td>1395.036184</td>\n",
       "      <td>1395.564495</td>\n",
       "      <td>-98611.054001</td>\n",
       "      <td>-98611.341168</td>\n",
       "    </tr>\n",
       "    <tr>\n",
       "      <th>3</th>\n",
       "      <td>1392.512510</td>\n",
       "      <td>1393.686996</td>\n",
       "      <td>1395.270273</td>\n",
       "      <td>1396.844101</td>\n",
       "      <td>1397.140714</td>\n",
       "      <td>1396.864787</td>\n",
       "      <td>1397.031379</td>\n",
       "      <td>1398.229119</td>\n",
       "      <td>-98611.577805</td>\n",
       "      <td>-98611.404268</td>\n",
       "      <td>-98611.084674</td>\n",
       "    </tr>\n",
       "    <tr>\n",
       "      <th>4</th>\n",
       "      <td>1396.863650</td>\n",
       "      <td>1397.506382</td>\n",
       "      <td>1398.407828</td>\n",
       "      <td>1398.600238</td>\n",
       "      <td>1398.374480</td>\n",
       "      <td>1398.092949</td>\n",
       "      <td>1399.976602</td>\n",
       "      <td>-98610.835776</td>\n",
       "      <td>-98611.516166</td>\n",
       "      <td>-98611.013597</td>\n",
       "      <td>-98611.649190</td>\n",
       "    </tr>\n",
       "    <tr>\n",
       "      <th>5</th>\n",
       "      <td>1399.981652</td>\n",
       "      <td>1399.761133</td>\n",
       "      <td>1400.819364</td>\n",
       "      <td>1400.646573</td>\n",
       "      <td>1400.934533</td>\n",
       "      <td>1402.335794</td>\n",
       "      <td>-98611.224351</td>\n",
       "      <td>-98610.970365</td>\n",
       "      <td>-98611.160385</td>\n",
       "      <td>-98611.257967</td>\n",
       "      <td>-98610.933641</td>\n",
       "    </tr>\n",
       "    <tr>\n",
       "      <th>6</th>\n",
       "      <td>1403.363009</td>\n",
       "      <td>1402.747511</td>\n",
       "      <td>1402.944854</td>\n",
       "      <td>1402.691902</td>\n",
       "      <td>1402.807336</td>\n",
       "      <td>-98611.573817</td>\n",
       "      <td>-98611.075153</td>\n",
       "      <td>-98611.216120</td>\n",
       "      <td>-98610.623837</td>\n",
       "      <td>-98611.396878</td>\n",
       "      <td>-98610.727812</td>\n",
       "    </tr>\n",
       "    <tr>\n",
       "      <th>7</th>\n",
       "      <td>1405.212585</td>\n",
       "      <td>1405.811329</td>\n",
       "      <td>1405.021064</td>\n",
       "      <td>1404.840349</td>\n",
       "      <td>-98610.364530</td>\n",
       "      <td>-98611.070472</td>\n",
       "      <td>-98610.885613</td>\n",
       "      <td>-98610.850370</td>\n",
       "      <td>-98610.794792</td>\n",
       "      <td>-98611.253969</td>\n",
       "      <td>-98610.863693</td>\n",
       "    </tr>\n",
       "    <tr>\n",
       "      <th>8</th>\n",
       "      <td>1407.378608</td>\n",
       "      <td>1407.052558</td>\n",
       "      <td>1407.248044</td>\n",
       "      <td>-98610.963176</td>\n",
       "      <td>-98610.405415</td>\n",
       "      <td>-98610.569786</td>\n",
       "      <td>-98610.804128</td>\n",
       "      <td>-98610.238735</td>\n",
       "      <td>-98611.130116</td>\n",
       "      <td>-98610.739203</td>\n",
       "      <td>-98610.911005</td>\n",
       "    </tr>\n",
       "    <tr>\n",
       "      <th>9</th>\n",
       "      <td>1411.062123</td>\n",
       "      <td>1410.088709</td>\n",
       "      <td>-98609.709249</td>\n",
       "      <td>-98610.541931</td>\n",
       "      <td>-98609.433898</td>\n",
       "      <td>-98609.961937</td>\n",
       "      <td>-98610.296866</td>\n",
       "      <td>-98610.391629</td>\n",
       "      <td>-98610.064068</td>\n",
       "      <td>-98610.686310</td>\n",
       "      <td>-98610.396147</td>\n",
       "    </tr>\n",
       "    <tr>\n",
       "      <th>10</th>\n",
       "      <td>1412.985010</td>\n",
       "      <td>-96880.886470</td>\n",
       "      <td>-97046.666857</td>\n",
       "      <td>-97332.481226</td>\n",
       "      <td>-96736.124753</td>\n",
       "      <td>-97253.008627</td>\n",
       "      <td>-96810.064542</td>\n",
       "      <td>-97746.554314</td>\n",
       "      <td>-97616.171965</td>\n",
       "      <td>-97152.250481</td>\n",
       "      <td>-97357.909452</td>\n",
       "    </tr>\n",
       "  </tbody>\n",
       "</table>\n",
       "</div>"
      ],
      "text/plain": [
       "              0             1             2             3             4  \\\n",
       "0   1377.773993  1379.710121   1382.600901   1385.302336   1387.468787    \n",
       "1   1383.092084  1384.868410   1387.531300   1389.632554   1390.931332    \n",
       "2   1387.881969  1389.371698   1391.921330   1393.554660   1394.333525    \n",
       "3   1392.512510  1393.686996   1395.270273   1396.844101   1397.140714    \n",
       "4   1396.863650  1397.506382   1398.407828   1398.600238   1398.374480    \n",
       "5   1399.981652  1399.761133   1400.819364   1400.646573   1400.934533    \n",
       "6   1403.363009  1402.747511   1402.944854   1402.691902   1402.807336    \n",
       "7   1405.212585  1405.811329   1405.021064   1404.840349  -98610.364530   \n",
       "8   1407.378608  1407.052558   1407.248044  -98610.963176 -98610.405415   \n",
       "9   1411.062123  1410.088709  -98609.709249 -98610.541931 -98609.433898   \n",
       "10  1412.985010 -96880.886470 -97046.666857 -97332.481226 -96736.124753   \n",
       "\n",
       "               5             6             7             8             9  \\\n",
       "0   1389.105607   1390.662110   1390.885602   1390.926177   1391.107657    \n",
       "1   1392.157841   1392.504628   1392.674715   1393.788428   1393.062393    \n",
       "2   1394.642655   1395.171477   1395.036184   1395.564495  -98611.054001   \n",
       "3   1396.864787   1397.031379   1398.229119  -98611.577805 -98611.404268   \n",
       "4   1398.092949   1399.976602  -98610.835776 -98611.516166 -98611.013597   \n",
       "5   1402.335794  -98611.224351 -98610.970365 -98611.160385 -98611.257967   \n",
       "6  -98611.573817 -98611.075153 -98611.216120 -98610.623837 -98611.396878   \n",
       "7  -98611.070472 -98610.885613 -98610.850370 -98610.794792 -98611.253969   \n",
       "8  -98610.569786 -98610.804128 -98610.238735 -98611.130116 -98610.739203   \n",
       "9  -98609.961937 -98610.296866 -98610.391629 -98610.064068 -98610.686310   \n",
       "10 -97253.008627 -96810.064542 -97746.554314 -97616.171965 -97152.250481   \n",
       "\n",
       "              10  \n",
       "0   1391.344741   \n",
       "1  -98610.384412  \n",
       "2  -98611.341168  \n",
       "3  -98611.084674  \n",
       "4  -98611.649190  \n",
       "5  -98610.933641  \n",
       "6  -98610.727812  \n",
       "7  -98610.863693  \n",
       "8  -98610.911005  \n",
       "9  -98610.396147  \n",
       "10 -97357.909452  "
      ]
     },
     "execution_count": 103,
     "metadata": {},
     "output_type": "execute_result"
    }
   ],
   "source": [
    "pd.DataFrame(Q)"
   ]
  },
  {
   "cell_type": "code",
   "execution_count": 117,
   "metadata": {
    "colab": {
     "base_uri": "https://localhost:8080/",
     "height": 370
    },
    "colab_type": "code",
    "id": "O3MgAbuBrHwP",
    "outputId": "d7cb2734-99d5-4b36-ccd2-489eeda31d60"
   },
   "outputs": [
    {
     "data": {
      "text/html": [
       "<div>\n",
       "<style scoped>\n",
       "    .dataframe tbody tr th:only-of-type {\n",
       "        vertical-align: middle;\n",
       "    }\n",
       "\n",
       "    .dataframe tbody tr th {\n",
       "        vertical-align: top;\n",
       "    }\n",
       "\n",
       "    .dataframe thead th {\n",
       "        text-align: right;\n",
       "    }\n",
       "</style>\n",
       "<table border=\"1\" class=\"dataframe\">\n",
       "  <thead>\n",
       "    <tr style=\"text-align: right;\">\n",
       "      <th></th>\n",
       "      <th>0</th>\n",
       "      <th>1</th>\n",
       "      <th>2</th>\n",
       "      <th>3</th>\n",
       "      <th>4</th>\n",
       "      <th>5</th>\n",
       "      <th>6</th>\n",
       "      <th>7</th>\n",
       "      <th>8</th>\n",
       "      <th>9</th>\n",
       "      <th>...</th>\n",
       "      <th>590</th>\n",
       "      <th>591</th>\n",
       "      <th>592</th>\n",
       "      <th>593</th>\n",
       "      <th>594</th>\n",
       "      <th>595</th>\n",
       "      <th>596</th>\n",
       "      <th>597</th>\n",
       "      <th>598</th>\n",
       "      <th>599</th>\n",
       "    </tr>\n",
       "  </thead>\n",
       "  <tbody>\n",
       "    <tr>\n",
       "      <th>0</th>\n",
       "      <td>0.0</td>\n",
       "      <td>0.0</td>\n",
       "      <td>0.0</td>\n",
       "      <td>0.0</td>\n",
       "      <td>0.0</td>\n",
       "      <td>0.0</td>\n",
       "      <td>0.0</td>\n",
       "      <td>0.0</td>\n",
       "      <td>0.0</td>\n",
       "      <td>0.0</td>\n",
       "      <td>...</td>\n",
       "      <td>0.0</td>\n",
       "      <td>0.0</td>\n",
       "      <td>0.0</td>\n",
       "      <td>0.0</td>\n",
       "      <td>0.0</td>\n",
       "      <td>0.0</td>\n",
       "      <td>0.0</td>\n",
       "      <td>0.0</td>\n",
       "      <td>0.0</td>\n",
       "      <td>0.0</td>\n",
       "    </tr>\n",
       "    <tr>\n",
       "      <th>1</th>\n",
       "      <td>0.0</td>\n",
       "      <td>0.0</td>\n",
       "      <td>0.0</td>\n",
       "      <td>0.0</td>\n",
       "      <td>0.0</td>\n",
       "      <td>0.0</td>\n",
       "      <td>0.0</td>\n",
       "      <td>0.0</td>\n",
       "      <td>0.0</td>\n",
       "      <td>0.0</td>\n",
       "      <td>...</td>\n",
       "      <td>0.0</td>\n",
       "      <td>0.0</td>\n",
       "      <td>0.0</td>\n",
       "      <td>0.0</td>\n",
       "      <td>0.0</td>\n",
       "      <td>0.0</td>\n",
       "      <td>0.0</td>\n",
       "      <td>0.0</td>\n",
       "      <td>0.0</td>\n",
       "      <td>0.0</td>\n",
       "    </tr>\n",
       "    <tr>\n",
       "      <th>2</th>\n",
       "      <td>0.0</td>\n",
       "      <td>0.0</td>\n",
       "      <td>0.0</td>\n",
       "      <td>0.0</td>\n",
       "      <td>0.0</td>\n",
       "      <td>0.0</td>\n",
       "      <td>0.0</td>\n",
       "      <td>0.0</td>\n",
       "      <td>0.0</td>\n",
       "      <td>0.0</td>\n",
       "      <td>...</td>\n",
       "      <td>0.0</td>\n",
       "      <td>0.0</td>\n",
       "      <td>0.0</td>\n",
       "      <td>0.0</td>\n",
       "      <td>0.0</td>\n",
       "      <td>0.0</td>\n",
       "      <td>0.0</td>\n",
       "      <td>0.0</td>\n",
       "      <td>0.0</td>\n",
       "      <td>0.0</td>\n",
       "    </tr>\n",
       "    <tr>\n",
       "      <th>3</th>\n",
       "      <td>0.0</td>\n",
       "      <td>0.0</td>\n",
       "      <td>0.0</td>\n",
       "      <td>0.0</td>\n",
       "      <td>0.0</td>\n",
       "      <td>0.0</td>\n",
       "      <td>0.0</td>\n",
       "      <td>0.0</td>\n",
       "      <td>0.0</td>\n",
       "      <td>0.0</td>\n",
       "      <td>...</td>\n",
       "      <td>0.0</td>\n",
       "      <td>0.0</td>\n",
       "      <td>0.0</td>\n",
       "      <td>0.0</td>\n",
       "      <td>0.0</td>\n",
       "      <td>0.0</td>\n",
       "      <td>0.0</td>\n",
       "      <td>0.0</td>\n",
       "      <td>0.0</td>\n",
       "      <td>0.0</td>\n",
       "    </tr>\n",
       "    <tr>\n",
       "      <th>4</th>\n",
       "      <td>0.0</td>\n",
       "      <td>0.0</td>\n",
       "      <td>0.0</td>\n",
       "      <td>0.0</td>\n",
       "      <td>0.0</td>\n",
       "      <td>0.0</td>\n",
       "      <td>0.0</td>\n",
       "      <td>0.0</td>\n",
       "      <td>0.0</td>\n",
       "      <td>0.0</td>\n",
       "      <td>...</td>\n",
       "      <td>0.0</td>\n",
       "      <td>0.0</td>\n",
       "      <td>0.0</td>\n",
       "      <td>0.0</td>\n",
       "      <td>0.0</td>\n",
       "      <td>0.0</td>\n",
       "      <td>0.0</td>\n",
       "      <td>0.0</td>\n",
       "      <td>0.0</td>\n",
       "      <td>0.0</td>\n",
       "    </tr>\n",
       "    <tr>\n",
       "      <th>5</th>\n",
       "      <td>0.0</td>\n",
       "      <td>0.0</td>\n",
       "      <td>0.0</td>\n",
       "      <td>0.0</td>\n",
       "      <td>0.0</td>\n",
       "      <td>0.0</td>\n",
       "      <td>0.0</td>\n",
       "      <td>0.0</td>\n",
       "      <td>0.0</td>\n",
       "      <td>0.0</td>\n",
       "      <td>...</td>\n",
       "      <td>0.0</td>\n",
       "      <td>0.0</td>\n",
       "      <td>0.0</td>\n",
       "      <td>0.0</td>\n",
       "      <td>0.0</td>\n",
       "      <td>0.0</td>\n",
       "      <td>0.0</td>\n",
       "      <td>0.0</td>\n",
       "      <td>0.0</td>\n",
       "      <td>0.0</td>\n",
       "    </tr>\n",
       "    <tr>\n",
       "      <th>6</th>\n",
       "      <td>0.0</td>\n",
       "      <td>0.0</td>\n",
       "      <td>0.0</td>\n",
       "      <td>0.0</td>\n",
       "      <td>0.0</td>\n",
       "      <td>0.0</td>\n",
       "      <td>0.0</td>\n",
       "      <td>0.0</td>\n",
       "      <td>0.0</td>\n",
       "      <td>0.0</td>\n",
       "      <td>...</td>\n",
       "      <td>0.0</td>\n",
       "      <td>0.0</td>\n",
       "      <td>0.0</td>\n",
       "      <td>0.0</td>\n",
       "      <td>0.0</td>\n",
       "      <td>0.0</td>\n",
       "      <td>0.0</td>\n",
       "      <td>0.0</td>\n",
       "      <td>0.0</td>\n",
       "      <td>0.0</td>\n",
       "    </tr>\n",
       "    <tr>\n",
       "      <th>7</th>\n",
       "      <td>0.0</td>\n",
       "      <td>0.0</td>\n",
       "      <td>0.0</td>\n",
       "      <td>0.0</td>\n",
       "      <td>0.0</td>\n",
       "      <td>0.0</td>\n",
       "      <td>0.0</td>\n",
       "      <td>0.0</td>\n",
       "      <td>0.0</td>\n",
       "      <td>0.0</td>\n",
       "      <td>...</td>\n",
       "      <td>0.0</td>\n",
       "      <td>0.0</td>\n",
       "      <td>0.0</td>\n",
       "      <td>0.0</td>\n",
       "      <td>0.0</td>\n",
       "      <td>0.0</td>\n",
       "      <td>0.0</td>\n",
       "      <td>0.0</td>\n",
       "      <td>0.0</td>\n",
       "      <td>0.0</td>\n",
       "    </tr>\n",
       "    <tr>\n",
       "      <th>8</th>\n",
       "      <td>0.0</td>\n",
       "      <td>0.0</td>\n",
       "      <td>0.0</td>\n",
       "      <td>0.0</td>\n",
       "      <td>0.0</td>\n",
       "      <td>0.0</td>\n",
       "      <td>0.0</td>\n",
       "      <td>0.0</td>\n",
       "      <td>0.0</td>\n",
       "      <td>0.0</td>\n",
       "      <td>...</td>\n",
       "      <td>0.0</td>\n",
       "      <td>0.0</td>\n",
       "      <td>0.0</td>\n",
       "      <td>0.0</td>\n",
       "      <td>0.0</td>\n",
       "      <td>0.0</td>\n",
       "      <td>0.0</td>\n",
       "      <td>0.0</td>\n",
       "      <td>0.0</td>\n",
       "      <td>0.0</td>\n",
       "    </tr>\n",
       "    <tr>\n",
       "      <th>9</th>\n",
       "      <td>0.0</td>\n",
       "      <td>0.0</td>\n",
       "      <td>0.0</td>\n",
       "      <td>0.0</td>\n",
       "      <td>0.0</td>\n",
       "      <td>0.0</td>\n",
       "      <td>0.0</td>\n",
       "      <td>0.0</td>\n",
       "      <td>0.0</td>\n",
       "      <td>0.0</td>\n",
       "      <td>...</td>\n",
       "      <td>0.0</td>\n",
       "      <td>0.0</td>\n",
       "      <td>0.0</td>\n",
       "      <td>0.0</td>\n",
       "      <td>0.0</td>\n",
       "      <td>0.0</td>\n",
       "      <td>0.0</td>\n",
       "      <td>0.0</td>\n",
       "      <td>0.0</td>\n",
       "      <td>0.0</td>\n",
       "    </tr>\n",
       "    <tr>\n",
       "      <th>10</th>\n",
       "      <td>0.0</td>\n",
       "      <td>0.0</td>\n",
       "      <td>0.0</td>\n",
       "      <td>0.0</td>\n",
       "      <td>0.0</td>\n",
       "      <td>0.0</td>\n",
       "      <td>0.0</td>\n",
       "      <td>0.0</td>\n",
       "      <td>0.0</td>\n",
       "      <td>0.0</td>\n",
       "      <td>...</td>\n",
       "      <td>0.0</td>\n",
       "      <td>0.0</td>\n",
       "      <td>0.0</td>\n",
       "      <td>0.0</td>\n",
       "      <td>0.0</td>\n",
       "      <td>0.0</td>\n",
       "      <td>0.0</td>\n",
       "      <td>0.0</td>\n",
       "      <td>0.0</td>\n",
       "      <td>0.0</td>\n",
       "    </tr>\n",
       "  </tbody>\n",
       "</table>\n",
       "<p>11 rows × 600 columns</p>\n",
       "</div>"
      ],
      "text/plain": [
       "      0    1    2    3    4    5    6    7    8    9  ...  590  591  592  593  \\\n",
       "0   0.0  0.0  0.0  0.0  0.0  0.0  0.0  0.0  0.0  0.0  ...  0.0  0.0  0.0  0.0   \n",
       "1   0.0  0.0  0.0  0.0  0.0  0.0  0.0  0.0  0.0  0.0  ...  0.0  0.0  0.0  0.0   \n",
       "2   0.0  0.0  0.0  0.0  0.0  0.0  0.0  0.0  0.0  0.0  ...  0.0  0.0  0.0  0.0   \n",
       "3   0.0  0.0  0.0  0.0  0.0  0.0  0.0  0.0  0.0  0.0  ...  0.0  0.0  0.0  0.0   \n",
       "4   0.0  0.0  0.0  0.0  0.0  0.0  0.0  0.0  0.0  0.0  ...  0.0  0.0  0.0  0.0   \n",
       "5   0.0  0.0  0.0  0.0  0.0  0.0  0.0  0.0  0.0  0.0  ...  0.0  0.0  0.0  0.0   \n",
       "6   0.0  0.0  0.0  0.0  0.0  0.0  0.0  0.0  0.0  0.0  ...  0.0  0.0  0.0  0.0   \n",
       "7   0.0  0.0  0.0  0.0  0.0  0.0  0.0  0.0  0.0  0.0  ...  0.0  0.0  0.0  0.0   \n",
       "8   0.0  0.0  0.0  0.0  0.0  0.0  0.0  0.0  0.0  0.0  ...  0.0  0.0  0.0  0.0   \n",
       "9   0.0  0.0  0.0  0.0  0.0  0.0  0.0  0.0  0.0  0.0  ...  0.0  0.0  0.0  0.0   \n",
       "10  0.0  0.0  0.0  0.0  0.0  0.0  0.0  0.0  0.0  0.0  ...  0.0  0.0  0.0  0.0   \n",
       "\n",
       "    594  595  596  597  598  599  \n",
       "0   0.0  0.0  0.0  0.0  0.0  0.0  \n",
       "1   0.0  0.0  0.0  0.0  0.0  0.0  \n",
       "2   0.0  0.0  0.0  0.0  0.0  0.0  \n",
       "3   0.0  0.0  0.0  0.0  0.0  0.0  \n",
       "4   0.0  0.0  0.0  0.0  0.0  0.0  \n",
       "5   0.0  0.0  0.0  0.0  0.0  0.0  \n",
       "6   0.0  0.0  0.0  0.0  0.0  0.0  \n",
       "7   0.0  0.0  0.0  0.0  0.0  0.0  \n",
       "8   0.0  0.0  0.0  0.0  0.0  0.0  \n",
       "9   0.0  0.0  0.0  0.0  0.0  0.0  \n",
       "10  0.0  0.0  0.0  0.0  0.0  0.0  \n",
       "\n",
       "[11 rows x 600 columns]"
      ]
     },
     "execution_count": 117,
     "metadata": {},
     "output_type": "execute_result"
    }
   ],
   "source": [
    "pd.DataFrame(d.T)"
   ]
  },
  {
   "cell_type": "markdown",
   "metadata": {
    "colab_type": "text",
    "id": "a7e0uM0U5xEq"
   },
   "source": [
    "### Step 6: Q Learning using Prob Matrix"
   ]
  },
  {
   "cell_type": "code",
   "execution_count": null,
   "metadata": {
    "colab": {},
    "colab_type": "code",
    "id": "IXmlPE0a511R"
   },
   "outputs": [],
   "source": [
    "# T number of episodes\n",
    "# Tmax = 1000\n",
    "#  gamma = 0.1\n",
    "\n",
    "T=50000\n",
    "Tmax=10000\n",
    "gamma=0.05\n",
    "\n",
    "def Q_learn_pmat(P_t,RR,T=5000,Tmax=1000,gamma=0.1,discount_rate=0.95):\n",
    "  K,N,M = P_t.shape\n",
    "  v = np.zeros((N,T+1),dtype=np.float64) #value\n",
    "  d = np.zeros((N,T+1),dtype=np.int) #policy\n",
    "  visits = np.zeros((N,K),dtype=np.int)\n",
    "\n",
    "  Q = np.zeros((N,K),dtype=np.float64)\n",
    "\n",
    "  # maximum number of transitions (=maximum number of simulations -1)\n",
    "\n",
    "  for num_ep in range(1,T):\n",
    "      t = 1\n",
    "      y0 = np.random.choice(range(0,N))\n",
    "      d0 = np.random.choice(range(0,K))\n",
    "      while (t<=Tmax+1):\n",
    "          visits[y0,d0]+=1\n",
    "          y1 = np.random.choice(range(0,N),p=P_t[d0,y0,:])\n",
    "          Q[y0,d0] = (1-gamma)*Q[y0,d0] + gamma*(RR[d0,y0,y1] + discount_rate * max(Q[y1,:]))\n",
    "          y0 = y1\n",
    "          if np.random.uniform(0,1,1)>=0.2:\n",
    "              d0 = np.argmax(Q[y1,:]) #greedy\n",
    "          else:\n",
    "              d0 = np.random.choice(range(0,K)) #explore\n",
    "          t = t+1\n",
    "\n",
    "\n",
    "  J = np.zeros((N,1),dtype=np.float64)\n",
    "  d = np.zeros((N,1),dtype=np.float64)\n",
    "  for j in range(0,N):\n",
    "      J[j,0] = max(Q[j,:])\n",
    "      d[j,0] = np.argmax(Q[j,:])\n",
    "  return J,d,visits,Q"
   ]
  },
  {
   "cell_type": "code",
   "execution_count": null,
   "metadata": {
    "colab": {},
    "colab_type": "code",
    "id": "Id9RIX4C6pje"
   },
   "outputs": [],
   "source": [
    "J,d,visits,Q=Q_learn_pmat(P_t,RR)"
   ]
  },
  {
   "cell_type": "code",
   "execution_count": null,
   "metadata": {
    "colab": {},
    "colab_type": "code",
    "id": "-6GvfoSArHwZ"
   },
   "outputs": [],
   "source": [
    "policy_df = pd.DataFrame(d)"
   ]
  },
  {
   "cell_type": "code",
   "execution_count": null,
   "metadata": {
    "colab": {
     "base_uri": "https://localhost:8080/",
     "height": 370
    },
    "colab_type": "code",
    "id": "1hpSMawLrHwi",
    "outputId": "d042c021-8331-42c6-eee2-5a343ba69ca2"
   },
   "outputs": [],
   "source": [
    "pd.DataFrame(Q)"
   ]
  },
  {
   "cell_type": "code",
   "execution_count": null,
   "metadata": {
    "colab": {
     "base_uri": "https://localhost:8080/",
     "height": 370
    },
    "colab_type": "code",
    "id": "AqqBanYvrHwm",
    "outputId": "3c1a7462-7305-4fe4-8437-5572bb51b601",
    "scrolled": false
   },
   "outputs": [],
   "source": [
    "policy_df"
   ]
  },
  {
   "cell_type": "markdown",
   "metadata": {
    "colab_type": "text",
    "id": "F8KqJ3eXrHwr"
   },
   "source": [
    "### Step 7: Experiment with a large n (100 units in inventory)"
   ]
  },
  {
   "cell_type": "code",
   "execution_count": null,
   "metadata": {
    "colab": {},
    "colab_type": "code",
    "id": "WC2h00CVrHws"
   },
   "outputs": [],
   "source": [
    "env = InventoryEnv()\n",
    "env.n"
   ]
  },
  {
   "cell_type": "code",
   "execution_count": null,
   "metadata": {},
   "outputs": [],
   "source": [
    "P_t,RR,demand_list = transition_prob(env)\n",
    "plt.hist(demand_list)"
   ]
  },
  {
   "cell_type": "code",
   "execution_count": null,
   "metadata": {},
   "outputs": [],
   "source": [
    "pd.DataFrame(P_t[5,:,:]) #transition matrix at action = 5"
   ]
  },
  {
   "cell_type": "code",
   "execution_count": null,
   "metadata": {},
   "outputs": [],
   "source": [
    "K,N,M = P_t.shape\n",
    "K,N,M"
   ]
  },
  {
   "cell_type": "code",
   "execution_count": null,
   "metadata": {},
   "outputs": [],
   "source": [
    "v,d=value_iteration(P_t,RR)"
   ]
  },
  {
   "cell_type": "code",
   "execution_count": null,
   "metadata": {},
   "outputs": [],
   "source": [
    "value_df = pd.DataFrame(v)\n",
    "value_df"
   ]
  },
  {
   "cell_type": "code",
   "execution_count": null,
   "metadata": {},
   "outputs": [],
   "source": [
    "policy_df = pd.DataFrame(d)\n",
    "policy_df"
   ]
  },
  {
   "cell_type": "code",
   "execution_count": null,
   "metadata": {},
   "outputs": [],
   "source": [
    "v,d,visits=val_iter_sim(P_t,RR)"
   ]
  },
  {
   "cell_type": "code",
   "execution_count": null,
   "metadata": {},
   "outputs": [],
   "source": [
    "pd.DataFrame(d)"
   ]
  },
  {
   "cell_type": "code",
   "execution_count": null,
   "metadata": {},
   "outputs": [],
   "source": [
    "Q,J,d=Q_learning()"
   ]
  },
  {
   "cell_type": "code",
   "execution_count": null,
   "metadata": {},
   "outputs": [],
   "source": [
    "pd.DataFrame(Q)"
   ]
  },
  {
   "cell_type": "code",
   "execution_count": null,
   "metadata": {},
   "outputs": [],
   "source": [
    "pd.DataFrame(d)"
   ]
  },
  {
   "cell_type": "code",
   "execution_count": null,
   "metadata": {},
   "outputs": [],
   "source": [
    "J,d,visits,Q=Q_learn_pmat(P_t,RR)"
   ]
  },
  {
   "cell_type": "code",
   "execution_count": null,
   "metadata": {},
   "outputs": [],
   "source": [
    "policy_df = pd.DataFrame(d)\n",
    "policy_df"
   ]
  },
  {
   "cell_type": "code",
   "execution_count": null,
   "metadata": {},
   "outputs": [],
   "source": [
    "pd.DataFrame(Q)"
   ]
  },
  {
   "cell_type": "code",
   "execution_count": null,
   "metadata": {},
   "outputs": [],
   "source": []
  }
 ],
 "metadata": {
  "colab": {
   "name": "gym_analysis_Group6.ipynb",
   "provenance": []
  },
  "kernelspec": {
   "display_name": "Python 3",
   "language": "python",
   "name": "python3"
  },
  "language_info": {
   "codemirror_mode": {
    "name": "ipython",
    "version": 3
   },
   "file_extension": ".py",
   "mimetype": "text/x-python",
   "name": "python",
   "nbconvert_exporter": "python",
   "pygments_lexer": "ipython3",
   "version": "3.7.3"
  }
 },
 "nbformat": 4,
 "nbformat_minor": 1
}
