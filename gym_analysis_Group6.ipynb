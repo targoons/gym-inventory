{
 "cells": [
  {
   "cell_type": "markdown",
   "metadata": {
    "colab_type": "text",
    "id": "rVWe09OarHtr"
   },
   "source": [
    "<div>\n",
    "<img src=\"https://www.automation.com/getmedia/3c46e651-52ef-4d7e-9ee1-4e2132173f57/EUS031---Image\" width=\"250\" align=\"left\"/>\n",
    "</div>"
   ]
  },
  {
   "cell_type": "markdown",
   "metadata": {
    "colab_type": "text",
    "id": "xId9RYtarHtt"
   },
   "source": [
    "## Reinforcement Learning Final Project: Inventory Management\n",
    "Group 6: Michael, Annie, Targoon"
   ]
  },
  {
   "cell_type": "code",
   "execution_count": 1,
   "metadata": {
    "colab": {},
    "colab_type": "code",
    "id": "bK0HJ53YrHtu"
   },
   "outputs": [],
   "source": [
    "# 1. Problem Introduction\n",
    "    # - EDA / Markov Process Description\n",
    "# 2. Solve Problem in a small scale (Value Iteration)\n",
    "    # - Calculate Probability Matrix & Rewards by simulation\n",
    "    # - plot different graphs between optimal action vs initial state given different values\n",
    "# 3. Increase problem scaling (Value Iteration with Simulation & Q-Learning)"
   ]
  },
  {
   "cell_type": "markdown",
   "metadata": {
    "colab_type": "text",
    "id": "8Exio1zorHt2"
   },
   "source": [
    "### Necessary imports"
   ]
  },
  {
   "cell_type": "code",
   "execution_count": 2,
   "metadata": {
    "colab": {
     "base_uri": "https://localhost:8080/",
     "height": 35
    },
    "colab_type": "code",
    "id": "NRvdefo3rHt4",
    "outputId": "ddce3f4b-7c88-4fd0-9bfd-1eed14d58dc2"
   },
   "outputs": [
    {
     "name": "stderr",
     "output_type": "stream",
     "text": [
      "/Users/colella2/opt/anaconda3/lib/python3.7/site-packages/numba/np/ufunc/parallel.py:355: NumbaWarning: \u001b[1mThe TBB threading layer requires TBB version 2019.5 or later i.e., TBB_INTERFACE_VERSION >= 11005. Found TBB_INTERFACE_VERSION = 10005. The TBB threading layer is disabled.\u001b[0m\n",
      "  warnings.warn(problem)\n"
     ]
    }
   ],
   "source": [
    "#!!pip install gym\n",
    "#!pip install quantecon \n",
    "#!pip install numpy==1.19.1\n",
    "\n",
    "import gym\n",
    "from gym import spaces\n",
    "from gym import utils\n",
    "from gym.utils import seeding\n",
    "\n",
    "import logging\n",
    "logger = logging.getLogger(__name__)\n",
    "\n",
    "import os\n",
    "from os.path import basename\n",
    "import sys\n",
    "import platform\n",
    "\n",
    "import gym\n",
    "from gym import spaces\n",
    "from gym import utils\n",
    "from gym.utils import seeding\n",
    "\n",
    "import pandas as pd\n",
    "import numpy as np\n",
    "import quantecon as qe\n",
    "\n",
    "import matplotlib.pyplot as plt\n",
    "\n",
    "from collections import Counter\n",
    "from itertools import groupby\n",
    "\n",
    "import warnings\n",
    "warnings.filterwarnings(\"ignore\") # supress warnings\n",
    "\n",
    "import matplotlib.pyplot as plt\n",
    "\n",
    "pd.set_option('display.max_colwidth', -1)\n",
    "pd.set_option('display.max_row', 20) # set max row display\n",
    "pd.set_option('display.max_columns', 20) # set max column width\n",
    "\n",
    "# enable ability to see the value of multiple statements at once\n",
    "# from IPython.core.interactiveshell import InteractiveShell\n",
    "# InteractiveShell.ast_node_interactivity = \"all\"\n",
    "\n",
    "%matplotlib inline"
   ]
  },
  {
   "cell_type": "code",
   "execution_count": 3,
   "metadata": {
    "colab": {
     "base_uri": "https://localhost:8080/",
     "height": 35
    },
    "colab_type": "code",
    "id": "6Wz0OYJ0rHuD",
    "outputId": "4a827e6a-6fc9-46f6-de70-c0ac35dc77f6"
   },
   "outputs": [
    {
     "name": "stdout",
     "output_type": "stream",
     "text": [
      "3.7.7\n"
     ]
    }
   ],
   "source": [
    "# check python version\n",
    "from platform import python_version\n",
    "print(python_version())"
   ]
  },
  {
   "cell_type": "markdown",
   "metadata": {
    "colab_type": "text",
    "id": "YeefXXc2rHuN"
   },
   "source": [
    "### Instantiate class from gym environment"
   ]
  },
  {
   "cell_type": "code",
   "execution_count": 4,
   "metadata": {
    "colab": {},
    "colab_type": "code",
    "id": "bZPeZeAjrHuO"
   },
   "outputs": [],
   "source": [
    "class InventoryEnv(gym.Env, utils.EzPickle):\n",
    "    \"\"\"Inventory control with lost sales environment\n",
    "\n",
    "    TO BE EDITED\n",
    "\n",
    "    This environment corresponds to the version of the inventory control\n",
    "    with lost sales problem described in Example 1.1 in Algorithms for\n",
    "    Reinforcement Learning by Csaba Szepesvari (2010).\n",
    "    https://sites.ualberta.ca/~szepesva/RLBook.html\n",
    "    \"\"\"\n",
    "\n",
    "    # our problem statement does not fully define these parameters\n",
    "    # we will explain what happens to our optimal policy, given changing parameters -- we will show this w/ graphs\n",
    "    \n",
    "    def __init__(self, n=10, k=1, c=2, h=0, p=5, lam=5): # default values\n",
    "        self.n = n # items held at certain time\n",
    "        self.action_space = spaces.Discrete(n + 1)\n",
    "        self.observation_space = spaces.Discrete(n + 1)\n",
    "        self.max = n # have to optimize max items held at certain time\n",
    "        self.state = np.random.choice(range(n + 1))\n",
    "        self.k = k # fixed entry cost for ordering; k must be greater than 0\n",
    "        self.c = c # fixed price of purchase for items\n",
    "        self.h = h # proportionality value must be greater than 0; cost per unit; constant that we multiply by remaining inventory\n",
    "        self.p = p # p is price and must be greater than 0\n",
    "        self.lam = lam # trace-decay parameter; makes algo incremental\n",
    "        \n",
    "        # we do not know what demand will be \n",
    "        # upon selling z units the manager is paid the monetary amount of p z, where p > 0.\n",
    "\n",
    "        # Set seed\n",
    "        self._seed()\n",
    "\n",
    "        # Start the first round\n",
    "        self._reset()\n",
    "\n",
    "    def demand(self):\n",
    "        return np.random.poisson(self.lam) # randomly generated demand based on poisson distribution\n",
    "\n",
    "    # transition probabilities\n",
    "    def transition(self, x, a, d): # action At gives the number of items ordered in the evening of day t\n",
    "        # x is initial state\n",
    "        \n",
    "        m = self.max\n",
    "        \n",
    "        # size of next inventory is xt+1\n",
    "        return max(min(x + a, m) - d, 0) # subtract the d (demand) that you will recieve the next day\n",
    "\n",
    "    # a controller receives the controlled system's state and a reward associated with the last state transition\n",
    "    def reward(self, x, a, y):\n",
    "        k = self.k\n",
    "        m = self.max # m is equal to n\n",
    "        c = self.c\n",
    "        h = self.h\n",
    "        p = self.p\n",
    "        \n",
    "        # a, amount purchased, + max inventory; if over amount of storage, affix penalty\n",
    "        if a + x > self.max:\n",
    "            return -99999\n",
    "        else:\n",
    "            r = -k * (a > 0) - c * max(min(x + a, m) - x, 0) - h * x + p * max(min(x + a, m) - y, 0)\n",
    "            return r\n",
    "\n",
    "    def _seed(self, seed=None):\n",
    "        self.np_random, seed = seeding.np_random(seed)\n",
    "        return [seed]\n",
    "\n",
    "    def _step(self, action):\n",
    "        assert self.action_space.contains(action)\n",
    "        obs = self.state\n",
    "        demand = self.demand()\n",
    "        obs2 = self.transition(obs, action, demand)\n",
    "        self.state = obs2\n",
    "        reward = self.reward(obs, action, obs2)\n",
    "        done = 0\n",
    "        return obs2, reward, done, {}\n",
    "\n",
    "    def _reset(self):\n",
    "        return self.state"
   ]
  },
  {
   "cell_type": "markdown",
   "metadata": {
    "colab_type": "text",
    "id": "SzAbJ56NrHub"
   },
   "source": [
    "We are going to start with a smaller sample set."
   ]
  },
  {
   "cell_type": "markdown",
   "metadata": {
    "colab_type": "text",
    "id": "xJNP8nzgrHud"
   },
   "source": [
    "### Step 1: Transition probability and Reward matrices"
   ]
  },
  {
   "cell_type": "code",
   "execution_count": 5,
   "metadata": {
    "colab": {
     "base_uri": "https://localhost:8080/",
     "height": 35
    },
    "colab_type": "code",
    "id": "2v5M5U4drHue",
    "outputId": "385de656-45ef-4492-dc16-14767bea11c2"
   },
   "outputs": [
    {
     "data": {
      "text/plain": [
       "10"
      ]
     },
     "execution_count": 5,
     "metadata": {},
     "output_type": "execute_result"
    }
   ],
   "source": [
    "env = InventoryEnv()\n",
    "env.n"
   ]
  },
  {
   "cell_type": "code",
   "execution_count": 6,
   "metadata": {
    "colab": {},
    "colab_type": "code",
    "id": "pK2vS9UNvc0-"
   },
   "outputs": [],
   "source": [
    "#env = updated gym env\n",
    "#T= simulated demand iterations \n",
    "\n",
    "def transition_prob(env,T=10000):\n",
    "  P_t = np.zeros([env.n + 1, env.n + 1, env.n + 1]) #(action, current_state, next_state)\n",
    "  RR = np.zeros([env.n + 1, env.n + 1, env.n + 1]) \n",
    "  #print('Shape of probability matrix and Reward Matrix is',RR.shape)\n",
    "\n",
    "  demand_list = []\n",
    "  for init_state in range(env.n + 1):\n",
    "      for action in range(env.n + 1):\n",
    "          final_state_list = []\n",
    "\n",
    "          for i in range(T):\n",
    "              demand = env.demand()\n",
    "              final_state = env.transition(init_state, action, demand)\n",
    "              \n",
    "              demand_list.append(demand)\n",
    "              final_state_list.append(final_state)\n",
    "              \n",
    "          final_state_count = Counter(final_state_list)\n",
    "          \n",
    "          \n",
    "          for (final_state,probability) in final_state_count.items():\n",
    "              P_t[action, init_state, final_state] = probability / T\n",
    "              \n",
    "          for final_state in range(env.n + 1):\n",
    "              RR[action, init_state, final_state] = env.reward(init_state, action, final_state)\n",
    "\n",
    "  return P_t,RR,demand_list"
   ]
  },
  {
   "cell_type": "code",
   "execution_count": 7,
   "metadata": {
    "colab": {
     "base_uri": "https://localhost:8080/",
     "height": 35
    },
    "colab_type": "code",
    "id": "8FlX0SI1w3b7",
    "outputId": "100e2d4b-e8e0-4b76-8877-612e4239d53c"
   },
   "outputs": [],
   "source": [
    "P_t,RR,demand_list = transition_prob(env)"
   ]
  },
  {
   "cell_type": "code",
   "execution_count": 8,
   "metadata": {
    "colab": {
     "base_uri": "https://localhost:8080/",
     "height": 389
    },
    "colab_type": "code",
    "id": "G1qyeuVXrHu1",
    "outputId": "420fbd90-3ae6-4fc6-8c1f-f9d329008ba7",
    "scrolled": false
   },
   "outputs": [
    {
     "data": {
      "text/plain": [
       "(array([4.90280e+04, 2.71905e+05, 4.24314e+05, 3.03128e+05, 1.22924e+05,\n",
       "        3.20830e+04, 5.76400e+03, 7.81000e+02, 6.20000e+01, 1.10000e+01]),\n",
       " array([ 0.,  2.,  4.,  6.,  8., 10., 12., 14., 16., 18., 20.]),\n",
       " <a list of 10 Patch objects>)"
      ]
     },
     "execution_count": 8,
     "metadata": {},
     "output_type": "execute_result"
    },
    {
     "data": {
      "image/png": "[encoded data removed]",
      "text/plain": [
       "<Figure size 432x288 with 1 Axes>"
      ]
     },
     "metadata": {
      "needs_background": "light"
     },
     "output_type": "display_data"
    }
   ],
   "source": [
    "plt.hist(demand_list)"
   ]
  },
  {
   "cell_type": "code",
   "execution_count": 9,
   "metadata": {
    "colab": {
     "base_uri": "https://localhost:8080/",
     "height": 370
    },
    "colab_type": "code",
    "id": "4N9273GDrHu8",
    "outputId": "90437bc9-8c0a-409e-b95a-9f6c45c6bb7d"
   },
   "outputs": [
    {
     "data": {
      "text/html": [
       "<div>\n",
       "<style scoped>\n",
       "    .dataframe tbody tr th:only-of-type {\n",
       "        vertical-align: middle;\n",
       "    }\n",
       "\n",
       "    .dataframe tbody tr th {\n",
       "        vertical-align: top;\n",
       "    }\n",
       "\n",
       "    .dataframe thead th {\n",
       "        text-align: right;\n",
       "    }\n",
       "</style>\n",
       "<table border=\"1\" class=\"dataframe\">\n",
       "  <thead>\n",
       "    <tr style=\"text-align: right;\">\n",
       "      <th></th>\n",
       "      <th>0</th>\n",
       "      <th>1</th>\n",
       "      <th>2</th>\n",
       "      <th>3</th>\n",
       "      <th>4</th>\n",
       "      <th>5</th>\n",
       "      <th>6</th>\n",
       "      <th>7</th>\n",
       "      <th>8</th>\n",
       "      <th>9</th>\n",
       "      <th>10</th>\n",
       "    </tr>\n",
       "  </thead>\n",
       "  <tbody>\n",
       "    <tr>\n",
       "      <th>0</th>\n",
       "      <td>0.5666</td>\n",
       "      <td>0.1701</td>\n",
       "      <td>0.1428</td>\n",
       "      <td>0.0819</td>\n",
       "      <td>0.0316</td>\n",
       "      <td>0.0070</td>\n",
       "      <td>0.0000</td>\n",
       "      <td>0.0000</td>\n",
       "      <td>0.0000</td>\n",
       "      <td>0.0000</td>\n",
       "      <td>0.0000</td>\n",
       "    </tr>\n",
       "    <tr>\n",
       "      <th>1</th>\n",
       "      <td>0.3844</td>\n",
       "      <td>0.1731</td>\n",
       "      <td>0.1772</td>\n",
       "      <td>0.1398</td>\n",
       "      <td>0.0848</td>\n",
       "      <td>0.0324</td>\n",
       "      <td>0.0083</td>\n",
       "      <td>0.0000</td>\n",
       "      <td>0.0000</td>\n",
       "      <td>0.0000</td>\n",
       "      <td>0.0000</td>\n",
       "    </tr>\n",
       "    <tr>\n",
       "      <th>2</th>\n",
       "      <td>0.2346</td>\n",
       "      <td>0.1518</td>\n",
       "      <td>0.1805</td>\n",
       "      <td>0.1751</td>\n",
       "      <td>0.1348</td>\n",
       "      <td>0.0835</td>\n",
       "      <td>0.0346</td>\n",
       "      <td>0.0051</td>\n",
       "      <td>0.0000</td>\n",
       "      <td>0.0000</td>\n",
       "      <td>0.0000</td>\n",
       "    </tr>\n",
       "    <tr>\n",
       "      <th>3</th>\n",
       "      <td>0.1348</td>\n",
       "      <td>0.1047</td>\n",
       "      <td>0.1471</td>\n",
       "      <td>0.1752</td>\n",
       "      <td>0.1725</td>\n",
       "      <td>0.1423</td>\n",
       "      <td>0.0823</td>\n",
       "      <td>0.0351</td>\n",
       "      <td>0.0060</td>\n",
       "      <td>0.0000</td>\n",
       "      <td>0.0000</td>\n",
       "    </tr>\n",
       "    <tr>\n",
       "      <th>4</th>\n",
       "      <td>0.0691</td>\n",
       "      <td>0.0677</td>\n",
       "      <td>0.1106</td>\n",
       "      <td>0.1442</td>\n",
       "      <td>0.1725</td>\n",
       "      <td>0.1738</td>\n",
       "      <td>0.1395</td>\n",
       "      <td>0.0840</td>\n",
       "      <td>0.0325</td>\n",
       "      <td>0.0061</td>\n",
       "      <td>0.0000</td>\n",
       "    </tr>\n",
       "    <tr>\n",
       "      <th>5</th>\n",
       "      <td>0.0335</td>\n",
       "      <td>0.0393</td>\n",
       "      <td>0.0633</td>\n",
       "      <td>0.1010</td>\n",
       "      <td>0.1467</td>\n",
       "      <td>0.1766</td>\n",
       "      <td>0.1769</td>\n",
       "      <td>0.1358</td>\n",
       "      <td>0.0844</td>\n",
       "      <td>0.0348</td>\n",
       "      <td>0.0077</td>\n",
       "    </tr>\n",
       "    <tr>\n",
       "      <th>6</th>\n",
       "      <td>0.0318</td>\n",
       "      <td>0.0389</td>\n",
       "      <td>0.0671</td>\n",
       "      <td>0.1087</td>\n",
       "      <td>0.1439</td>\n",
       "      <td>0.1778</td>\n",
       "      <td>0.1686</td>\n",
       "      <td>0.1403</td>\n",
       "      <td>0.0813</td>\n",
       "      <td>0.0354</td>\n",
       "      <td>0.0062</td>\n",
       "    </tr>\n",
       "    <tr>\n",
       "      <th>7</th>\n",
       "      <td>0.0296</td>\n",
       "      <td>0.0367</td>\n",
       "      <td>0.0621</td>\n",
       "      <td>0.1039</td>\n",
       "      <td>0.1424</td>\n",
       "      <td>0.1784</td>\n",
       "      <td>0.1807</td>\n",
       "      <td>0.1379</td>\n",
       "      <td>0.0852</td>\n",
       "      <td>0.0358</td>\n",
       "      <td>0.0073</td>\n",
       "    </tr>\n",
       "    <tr>\n",
       "      <th>8</th>\n",
       "      <td>0.0341</td>\n",
       "      <td>0.0371</td>\n",
       "      <td>0.0635</td>\n",
       "      <td>0.1044</td>\n",
       "      <td>0.1475</td>\n",
       "      <td>0.1703</td>\n",
       "      <td>0.1762</td>\n",
       "      <td>0.1392</td>\n",
       "      <td>0.0875</td>\n",
       "      <td>0.0325</td>\n",
       "      <td>0.0077</td>\n",
       "    </tr>\n",
       "    <tr>\n",
       "      <th>9</th>\n",
       "      <td>0.0341</td>\n",
       "      <td>0.0364</td>\n",
       "      <td>0.0703</td>\n",
       "      <td>0.1034</td>\n",
       "      <td>0.1458</td>\n",
       "      <td>0.1748</td>\n",
       "      <td>0.1710</td>\n",
       "      <td>0.1431</td>\n",
       "      <td>0.0819</td>\n",
       "      <td>0.0317</td>\n",
       "      <td>0.0075</td>\n",
       "    </tr>\n",
       "    <tr>\n",
       "      <th>10</th>\n",
       "      <td>0.0326</td>\n",
       "      <td>0.0366</td>\n",
       "      <td>0.0627</td>\n",
       "      <td>0.1020</td>\n",
       "      <td>0.1446</td>\n",
       "      <td>0.1790</td>\n",
       "      <td>0.1779</td>\n",
       "      <td>0.1395</td>\n",
       "      <td>0.0825</td>\n",
       "      <td>0.0353</td>\n",
       "      <td>0.0073</td>\n",
       "    </tr>\n",
       "  </tbody>\n",
       "</table>\n",
       "</div>"
      ],
      "text/plain": [
       "         0       1       2       3       4       5       6       7       8  \\\n",
       "0   0.5666  0.1701  0.1428  0.0819  0.0316  0.0070  0.0000  0.0000  0.0000   \n",
       "1   0.3844  0.1731  0.1772  0.1398  0.0848  0.0324  0.0083  0.0000  0.0000   \n",
       "2   0.2346  0.1518  0.1805  0.1751  0.1348  0.0835  0.0346  0.0051  0.0000   \n",
       "3   0.1348  0.1047  0.1471  0.1752  0.1725  0.1423  0.0823  0.0351  0.0060   \n",
       "4   0.0691  0.0677  0.1106  0.1442  0.1725  0.1738  0.1395  0.0840  0.0325   \n",
       "5   0.0335  0.0393  0.0633  0.1010  0.1467  0.1766  0.1769  0.1358  0.0844   \n",
       "6   0.0318  0.0389  0.0671  0.1087  0.1439  0.1778  0.1686  0.1403  0.0813   \n",
       "7   0.0296  0.0367  0.0621  0.1039  0.1424  0.1784  0.1807  0.1379  0.0852   \n",
       "8   0.0341  0.0371  0.0635  0.1044  0.1475  0.1703  0.1762  0.1392  0.0875   \n",
       "9   0.0341  0.0364  0.0703  0.1034  0.1458  0.1748  0.1710  0.1431  0.0819   \n",
       "10  0.0326  0.0366  0.0627  0.1020  0.1446  0.1790  0.1779  0.1395  0.0825   \n",
       "\n",
       "         9      10  \n",
       "0   0.0000  0.0000  \n",
       "1   0.0000  0.0000  \n",
       "2   0.0000  0.0000  \n",
       "3   0.0000  0.0000  \n",
       "4   0.0061  0.0000  \n",
       "5   0.0348  0.0077  \n",
       "6   0.0354  0.0062  \n",
       "7   0.0358  0.0073  \n",
       "8   0.0325  0.0077  \n",
       "9   0.0317  0.0075  \n",
       "10  0.0353  0.0073  "
      ]
     },
     "execution_count": 9,
     "metadata": {},
     "output_type": "execute_result"
    }
   ],
   "source": [
    "pd.DataFrame(P_t[5,:,:])"
   ]
  },
  {
   "cell_type": "code",
   "execution_count": 10,
   "metadata": {
    "colab": {
     "base_uri": "https://localhost:8080/",
     "height": 35
    },
    "colab_type": "code",
    "id": "H1tCGjYHrHvF",
    "outputId": "b15d7d41-3e93-4021-8e60-f4e81c2791d3"
   },
   "outputs": [
    {
     "data": {
      "text/plain": [
       "(11, 11, 11)"
      ]
     },
     "execution_count": 10,
     "metadata": {},
     "output_type": "execute_result"
    }
   ],
   "source": [
    "K,N,M = P_t.shape\n",
    "K,N,M"
   ]
  },
  {
   "cell_type": "code",
   "execution_count": 11,
   "metadata": {
    "colab": {},
    "colab_type": "code",
    "id": "WtqGGXrXrHvM"
   },
   "outputs": [],
   "source": [
    "# k = action\n",
    "# i = current state\n",
    "# j = next state"
   ]
  },
  {
   "cell_type": "markdown",
   "metadata": {
    "colab_type": "text",
    "id": "B6HX00bHrHvS"
   },
   "source": [
    "### Step 2: EDA"
   ]
  },
  {
   "cell_type": "markdown",
   "metadata": {},
   "source": [
    " - We are starting with action 0, which is ordering nothing, which means that there is nothing in inventory\n",
    " - This means that demand is being realized in every step that we are taking"
   ]
  },
  {
   "cell_type": "code",
   "execution_count": 12,
   "metadata": {},
   "outputs": [
    {
     "data": {
      "image/png": "[encoded data removed]",
      "text/plain": [
       "<Figure size 1800x1800 with 121 Axes>"
      ]
     },
     "metadata": {
      "needs_background": "light"
     },
     "output_type": "display_data"
    }
   ],
   "source": [
    "P_t[0,:,:].shape\n",
    "\n",
    "prob_matrix = P_t[0]\n",
    "\n",
    "# define # of periods / decision epochs / stages\n",
    "T = 10\n",
    "\n",
    "# define # of rows & cols\n",
    "n = 11\n",
    "\n",
    "# create array for storing transition probs\n",
    "P = np.zeros((T,n,n),dtype=np.float64) # reflects steps 0 through 99\n",
    "\n",
    "P.shape\n",
    "\n",
    "\n",
    "# take array of 0's and set equal to first set of transition probabilities\n",
    "P[0] = prob_matrix\n",
    "P[0]\n",
    "\n",
    "\n",
    "for item in range(1,T):\n",
    "    P[item] = np.matmul(P[item - 1], prob_matrix)\n",
    "    \n",
    "    \n",
    "# map actions\n",
    "states = {\n",
    "    \n",
    "    0:'state1', \n",
    "    1:'state2', \n",
    "    2:'state3', \n",
    "    3:'state4', \n",
    "    4:'state4', \n",
    "    5:'state5', \n",
    "    6:'state6', \n",
    "    7:'state7',\n",
    "    8:'state8',\n",
    "    9:'state9',\n",
    "    10:'state10'\n",
    "    \n",
    "}\n",
    "\n",
    "\n",
    "# plot\n",
    "fig, axes = plt.subplots(n, n, figsize=(25, 25), sharey = True)\n",
    "\n",
    "for i in range(n):\n",
    "    \n",
    "    for j in range(n):\n",
    "        \n",
    "        var_name = '({},{})'.format(states[i],states[j])\n",
    "        \n",
    "        plt.sca(axes[i, j]) \n",
    "        plt.plot(range(T), P[:,i,j])\n",
    "        \n",
    "        axes[i,j].set_title(f'P$_{{{var_name}}}$(n)')\n",
    "\n",
    "fig.subplots_adjust(top = 0.8)\n",
    "plt.show()"
   ]
  },
  {
   "cell_type": "code",
   "execution_count": 13,
   "metadata": {},
   "outputs": [
    {
     "data": {
      "text/plain": [
       "Text(0, 0.5, 'states')"
      ]
     },
     "execution_count": 13,
     "metadata": {},
     "output_type": "execute_result"
    },
    {
     "data": {
      "image/png": "[encoded data removed]",
      "text/plain": [
       "<Figure size 720x504 with 1 Axes>"
      ]
     },
     "metadata": {
      "needs_background": "light"
     },
     "output_type": "display_data"
    }
   ],
   "source": [
    "im_states1 = qe.MarkovChain(P_t[0,:,:])\n",
    "\n",
    "simulations = 100\n",
    "\n",
    "simulation = im_states1.simulate(simulations, random_state = 33)\n",
    "\n",
    "# plot sequence of transitions as step function of time\n",
    "\n",
    "fig, ax = plt.subplots(1, 1, figsize=(10, 7))\n",
    "fig.suptitle('State Simulation Plot for Action 0 - Number of Items in Inventory')\n",
    "\n",
    "plt.plot(simulation, lw = 5, color = 'b')\n",
    "\n",
    "plt.ylabel('states')\n",
    "\n",
    "# this is what we would expect when not ordering anything"
   ]
  },
  {
   "cell_type": "markdown",
   "metadata": {},
   "source": [
    " - Here we are starting with action 5, which means we are ordering 5 items\n",
    " - Here, we are still converging relatively quickly\n",
    " - There is some variation in how exactly that convergence happens; actual ordering is occurring"
   ]
  },
  {
   "cell_type": "code",
   "execution_count": 14,
   "metadata": {
    "colab": {},
    "colab_type": "code",
    "id": "nlm-1Lw_rHvT",
    "outputId": "10c2a678-e540-420e-e9b1-a1d45417dd70"
   },
   "outputs": [
    {
     "data": {
      "image/png": "[encoded data removed]",
      "text/plain": [
       "<Figure size 1800x1800 with 121 Axes>"
      ]
     },
     "metadata": {
      "needs_background": "light"
     },
     "output_type": "display_data"
    }
   ],
   "source": [
    "P_t[5,:,:] # use array 5th array as example\n",
    "\n",
    "P_t[5,:,:].shape\n",
    "\n",
    "prob_matrix = P_t[5]\n",
    "\n",
    "\n",
    "# define # of periods / decision epochs / stages\n",
    "T = 10\n",
    "\n",
    "# define # of rows & cols\n",
    "n = 11\n",
    "\n",
    "# create array for storing transition probs\n",
    "P = np.zeros((T,n,n),dtype=np.float64) # reflects steps 0 through 99\n",
    "\n",
    "\n",
    "# take array of 0's and set equal to first set of transition probabilities\n",
    "P[0] = prob_matrix\n",
    "\n",
    "for item in range(1,T):\n",
    "    P[item] = np.matmul(P[item - 1], prob_matrix)\n",
    "\n",
    "\n",
    "# plot\n",
    "fig, axes = plt.subplots(n, n, figsize=(25, 25), sharey = True)\n",
    "\n",
    "for i in range(n):\n",
    "    \n",
    "    for j in range(n):\n",
    "        \n",
    "        var_name = '({},{})'.format(states[i],states[j])\n",
    "        \n",
    "        plt.sca(axes[i, j]) \n",
    "        plt.plot(range(T), P[:,i,j])\n",
    "        \n",
    "        axes[i,j].set_title(f'P$_{{{var_name}}}$(n)')\n",
    "\n",
    "fig.subplots_adjust(top = 0.8)\n",
    "plt.show()"
   ]
  },
  {
   "cell_type": "code",
   "execution_count": 15,
   "metadata": {},
   "outputs": [
    {
     "name": "stdout",
     "output_type": "stream",
     "text": [
      "[array([ 0,  1,  2,  3,  4,  5,  6,  7,  8,  9, 10])]\n"
     ]
    },
    {
     "data": {
      "text/plain": [
       "1"
      ]
     },
     "execution_count": 15,
     "metadata": {},
     "output_type": "execute_result"
    }
   ],
   "source": [
    "# group all states into classes; report the classes and the total number of classes\n",
    "\n",
    "im_states3 = qe.MarkovChain(prob_matrix)\n",
    "\n",
    "# calculate communication classes\n",
    "print(im_states3.communication_classes) \n",
    "\n",
    "# get # of classes\n",
    "len(im_states3.communication_classes)"
   ]
  },
  {
   "cell_type": "code",
   "execution_count": 16,
   "metadata": {},
   "outputs": [
    {
     "name": "stdout",
     "output_type": "stream",
     "text": [
      "True\n"
     ]
    }
   ],
   "source": [
    "print(im_states3.is_irreducible)"
   ]
  },
  {
   "cell_type": "code",
   "execution_count": 17,
   "metadata": {},
   "outputs": [
    {
     "data": {
      "text/plain": [
       "1"
      ]
     },
     "execution_count": 17,
     "metadata": {},
     "output_type": "execute_result"
    }
   ],
   "source": [
    "# periodicity\n",
    "im_states3 = qe.MarkovChain(prob_matrix)\n",
    "\n",
    "# calculate # of periods\n",
    "im_states3.period"
   ]
  },
  {
   "cell_type": "code",
   "execution_count": 18,
   "metadata": {},
   "outputs": [
    {
     "data": {
      "text/plain": [
       "True"
      ]
     },
     "execution_count": 18,
     "metadata": {},
     "output_type": "execute_result"
    }
   ],
   "source": [
    "# since the # of periods = 1, this means the matrix is aperiodic, something confirmed by \n",
    "# the plots with no discernable pattern\n",
    "\n",
    "# shows matrix is aperiodic\n",
    "im_states3.is_aperiodic "
   ]
  },
  {
   "cell_type": "code",
   "execution_count": 19,
   "metadata": {},
   "outputs": [
    {
     "data": {
      "text/plain": [
       "array([4, 5, 6, 8, 2, 4, 5, 7, 8, 0, 2, 0, 4, 4, 1, 3, 7, 2, 0, 0, 2, 4,\n",
       "       2, 1, 1, 2, 0, 0, 3, 4, 3, 4, 8, 6, 5, 1, 1, 0, 0, 3, 0, 0, 1, 0,\n",
       "       0, 0, 0, 0, 3, 5, 9, 7, 8, 7, 9, 3, 0, 2, 3, 7, 4, 4, 7, 8, 5, 7,\n",
       "       6, 8, 4, 4, 6, 6, 0, 0, 2, 2, 4, 6, 7, 9, 5, 5, 6, 3, 3, 3, 1, 0,\n",
       "       0, 3, 1, 0, 1, 0, 1, 0, 0, 1, 1, 1])"
      ]
     },
     "execution_count": 19,
     "metadata": {},
     "output_type": "execute_result"
    }
   ],
   "source": [
    "# simulation\n",
    "\n",
    "# construct a 100-step simulation assuming an intial state and the above transition matrix\n",
    "simulations = 100\n",
    "\n",
    "simulation = im_states3.simulate(simulations, random_state = 33)\n",
    "simulation"
   ]
  },
  {
   "cell_type": "code",
   "execution_count": 20,
   "metadata": {},
   "outputs": [
    {
     "data": {
      "text/plain": [
       "Text(0, 0.5, 'states')"
      ]
     },
     "execution_count": 20,
     "metadata": {},
     "output_type": "execute_result"
    },
    {
     "data": {
      "image/png": "[encoded data removed]",
      "text/plain": [
       "<Figure size 720x504 with 1 Axes>"
      ]
     },
     "metadata": {
      "needs_background": "light"
     },
     "output_type": "display_data"
    }
   ],
   "source": [
    "# plot sequence of transitions as step function of time\n",
    "\n",
    "fig, ax = plt.subplots(1, 1, figsize=(10, 7))\n",
    "fig.suptitle('State Simulation Plot for Action 5 - Number of Items in Inventory')\n",
    "\n",
    "plt.plot(simulation, lw = 5, color = 'm')\n",
    "\n",
    "plt.ylabel('states')"
   ]
  },
  {
   "cell_type": "markdown",
   "metadata": {},
   "source": [
    " - Here we are starting with action 10, which means we are ordering 10 items\n",
    " - Here, we are still converging relatively quickly\n",
    " - There is some variation in how exactly that convergence happens; actual ordering is occurring"
   ]
  },
  {
   "cell_type": "code",
   "execution_count": 21,
   "metadata": {},
   "outputs": [
    {
     "data": {
      "image/png": "[encoded data removed]",
      "text/plain": [
       "<Figure size 1800x1800 with 121 Axes>"
      ]
     },
     "metadata": {
      "needs_background": "light"
     },
     "output_type": "display_data"
    }
   ],
   "source": [
    "P_t[10,:,:].shape\n",
    "\n",
    "prob_matrix = P_t[10]\n",
    "\n",
    "\n",
    "# define # of periods / decision epochs / stages\n",
    "T = 10\n",
    "\n",
    "# define # of rows & cols\n",
    "n = 11\n",
    "\n",
    "# create array for storing transition probs\n",
    "P = np.zeros((T,n,n),dtype=np.float64) # reflects steps 0 through 99\n",
    "\n",
    "# take array of 0's and set equal to first set of transition probabilities\n",
    "P[0] = prob_matrix\n",
    "P[0]\n",
    "\n",
    "for item in range(1,T):\n",
    "    P[item] = np.matmul(P[item - 1], prob_matrix)\n",
    "    \n",
    "\n",
    "# plot\n",
    "fig, axes = plt.subplots(n, n, figsize=(25, 25), sharey = True)\n",
    "\n",
    "for i in range(n):\n",
    "    \n",
    "    for j in range(n):\n",
    "        \n",
    "        var_name = '({},{})'.format(states[i],states[j])\n",
    "        \n",
    "        plt.sca(axes[i, j]) \n",
    "        plt.plot(range(T), P[:,i,j])\n",
    "        \n",
    "        axes[i,j].set_title(f'P$_{{{var_name}}}$(n)')\n",
    "\n",
    "fig.subplots_adjust(top = 0.8)\n",
    "plt.show()"
   ]
  },
  {
   "cell_type": "code",
   "execution_count": 22,
   "metadata": {},
   "outputs": [
    {
     "data": {
      "text/plain": [
       "Text(0, 0.5, 'states')"
      ]
     },
     "execution_count": 22,
     "metadata": {},
     "output_type": "execute_result"
    },
    {
     "data": {
      "image/png": "[encoded data removed]",
      "text/plain": [
       "<Figure size 720x504 with 1 Axes>"
      ]
     },
     "metadata": {
      "needs_background": "light"
     },
     "output_type": "display_data"
    }
   ],
   "source": [
    "im_states4 = qe.MarkovChain(P_t[10,:,:])\n",
    "\n",
    "# remove variable names for credit ratings\n",
    "im_states4 = qe.MarkovChain(P_t[10,:,:])\n",
    "\n",
    "simulations = 100\n",
    "\n",
    "simulation = im_states4.simulate(simulations, random_state = 33)\n",
    "\n",
    "# plot sequence of transitions as step function of time\n",
    "\n",
    "fig, ax = plt.subplots(1, 1, figsize=(10, 7))\n",
    "fig.suptitle('State Simulation Plot for Action 10 - Number of Items in Inventory')\n",
    "\n",
    "plt.plot(simulation, lw = 5, color = 'r')\n",
    "\n",
    "plt.ylabel('states')\n",
    "\n",
    "# this is what we would expect when not ordering anything"
   ]
  },
  {
   "cell_type": "markdown",
   "metadata": {},
   "source": [
    " - Report the likehood of each transition and the likelihood of the entire simulated sequence for ***ACTION 5***\n",
    " (re-run section above for Action 5 before proceeding)"
   ]
  },
  {
   "cell_type": "code",
   "execution_count": 23,
   "metadata": {},
   "outputs": [],
   "source": [
    "# sequence probability for all steps -- 100\n",
    "probability = 1\n",
    "\n",
    "# transition probability set\n",
    "prob_set = []\n",
    "\n",
    "\n",
    "for i in range(1, simulations):\n",
    "    \n",
    "    # current state -- first state\n",
    "    c_s = simulation[i - 1]\n",
    "    \n",
    "    # following state -- second state\n",
    "    f_s = simulation[i]\n",
    "    \n",
    "    # transition probability\n",
    "    prob_set2 = prob_matrix[c_s,f_s]\n",
    "    prob_set2 = round(prob_set2,3)\n",
    "    \n",
    "    # append new transition probabilities\n",
    "    prob_set.append(((c_s, f_s), prob_set2))\n",
    "    \n",
    "    # multiply sequence probabilities by calculated probabilities\n",
    "    probability *= prob_set2"
   ]
  },
  {
   "cell_type": "code",
   "execution_count": 24,
   "metadata": {
    "scrolled": true
   },
   "outputs": [
    {
     "data": {
      "text/plain": [
       "[((4, 6), 0.169),\n",
       " ((6, 6), 0.176),\n",
       " ((6, 8), 0.083),\n",
       " ((8, 2), 0.062),\n",
       " ((2, 7), 0.137),\n",
       " ((7, 6), 0.178),\n",
       " ((6, 7), 0.137),\n",
       " ((7, 8), 0.085),\n",
       " ((8, 0), 0.032),\n",
       " ((0, 7), 0.138),\n",
       " ((7, 3), 0.104),\n",
       " ((3, 9), 0.033),\n",
       " ((9, 5), 0.177),\n",
       " ((5, 2), 0.062),\n",
       " ((2, 7), 0.137),\n",
       " ((7, 9), 0.033),\n",
       " ((9, 2), 0.069),\n",
       " ((2, 3), 0.103),\n",
       " ((3, 4), 0.141),\n",
       " ((4, 7), 0.141),\n",
       " ((7, 7), 0.139),\n",
       " ((7, 3), 0.104),\n",
       " ((3, 4), 0.141),\n",
       " ((4, 5), 0.18),\n",
       " ((5, 5), 0.174),\n",
       " ((5, 2), 0.062),\n",
       " ((2, 2), 0.068),\n",
       " ((2, 8), 0.085),\n",
       " ((8, 6), 0.174),\n",
       " ((6, 4), 0.144),\n",
       " ((4, 6), 0.169),\n",
       " ((6, 9), 0.031),\n",
       " ((9, 6), 0.175),\n",
       " ((6, 5), 0.178),\n",
       " ((5, 1), 0.038),\n",
       " ((1, 5), 0.168),\n",
       " ((5, 2), 0.062),\n",
       " ((2, 2), 0.068),\n",
       " ((2, 8), 0.085),\n",
       " ((8, 0), 0.032),\n",
       " ((0, 3), 0.108),\n",
       " ((3, 7), 0.144),\n",
       " ((7, 2), 0.067),\n",
       " ((2, 4), 0.141),\n",
       " ((4, 2), 0.063),\n",
       " ((2, 3), 0.103),\n",
       " ((3, 5), 0.181),\n",
       " ((5, 8), 0.086),\n",
       " ((8, 7), 0.142),\n",
       " ((7, 9), 0.033),\n",
       " ((9, 7), 0.138),\n",
       " ((7, 8), 0.085),\n",
       " ((8, 7), 0.142),\n",
       " ((7, 9), 0.033),\n",
       " ((9, 3), 0.106),\n",
       " ((3, 2), 0.065),\n",
       " ((2, 7), 0.137),\n",
       " ((7, 6), 0.178),\n",
       " ((6, 9), 0.031),\n",
       " ((9, 4), 0.144),\n",
       " ((4, 5), 0.18),\n",
       " ((5, 8), 0.086),\n",
       " ((8, 8), 0.085),\n",
       " ((8, 5), 0.172),\n",
       " ((5, 7), 0.14),\n",
       " ((7, 6), 0.178),\n",
       " ((6, 8), 0.083),\n",
       " ((8, 4), 0.157),\n",
       " ((4, 5), 0.18),\n",
       " ((5, 7), 0.14),\n",
       " ((7, 6), 0.178),\n",
       " ((6, 0), 0.033),\n",
       " ((0, 0), 0.033),\n",
       " ((0, 7), 0.138),\n",
       " ((7, 5), 0.18),\n",
       " ((5, 7), 0.14),\n",
       " ((7, 7), 0.139),\n",
       " ((7, 7), 0.139),\n",
       " ((7, 9), 0.033),\n",
       " ((9, 5), 0.177),\n",
       " ((5, 5), 0.174),\n",
       " ((5, 6), 0.173),\n",
       " ((6, 3), 0.104),\n",
       " ((3, 5), 0.181),\n",
       " ((5, 5), 0.174),\n",
       " ((5, 3), 0.107),\n",
       " ((3, 5), 0.181),\n",
       " ((5, 4), 0.15),\n",
       " ((4, 9), 0.035),\n",
       " ((9, 3), 0.106),\n",
       " ((3, 2), 0.065),\n",
       " ((2, 6), 0.184),\n",
       " ((6, 3), 0.104),\n",
       " ((3, 6), 0.17),\n",
       " ((6, 3), 0.104),\n",
       " ((3, 3), 0.105),\n",
       " ((3, 6), 0.17),\n",
       " ((6, 5), 0.178),\n",
       " ((5, 5), 0.174)]"
      ]
     },
     "execution_count": 24,
     "metadata": {},
     "output_type": "execute_result"
    }
   ],
   "source": [
    "# likelihood of each transition\n",
    "prob_set"
   ]
  },
  {
   "cell_type": "code",
   "execution_count": 25,
   "metadata": {},
   "outputs": [
    {
     "data": {
      "text/plain": [
       "1.650393283398936e-97"
      ]
     },
     "execution_count": 25,
     "metadata": {},
     "output_type": "execute_result"
    }
   ],
   "source": [
    "# likelihood of entire simulated sequencen (total):\n",
    "probability"
   ]
  },
  {
   "cell_type": "markdown",
   "metadata": {},
   "source": [
    " - Examine stationarity: is this Markov chain ***stationary***?"
   ]
  },
  {
   "cell_type": "code",
   "execution_count": 26,
   "metadata": {},
   "outputs": [
    {
     "data": {
      "text/plain": [
       "array([0.03301188, 0.03784546, 0.06468582, 0.10452102, 0.14622567,\n",
       "       0.17666012, 0.17409429, 0.13972953, 0.08388057, 0.03246258,\n",
       "       0.00688305])"
      ]
     },
     "execution_count": 26,
     "metadata": {},
     "output_type": "execute_result"
    }
   ],
   "source": [
    "# stationarity\n",
    "\n",
    "# stationary distribution\n",
    "\n",
    "a = np.ones((n,)) \n",
    "b = np.ones((n, n))\n",
    "\n",
    "i = np.identity(11)\n",
    "\n",
    "p = np.matmul(a,np.linalg.inv(i - prob_matrix + b)) \n",
    "# linalg.inv() calculates inverse of matrix\n",
    "# inverse of a matrix is such that if multiplied by original matrix, results in identity\n",
    "# matrix\n",
    "# identity matrix is square matrix with ones on main diagonal\n",
    "\n",
    "p"
   ]
  },
  {
   "cell_type": "code",
   "execution_count": 27,
   "metadata": {},
   "outputs": [
    {
     "data": {
      "text/plain": [
       "array([0.03301188, 0.03784546, 0.06468582, 0.10452102, 0.14622567,\n",
       "       0.17666012, 0.17409429, 0.13972953, 0.08388057, 0.03246258,\n",
       "       0.00688305])"
      ]
     },
     "execution_count": 27,
     "metadata": {},
     "output_type": "execute_result"
    }
   ],
   "source": [
    "# can confirm stationary by multiplying by transition probability matrix\n",
    "p = np.matmul(p, prob_matrix)\n",
    "p"
   ]
  },
  {
   "cell_type": "code",
   "execution_count": 28,
   "metadata": {},
   "outputs": [
    {
     "data": {
      "text/plain": [
       "array([[0.24571488, 0.11187572, 0.12671267, 0.12521682, 0.11576091,\n",
       "        0.10238161, 0.07982447, 0.05271798, 0.02755051, 0.01027275,\n",
       "        0.00197167]])"
      ]
     },
     "execution_count": 28,
     "metadata": {},
     "output_type": "execute_result"
    }
   ],
   "source": [
    "# confirm stationarity with quant econ function\n",
    "im_states3.stationary_distributions\n",
    "\n",
    "# stationary distrib. of a Markov chain is a prob. distrib. that remains unchanged in the \n",
    "# Markov chain over time\n",
    "\n",
    "# Markov chain is stationary b/c of existence of stationary distribution & b/c it satisfies \n",
    "# mathematical condition of pi^T = pi^T * P. pi is a row vector with probabilities that sum \n",
    "# to 1"
   ]
  },
  {
   "cell_type": "markdown",
   "metadata": {},
   "source": [
    " - Is this Markov chain time homogeneous?"
   ]
  },
  {
   "cell_type": "code",
   "execution_count": 29,
   "metadata": {},
   "outputs": [],
   "source": [
    "# The Markov chain is homogeneous due to stationarity of transition probabilities. So, the\n",
    "# probability of visiting a future state only depends on present state. The probability \n",
    "# transition matrix does not depend on time. The probability of visiting a future state is\n",
    "# equal given any current state."
   ]
  },
  {
   "cell_type": "code",
   "execution_count": 30,
   "metadata": {
    "colab": {},
    "colab_type": "code",
    "id": "u3t1f87KrHvb"
   },
   "outputs": [],
   "source": [
    "# recurrent states -- including explanation(s)\n",
    "\n",
    "\n"
   ]
  },
  {
   "cell_type": "markdown",
   "metadata": {
    "colab_type": "text",
    "id": "e4poZqrLrHve"
   },
   "source": [
    "### Step 3: Value Iteration (Bellman back-up)\n",
    " - Given optimal actions across a time horizon, considers expected sum of rewards after starting from a specific state\n",
    " - Method of computing an optimal MDP policy and its value\n",
    " - Starts at arbitrary end-point & works backward, refining estimate of V\n",
    " - Output: approximate optimal policy\n",
    " -  S states, A actions, P transition f(x) for P(s'|s,a), R reward f(x) given (s,a,s') and theta, a pre-defined threshold\n",
    "     -  Smaller the threshold, the higher the precision\n",
    "     - Utility values need to converge\n",
    "     - Calculates expected utility of each state using utilities of tneighboring states until utilities calculated on two successive steps are close enough"
   ]
  },
  {
   "cell_type": "code",
   "execution_count": 31,
   "metadata": {
    "colab": {},
    "colab_type": "code",
    "id": "I1wOKI9WxLAv"
   },
   "outputs": [],
   "source": [
    "def value_iteration(P_t,RR,t=600):\n",
    "    \n",
    "  K,N,M = P_t.shape\n",
    "  q = np.zeros((K,N,1),dtype=np.float64)\n",
    "  # print(q)\n",
    "    \n",
    "  #print('The shape of K,N,M is:', K,N,M) \n",
    "  #print('The shape of q is:',q.shape) # creates eleven 11 x 1 arrays\n",
    "    \n",
    "  for i in range(0,N):\n",
    "    for k in range(0,K):\n",
    "        for j in range(0,M):\n",
    "            q[k,i,0] = q[k,i,0] + RR[k,i,j]*P_t[k,i,j]\n",
    "\n",
    "  v = np.zeros((N,t),dtype=np.float64)\n",
    "  d = np.zeros((N,t),dtype=np.float64)\n",
    "    \n",
    "  for n in range(1,t):   \n",
    "      for i in range(0,N):\n",
    "          rhs = np.zeros((1,K),dtype=np.float64)\n",
    "        \n",
    "          for k in range(0,K):\n",
    "              rhs[0][k] = q[k][i][0] + np.matmul(P_t[k,i,:],v[:,n-1]) \n",
    "            \n",
    "          v[i,n] = max(rhs[0])\n",
    "          d[i,n] = np.argmax(rhs[0])\n",
    "  \n",
    "  v = v.T\n",
    "  d = d.T\n",
    "\n",
    "  return v,d"
   ]
  },
  {
   "cell_type": "code",
   "execution_count": 32,
   "metadata": {
    "colab": {
     "base_uri": "https://localhost:8080/",
     "height": 52
    },
    "colab_type": "code",
    "id": "JpPLW-_Oxwa4",
    "outputId": "dcb9406e-b27c-47c9-8b89-6d876ea1167b"
   },
   "outputs": [],
   "source": [
    "v,d=value_iteration(P_t,RR)"
   ]
  },
  {
   "cell_type": "code",
   "execution_count": 33,
   "metadata": {
    "colab": {},
    "colab_type": "code",
    "id": "iSC0gmYBrHvt"
   },
   "outputs": [
    {
     "data": {
      "text/html": [
       "<div>\n",
       "<style scoped>\n",
       "    .dataframe tbody tr th:only-of-type {\n",
       "        vertical-align: middle;\n",
       "    }\n",
       "\n",
       "    .dataframe tbody tr th {\n",
       "        vertical-align: top;\n",
       "    }\n",
       "\n",
       "    .dataframe thead th {\n",
       "        text-align: right;\n",
       "    }\n",
       "</style>\n",
       "<table border=\"1\" class=\"dataframe\">\n",
       "  <thead>\n",
       "    <tr style=\"text-align: right;\">\n",
       "      <th></th>\n",
       "      <th>0</th>\n",
       "      <th>1</th>\n",
       "      <th>2</th>\n",
       "      <th>3</th>\n",
       "      <th>4</th>\n",
       "      <th>5</th>\n",
       "      <th>6</th>\n",
       "      <th>7</th>\n",
       "      <th>8</th>\n",
       "      <th>9</th>\n",
       "      <th>10</th>\n",
       "    </tr>\n",
       "  </thead>\n",
       "  <tbody>\n",
       "    <tr>\n",
       "      <th>0</th>\n",
       "      <td>0.000000</td>\n",
       "      <td>0.000000</td>\n",
       "      <td>0.000000</td>\n",
       "      <td>0.000000</td>\n",
       "      <td>0.000000</td>\n",
       "      <td>0.000000</td>\n",
       "      <td>0.000000</td>\n",
       "      <td>0.000000</td>\n",
       "      <td>0.000000</td>\n",
       "      <td>0.000000</td>\n",
       "      <td>0.000000</td>\n",
       "    </tr>\n",
       "    <tr>\n",
       "      <th>1</th>\n",
       "      <td>9.686000</td>\n",
       "      <td>11.668500</td>\n",
       "      <td>13.610000</td>\n",
       "      <td>15.670000</td>\n",
       "      <td>17.807000</td>\n",
       "      <td>20.613000</td>\n",
       "      <td>22.641000</td>\n",
       "      <td>23.596000</td>\n",
       "      <td>24.330000</td>\n",
       "      <td>24.838000</td>\n",
       "      <td>25.013000</td>\n",
       "    </tr>\n",
       "    <tr>\n",
       "      <th>2</th>\n",
       "      <td>23.793232</td>\n",
       "      <td>25.737111</td>\n",
       "      <td>27.770016</td>\n",
       "      <td>29.770103</td>\n",
       "      <td>31.859107</td>\n",
       "      <td>33.771352</td>\n",
       "      <td>35.664793</td>\n",
       "      <td>37.953083</td>\n",
       "      <td>40.489407</td>\n",
       "      <td>42.821148</td>\n",
       "      <td>44.795596</td>\n",
       "    </tr>\n",
       "    <tr>\n",
       "      <th>3</th>\n",
       "      <td>37.921309</td>\n",
       "      <td>39.842867</td>\n",
       "      <td>41.841606</td>\n",
       "      <td>43.883282</td>\n",
       "      <td>45.754297</td>\n",
       "      <td>47.845954</td>\n",
       "      <td>49.781863</td>\n",
       "      <td>51.939058</td>\n",
       "      <td>54.385092</td>\n",
       "      <td>56.719682</td>\n",
       "      <td>58.895543</td>\n",
       "    </tr>\n",
       "    <tr>\n",
       "      <th>4</th>\n",
       "      <td>51.950341</td>\n",
       "      <td>53.872490</td>\n",
       "      <td>55.871533</td>\n",
       "      <td>57.911607</td>\n",
       "      <td>59.800575</td>\n",
       "      <td>61.875403</td>\n",
       "      <td>63.810821</td>\n",
       "      <td>66.012037</td>\n",
       "      <td>68.443430</td>\n",
       "      <td>70.765574</td>\n",
       "      <td>72.925443</td>\n",
       "    </tr>\n",
       "    <tr>\n",
       "      <th>...</th>\n",
       "      <td>...</td>\n",
       "      <td>...</td>\n",
       "      <td>...</td>\n",
       "      <td>...</td>\n",
       "      <td>...</td>\n",
       "      <td>...</td>\n",
       "      <td>...</td>\n",
       "      <td>...</td>\n",
       "      <td>...</td>\n",
       "      <td>...</td>\n",
       "      <td>...</td>\n",
       "    </tr>\n",
       "    <tr>\n",
       "      <th>595</th>\n",
       "      <td>8348.820344</td>\n",
       "      <td>8350.742518</td>\n",
       "      <td>8352.741561</td>\n",
       "      <td>8354.781634</td>\n",
       "      <td>8356.667370</td>\n",
       "      <td>8358.745331</td>\n",
       "      <td>8360.680853</td>\n",
       "      <td>8362.874802</td>\n",
       "      <td>8365.307749</td>\n",
       "      <td>8367.632431</td>\n",
       "      <td>8369.795421</td>\n",
       "    </tr>\n",
       "    <tr>\n",
       "      <th>596</th>\n",
       "      <td>8362.859039</td>\n",
       "      <td>8364.781213</td>\n",
       "      <td>8366.780255</td>\n",
       "      <td>8368.820328</td>\n",
       "      <td>8370.706064</td>\n",
       "      <td>8372.784025</td>\n",
       "      <td>8374.719547</td>\n",
       "      <td>8376.913496</td>\n",
       "      <td>8379.346444</td>\n",
       "      <td>8381.671125</td>\n",
       "      <td>8383.834115</td>\n",
       "    </tr>\n",
       "    <tr>\n",
       "      <th>597</th>\n",
       "      <td>8376.897733</td>\n",
       "      <td>8378.819907</td>\n",
       "      <td>8380.818949</td>\n",
       "      <td>8382.859023</td>\n",
       "      <td>8384.744759</td>\n",
       "      <td>8386.822720</td>\n",
       "      <td>8388.758241</td>\n",
       "      <td>8390.952190</td>\n",
       "      <td>8393.385138</td>\n",
       "      <td>8395.709820</td>\n",
       "      <td>8397.872809</td>\n",
       "    </tr>\n",
       "    <tr>\n",
       "      <th>598</th>\n",
       "      <td>8390.936427</td>\n",
       "      <td>8392.858601</td>\n",
       "      <td>8394.857643</td>\n",
       "      <td>8396.897717</td>\n",
       "      <td>8398.783453</td>\n",
       "      <td>8400.861414</td>\n",
       "      <td>8402.796936</td>\n",
       "      <td>8404.990884</td>\n",
       "      <td>8407.423832</td>\n",
       "      <td>8409.748514</td>\n",
       "      <td>8411.911503</td>\n",
       "    </tr>\n",
       "    <tr>\n",
       "      <th>599</th>\n",
       "      <td>8404.975122</td>\n",
       "      <td>8406.897295</td>\n",
       "      <td>8408.896338</td>\n",
       "      <td>8410.936411</td>\n",
       "      <td>8412.822147</td>\n",
       "      <td>8414.900108</td>\n",
       "      <td>8416.835630</td>\n",
       "      <td>8419.029579</td>\n",
       "      <td>8421.462526</td>\n",
       "      <td>8423.787208</td>\n",
       "      <td>8425.950198</td>\n",
       "    </tr>\n",
       "  </tbody>\n",
       "</table>\n",
       "<p>600 rows × 11 columns</p>\n",
       "</div>"
      ],
      "text/plain": [
       "               0            1            2            3            4  \\\n",
       "0    0.000000     0.000000     0.000000     0.000000     0.000000      \n",
       "1    9.686000     11.668500    13.610000    15.670000    17.807000     \n",
       "2    23.793232    25.737111    27.770016    29.770103    31.859107     \n",
       "3    37.921309    39.842867    41.841606    43.883282    45.754297     \n",
       "4    51.950341    53.872490    55.871533    57.911607    59.800575     \n",
       "..         ...          ...          ...          ...          ...     \n",
       "595  8348.820344  8350.742518  8352.741561  8354.781634  8356.667370   \n",
       "596  8362.859039  8364.781213  8366.780255  8368.820328  8370.706064   \n",
       "597  8376.897733  8378.819907  8380.818949  8382.859023  8384.744759   \n",
       "598  8390.936427  8392.858601  8394.857643  8396.897717  8398.783453   \n",
       "599  8404.975122  8406.897295  8408.896338  8410.936411  8412.822147   \n",
       "\n",
       "               5            6            7            8            9  \\\n",
       "0    0.000000     0.000000     0.000000     0.000000     0.000000      \n",
       "1    20.613000    22.641000    23.596000    24.330000    24.838000     \n",
       "2    33.771352    35.664793    37.953083    40.489407    42.821148     \n",
       "3    47.845954    49.781863    51.939058    54.385092    56.719682     \n",
       "4    61.875403    63.810821    66.012037    68.443430    70.765574     \n",
       "..         ...          ...          ...          ...          ...     \n",
       "595  8358.745331  8360.680853  8362.874802  8365.307749  8367.632431   \n",
       "596  8372.784025  8374.719547  8376.913496  8379.346444  8381.671125   \n",
       "597  8386.822720  8388.758241  8390.952190  8393.385138  8395.709820   \n",
       "598  8400.861414  8402.796936  8404.990884  8407.423832  8409.748514   \n",
       "599  8414.900108  8416.835630  8419.029579  8421.462526  8423.787208   \n",
       "\n",
       "              10  \n",
       "0    0.000000     \n",
       "1    25.013000    \n",
       "2    44.795596    \n",
       "3    58.895543    \n",
       "4    72.925443    \n",
       "..         ...    \n",
       "595  8369.795421  \n",
       "596  8383.834115  \n",
       "597  8397.872809  \n",
       "598  8411.911503  \n",
       "599  8425.950198  \n",
       "\n",
       "[600 rows x 11 columns]"
      ]
     },
     "execution_count": 33,
     "metadata": {},
     "output_type": "execute_result"
    }
   ],
   "source": [
    "value_df = pd.DataFrame(v)\n",
    "value_df"
   ]
  },
  {
   "cell_type": "code",
   "execution_count": 57,
   "metadata": {
    "colab": {},
    "colab_type": "code",
    "id": "9SvQUyk0rHvw"
   },
   "outputs": [
    {
     "data": {
      "text/html": [
       "<div>\n",
       "<style scoped>\n",
       "    .dataframe tbody tr th:only-of-type {\n",
       "        vertical-align: middle;\n",
       "    }\n",
       "\n",
       "    .dataframe tbody tr th {\n",
       "        vertical-align: top;\n",
       "    }\n",
       "\n",
       "    .dataframe thead th {\n",
       "        text-align: right;\n",
       "    }\n",
       "</style>\n",
       "<table border=\"1\" class=\"dataframe\">\n",
       "  <thead>\n",
       "    <tr style=\"text-align: right;\">\n",
       "      <th></th>\n",
       "      <th>0</th>\n",
       "    </tr>\n",
       "  </thead>\n",
       "  <tbody>\n",
       "    <tr>\n",
       "      <th>0</th>\n",
       "      <td>10.0</td>\n",
       "    </tr>\n",
       "    <tr>\n",
       "      <th>1</th>\n",
       "      <td>8.0</td>\n",
       "    </tr>\n",
       "    <tr>\n",
       "      <th>2</th>\n",
       "      <td>8.0</td>\n",
       "    </tr>\n",
       "    <tr>\n",
       "      <th>3</th>\n",
       "      <td>7.0</td>\n",
       "    </tr>\n",
       "    <tr>\n",
       "      <th>4</th>\n",
       "      <td>6.0</td>\n",
       "    </tr>\n",
       "    <tr>\n",
       "      <th>5</th>\n",
       "      <td>5.0</td>\n",
       "    </tr>\n",
       "    <tr>\n",
       "      <th>6</th>\n",
       "      <td>3.0</td>\n",
       "    </tr>\n",
       "    <tr>\n",
       "      <th>7</th>\n",
       "      <td>0.0</td>\n",
       "    </tr>\n",
       "    <tr>\n",
       "      <th>8</th>\n",
       "      <td>0.0</td>\n",
       "    </tr>\n",
       "    <tr>\n",
       "      <th>9</th>\n",
       "      <td>0.0</td>\n",
       "    </tr>\n",
       "  </tbody>\n",
       "</table>\n",
       "</div>"
      ],
      "text/plain": [
       "      0\n",
       "0  10.0\n",
       "1  8.0 \n",
       "2  8.0 \n",
       "3  7.0 \n",
       "4  6.0 \n",
       "5  5.0 \n",
       "6  3.0 \n",
       "7  0.0 \n",
       "8  0.0 \n",
       "9  0.0 "
      ]
     },
     "execution_count": 57,
     "metadata": {},
     "output_type": "execute_result"
    }
   ],
   "source": [
    "policy_df = pd.DataFrame(d)\n",
    "policy_df.head(10)"
   ]
  },
  {
   "cell_type": "code",
   "execution_count": 58,
   "metadata": {},
   "outputs": [
    {
     "data": {
      "text/html": [
       "<div>\n",
       "<style scoped>\n",
       "    .dataframe tbody tr th:only-of-type {\n",
       "        vertical-align: middle;\n",
       "    }\n",
       "\n",
       "    .dataframe tbody tr th {\n",
       "        vertical-align: top;\n",
       "    }\n",
       "\n",
       "    .dataframe thead th {\n",
       "        text-align: right;\n",
       "    }\n",
       "</style>\n",
       "<table border=\"1\" class=\"dataframe\">\n",
       "  <thead>\n",
       "    <tr style=\"text-align: right;\">\n",
       "      <th></th>\n",
       "      <th>0</th>\n",
       "    </tr>\n",
       "  </thead>\n",
       "  <tbody>\n",
       "    <tr>\n",
       "      <th>1</th>\n",
       "      <td>8.0</td>\n",
       "    </tr>\n",
       "    <tr>\n",
       "      <th>2</th>\n",
       "      <td>8.0</td>\n",
       "    </tr>\n",
       "    <tr>\n",
       "      <th>3</th>\n",
       "      <td>7.0</td>\n",
       "    </tr>\n",
       "    <tr>\n",
       "      <th>4</th>\n",
       "      <td>6.0</td>\n",
       "    </tr>\n",
       "    <tr>\n",
       "      <th>5</th>\n",
       "      <td>5.0</td>\n",
       "    </tr>\n",
       "    <tr>\n",
       "      <th>6</th>\n",
       "      <td>3.0</td>\n",
       "    </tr>\n",
       "    <tr>\n",
       "      <th>7</th>\n",
       "      <td>0.0</td>\n",
       "    </tr>\n",
       "    <tr>\n",
       "      <th>8</th>\n",
       "      <td>0.0</td>\n",
       "    </tr>\n",
       "    <tr>\n",
       "      <th>9</th>\n",
       "      <td>0.0</td>\n",
       "    </tr>\n",
       "    <tr>\n",
       "      <th>10</th>\n",
       "      <td>0.0</td>\n",
       "    </tr>\n",
       "  </tbody>\n",
       "</table>\n",
       "</div>"
      ],
      "text/plain": [
       "      0\n",
       "1   8.0\n",
       "2   8.0\n",
       "3   7.0\n",
       "4   6.0\n",
       "5   5.0\n",
       "6   3.0\n",
       "7   0.0\n",
       "8   0.0\n",
       "9   0.0\n",
       "10  0.0"
      ]
     },
     "execution_count": 58,
     "metadata": {},
     "output_type": "execute_result"
    }
   ],
   "source": [
    "policy_df.tail(10)"
   ]
  },
  {
   "cell_type": "markdown",
   "metadata": {},
   "source": [
    "#### Adjusting inventory cost "
   ]
  },
  {
   "cell_type": "code",
   "execution_count": 35,
   "metadata": {
    "scrolled": false
   },
   "outputs": [
    {
     "data": {
      "image/png": "[encoded data removed]",
      "text/plain": [
       "<Figure size 432x288 with 1 Axes>"
      ]
     },
     "metadata": {
      "needs_background": "light"
     },
     "output_type": "display_data"
    }
   ],
   "source": [
    "optimal_policy_list_h = []\n",
    "for h in np.arange(0, 2.5, 0.5):\n",
    "    env = InventoryEnv(h=h)\n",
    "    P_t,RR,demand_list = transition_prob(env)\n",
    "    v,d=value_iteration(P_t,RR)\n",
    "    optimal_policy_list_h.append(d[-1,:])\n",
    "    plt.plot(range(N), d[-1,:], label='h='+str(h), lw = 2.5)\n",
    "plt.legend()\n",
    "plt.rcParams[\"figure.figsize\"] = (10,8)\n",
    "plt.title('Optimal Policy for each State with Varying Inventory Cost')\n",
    "plt.xlabel('State')\n",
    "plt.ylabel('Optimal Policy')\n",
    "plt.show()"
   ]
  },
  {
   "cell_type": "markdown",
   "metadata": {},
   "source": [
    "#### Adjusting fixed order price"
   ]
  },
  {
   "cell_type": "code",
   "execution_count": 36,
   "metadata": {
    "scrolled": false
   },
   "outputs": [
    {
     "data": {
      "image/png": "[encoded data removed]",
      "text/plain": [
       "<Figure size 720x576 with 1 Axes>"
      ]
     },
     "metadata": {
      "needs_background": "light"
     },
     "output_type": "display_data"
    }
   ],
   "source": [
    "optimal_policy_list_k = []\n",
    "for k in np.arange(0, 5, 1):\n",
    "    env = InventoryEnv(k=k)\n",
    "    P_t,RR,demand_list = transition_prob(env)\n",
    "    v,d=value_iteration(P_t,RR)\n",
    "    optimal_policy_list_k.append(d[-1,:])\n",
    "    plt.plot(range(N), d[-1,:], label='k='+str(k), lw = 2.5)\n",
    "plt.legend()\n",
    "plt.rcParams[\"figure.figsize\"] = (10,8)\n",
    "plt.title('Optimal Policy for each State with Varying Fixed Order Price')\n",
    "plt.xlabel('State')\n",
    "plt.ylabel('Optimal Policy')\n",
    "plt.show()"
   ]
  },
  {
   "cell_type": "markdown",
   "metadata": {},
   "source": [
    "#### Adjusting demand distribution"
   ]
  },
  {
   "cell_type": "code",
   "execution_count": 37,
   "metadata": {},
   "outputs": [
    {
     "data": {
      "image/png": "[encoded data removed]",
      "text/plain": [
       "<Figure size 720x576 with 1 Axes>"
      ]
     },
     "metadata": {
      "needs_background": "light"
     },
     "output_type": "display_data"
    }
   ],
   "source": [
    "optimal_policy_list_lam = []\n",
    "for lam in np.arange(2, 7, 1):\n",
    "    env = InventoryEnv(lam=lam)\n",
    "    P_t,RR,demand_list = transition_prob(env)\n",
    "    v,d=value_iteration(P_t,RR)\n",
    "    optimal_policy_list_lam.append(d[-1,:])\n",
    "    plt.plot(range(N), d[-1,:], label='lambda='+str(lam), lw = 2.5)\n",
    "plt.legend()\n",
    "plt.rcParams[\"figure.figsize\"] = (10,8)\n",
    "plt.title('Optimal Policy for each State with Different Demand Distribution Parameter')\n",
    "plt.xlabel('State')\n",
    "plt.ylabel('Optimal Policy')\n",
    "plt.show()"
   ]
  },
  {
   "cell_type": "markdown",
   "metadata": {},
   "source": [
    "#### Adjusting item purchase cost"
   ]
  },
  {
   "cell_type": "code",
   "execution_count": 38,
   "metadata": {},
   "outputs": [
    {
     "data": {
      "image/png": "[encoded data removed]",
      "text/plain": [
       "<Figure size 720x576 with 1 Axes>"
      ]
     },
     "metadata": {
      "needs_background": "light"
     },
     "output_type": "display_data"
    }
   ],
   "source": [
    "optimal_policy_list_c = []\n",
    "for c in np.arange(0, 6, 1):\n",
    "    env = InventoryEnv(c=c)\n",
    "    P_t,RR,demand_list = transition_prob(env)\n",
    "    v,d=value_iteration(P_t,RR)\n",
    "    optimal_policy_list_c.append(d[-1,:])\n",
    "    plt.plot(range(N), d[-1,:], label='c='+str(c), lw = 2.5)\n",
    "plt.legend()\n",
    "plt.rcParams[\"figure.figsize\"] = (10,8)\n",
    "plt.title('Optimal Policy for each State with Varying Purchase Cost')\n",
    "plt.xlabel('State')\n",
    "plt.ylabel('Optimal Policy')\n",
    "plt.show()"
   ]
  },
  {
   "cell_type": "markdown",
   "metadata": {
    "colab_type": "text",
    "id": "vvzHgFalrHv7"
   },
   "source": [
    "### Step 4: Value Iteration by Simulation"
   ]
  },
  {
   "cell_type": "code",
   "execution_count": 39,
   "metadata": {
    "colab": {
     "base_uri": "https://localhost:8080/",
     "height": 35
    },
    "colab_type": "code",
    "id": "inSeKFuB0S3D",
    "outputId": "b0440917-b51a-4f5f-c3ad-0a95fc322d0e"
   },
   "outputs": [
    {
     "data": {
      "text/plain": [
       "(11, 11)"
      ]
     },
     "execution_count": 39,
     "metadata": {},
     "output_type": "execute_result"
    }
   ],
   "source": [
    "a = P_t.sum(axis=1)\n",
    "a.shape"
   ]
  },
  {
   "cell_type": "code",
   "execution_count": 40,
   "metadata": {},
   "outputs": [
    {
     "data": {
      "text/html": [
       "<div>\n",
       "<style scoped>\n",
       "    .dataframe tbody tr th:only-of-type {\n",
       "        vertical-align: middle;\n",
       "    }\n",
       "\n",
       "    .dataframe tbody tr th {\n",
       "        vertical-align: top;\n",
       "    }\n",
       "\n",
       "    .dataframe thead th {\n",
       "        text-align: right;\n",
       "    }\n",
       "</style>\n",
       "<table border=\"1\" class=\"dataframe\">\n",
       "  <thead>\n",
       "    <tr style=\"text-align: right;\">\n",
       "      <th></th>\n",
       "      <th>0</th>\n",
       "      <th>1</th>\n",
       "      <th>2</th>\n",
       "      <th>3</th>\n",
       "      <th>4</th>\n",
       "      <th>5</th>\n",
       "      <th>6</th>\n",
       "      <th>7</th>\n",
       "      <th>8</th>\n",
       "      <th>9</th>\n",
       "      <th>10</th>\n",
       "    </tr>\n",
       "  </thead>\n",
       "  <tbody>\n",
       "    <tr>\n",
       "      <th>0</th>\n",
       "      <td>5.9886</td>\n",
       "      <td>0.9682</td>\n",
       "      <td>0.9347</td>\n",
       "      <td>0.8548</td>\n",
       "      <td>0.7557</td>\n",
       "      <td>0.6150</td>\n",
       "      <td>0.4450</td>\n",
       "      <td>0.2663</td>\n",
       "      <td>0.1217</td>\n",
       "      <td>0.0423</td>\n",
       "      <td>0.0077</td>\n",
       "    </tr>\n",
       "    <tr>\n",
       "      <th>1</th>\n",
       "      <td>5.0124</td>\n",
       "      <td>1.0210</td>\n",
       "      <td>0.9930</td>\n",
       "      <td>0.9682</td>\n",
       "      <td>0.9075</td>\n",
       "      <td>0.7836</td>\n",
       "      <td>0.6171</td>\n",
       "      <td>0.3963</td>\n",
       "      <td>0.2169</td>\n",
       "      <td>0.0742</td>\n",
       "      <td>0.0098</td>\n",
       "    </tr>\n",
       "    <tr>\n",
       "      <th>2</th>\n",
       "      <td>4.0665</td>\n",
       "      <td>1.0322</td>\n",
       "      <td>1.0662</td>\n",
       "      <td>1.0601</td>\n",
       "      <td>1.0477</td>\n",
       "      <td>0.9741</td>\n",
       "      <td>0.7841</td>\n",
       "      <td>0.5484</td>\n",
       "      <td>0.2944</td>\n",
       "      <td>0.1048</td>\n",
       "      <td>0.0215</td>\n",
       "    </tr>\n",
       "    <tr>\n",
       "      <th>3</th>\n",
       "      <td>3.1249</td>\n",
       "      <td>1.0190</td>\n",
       "      <td>1.1361</td>\n",
       "      <td>1.1790</td>\n",
       "      <td>1.2054</td>\n",
       "      <td>1.1371</td>\n",
       "      <td>0.9765</td>\n",
       "      <td>0.6819</td>\n",
       "      <td>0.3739</td>\n",
       "      <td>0.1415</td>\n",
       "      <td>0.0247</td>\n",
       "    </tr>\n",
       "    <tr>\n",
       "      <th>4</th>\n",
       "      <td>2.2777</td>\n",
       "      <td>0.9912</td>\n",
       "      <td>1.1442</td>\n",
       "      <td>1.2781</td>\n",
       "      <td>1.3474</td>\n",
       "      <td>1.3157</td>\n",
       "      <td>1.1455</td>\n",
       "      <td>0.8387</td>\n",
       "      <td>0.4524</td>\n",
       "      <td>0.1758</td>\n",
       "      <td>0.0333</td>\n",
       "    </tr>\n",
       "    <tr>\n",
       "      <th>5</th>\n",
       "      <td>1.5791</td>\n",
       "      <td>0.8918</td>\n",
       "      <td>1.1259</td>\n",
       "      <td>1.3565</td>\n",
       "      <td>1.4922</td>\n",
       "      <td>1.4783</td>\n",
       "      <td>1.3072</td>\n",
       "      <td>0.9742</td>\n",
       "      <td>0.5499</td>\n",
       "      <td>0.2069</td>\n",
       "      <td>0.0380</td>\n",
       "    </tr>\n",
       "    <tr>\n",
       "      <th>6</th>\n",
       "      <td>1.0519</td>\n",
       "      <td>0.7462</td>\n",
       "      <td>1.0635</td>\n",
       "      <td>1.3754</td>\n",
       "      <td>1.5908</td>\n",
       "      <td>1.6612</td>\n",
       "      <td>1.4962</td>\n",
       "      <td>1.0959</td>\n",
       "      <td>0.6318</td>\n",
       "      <td>0.2399</td>\n",
       "      <td>0.0472</td>\n",
       "    </tr>\n",
       "    <tr>\n",
       "      <th>7</th>\n",
       "      <td>0.6908</td>\n",
       "      <td>0.5997</td>\n",
       "      <td>0.9485</td>\n",
       "      <td>1.3413</td>\n",
       "      <td>1.6671</td>\n",
       "      <td>1.8035</td>\n",
       "      <td>1.6548</td>\n",
       "      <td>1.2586</td>\n",
       "      <td>0.7076</td>\n",
       "      <td>0.2741</td>\n",
       "      <td>0.0540</td>\n",
       "    </tr>\n",
       "    <tr>\n",
       "      <th>8</th>\n",
       "      <td>0.4852</td>\n",
       "      <td>0.4956</td>\n",
       "      <td>0.8252</td>\n",
       "      <td>1.2488</td>\n",
       "      <td>1.6676</td>\n",
       "      <td>1.8960</td>\n",
       "      <td>1.8233</td>\n",
       "      <td>1.3864</td>\n",
       "      <td>0.7968</td>\n",
       "      <td>0.3133</td>\n",
       "      <td>0.0618</td>\n",
       "    </tr>\n",
       "    <tr>\n",
       "      <th>9</th>\n",
       "      <td>0.3775</td>\n",
       "      <td>0.4294</td>\n",
       "      <td>0.7523</td>\n",
       "      <td>1.1754</td>\n",
       "      <td>1.6497</td>\n",
       "      <td>1.9233</td>\n",
       "      <td>1.9144</td>\n",
       "      <td>1.4837</td>\n",
       "      <td>0.8846</td>\n",
       "      <td>0.3448</td>\n",
       "      <td>0.0649</td>\n",
       "    </tr>\n",
       "    <tr>\n",
       "      <th>10</th>\n",
       "      <td>0.3484</td>\n",
       "      <td>0.3870</td>\n",
       "      <td>0.7188</td>\n",
       "      <td>1.1330</td>\n",
       "      <td>1.5978</td>\n",
       "      <td>1.9414</td>\n",
       "      <td>1.9404</td>\n",
       "      <td>1.5531</td>\n",
       "      <td>0.9342</td>\n",
       "      <td>0.3732</td>\n",
       "      <td>0.0727</td>\n",
       "    </tr>\n",
       "  </tbody>\n",
       "</table>\n",
       "</div>"
      ],
      "text/plain": [
       "         0       1       2       3       4       5       6       7       8  \\\n",
       "0   5.9886  0.9682  0.9347  0.8548  0.7557  0.6150  0.4450  0.2663  0.1217   \n",
       "1   5.0124  1.0210  0.9930  0.9682  0.9075  0.7836  0.6171  0.3963  0.2169   \n",
       "2   4.0665  1.0322  1.0662  1.0601  1.0477  0.9741  0.7841  0.5484  0.2944   \n",
       "3   3.1249  1.0190  1.1361  1.1790  1.2054  1.1371  0.9765  0.6819  0.3739   \n",
       "4   2.2777  0.9912  1.1442  1.2781  1.3474  1.3157  1.1455  0.8387  0.4524   \n",
       "5   1.5791  0.8918  1.1259  1.3565  1.4922  1.4783  1.3072  0.9742  0.5499   \n",
       "6   1.0519  0.7462  1.0635  1.3754  1.5908  1.6612  1.4962  1.0959  0.6318   \n",
       "7   0.6908  0.5997  0.9485  1.3413  1.6671  1.8035  1.6548  1.2586  0.7076   \n",
       "8   0.4852  0.4956  0.8252  1.2488  1.6676  1.8960  1.8233  1.3864  0.7968   \n",
       "9   0.3775  0.4294  0.7523  1.1754  1.6497  1.9233  1.9144  1.4837  0.8846   \n",
       "10  0.3484  0.3870  0.7188  1.1330  1.5978  1.9414  1.9404  1.5531  0.9342   \n",
       "\n",
       "         9      10  \n",
       "0   0.0423  0.0077  \n",
       "1   0.0742  0.0098  \n",
       "2   0.1048  0.0215  \n",
       "3   0.1415  0.0247  \n",
       "4   0.1758  0.0333  \n",
       "5   0.2069  0.0380  \n",
       "6   0.2399  0.0472  \n",
       "7   0.2741  0.0540  \n",
       "8   0.3133  0.0618  \n",
       "9   0.3448  0.0649  \n",
       "10  0.3732  0.0727  "
      ]
     },
     "execution_count": 40,
     "metadata": {},
     "output_type": "execute_result"
    }
   ],
   "source": [
    "pd.DataFrame(a)"
   ]
  },
  {
   "cell_type": "code",
   "execution_count": 41,
   "metadata": {},
   "outputs": [
    {
     "data": {
      "text/plain": [
       "array([11., 11., 11., 11., 11., 11., 11., 11., 11., 11., 11.])"
      ]
     },
     "execution_count": 41,
     "metadata": {},
     "output_type": "execute_result"
    }
   ],
   "source": [
    "a.sum(axis=1)"
   ]
  },
  {
   "cell_type": "code",
   "execution_count": 42,
   "metadata": {
    "colab": {},
    "colab_type": "code",
    "id": "4yyC4sH41Cmr"
   },
   "outputs": [],
   "source": [
    "np.set_printoptions(precision=15)"
   ]
  },
  {
   "cell_type": "code",
   "execution_count": 43,
   "metadata": {
    "colab": {
     "base_uri": "https://localhost:8080/",
     "height": 408
    },
    "colab_type": "code",
    "id": "EHjwr-pr00oH",
    "outputId": "66387c9c-92ec-445a-8389-1855ae5286fc"
   },
   "outputs": [
    {
     "data": {
      "text/plain": [
       "array([[0.0662, 0.0668, 0.109 , 0.146 , 0.1761, 0.1665, 0.1438, 0.084 ,\n",
       "        0.0362, 0.0054, 0.    ],\n",
       "       [0.0316, 0.0336, 0.0628, 0.1025, 0.1488, 0.177 , 0.1812, 0.1401,\n",
       "        0.0849, 0.032 , 0.0055],\n",
       "       [0.0319, 0.036 , 0.0637, 0.0985, 0.1507, 0.1789, 0.1739, 0.1408,\n",
       "        0.0873, 0.0316, 0.0067],\n",
       "       [0.0318, 0.036 , 0.0704, 0.0994, 0.1425, 0.1756, 0.173 , 0.1454,\n",
       "        0.0844, 0.0334, 0.0081],\n",
       "       [0.033 , 0.0352, 0.0636, 0.102 , 0.1535, 0.1754, 0.1789, 0.1369,\n",
       "        0.0816, 0.0336, 0.0063],\n",
       "       [0.0316, 0.0381, 0.0606, 0.1027, 0.1404, 0.1782, 0.1836, 0.136 ,\n",
       "        0.0867, 0.0358, 0.0063],\n",
       "       [0.0317, 0.0389, 0.0617, 0.103 , 0.1469, 0.1754, 0.1839, 0.1418,\n",
       "        0.078 , 0.0318, 0.0069],\n",
       "       [0.0301, 0.0358, 0.0669, 0.1029, 0.1443, 0.1722, 0.1748, 0.1391,\n",
       "        0.0905, 0.0371, 0.0063],\n",
       "       [0.0271, 0.0349, 0.0636, 0.105 , 0.1487, 0.1726, 0.1737, 0.1464,\n",
       "        0.0862, 0.0355, 0.0063],\n",
       "       [0.0323, 0.0363, 0.067 , 0.1078, 0.1505, 0.1742, 0.1704, 0.1373,\n",
       "        0.0844, 0.0343, 0.0055],\n",
       "       [0.0302, 0.0378, 0.063 , 0.1056, 0.1473, 0.1773, 0.1772, 0.1359,\n",
       "        0.0844, 0.0343, 0.007 ]])"
      ]
     },
     "execution_count": 43,
     "metadata": {},
     "output_type": "execute_result"
    }
   ],
   "source": [
    "P_t[9,:,:]"
   ]
  },
  {
   "cell_type": "code",
   "execution_count": 44,
   "metadata": {
    "colab": {},
    "colab_type": "code",
    "id": "nGPnYOHJx76a"
   },
   "outputs": [],
   "source": [
    "#T= number of episodes \n",
    "# maximum number of transitions (=maximum number of simulations -1)\n",
    "\n",
    "\n",
    "def val_iter_sim(P_mat,RR,T=1000,Tmax=1000):\n",
    "  K,N,M = P_t.shape\n",
    "  # compute the expected reward (immediate)\n",
    "  q = np.zeros((K,N,1),dtype=np.float64)\n",
    "\n",
    "  for i in range(0,N):\n",
    "      for k in range(0,K):\n",
    "          for j in range(0,M):\n",
    "              q[k,i,0] = q[k,i,0] + RR[k,i,j]*P_t[k,i,j]\n",
    "\n",
    "\n",
    "  v = np.zeros((N,T+1),dtype=np.float64)\n",
    "  d = np.zeros((N,T+1),dtype=np.int)\n",
    "  visits = np.zeros((N,1),dtype=np.int)\n",
    "\n",
    "\n",
    "\n",
    "  for n in range(1,T):\n",
    "      t = 1\n",
    "      y0 = N-1\n",
    "      while (t<=Tmax+1):\n",
    "          visits[y0]+=1\n",
    "          for i in range(0,N):\n",
    "              if i==y0:\n",
    "                  rhs = np.zeros((1,K),dtype=np.float64)\n",
    "                  for k in range(0,K):\n",
    "                      rhs[0][k] = q[k][i][0] + np.matmul(P_t[k,i,:],v[:,n-1]) \n",
    "                  v[i,n] = max(rhs[0])\n",
    "                  if np.random.uniform(0,1,1)>=0.1:\n",
    "                      d[i,n] = np.argmax(rhs[0])\n",
    "                  else:\n",
    "                      d[i,n] = np.random.choice(range(0,K))\n",
    "          y1 = np.random.choice(range(0,N),p=P_t[d[y0,n],y0,:])\n",
    "          y0 = y1\n",
    "          t = t+1\n",
    "      v[:,n+1] = v[:,n]\n",
    "      d[:,n+1] = d[:,n]\n",
    "      \n",
    "  v = v.T\n",
    "  d = d.T\n",
    "  return v,d, visits"
   ]
  },
  {
   "cell_type": "code",
   "execution_count": 45,
   "metadata": {},
   "outputs": [],
   "source": [
    "env = InventoryEnv()\n",
    "P_t,RR,demand_list = transition_prob(env)"
   ]
  },
  {
   "cell_type": "code",
   "execution_count": 46,
   "metadata": {
    "colab": {
     "base_uri": "https://localhost:8080/",
     "height": 292
    },
    "colab_type": "code",
    "id": "NR6TTT-Oywkr",
    "outputId": "d57196c0-b263-476d-96ba-ad26c67ccf60"
   },
   "outputs": [
    {
     "name": "stdout",
     "output_type": "stream",
     "text": [
      "CPU times: user 1min 16s, sys: 921 ms, total: 1min 17s\n",
      "Wall time: 1min 18s\n"
     ]
    }
   ],
   "source": [
    "%%time\n",
    "\n",
    "v,d,visits=val_iter_sim(P_t,RR)"
   ]
  },
  {
   "cell_type": "code",
   "execution_count": 47,
   "metadata": {
    "colab": {},
    "colab_type": "code",
    "id": "1fxvJ5eCrHv_",
    "outputId": "a9d87ce5-fa00-4d63-ea6a-30046a3b7296",
    "scrolled": true
   },
   "outputs": [
    {
     "data": {
      "text/html": [
       "<div>\n",
       "<style scoped>\n",
       "    .dataframe tbody tr th:only-of-type {\n",
       "        vertical-align: middle;\n",
       "    }\n",
       "\n",
       "    .dataframe tbody tr th {\n",
       "        vertical-align: top;\n",
       "    }\n",
       "\n",
       "    .dataframe thead th {\n",
       "        text-align: right;\n",
       "    }\n",
       "</style>\n",
       "<table border=\"1\" class=\"dataframe\">\n",
       "  <thead>\n",
       "    <tr style=\"text-align: right;\">\n",
       "      <th></th>\n",
       "      <th>0</th>\n",
       "      <th>1</th>\n",
       "      <th>2</th>\n",
       "      <th>3</th>\n",
       "      <th>4</th>\n",
       "      <th>5</th>\n",
       "      <th>6</th>\n",
       "      <th>7</th>\n",
       "      <th>8</th>\n",
       "      <th>9</th>\n",
       "      <th>10</th>\n",
       "    </tr>\n",
       "  </thead>\n",
       "  <tbody>\n",
       "    <tr>\n",
       "      <th>0</th>\n",
       "      <td>0</td>\n",
       "      <td>0</td>\n",
       "      <td>0</td>\n",
       "      <td>0</td>\n",
       "      <td>0</td>\n",
       "      <td>0</td>\n",
       "      <td>0</td>\n",
       "      <td>0</td>\n",
       "      <td>0</td>\n",
       "      <td>0</td>\n",
       "      <td>0</td>\n",
       "    </tr>\n",
       "    <tr>\n",
       "      <th>1</th>\n",
       "      <td>5</td>\n",
       "      <td>5</td>\n",
       "      <td>3</td>\n",
       "      <td>2</td>\n",
       "      <td>0</td>\n",
       "      <td>0</td>\n",
       "      <td>0</td>\n",
       "      <td>0</td>\n",
       "      <td>0</td>\n",
       "      <td>0</td>\n",
       "      <td>0</td>\n",
       "    </tr>\n",
       "    <tr>\n",
       "      <th>2</th>\n",
       "      <td>8</td>\n",
       "      <td>7</td>\n",
       "      <td>6</td>\n",
       "      <td>5</td>\n",
       "      <td>7</td>\n",
       "      <td>3</td>\n",
       "      <td>2</td>\n",
       "      <td>7</td>\n",
       "      <td>0</td>\n",
       "      <td>0</td>\n",
       "      <td>0</td>\n",
       "    </tr>\n",
       "    <tr>\n",
       "      <th>3</th>\n",
       "      <td>9</td>\n",
       "      <td>9</td>\n",
       "      <td>8</td>\n",
       "      <td>4</td>\n",
       "      <td>6</td>\n",
       "      <td>5</td>\n",
       "      <td>4</td>\n",
       "      <td>4</td>\n",
       "      <td>0</td>\n",
       "      <td>0</td>\n",
       "      <td>0</td>\n",
       "    </tr>\n",
       "    <tr>\n",
       "      <th>4</th>\n",
       "      <td>9</td>\n",
       "      <td>9</td>\n",
       "      <td>8</td>\n",
       "      <td>7</td>\n",
       "      <td>6</td>\n",
       "      <td>5</td>\n",
       "      <td>4</td>\n",
       "      <td>0</td>\n",
       "      <td>0</td>\n",
       "      <td>0</td>\n",
       "      <td>0</td>\n",
       "    </tr>\n",
       "    <tr>\n",
       "      <th>...</th>\n",
       "      <td>...</td>\n",
       "      <td>...</td>\n",
       "      <td>...</td>\n",
       "      <td>...</td>\n",
       "      <td>...</td>\n",
       "      <td>...</td>\n",
       "      <td>...</td>\n",
       "      <td>...</td>\n",
       "      <td>...</td>\n",
       "      <td>...</td>\n",
       "      <td>...</td>\n",
       "    </tr>\n",
       "    <tr>\n",
       "      <th>996</th>\n",
       "      <td>9</td>\n",
       "      <td>9</td>\n",
       "      <td>8</td>\n",
       "      <td>7</td>\n",
       "      <td>2</td>\n",
       "      <td>1</td>\n",
       "      <td>4</td>\n",
       "      <td>0</td>\n",
       "      <td>0</td>\n",
       "      <td>0</td>\n",
       "      <td>0</td>\n",
       "    </tr>\n",
       "    <tr>\n",
       "      <th>997</th>\n",
       "      <td>9</td>\n",
       "      <td>9</td>\n",
       "      <td>8</td>\n",
       "      <td>7</td>\n",
       "      <td>6</td>\n",
       "      <td>5</td>\n",
       "      <td>4</td>\n",
       "      <td>0</td>\n",
       "      <td>0</td>\n",
       "      <td>0</td>\n",
       "      <td>0</td>\n",
       "    </tr>\n",
       "    <tr>\n",
       "      <th>998</th>\n",
       "      <td>9</td>\n",
       "      <td>9</td>\n",
       "      <td>8</td>\n",
       "      <td>7</td>\n",
       "      <td>6</td>\n",
       "      <td>5</td>\n",
       "      <td>4</td>\n",
       "      <td>0</td>\n",
       "      <td>0</td>\n",
       "      <td>0</td>\n",
       "      <td>0</td>\n",
       "    </tr>\n",
       "    <tr>\n",
       "      <th>999</th>\n",
       "      <td>9</td>\n",
       "      <td>9</td>\n",
       "      <td>8</td>\n",
       "      <td>7</td>\n",
       "      <td>6</td>\n",
       "      <td>5</td>\n",
       "      <td>4</td>\n",
       "      <td>0</td>\n",
       "      <td>0</td>\n",
       "      <td>0</td>\n",
       "      <td>0</td>\n",
       "    </tr>\n",
       "    <tr>\n",
       "      <th>1000</th>\n",
       "      <td>9</td>\n",
       "      <td>9</td>\n",
       "      <td>8</td>\n",
       "      <td>7</td>\n",
       "      <td>6</td>\n",
       "      <td>5</td>\n",
       "      <td>4</td>\n",
       "      <td>0</td>\n",
       "      <td>0</td>\n",
       "      <td>0</td>\n",
       "      <td>0</td>\n",
       "    </tr>\n",
       "  </tbody>\n",
       "</table>\n",
       "<p>1001 rows × 11 columns</p>\n",
       "</div>"
      ],
      "text/plain": [
       "      0  1  2  3  4  5  6  7  8  9  10\n",
       "0     0  0  0  0  0  0  0  0  0  0  0 \n",
       "1     5  5  3  2  0  0  0  0  0  0  0 \n",
       "2     8  7  6  5  7  3  2  7  0  0  0 \n",
       "3     9  9  8  4  6  5  4  4  0  0  0 \n",
       "4     9  9  8  7  6  5  4  0  0  0  0 \n",
       "...  .. .. .. .. .. .. .. .. .. .. .. \n",
       "996   9  9  8  7  2  1  4  0  0  0  0 \n",
       "997   9  9  8  7  6  5  4  0  0  0  0 \n",
       "998   9  9  8  7  6  5  4  0  0  0  0 \n",
       "999   9  9  8  7  6  5  4  0  0  0  0 \n",
       "1000  9  9  8  7  6  5  4  0  0  0  0 \n",
       "\n",
       "[1001 rows x 11 columns]"
      ]
     },
     "execution_count": 47,
     "metadata": {},
     "output_type": "execute_result"
    }
   ],
   "source": [
    "pd.DataFrame(d)"
   ]
  },
  {
   "cell_type": "markdown",
   "metadata": {
    "colab_type": "text",
    "id": "a7e0uM0U5xEq"
   },
   "source": [
    "### Step 5: Q Learning (model-based)\n",
    " - Using the probability matrix"
   ]
  },
  {
   "cell_type": "code",
   "execution_count": 48,
   "metadata": {},
   "outputs": [],
   "source": [
    "# T number of episodes\n",
    "# Tmax = 1000\n",
    "# gamma = 0.1\n",
    "\n",
    "T=50000\n",
    "Tmax=10000\n",
    "gamma=0.05\n",
    "\n",
    "def Q_learn_pmat(P_t,RR,T=5000,Tmax=1000,gamma=0.1,discount_rate=0.95):\n",
    "  K,N,M = P_t.shape\n",
    "  v = np.zeros((N,T+1),dtype=np.float64) #value\n",
    "  d = np.zeros((N,T+1),dtype=np.int) #policy\n",
    "  visits = np.zeros((N,K),dtype=np.int)\n",
    "\n",
    "  Q = np.zeros((N,K),dtype=np.float64)\n",
    "\n",
    "  # maximum number of transitions (=maximum number of simulations -1)\n",
    "\n",
    "  for num_ep in range(1,T):\n",
    "      t = 1\n",
    "      y0 = np.random.choice(range(0,N))\n",
    "      d0 = np.random.choice(range(0,K))\n",
    "      while (t<=Tmax+1):\n",
    "          visits[y0,d0]+=1\n",
    "          y1 = np.random.choice(range(0,N),p=P_t[d0,y0,:])\n",
    "          Q[y0,d0] = (1-gamma)*Q[y0,d0] + gamma*(RR[d0,y0,y1] + discount_rate * max(Q[y1,:]))\n",
    "          y0 = y1\n",
    "          if np.random.uniform(0,1,1)>=0.2:\n",
    "              d0 = np.argmax(Q[y1,:]) #greedy\n",
    "          else:\n",
    "              d0 = np.random.choice(range(0,K)) #explore\n",
    "          t = t+1\n",
    "\n",
    "\n",
    "  J = np.zeros((N,1),dtype=np.float64)\n",
    "  d = np.zeros((N,1),dtype=np.float64)\n",
    "  for j in range(0,N):\n",
    "      J[j,0] = max(Q[j,:])\n",
    "      d[j,0] = np.argmax(Q[j,:])\n",
    "  return J,d,visits,Q"
   ]
  },
  {
   "cell_type": "code",
   "execution_count": 49,
   "metadata": {},
   "outputs": [],
   "source": [
    "J,d,visits,Q=Q_learn_pmat(P_t,RR)"
   ]
  },
  {
   "cell_type": "code",
   "execution_count": 50,
   "metadata": {},
   "outputs": [
    {
     "data": {
      "text/html": [
       "<div>\n",
       "<style scoped>\n",
       "    .dataframe tbody tr th:only-of-type {\n",
       "        vertical-align: middle;\n",
       "    }\n",
       "\n",
       "    .dataframe tbody tr th {\n",
       "        vertical-align: top;\n",
       "    }\n",
       "\n",
       "    .dataframe thead th {\n",
       "        text-align: right;\n",
       "    }\n",
       "</style>\n",
       "<table border=\"1\" class=\"dataframe\">\n",
       "  <thead>\n",
       "    <tr style=\"text-align: right;\">\n",
       "      <th></th>\n",
       "      <th>0</th>\n",
       "    </tr>\n",
       "  </thead>\n",
       "  <tbody>\n",
       "    <tr>\n",
       "      <th>0</th>\n",
       "      <td>9.0</td>\n",
       "    </tr>\n",
       "    <tr>\n",
       "      <th>1</th>\n",
       "      <td>7.0</td>\n",
       "    </tr>\n",
       "    <tr>\n",
       "      <th>2</th>\n",
       "      <td>7.0</td>\n",
       "    </tr>\n",
       "    <tr>\n",
       "      <th>3</th>\n",
       "      <td>5.0</td>\n",
       "    </tr>\n",
       "    <tr>\n",
       "      <th>4</th>\n",
       "      <td>5.0</td>\n",
       "    </tr>\n",
       "    <tr>\n",
       "      <th>5</th>\n",
       "      <td>3.0</td>\n",
       "    </tr>\n",
       "    <tr>\n",
       "      <th>6</th>\n",
       "      <td>0.0</td>\n",
       "    </tr>\n",
       "    <tr>\n",
       "      <th>7</th>\n",
       "      <td>3.0</td>\n",
       "    </tr>\n",
       "    <tr>\n",
       "      <th>8</th>\n",
       "      <td>0.0</td>\n",
       "    </tr>\n",
       "    <tr>\n",
       "      <th>9</th>\n",
       "      <td>0.0</td>\n",
       "    </tr>\n",
       "    <tr>\n",
       "      <th>10</th>\n",
       "      <td>0.0</td>\n",
       "    </tr>\n",
       "  </tbody>\n",
       "</table>\n",
       "</div>"
      ],
      "text/plain": [
       "      0\n",
       "0   9.0\n",
       "1   7.0\n",
       "2   7.0\n",
       "3   5.0\n",
       "4   5.0\n",
       "5   3.0\n",
       "6   0.0\n",
       "7   3.0\n",
       "8   0.0\n",
       "9   0.0\n",
       "10  0.0"
      ]
     },
     "execution_count": 50,
     "metadata": {},
     "output_type": "execute_result"
    }
   ],
   "source": [
    "policy_df = pd.DataFrame(d)\n",
    "\n",
    "policy_df"
   ]
  },
  {
   "cell_type": "code",
   "execution_count": 51,
   "metadata": {},
   "outputs": [
    {
     "data": {
      "text/html": [
       "<div>\n",
       "<style scoped>\n",
       "    .dataframe tbody tr th:only-of-type {\n",
       "        vertical-align: middle;\n",
       "    }\n",
       "\n",
       "    .dataframe tbody tr th {\n",
       "        vertical-align: top;\n",
       "    }\n",
       "\n",
       "    .dataframe thead th {\n",
       "        text-align: right;\n",
       "    }\n",
       "</style>\n",
       "<table border=\"1\" class=\"dataframe\">\n",
       "  <thead>\n",
       "    <tr style=\"text-align: right;\">\n",
       "      <th></th>\n",
       "      <th>0</th>\n",
       "      <th>1</th>\n",
       "      <th>2</th>\n",
       "      <th>3</th>\n",
       "      <th>4</th>\n",
       "      <th>5</th>\n",
       "      <th>6</th>\n",
       "      <th>7</th>\n",
       "      <th>8</th>\n",
       "      <th>9</th>\n",
       "      <th>10</th>\n",
       "    </tr>\n",
       "  </thead>\n",
       "  <tbody>\n",
       "    <tr>\n",
       "      <th>0</th>\n",
       "      <td>259.047864</td>\n",
       "      <td>261.147276</td>\n",
       "      <td>263.533427</td>\n",
       "      <td>266.625518</td>\n",
       "      <td>269.256745</td>\n",
       "      <td>270.671689</td>\n",
       "      <td>269.932314</td>\n",
       "      <td>272.211127</td>\n",
       "      <td>272.010094</td>\n",
       "      <td>275.510727</td>\n",
       "      <td>272.392601</td>\n",
       "    </tr>\n",
       "    <tr>\n",
       "      <th>1</th>\n",
       "      <td>262.484705</td>\n",
       "      <td>264.656237</td>\n",
       "      <td>268.483572</td>\n",
       "      <td>268.075779</td>\n",
       "      <td>271.585186</td>\n",
       "      <td>271.045837</td>\n",
       "      <td>272.715231</td>\n",
       "      <td>274.935874</td>\n",
       "      <td>271.477449</td>\n",
       "      <td>272.075473</td>\n",
       "      <td>-99732.673484</td>\n",
       "    </tr>\n",
       "    <tr>\n",
       "      <th>2</th>\n",
       "      <td>268.175542</td>\n",
       "      <td>270.601004</td>\n",
       "      <td>272.754771</td>\n",
       "      <td>273.119209</td>\n",
       "      <td>273.030893</td>\n",
       "      <td>272.598779</td>\n",
       "      <td>271.673589</td>\n",
       "      <td>277.418312</td>\n",
       "      <td>274.154094</td>\n",
       "      <td>-99732.717473</td>\n",
       "      <td>-99732.199508</td>\n",
       "    </tr>\n",
       "    <tr>\n",
       "      <th>3</th>\n",
       "      <td>272.727133</td>\n",
       "      <td>274.752267</td>\n",
       "      <td>274.397814</td>\n",
       "      <td>276.590065</td>\n",
       "      <td>274.349933</td>\n",
       "      <td>282.169912</td>\n",
       "      <td>277.380503</td>\n",
       "      <td>276.229574</td>\n",
       "      <td>-99729.485298</td>\n",
       "      <td>-99731.528461</td>\n",
       "      <td>-99732.231986</td>\n",
       "    </tr>\n",
       "    <tr>\n",
       "      <th>4</th>\n",
       "      <td>277.983782</td>\n",
       "      <td>278.024975</td>\n",
       "      <td>275.841662</td>\n",
       "      <td>277.966338</td>\n",
       "      <td>278.123234</td>\n",
       "      <td>283.004940</td>\n",
       "      <td>276.459984</td>\n",
       "      <td>-99731.613982</td>\n",
       "      <td>-99730.437244</td>\n",
       "      <td>-99732.297022</td>\n",
       "      <td>-99731.610856</td>\n",
       "    </tr>\n",
       "    <tr>\n",
       "      <th>5</th>\n",
       "      <td>279.362906</td>\n",
       "      <td>280.484482</td>\n",
       "      <td>279.458624</td>\n",
       "      <td>282.914105</td>\n",
       "      <td>279.210006</td>\n",
       "      <td>278.818741</td>\n",
       "      <td>-99730.868372</td>\n",
       "      <td>-99731.304972</td>\n",
       "      <td>-99730.840298</td>\n",
       "      <td>-99730.057825</td>\n",
       "      <td>-99730.602159</td>\n",
       "    </tr>\n",
       "    <tr>\n",
       "      <th>6</th>\n",
       "      <td>287.225336</td>\n",
       "      <td>281.351606</td>\n",
       "      <td>282.020786</td>\n",
       "      <td>282.359914</td>\n",
       "      <td>283.567244</td>\n",
       "      <td>-99731.841292</td>\n",
       "      <td>-99731.904611</td>\n",
       "      <td>-99731.082617</td>\n",
       "      <td>-99730.016447</td>\n",
       "      <td>-99734.067720</td>\n",
       "      <td>-99730.881908</td>\n",
       "    </tr>\n",
       "    <tr>\n",
       "      <th>7</th>\n",
       "      <td>283.166514</td>\n",
       "      <td>283.190081</td>\n",
       "      <td>281.712096</td>\n",
       "      <td>289.891240</td>\n",
       "      <td>-99731.844731</td>\n",
       "      <td>-99733.117372</td>\n",
       "      <td>-99732.309465</td>\n",
       "      <td>-99732.486024</td>\n",
       "      <td>-99731.840215</td>\n",
       "      <td>-99732.376171</td>\n",
       "      <td>-99731.616525</td>\n",
       "    </tr>\n",
       "    <tr>\n",
       "      <th>8</th>\n",
       "      <td>289.468500</td>\n",
       "      <td>283.942678</td>\n",
       "      <td>284.133493</td>\n",
       "      <td>-99733.754453</td>\n",
       "      <td>-99732.970585</td>\n",
       "      <td>-99731.131437</td>\n",
       "      <td>-99731.968518</td>\n",
       "      <td>-99731.252755</td>\n",
       "      <td>-99730.439150</td>\n",
       "      <td>-99731.569819</td>\n",
       "      <td>-99731.057568</td>\n",
       "    </tr>\n",
       "    <tr>\n",
       "      <th>9</th>\n",
       "      <td>292.825436</td>\n",
       "      <td>286.921199</td>\n",
       "      <td>-99734.215169</td>\n",
       "      <td>-99731.174068</td>\n",
       "      <td>-99732.874329</td>\n",
       "      <td>-99732.678207</td>\n",
       "      <td>-99733.860331</td>\n",
       "      <td>-99732.215602</td>\n",
       "      <td>-99732.515298</td>\n",
       "      <td>-99731.976483</td>\n",
       "      <td>-99732.497678</td>\n",
       "    </tr>\n",
       "    <tr>\n",
       "      <th>10</th>\n",
       "      <td>291.910036</td>\n",
       "      <td>-99731.868858</td>\n",
       "      <td>-99732.437882</td>\n",
       "      <td>-99735.644290</td>\n",
       "      <td>-99734.345494</td>\n",
       "      <td>-99732.950631</td>\n",
       "      <td>-99732.666444</td>\n",
       "      <td>-99730.784351</td>\n",
       "      <td>-99733.012037</td>\n",
       "      <td>-99732.931316</td>\n",
       "      <td>-99733.304337</td>\n",
       "    </tr>\n",
       "  </tbody>\n",
       "</table>\n",
       "</div>"
      ],
      "text/plain": [
       "             0             1             2             3             4  \\\n",
       "0   259.047864  261.147276    263.533427    266.625518    269.256745     \n",
       "1   262.484705  264.656237    268.483572    268.075779    271.585186     \n",
       "2   268.175542  270.601004    272.754771    273.119209    273.030893     \n",
       "3   272.727133  274.752267    274.397814    276.590065    274.349933     \n",
       "4   277.983782  278.024975    275.841662    277.966338    278.123234     \n",
       "5   279.362906  280.484482    279.458624    282.914105    279.210006     \n",
       "6   287.225336  281.351606    282.020786    282.359914    283.567244     \n",
       "7   283.166514  283.190081    281.712096    289.891240   -99731.844731   \n",
       "8   289.468500  283.942678    284.133493   -99733.754453 -99732.970585   \n",
       "9   292.825436  286.921199   -99734.215169 -99731.174068 -99732.874329   \n",
       "10  291.910036 -99731.868858 -99732.437882 -99735.644290 -99734.345494   \n",
       "\n",
       "               5             6             7             8             9  \\\n",
       "0   270.671689    269.932314    272.211127    272.010094    275.510727     \n",
       "1   271.045837    272.715231    274.935874    271.477449    272.075473     \n",
       "2   272.598779    271.673589    277.418312    274.154094   -99732.717473   \n",
       "3   282.169912    277.380503    276.229574   -99729.485298 -99731.528461   \n",
       "4   283.004940    276.459984   -99731.613982 -99730.437244 -99732.297022   \n",
       "5   278.818741   -99730.868372 -99731.304972 -99730.840298 -99730.057825   \n",
       "6  -99731.841292 -99731.904611 -99731.082617 -99730.016447 -99734.067720   \n",
       "7  -99733.117372 -99732.309465 -99732.486024 -99731.840215 -99732.376171   \n",
       "8  -99731.131437 -99731.968518 -99731.252755 -99730.439150 -99731.569819   \n",
       "9  -99732.678207 -99733.860331 -99732.215602 -99732.515298 -99731.976483   \n",
       "10 -99732.950631 -99732.666444 -99730.784351 -99733.012037 -99732.931316   \n",
       "\n",
       "              10  \n",
       "0   272.392601    \n",
       "1  -99732.673484  \n",
       "2  -99732.199508  \n",
       "3  -99732.231986  \n",
       "4  -99731.610856  \n",
       "5  -99730.602159  \n",
       "6  -99730.881908  \n",
       "7  -99731.616525  \n",
       "8  -99731.057568  \n",
       "9  -99732.497678  \n",
       "10 -99733.304337  "
      ]
     },
     "execution_count": 51,
     "metadata": {},
     "output_type": "execute_result"
    }
   ],
   "source": [
    "pd.DataFrame(Q)"
   ]
  },
  {
   "cell_type": "markdown",
   "metadata": {
    "colab_type": "text",
    "id": "prJJemHTrHwD"
   },
   "source": [
    "### Step 6: Q (Quality)-Learning (model-free)\n",
    " - Off-policy RL technique that searches for the best action to take given a current state; aimed at maximizing total reward\n",
    "     - Off-policy b/c Q function learns from actions outside current policy (e.g., taking random actions)\n",
    " - Quality refers to usefulness of an action in terms of earning a reward\n",
    " - Necessitates creation of q-table (reference table for agent to select optimal action) with (state, action) form \n",
    "     - Values initialized to 0\n",
    "     - Update q-values post each episode\n",
    " - Can explore or exploit\n",
    "     - Exploit: given universe of possible actions for given state, selects action based on max value\n",
    "     - Explore: random actions based on discovery"
   ]
  },
  {
   "cell_type": "code",
   "execution_count": 52,
   "metadata": {
    "colab": {},
    "colab_type": "code",
    "id": "wVFGBKSr21C3"
   },
   "outputs": [],
   "source": [
    "# Tmax=maximum number of transitions (=maximum number of simulations -1)\n",
    "\n",
    "def Q_learning(env=InventoryEnv(),lr=0.01,Tmax=1000,T=5000):\n",
    "\n",
    "  v = np.zeros((env.n + 1,T+1),dtype=np.float64) #value\n",
    "  d = np.zeros((env.n + 1,T+1),dtype=np.int) #policy\n",
    "  visits = np.zeros((env.n + 1,env.n + 1),dtype=np.int) #current/action\n",
    "\n",
    "  Q = np.zeros((env.n + 1,env.n + 1),dtype=np.float64)\n",
    "\n",
    "  learning_rate = lr\n",
    "  for num_ep in range(1,T):\n",
    "      t = 1\n",
    "      current_state = env.state\n",
    "      while (t <= Tmax+1):\n",
    "          if t < Tmax / 2:\n",
    "              if np.random.uniform(0,1,1)>=((Tmax - t) / Tmax):\n",
    "                  action = np.argmax(Q[current_state,:]) #greedy\n",
    "              else:\n",
    "                  action = np.random.choice(range(0,K)) #exploring\n",
    "          else:\n",
    "              action = np.argmax(Q[current_state,:]) #greedy / exploiting\n",
    "          visits[current_state,action]+=1\n",
    "          #print(\"state: \" + str(env.state))\n",
    "          next_state, reward, done, z = env._step(action)\n",
    "          #print(\"action: \" + str(action))\n",
    "          #print(\"next state: \" + str(env.state))\n",
    "          \n",
    "          Q[current_state,action] = (1-learning_rate)*Q[current_state,action] + learning_rate*(reward + \n",
    "                                                                              0.99 * max(Q[next_state,:]))      \n",
    "          current_state = env.state\n",
    "          t += 1\n",
    "          \n",
    "  J = np.zeros((env.n + 1,1),dtype=np.float64)\n",
    "  d = np.zeros((env.n + 1,1),dtype=np.float64)\n",
    "  for j in range(0,env.n + 1):\n",
    "      J[j,0] = max(Q[j,:])\n",
    "      d[j,0] = np.argmax(Q[j,:])\n",
    "  return Q,J,d"
   ]
  },
  {
   "cell_type": "code",
   "execution_count": 53,
   "metadata": {
    "colab": {},
    "colab_type": "code",
    "id": "kElkCeIg3w3_"
   },
   "outputs": [],
   "source": [
    "Q,J,d=Q_learning()"
   ]
  },
  {
   "cell_type": "code",
   "execution_count": 54,
   "metadata": {
    "colab": {
     "base_uri": "https://localhost:8080/",
     "height": 370
    },
    "colab_type": "code",
    "id": "SNXGPAWLrHwJ",
    "outputId": "6cabbd5c-5463-4d29-d652-8971d54db340",
    "scrolled": false
   },
   "outputs": [
    {
     "data": {
      "text/html": [
       "<div>\n",
       "<style scoped>\n",
       "    .dataframe tbody tr th:only-of-type {\n",
       "        vertical-align: middle;\n",
       "    }\n",
       "\n",
       "    .dataframe tbody tr th {\n",
       "        vertical-align: top;\n",
       "    }\n",
       "\n",
       "    .dataframe thead th {\n",
       "        text-align: right;\n",
       "    }\n",
       "</style>\n",
       "<table border=\"1\" class=\"dataframe\">\n",
       "  <thead>\n",
       "    <tr style=\"text-align: right;\">\n",
       "      <th></th>\n",
       "      <th>0</th>\n",
       "      <th>1</th>\n",
       "      <th>2</th>\n",
       "      <th>3</th>\n",
       "      <th>4</th>\n",
       "      <th>5</th>\n",
       "      <th>6</th>\n",
       "      <th>7</th>\n",
       "      <th>8</th>\n",
       "      <th>9</th>\n",
       "      <th>10</th>\n",
       "    </tr>\n",
       "  </thead>\n",
       "  <tbody>\n",
       "    <tr>\n",
       "      <th>0</th>\n",
       "      <td>1378.979494</td>\n",
       "      <td>1380.812582</td>\n",
       "      <td>1383.858848</td>\n",
       "      <td>1386.516715</td>\n",
       "      <td>1388.669515</td>\n",
       "      <td>1390.366521</td>\n",
       "      <td>1390.442157</td>\n",
       "      <td>1391.559433</td>\n",
       "      <td>1392.400888</td>\n",
       "      <td>1392.353406</td>\n",
       "      <td>1393.709862</td>\n",
       "    </tr>\n",
       "    <tr>\n",
       "      <th>1</th>\n",
       "      <td>1383.099388</td>\n",
       "      <td>1384.909741</td>\n",
       "      <td>1387.644807</td>\n",
       "      <td>1389.802074</td>\n",
       "      <td>1390.854175</td>\n",
       "      <td>1392.824041</td>\n",
       "      <td>1392.818209</td>\n",
       "      <td>1392.970700</td>\n",
       "      <td>1394.405450</td>\n",
       "      <td>1393.069060</td>\n",
       "      <td>-98610.845195</td>\n",
       "    </tr>\n",
       "    <tr>\n",
       "      <th>2</th>\n",
       "      <td>1388.004148</td>\n",
       "      <td>1389.279071</td>\n",
       "      <td>1391.721189</td>\n",
       "      <td>1393.509389</td>\n",
       "      <td>1394.613654</td>\n",
       "      <td>1394.646292</td>\n",
       "      <td>1395.264316</td>\n",
       "      <td>1396.069792</td>\n",
       "      <td>1396.623074</td>\n",
       "      <td>-98610.881352</td>\n",
       "      <td>-98610.462652</td>\n",
       "    </tr>\n",
       "    <tr>\n",
       "      <th>3</th>\n",
       "      <td>1392.812600</td>\n",
       "      <td>1393.945022</td>\n",
       "      <td>1395.352273</td>\n",
       "      <td>1396.409872</td>\n",
       "      <td>1397.510648</td>\n",
       "      <td>1397.594590</td>\n",
       "      <td>1398.239551</td>\n",
       "      <td>1398.734124</td>\n",
       "      <td>-98610.899817</td>\n",
       "      <td>-98611.341144</td>\n",
       "      <td>-98610.405560</td>\n",
       "    </tr>\n",
       "    <tr>\n",
       "      <th>4</th>\n",
       "      <td>1396.946501</td>\n",
       "      <td>1397.373992</td>\n",
       "      <td>1398.733238</td>\n",
       "      <td>1399.634596</td>\n",
       "      <td>1400.109169</td>\n",
       "      <td>1399.125911</td>\n",
       "      <td>1401.414674</td>\n",
       "      <td>-98610.702387</td>\n",
       "      <td>-98610.832327</td>\n",
       "      <td>-98611.196984</td>\n",
       "      <td>-98611.472339</td>\n",
       "    </tr>\n",
       "    <tr>\n",
       "      <th>5</th>\n",
       "      <td>1400.515140</td>\n",
       "      <td>1400.474176</td>\n",
       "      <td>1401.615357</td>\n",
       "      <td>1401.208335</td>\n",
       "      <td>1400.799799</td>\n",
       "      <td>1402.999693</td>\n",
       "      <td>-98610.857263</td>\n",
       "      <td>-98610.875163</td>\n",
       "      <td>-98610.712098</td>\n",
       "      <td>-98610.824840</td>\n",
       "      <td>-98611.100104</td>\n",
       "    </tr>\n",
       "    <tr>\n",
       "      <th>6</th>\n",
       "      <td>1403.647596</td>\n",
       "      <td>1402.980514</td>\n",
       "      <td>1403.682550</td>\n",
       "      <td>1404.834445</td>\n",
       "      <td>1404.156699</td>\n",
       "      <td>-98610.545427</td>\n",
       "      <td>-98611.240989</td>\n",
       "      <td>-98611.146187</td>\n",
       "      <td>-98610.541342</td>\n",
       "      <td>-98611.034069</td>\n",
       "      <td>-98610.550924</td>\n",
       "    </tr>\n",
       "    <tr>\n",
       "      <th>7</th>\n",
       "      <td>1406.887869</td>\n",
       "      <td>1405.448892</td>\n",
       "      <td>1405.309205</td>\n",
       "      <td>1405.602777</td>\n",
       "      <td>-98610.723541</td>\n",
       "      <td>-98611.574455</td>\n",
       "      <td>-98611.300358</td>\n",
       "      <td>-98610.471044</td>\n",
       "      <td>-98611.292356</td>\n",
       "      <td>-98611.052335</td>\n",
       "      <td>-98611.126347</td>\n",
       "    </tr>\n",
       "    <tr>\n",
       "      <th>8</th>\n",
       "      <td>1409.343221</td>\n",
       "      <td>1406.945389</td>\n",
       "      <td>1407.460631</td>\n",
       "      <td>-98611.120979</td>\n",
       "      <td>-98611.347974</td>\n",
       "      <td>-98610.884909</td>\n",
       "      <td>-98611.270758</td>\n",
       "      <td>-98611.729451</td>\n",
       "      <td>-98611.599685</td>\n",
       "      <td>-98611.858951</td>\n",
       "      <td>-98611.086274</td>\n",
       "    </tr>\n",
       "    <tr>\n",
       "      <th>9</th>\n",
       "      <td>1411.015881</td>\n",
       "      <td>1408.697239</td>\n",
       "      <td>-98611.844951</td>\n",
       "      <td>-98611.960277</td>\n",
       "      <td>-98611.259426</td>\n",
       "      <td>-98611.382052</td>\n",
       "      <td>-98611.166075</td>\n",
       "      <td>-98611.909821</td>\n",
       "      <td>-98611.850509</td>\n",
       "      <td>-98611.514278</td>\n",
       "      <td>-98611.325588</td>\n",
       "    </tr>\n",
       "    <tr>\n",
       "      <th>10</th>\n",
       "      <td>1412.471205</td>\n",
       "      <td>-97181.443567</td>\n",
       "      <td>-96965.733589</td>\n",
       "      <td>-96997.683232</td>\n",
       "      <td>-97264.933835</td>\n",
       "      <td>-97015.288078</td>\n",
       "      <td>-97237.644518</td>\n",
       "      <td>-96845.458733</td>\n",
       "      <td>-96809.214198</td>\n",
       "      <td>-97606.260051</td>\n",
       "      <td>-97077.297231</td>\n",
       "    </tr>\n",
       "  </tbody>\n",
       "</table>\n",
       "</div>"
      ],
      "text/plain": [
       "              0             1             2             3             4  \\\n",
       "0   1378.979494  1380.812582   1383.858848   1386.516715   1388.669515    \n",
       "1   1383.099388  1384.909741   1387.644807   1389.802074   1390.854175    \n",
       "2   1388.004148  1389.279071   1391.721189   1393.509389   1394.613654    \n",
       "3   1392.812600  1393.945022   1395.352273   1396.409872   1397.510648    \n",
       "4   1396.946501  1397.373992   1398.733238   1399.634596   1400.109169    \n",
       "5   1400.515140  1400.474176   1401.615357   1401.208335   1400.799799    \n",
       "6   1403.647596  1402.980514   1403.682550   1404.834445   1404.156699    \n",
       "7   1406.887869  1405.448892   1405.309205   1405.602777  -98610.723541   \n",
       "8   1409.343221  1406.945389   1407.460631  -98611.120979 -98611.347974   \n",
       "9   1411.015881  1408.697239  -98611.844951 -98611.960277 -98611.259426   \n",
       "10  1412.471205 -97181.443567 -96965.733589 -96997.683232 -97264.933835   \n",
       "\n",
       "               5             6             7             8             9  \\\n",
       "0   1390.366521   1390.442157   1391.559433   1392.400888   1392.353406    \n",
       "1   1392.824041   1392.818209   1392.970700   1394.405450   1393.069060    \n",
       "2   1394.646292   1395.264316   1396.069792   1396.623074  -98610.881352   \n",
       "3   1397.594590   1398.239551   1398.734124  -98610.899817 -98611.341144   \n",
       "4   1399.125911   1401.414674  -98610.702387 -98610.832327 -98611.196984   \n",
       "5   1402.999693  -98610.857263 -98610.875163 -98610.712098 -98610.824840   \n",
       "6  -98610.545427 -98611.240989 -98611.146187 -98610.541342 -98611.034069   \n",
       "7  -98611.574455 -98611.300358 -98610.471044 -98611.292356 -98611.052335   \n",
       "8  -98610.884909 -98611.270758 -98611.729451 -98611.599685 -98611.858951   \n",
       "9  -98611.382052 -98611.166075 -98611.909821 -98611.850509 -98611.514278   \n",
       "10 -97015.288078 -97237.644518 -96845.458733 -96809.214198 -97606.260051   \n",
       "\n",
       "              10  \n",
       "0   1393.709862   \n",
       "1  -98610.845195  \n",
       "2  -98610.462652  \n",
       "3  -98610.405560  \n",
       "4  -98611.472339  \n",
       "5  -98611.100104  \n",
       "6  -98610.550924  \n",
       "7  -98611.126347  \n",
       "8  -98611.086274  \n",
       "9  -98611.325588  \n",
       "10 -97077.297231  "
      ]
     },
     "execution_count": 54,
     "metadata": {},
     "output_type": "execute_result"
    }
   ],
   "source": [
    "pd.DataFrame(Q)"
   ]
  },
  {
   "cell_type": "code",
   "execution_count": 55,
   "metadata": {
    "colab": {
     "base_uri": "https://localhost:8080/",
     "height": 370
    },
    "colab_type": "code",
    "id": "O3MgAbuBrHwP",
    "outputId": "d7cb2734-99d5-4b36-ccd2-489eeda31d60"
   },
   "outputs": [
    {
     "data": {
      "text/html": [
       "<div>\n",
       "<style scoped>\n",
       "    .dataframe tbody tr th:only-of-type {\n",
       "        vertical-align: middle;\n",
       "    }\n",
       "\n",
       "    .dataframe tbody tr th {\n",
       "        vertical-align: top;\n",
       "    }\n",
       "\n",
       "    .dataframe thead th {\n",
       "        text-align: right;\n",
       "    }\n",
       "</style>\n",
       "<table border=\"1\" class=\"dataframe\">\n",
       "  <thead>\n",
       "    <tr style=\"text-align: right;\">\n",
       "      <th></th>\n",
       "      <th>0</th>\n",
       "      <th>1</th>\n",
       "      <th>2</th>\n",
       "      <th>3</th>\n",
       "      <th>4</th>\n",
       "      <th>5</th>\n",
       "      <th>6</th>\n",
       "      <th>7</th>\n",
       "      <th>8</th>\n",
       "      <th>9</th>\n",
       "      <th>10</th>\n",
       "    </tr>\n",
       "  </thead>\n",
       "  <tbody>\n",
       "    <tr>\n",
       "      <th>0</th>\n",
       "      <td>10.0</td>\n",
       "      <td>8.0</td>\n",
       "      <td>8.0</td>\n",
       "      <td>7.0</td>\n",
       "      <td>6.0</td>\n",
       "      <td>5.0</td>\n",
       "      <td>3.0</td>\n",
       "      <td>0.0</td>\n",
       "      <td>0.0</td>\n",
       "      <td>0.0</td>\n",
       "      <td>0.0</td>\n",
       "    </tr>\n",
       "  </tbody>\n",
       "</table>\n",
       "</div>"
      ],
      "text/plain": [
       "      0    1    2    3    4    5    6    7    8    9   10\n",
       "0  10.0  8.0  8.0  7.0  6.0  5.0  3.0  0.0  0.0  0.0  0.0"
      ]
     },
     "execution_count": 55,
     "metadata": {},
     "output_type": "execute_result"
    }
   ],
   "source": [
    "pd.DataFrame(d.T)"
   ]
  },
  {
   "cell_type": "code",
   "execution_count": null,
   "metadata": {},
   "outputs": [],
   "source": []
  },
  {
   "cell_type": "markdown",
   "metadata": {
    "colab_type": "text",
    "id": "F8KqJ3eXrHwr"
   },
   "source": [
    "### Step 7: Experiment with a large n (100 units in inventory)"
   ]
  },
  {
   "cell_type": "code",
   "execution_count": null,
   "metadata": {
    "colab": {},
    "colab_type": "code",
    "id": "WC2h00CVrHws"
   },
   "outputs": [],
   "source": [
    "env = InventoryEnv()\n",
    "env.n"
   ]
  },
  {
   "cell_type": "code",
   "execution_count": null,
   "metadata": {},
   "outputs": [],
   "source": [
    "P_t,RR,demand_list = transition_prob(env)\n",
    "plt.hist(demand_list)"
   ]
  },
  {
   "cell_type": "code",
   "execution_count": null,
   "metadata": {},
   "outputs": [],
   "source": [
    "pd.DataFrame(P_t[5,:,:]) #transition matrix at action = 5"
   ]
  },
  {
   "cell_type": "code",
   "execution_count": null,
   "metadata": {},
   "outputs": [],
   "source": [
    "K,N,M = P_t.shape\n",
    "K,N,M"
   ]
  },
  {
   "cell_type": "code",
   "execution_count": null,
   "metadata": {},
   "outputs": [],
   "source": [
    "v,d=value_iteration(P_t,RR)"
   ]
  },
  {
   "cell_type": "code",
   "execution_count": null,
   "metadata": {},
   "outputs": [],
   "source": [
    "value_df = pd.DataFrame(v)\n",
    "value_df"
   ]
  },
  {
   "cell_type": "code",
   "execution_count": null,
   "metadata": {},
   "outputs": [],
   "source": [
    "policy_df = pd.DataFrame(d)\n",
    "policy_df"
   ]
  },
  {
   "cell_type": "code",
   "execution_count": null,
   "metadata": {},
   "outputs": [],
   "source": [
    "v,d,visits=val_iter_sim(P_t,RR)"
   ]
  },
  {
   "cell_type": "code",
   "execution_count": null,
   "metadata": {},
   "outputs": [],
   "source": [
    "pd.DataFrame(d)"
   ]
  },
  {
   "cell_type": "code",
   "execution_count": null,
   "metadata": {},
   "outputs": [],
   "source": [
    "Q,J,d=Q_learning()"
   ]
  },
  {
   "cell_type": "code",
   "execution_count": null,
   "metadata": {},
   "outputs": [],
   "source": [
    "pd.DataFrame(Q)"
   ]
  },
  {
   "cell_type": "code",
   "execution_count": null,
   "metadata": {},
   "outputs": [],
   "source": [
    "pd.DataFrame(d)"
   ]
  },
  {
   "cell_type": "code",
   "execution_count": null,
   "metadata": {},
   "outputs": [],
   "source": [
    "J,d,visits,Q=Q_learn_pmat(P_t,RR)"
   ]
  },
  {
   "cell_type": "code",
   "execution_count": null,
   "metadata": {},
   "outputs": [],
   "source": [
    "policy_df = pd.DataFrame(d)\n",
    "policy_df"
   ]
  },
  {
   "cell_type": "code",
   "execution_count": null,
   "metadata": {},
   "outputs": [],
   "source": [
    "pd.DataFrame(Q)"
   ]
  },
  {
   "cell_type": "code",
   "execution_count": null,
   "metadata": {},
   "outputs": [],
   "source": []
  }
 ],
 "metadata": {
  "colab": {
   "name": "gym_analysis_Group6.ipynb",
   "provenance": []
  },
  "kernelspec": {
   "display_name": "Python 3",
   "language": "python",
   "name": "python3"
  },
  "language_info": {
   "codemirror_mode": {
    "name": "ipython",
    "version": 3
   },
   "file_extension": ".py",
   "mimetype": "text/x-python",
   "name": "python",
   "nbconvert_exporter": "python",
   "pygments_lexer": "ipython3",
   "version": "3.7.7"
  }
 },
 "nbformat": 4,
 "nbformat_minor": 1
}
