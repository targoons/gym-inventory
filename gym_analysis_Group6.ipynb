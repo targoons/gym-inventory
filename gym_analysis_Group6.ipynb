{
 "cells": [
  {
   "cell_type": "markdown",
   "metadata": {
    "colab_type": "text",
    "id": "rVWe09OarHtr"
   },
   "source": [
    "<div>\n",
    "<img src=\"https://www.automation.com/getmedia/3c46e651-52ef-4d7e-9ee1-4e2132173f57/EUS031---Image\" width=\"250\" align=\"left\"/>\n",
    "</div>"
   ]
  },
  {
   "cell_type": "markdown",
   "metadata": {
    "colab_type": "text",
    "id": "xId9RYtarHtt"
   },
   "source": [
    "## Reinforcement Learning Final Project: Inventory Management\n",
    "Group 6: Michael, Annie, Targoon"
   ]
  },
  {
   "cell_type": "code",
   "execution_count": null,
   "metadata": {
    "colab": {},
    "colab_type": "code",
    "id": "bK0HJ53YrHtu"
   },
   "outputs": [],
   "source": [
    "# 1. Problem Introduction\n",
    "    # - EDA / Markov Process Description\n",
    "# 2. Solve Problem in a small scale (Value Iteration)\n",
    "    # - Calculate Probability Matrix & Rewards by simulation\n",
    "    # - plot different graphs between optimal action vs initial state given different values\n",
    "# 3. Increase problem scaling (Value Iteration with Simulation & Q-Learning)"
   ]
  },
  {
   "cell_type": "markdown",
   "metadata": {
    "colab_type": "text",
    "id": "8Exio1zorHt2"
   },
   "source": [
    "### Necessary imports"
   ]
  },
  {
   "cell_type": "code",
   "execution_count": 23,
   "metadata": {
    "colab": {
     "base_uri": "https://localhost:8080/",
     "height": 35
    },
    "colab_type": "code",
    "id": "NRvdefo3rHt4",
    "outputId": "ddce3f4b-7c88-4fd0-9bfd-1eed14d58dc2"
   },
   "outputs": [],
   "source": [
    "#!!pip install gym\n",
    "#!pip install quantecon \n",
    "#!pip install numpy==1.19.1\n",
    "\n",
    "import gym\n",
    "from gym import spaces\n",
    "from gym import utils\n",
    "from gym.utils import seeding\n",
    "\n",
    "import logging\n",
    "logger = logging.getLogger(__name__)\n",
    "\n",
    "import os\n",
    "from os.path import basename\n",
    "import sys\n",
    "import platform\n",
    "\n",
    "import gym\n",
    "from gym import spaces\n",
    "from gym import utils\n",
    "from gym.utils import seeding\n",
    "\n",
    "import pandas as pd\n",
    "import numpy as np\n",
    "import quantecon as qe\n",
    "\n",
    "import matplotlib.pyplot as plt\n",
    "\n",
    "from collections import Counter\n",
    "from itertools import groupby\n",
    "\n",
    "import warnings\n",
    "warnings.filterwarnings(\"ignore\") # supress warnings\n",
    "\n",
    "import matplotlib.pyplot as plt\n",
    "\n",
    "pd.set_option('display.max_colwidth', -1)\n",
    "pd.set_option('display.max_row', 20) # set max row display\n",
    "pd.set_option('display.max_columns', 20) # set max column width\n",
    "\n",
    "# enable ability to see the value of multiple statements at once\n",
    "from IPython.core.interactiveshell import InteractiveShell\n",
    "InteractiveShell.ast_node_interactivity = \"all\"\n",
    "\n",
    "%matplotlib inline"
   ]
  },
  {
   "cell_type": "code",
   "execution_count": 17,
   "metadata": {
    "colab": {
     "base_uri": "https://localhost:8080/",
     "height": 35
    },
    "colab_type": "code",
    "id": "6Wz0OYJ0rHuD",
    "outputId": "4a827e6a-6fc9-46f6-de70-c0ac35dc77f6"
   },
   "outputs": [
    {
     "name": "stdout",
     "output_type": "stream",
     "text": [
      "3.7.7\n"
     ]
    }
   ],
   "source": [
    "# check python version\n",
    "from platform import python_version\n",
    "print(python_version())"
   ]
  },
  {
   "cell_type": "markdown",
   "metadata": {
    "colab_type": "text",
    "id": "YeefXXc2rHuN"
   },
   "source": [
    "### Instantiate class from gym environment"
   ]
  },
  {
   "cell_type": "code",
   "execution_count": 3,
   "metadata": {
    "colab": {},
    "colab_type": "code",
    "id": "bZPeZeAjrHuO"
   },
   "outputs": [],
   "source": [
    "class InventoryEnv(gym.Env, utils.EzPickle):\n",
    "    \"\"\"Inventory control with lost sales environment\n",
    "\n",
    "    TO BE EDITED\n",
    "\n",
    "    This environment corresponds to the version of the inventory control\n",
    "    with lost sales problem described in Example 1.1 in Algorithms for\n",
    "    Reinforcement Learning by Csaba Szepesvari (2010).\n",
    "    https://sites.ualberta.ca/~szepesva/RLBook.html\n",
    "    \"\"\"\n",
    "\n",
    "    # our problem statement does not fully define these parameters\n",
    "    # we will explain what happens to our optimal policy, given changing parameters -- we will show this w/ graphs\n",
    "    \n",
    "    def __init__(self, n=10, k=1, c=2, h=0, p=5, lam=5): # default values\n",
    "        self.n = n # items held at certain time\n",
    "        self.action_space = spaces.Discrete(n + 1)\n",
    "        self.observation_space = spaces.Discrete(n + 1)\n",
    "        self.max = n # have to optimize max items held at certain time\n",
    "        self.state = np.random.choice(range(n + 1))\n",
    "        self.k = k # fixed entry cost for ordering; k must be greater than 0\n",
    "        self.c = c # fixed price of purchase for items\n",
    "        self.h = h # proportionality value must be greater than 0; cost per unit; constant that we multiply by remaining inventory\n",
    "        self.p = p # p is price and must be greater than 0\n",
    "        self.lam = lam # trace-decay parameter; makes algo incremental\n",
    "        \n",
    "        # we do not know what demand will be \n",
    "        # upon selling z units the manager is paid the monetary amount of p z, where p > 0.\n",
    "\n",
    "        # Set seed\n",
    "        self._seed()\n",
    "\n",
    "        # Start the first round\n",
    "        self._reset()\n",
    "\n",
    "    def demand(self):\n",
    "        return np.random.poisson(self.lam) # randomly generated demand based on poisson distribution\n",
    "\n",
    "    # transition probabilities\n",
    "    def transition(self, x, a, d): # action At gives the number of items ordered in the evening of day t\n",
    "        # x is initial state\n",
    "        \n",
    "        m = self.max\n",
    "        \n",
    "        # size of next inventory is xt+1\n",
    "        return max(min(x + a, m) - d, 0) # subtract the d (demand) that you will recieve the next day\n",
    "\n",
    "    # a controller receives the controlled system's state and a reward associated with the last state transition\n",
    "    def reward(self, x, a, y):\n",
    "        k = self.k\n",
    "        m = self.max # m is equal to n\n",
    "        c = self.c\n",
    "        h = self.h\n",
    "        p = self.p\n",
    "        \n",
    "        # a, amount purchased, + max inventory; if over amount of storage, affix penalty\n",
    "        if a + x > self.max:\n",
    "            return -99999\n",
    "        else:\n",
    "            r = -k * (a > 0) - c * max(min(x + a, m) - x, 0) - h * x + p * max(min(x + a, m) - y, 0)\n",
    "            return r\n",
    "\n",
    "    def _seed(self, seed=None):\n",
    "        self.np_random, seed = seeding.np_random(seed)\n",
    "        return [seed]\n",
    "\n",
    "    def _step(self, action):\n",
    "        assert self.action_space.contains(action)\n",
    "        obs = self.state\n",
    "        demand = self.demand()\n",
    "        obs2 = self.transition(obs, action, demand)\n",
    "        self.state = obs2\n",
    "        reward = self.reward(obs, action, obs2)\n",
    "        done = 0\n",
    "        return obs2, reward, done, {}\n",
    "\n",
    "    def _reset(self):\n",
    "        return self.state"
   ]
  },
  {
   "cell_type": "markdown",
   "metadata": {
    "colab_type": "text",
    "id": "SzAbJ56NrHub"
   },
   "source": [
    "We are going to start with a smaller sample set."
   ]
  },
  {
   "cell_type": "markdown",
   "metadata": {
    "colab_type": "text",
    "id": "xJNP8nzgrHud"
   },
   "source": [
    "### Step 1: Transition probability and Reward matrices"
   ]
  },
  {
   "cell_type": "code",
   "execution_count": 4,
   "metadata": {
    "colab": {
     "base_uri": "https://localhost:8080/",
     "height": 35
    },
    "colab_type": "code",
    "id": "2v5M5U4drHue",
    "outputId": "385de656-45ef-4492-dc16-14767bea11c2"
   },
   "outputs": [
    {
     "data": {
      "text/plain": [
       "10"
      ]
     },
     "execution_count": 4,
     "metadata": {},
     "output_type": "execute_result"
    }
   ],
   "source": [
    "env = InventoryEnv()\n",
    "env.n"
   ]
  },
  {
   "cell_type": "code",
   "execution_count": 5,
   "metadata": {
    "colab": {},
    "colab_type": "code",
    "id": "pK2vS9UNvc0-"
   },
   "outputs": [],
   "source": [
    "#env = updated gym env\n",
    "#T= simulated demand iterations \n",
    "\n",
    "def transition_prob(env,T=10000):\n",
    "  P_t = np.zeros([env.n + 1, env.n + 1, env.n + 1]) #(action, current_state, next_state)\n",
    "  RR = np.zeros([env.n + 1, env.n + 1, env.n + 1]) \n",
    "  print('Shape of probability matrix and Reward Matrix is',RR.shape)\n",
    "\n",
    "  demand_list = []\n",
    "  for init_state in range(env.n + 1):\n",
    "      for action in range(env.n + 1):\n",
    "          final_state_list = []\n",
    "\n",
    "          for i in range(T):\n",
    "              demand = env.demand()\n",
    "              final_state = env.transition(init_state, action, demand)\n",
    "              \n",
    "              demand_list.append(demand)\n",
    "              final_state_list.append(final_state)\n",
    "              \n",
    "          final_state_count = Counter(final_state_list)\n",
    "          \n",
    "          \n",
    "          for (final_state,probability) in final_state_count.items():\n",
    "              P_t[action, init_state, final_state] = probability / T\n",
    "              \n",
    "          for final_state in range(env.n + 1):\n",
    "              RR[action, init_state, final_state] = env.reward(init_state, action, final_state)\n",
    "\n",
    "  return P_t,RR,demand_list"
   ]
  },
  {
   "cell_type": "code",
   "execution_count": 6,
   "metadata": {
    "colab": {
     "base_uri": "https://localhost:8080/",
     "height": 35
    },
    "colab_type": "code",
    "id": "8FlX0SI1w3b7",
    "outputId": "100e2d4b-e8e0-4b76-8877-612e4239d53c"
   },
   "outputs": [
    {
     "name": "stdout",
     "output_type": "stream",
     "text": [
      "Shape of probability matrix and Reward Matrix is (11, 11, 11)\n"
     ]
    }
   ],
   "source": [
    "P_t,RR,demand_list = transition_prob(env)"
   ]
  },
  {
   "cell_type": "code",
   "execution_count": 7,
   "metadata": {
    "colab": {
     "base_uri": "https://localhost:8080/",
     "height": 389
    },
    "colab_type": "code",
    "id": "G1qyeuVXrHu1",
    "outputId": "420fbd90-3ae6-4fc6-8c1f-f9d329008ba7",
    "scrolled": false
   },
   "outputs": [
    {
     "data": {
      "text/plain": [
       "(array([4.84110e+04, 2.72375e+05, 4.24775e+05, 3.02830e+05, 1.22882e+05,\n",
       "        3.20480e+04, 5.85000e+03, 7.49000e+02, 7.40000e+01, 6.00000e+00]),\n",
       " array([ 0.,  2.,  4.,  6.,  8., 10., 12., 14., 16., 18., 20.]),\n",
       " <a list of 10 Patch objects>)"
      ]
     },
     "execution_count": 7,
     "metadata": {},
     "output_type": "execute_result"
    },
    {
     "data": {
      "image/png": "[encoded data removed]",
      "text/plain": [
       "<Figure size 432x288 with 1 Axes>"
      ]
     },
     "metadata": {
      "needs_background": "light"
     },
     "output_type": "display_data"
    }
   ],
   "source": [
    "plt.hist(demand_list)"
   ]
  },
  {
   "cell_type": "code",
   "execution_count": 8,
   "metadata": {
    "colab": {
     "base_uri": "https://localhost:8080/",
     "height": 370
    },
    "colab_type": "code",
    "id": "4N9273GDrHu8",
    "outputId": "90437bc9-8c0a-409e-b95a-9f6c45c6bb7d"
   },
   "outputs": [
    {
     "data": {
      "text/html": [
       "<div>\n",
       "<style scoped>\n",
       "    .dataframe tbody tr th:only-of-type {\n",
       "        vertical-align: middle;\n",
       "    }\n",
       "\n",
       "    .dataframe tbody tr th {\n",
       "        vertical-align: top;\n",
       "    }\n",
       "\n",
       "    .dataframe thead th {\n",
       "        text-align: right;\n",
       "    }\n",
       "</style>\n",
       "<table border=\"1\" class=\"dataframe\">\n",
       "  <thead>\n",
       "    <tr style=\"text-align: right;\">\n",
       "      <th></th>\n",
       "      <th>0</th>\n",
       "      <th>1</th>\n",
       "      <th>2</th>\n",
       "      <th>3</th>\n",
       "      <th>4</th>\n",
       "      <th>5</th>\n",
       "      <th>6</th>\n",
       "      <th>7</th>\n",
       "      <th>8</th>\n",
       "      <th>9</th>\n",
       "      <th>10</th>\n",
       "    </tr>\n",
       "  </thead>\n",
       "  <tbody>\n",
       "    <tr>\n",
       "      <th>0</th>\n",
       "      <td>0.5709</td>\n",
       "      <td>0.1718</td>\n",
       "      <td>0.1390</td>\n",
       "      <td>0.0802</td>\n",
       "      <td>0.0314</td>\n",
       "      <td>0.0067</td>\n",
       "      <td>0.0000</td>\n",
       "      <td>0.0000</td>\n",
       "      <td>0.0000</td>\n",
       "      <td>0.0000</td>\n",
       "      <td>0.0000</td>\n",
       "    </tr>\n",
       "    <tr>\n",
       "      <th>1</th>\n",
       "      <td>0.3840</td>\n",
       "      <td>0.1782</td>\n",
       "      <td>0.1761</td>\n",
       "      <td>0.1376</td>\n",
       "      <td>0.0832</td>\n",
       "      <td>0.0332</td>\n",
       "      <td>0.0077</td>\n",
       "      <td>0.0000</td>\n",
       "      <td>0.0000</td>\n",
       "      <td>0.0000</td>\n",
       "      <td>0.0000</td>\n",
       "    </tr>\n",
       "    <tr>\n",
       "      <th>2</th>\n",
       "      <td>0.2388</td>\n",
       "      <td>0.1406</td>\n",
       "      <td>0.1745</td>\n",
       "      <td>0.1761</td>\n",
       "      <td>0.1438</td>\n",
       "      <td>0.0860</td>\n",
       "      <td>0.0328</td>\n",
       "      <td>0.0074</td>\n",
       "      <td>0.0000</td>\n",
       "      <td>0.0000</td>\n",
       "      <td>0.0000</td>\n",
       "    </tr>\n",
       "    <tr>\n",
       "      <th>3</th>\n",
       "      <td>0.1324</td>\n",
       "      <td>0.1020</td>\n",
       "      <td>0.1400</td>\n",
       "      <td>0.1771</td>\n",
       "      <td>0.1749</td>\n",
       "      <td>0.1426</td>\n",
       "      <td>0.0877</td>\n",
       "      <td>0.0366</td>\n",
       "      <td>0.0067</td>\n",
       "      <td>0.0000</td>\n",
       "      <td>0.0000</td>\n",
       "    </tr>\n",
       "    <tr>\n",
       "      <th>4</th>\n",
       "      <td>0.0648</td>\n",
       "      <td>0.0702</td>\n",
       "      <td>0.1019</td>\n",
       "      <td>0.1507</td>\n",
       "      <td>0.1747</td>\n",
       "      <td>0.1723</td>\n",
       "      <td>0.1401</td>\n",
       "      <td>0.0835</td>\n",
       "      <td>0.0356</td>\n",
       "      <td>0.0062</td>\n",
       "      <td>0.0000</td>\n",
       "    </tr>\n",
       "    <tr>\n",
       "      <th>5</th>\n",
       "      <td>0.0303</td>\n",
       "      <td>0.0349</td>\n",
       "      <td>0.0637</td>\n",
       "      <td>0.1000</td>\n",
       "      <td>0.1477</td>\n",
       "      <td>0.1828</td>\n",
       "      <td>0.1778</td>\n",
       "      <td>0.1430</td>\n",
       "      <td>0.0804</td>\n",
       "      <td>0.0328</td>\n",
       "      <td>0.0066</td>\n",
       "    </tr>\n",
       "    <tr>\n",
       "      <th>6</th>\n",
       "      <td>0.0332</td>\n",
       "      <td>0.0393</td>\n",
       "      <td>0.0655</td>\n",
       "      <td>0.1049</td>\n",
       "      <td>0.1470</td>\n",
       "      <td>0.1757</td>\n",
       "      <td>0.1739</td>\n",
       "      <td>0.1374</td>\n",
       "      <td>0.0835</td>\n",
       "      <td>0.0338</td>\n",
       "      <td>0.0058</td>\n",
       "    </tr>\n",
       "    <tr>\n",
       "      <th>7</th>\n",
       "      <td>0.0324</td>\n",
       "      <td>0.0375</td>\n",
       "      <td>0.0664</td>\n",
       "      <td>0.1019</td>\n",
       "      <td>0.1478</td>\n",
       "      <td>0.1735</td>\n",
       "      <td>0.1740</td>\n",
       "      <td>0.1415</td>\n",
       "      <td>0.0836</td>\n",
       "      <td>0.0347</td>\n",
       "      <td>0.0067</td>\n",
       "    </tr>\n",
       "    <tr>\n",
       "      <th>8</th>\n",
       "      <td>0.0317</td>\n",
       "      <td>0.0355</td>\n",
       "      <td>0.0661</td>\n",
       "      <td>0.1053</td>\n",
       "      <td>0.1496</td>\n",
       "      <td>0.1722</td>\n",
       "      <td>0.1738</td>\n",
       "      <td>0.1429</td>\n",
       "      <td>0.0838</td>\n",
       "      <td>0.0327</td>\n",
       "      <td>0.0064</td>\n",
       "    </tr>\n",
       "    <tr>\n",
       "      <th>9</th>\n",
       "      <td>0.0327</td>\n",
       "      <td>0.0363</td>\n",
       "      <td>0.0663</td>\n",
       "      <td>0.1036</td>\n",
       "      <td>0.1462</td>\n",
       "      <td>0.1744</td>\n",
       "      <td>0.1750</td>\n",
       "      <td>0.1446</td>\n",
       "      <td>0.0819</td>\n",
       "      <td>0.0320</td>\n",
       "      <td>0.0070</td>\n",
       "    </tr>\n",
       "    <tr>\n",
       "      <th>10</th>\n",
       "      <td>0.0335</td>\n",
       "      <td>0.0398</td>\n",
       "      <td>0.0645</td>\n",
       "      <td>0.1014</td>\n",
       "      <td>0.1455</td>\n",
       "      <td>0.1761</td>\n",
       "      <td>0.1736</td>\n",
       "      <td>0.1361</td>\n",
       "      <td>0.0883</td>\n",
       "      <td>0.0348</td>\n",
       "      <td>0.0064</td>\n",
       "    </tr>\n",
       "  </tbody>\n",
       "</table>\n",
       "</div>"
      ],
      "text/plain": [
       "         0       1       2       3       4       5       6       7       8  \\\n",
       "0   0.5709  0.1718  0.1390  0.0802  0.0314  0.0067  0.0000  0.0000  0.0000   \n",
       "1   0.3840  0.1782  0.1761  0.1376  0.0832  0.0332  0.0077  0.0000  0.0000   \n",
       "2   0.2388  0.1406  0.1745  0.1761  0.1438  0.0860  0.0328  0.0074  0.0000   \n",
       "3   0.1324  0.1020  0.1400  0.1771  0.1749  0.1426  0.0877  0.0366  0.0067   \n",
       "4   0.0648  0.0702  0.1019  0.1507  0.1747  0.1723  0.1401  0.0835  0.0356   \n",
       "5   0.0303  0.0349  0.0637  0.1000  0.1477  0.1828  0.1778  0.1430  0.0804   \n",
       "6   0.0332  0.0393  0.0655  0.1049  0.1470  0.1757  0.1739  0.1374  0.0835   \n",
       "7   0.0324  0.0375  0.0664  0.1019  0.1478  0.1735  0.1740  0.1415  0.0836   \n",
       "8   0.0317  0.0355  0.0661  0.1053  0.1496  0.1722  0.1738  0.1429  0.0838   \n",
       "9   0.0327  0.0363  0.0663  0.1036  0.1462  0.1744  0.1750  0.1446  0.0819   \n",
       "10  0.0335  0.0398  0.0645  0.1014  0.1455  0.1761  0.1736  0.1361  0.0883   \n",
       "\n",
       "         9      10  \n",
       "0   0.0000  0.0000  \n",
       "1   0.0000  0.0000  \n",
       "2   0.0000  0.0000  \n",
       "3   0.0000  0.0000  \n",
       "4   0.0062  0.0000  \n",
       "5   0.0328  0.0066  \n",
       "6   0.0338  0.0058  \n",
       "7   0.0347  0.0067  \n",
       "8   0.0327  0.0064  \n",
       "9   0.0320  0.0070  \n",
       "10  0.0348  0.0064  "
      ]
     },
     "execution_count": 8,
     "metadata": {},
     "output_type": "execute_result"
    }
   ],
   "source": [
    "pd.DataFrame(P_t[5,:,:])"
   ]
  },
  {
   "cell_type": "code",
   "execution_count": 9,
   "metadata": {
    "colab": {
     "base_uri": "https://localhost:8080/",
     "height": 35
    },
    "colab_type": "code",
    "id": "H1tCGjYHrHvF",
    "outputId": "b15d7d41-3e93-4021-8e60-f4e81c2791d3"
   },
   "outputs": [
    {
     "data": {
      "text/plain": [
       "(11, 11, 11)"
      ]
     },
     "execution_count": 9,
     "metadata": {},
     "output_type": "execute_result"
    }
   ],
   "source": [
    "K,N,M = P_t.shape\n",
    "K,N,M"
   ]
  },
  {
   "cell_type": "code",
   "execution_count": 10,
   "metadata": {
    "colab": {},
    "colab_type": "code",
    "id": "WtqGGXrXrHvM"
   },
   "outputs": [],
   "source": [
    "# k = action\n",
    "# i = current state\n",
    "# j = next state"
   ]
  },
  {
   "cell_type": "markdown",
   "metadata": {
    "colab_type": "text",
    "id": "B6HX00bHrHvS"
   },
   "source": [
    "### Step 2: EDA"
   ]
  },
  {
   "cell_type": "code",
   "execution_count": 11,
   "metadata": {
    "colab": {},
    "colab_type": "code",
    "id": "nlm-1Lw_rHvT",
    "outputId": "10c2a678-e540-420e-e9b1-a1d45417dd70"
   },
   "outputs": [
    {
     "data": {
      "text/plain": [
       "array([[0.9943, 0.0057, 0.    , 0.    , 0.    , 0.    , 0.    , 0.    ,\n",
       "        0.    , 0.    , 0.    ],\n",
       "       [0.9619, 0.0337, 0.0044, 0.    , 0.    , 0.    , 0.    , 0.    ,\n",
       "        0.    , 0.    , 0.    ],\n",
       "       [0.8795, 0.0815, 0.0329, 0.0061, 0.    , 0.    , 0.    , 0.    ,\n",
       "        0.    , 0.    , 0.    ],\n",
       "       [0.7352, 0.1317, 0.0892, 0.0356, 0.0083, 0.    , 0.    , 0.    ,\n",
       "        0.    , 0.    , 0.    ],\n",
       "       [0.5582, 0.1722, 0.1447, 0.0846, 0.0323, 0.008 , 0.    , 0.    ,\n",
       "        0.    , 0.    , 0.    ],\n",
       "       [0.3963, 0.1704, 0.1714, 0.1409, 0.0822, 0.0336, 0.0052, 0.    ,\n",
       "        0.    , 0.    , 0.    ],\n",
       "       [0.2355, 0.1456, 0.173 , 0.177 , 0.1432, 0.0874, 0.0315, 0.0068,\n",
       "        0.    , 0.    , 0.    ],\n",
       "       [0.1339, 0.1045, 0.1439, 0.1746, 0.175 , 0.1416, 0.086 , 0.0337,\n",
       "        0.0068, 0.    , 0.    ],\n",
       "       [0.0687, 0.0619, 0.103 , 0.1469, 0.1772, 0.181 , 0.14  , 0.0826,\n",
       "        0.0316, 0.0071, 0.    ],\n",
       "       [0.0308, 0.0396, 0.0669, 0.1044, 0.1481, 0.1739, 0.1741, 0.1378,\n",
       "        0.0852, 0.0326, 0.0066],\n",
       "       [0.0361, 0.0358, 0.0619, 0.1007, 0.1481, 0.1803, 0.1742, 0.1396,\n",
       "        0.0847, 0.0317, 0.0069]])"
      ]
     },
     "execution_count": 11,
     "metadata": {},
     "output_type": "execute_result"
    },
    {
     "data": {
      "text/plain": [
       "(11, 11)"
      ]
     },
     "execution_count": 11,
     "metadata": {},
     "output_type": "execute_result"
    },
    {
     "data": {
      "text/plain": [
       "array([1., 1., 1., 1., 1., 1., 1., 1., 1., 1., 1.])"
      ]
     },
     "execution_count": 11,
     "metadata": {},
     "output_type": "execute_result"
    }
   ],
   "source": [
    "# transition probability is dependent on action(s) taken\n",
    "# note: it is possible for MDP's to have absorbing states\n",
    "\n",
    "# all probabilities should be betw. 0 and 1, which they already are\n",
    "# confirm values are as expected\n",
    "\n",
    "P_t[1,:,:] # use array 1 as example\n",
    "\n",
    "P_t[1,:,:].shape\n",
    "\n",
    "# sum to validate probabilities add to 1\n",
    "np.sum(P_t[1,:,:], axis = 1)"
   ]
  },
  {
   "cell_type": "code",
   "execution_count": 30,
   "metadata": {},
   "outputs": [
    {
     "data": {
      "text/plain": [
       "array([[1.    , 0.    , 0.    , 0.    , 0.    , 0.    , 0.    , 0.    ,\n",
       "        0.    , 0.    , 0.    ],\n",
       "       [0.9938, 0.0062, 0.    , 0.    , 0.    , 0.    , 0.    , 0.    ,\n",
       "        0.    , 0.    , 0.    ],\n",
       "       [0.9631, 0.0308, 0.0061, 0.    , 0.    , 0.    , 0.    , 0.    ,\n",
       "        0.    , 0.    , 0.    ],\n",
       "       [0.8768, 0.081 , 0.0368, 0.0054, 0.    , 0.    , 0.    , 0.    ,\n",
       "        0.    , 0.    , 0.    ],\n",
       "       [0.7349, 0.1369, 0.0893, 0.0331, 0.0058, 0.    , 0.    , 0.    ,\n",
       "        0.    , 0.    , 0.    ],\n",
       "       [0.5584, 0.1741, 0.1412, 0.0865, 0.0327, 0.0071, 0.    , 0.    ,\n",
       "        0.    , 0.    , 0.    ],\n",
       "       [0.384 , 0.1738, 0.1771, 0.1412, 0.0849, 0.0314, 0.0076, 0.    ,\n",
       "        0.    , 0.    , 0.    ],\n",
       "       [0.2364, 0.1396, 0.1747, 0.1793, 0.1435, 0.0882, 0.0321, 0.0062,\n",
       "        0.    , 0.    , 0.    ],\n",
       "       [0.1287, 0.11  , 0.1388, 0.1782, 0.1772, 0.1399, 0.0858, 0.035 ,\n",
       "        0.0064, 0.    , 0.    ],\n",
       "       [0.0678, 0.0646, 0.0979, 0.1469, 0.1805, 0.1761, 0.1413, 0.0845,\n",
       "        0.0336, 0.0068, 0.    ],\n",
       "       [0.0299, 0.0379, 0.0675, 0.105 , 0.1436, 0.1739, 0.1808, 0.1413,\n",
       "        0.0834, 0.0312, 0.0055]])"
      ]
     },
     "execution_count": 30,
     "metadata": {},
     "output_type": "execute_result"
    },
    {
     "data": {
      "text/plain": [
       "(11, 11)"
      ]
     },
     "execution_count": 30,
     "metadata": {},
     "output_type": "execute_result"
    },
    {
     "data": {
      "text/plain": [
       "array([1., 1., 1., 1., 1., 1., 1., 1., 1., 1., 1.])"
      ]
     },
     "execution_count": 30,
     "metadata": {},
     "output_type": "execute_result"
    },
    {
     "data": {
      "text/plain": [
       "array([[0.9943, 0.0057, 0.    , 0.    , 0.    , 0.    , 0.    , 0.    ,\n",
       "        0.    , 0.    , 0.    ],\n",
       "       [0.9619, 0.0337, 0.0044, 0.    , 0.    , 0.    , 0.    , 0.    ,\n",
       "        0.    , 0.    , 0.    ],\n",
       "       [0.8795, 0.0815, 0.0329, 0.0061, 0.    , 0.    , 0.    , 0.    ,\n",
       "        0.    , 0.    , 0.    ],\n",
       "       [0.7352, 0.1317, 0.0892, 0.0356, 0.0083, 0.    , 0.    , 0.    ,\n",
       "        0.    , 0.    , 0.    ],\n",
       "       [0.5582, 0.1722, 0.1447, 0.0846, 0.0323, 0.008 , 0.    , 0.    ,\n",
       "        0.    , 0.    , 0.    ],\n",
       "       [0.3963, 0.1704, 0.1714, 0.1409, 0.0822, 0.0336, 0.0052, 0.    ,\n",
       "        0.    , 0.    , 0.    ],\n",
       "       [0.2355, 0.1456, 0.173 , 0.177 , 0.1432, 0.0874, 0.0315, 0.0068,\n",
       "        0.    , 0.    , 0.    ],\n",
       "       [0.1339, 0.1045, 0.1439, 0.1746, 0.175 , 0.1416, 0.086 , 0.0337,\n",
       "        0.0068, 0.    , 0.    ],\n",
       "       [0.0687, 0.0619, 0.103 , 0.1469, 0.1772, 0.181 , 0.14  , 0.0826,\n",
       "        0.0316, 0.0071, 0.    ],\n",
       "       [0.0308, 0.0396, 0.0669, 0.1044, 0.1481, 0.1739, 0.1741, 0.1378,\n",
       "        0.0852, 0.0326, 0.0066],\n",
       "       [0.0361, 0.0358, 0.0619, 0.1007, 0.1481, 0.1803, 0.1742, 0.1396,\n",
       "        0.0847, 0.0317, 0.0069]])"
      ]
     },
     "execution_count": 30,
     "metadata": {},
     "output_type": "execute_result"
    },
    {
     "data": {
      "text/plain": [
       "(11, 11)"
      ]
     },
     "execution_count": 30,
     "metadata": {},
     "output_type": "execute_result"
    },
    {
     "data": {
      "text/plain": [
       "array([1., 1., 1., 1., 1., 1., 1., 1., 1., 1., 1.])"
      ]
     },
     "execution_count": 30,
     "metadata": {},
     "output_type": "execute_result"
    },
    {
     "data": {
      "text/plain": [
       "array([[0.9568, 0.0349, 0.0083, 0.    , 0.    , 0.    , 0.    , 0.    ,\n",
       "        0.    , 0.    , 0.    ],\n",
       "       [0.8781, 0.0815, 0.0325, 0.0079, 0.    , 0.    , 0.    , 0.    ,\n",
       "        0.    , 0.    , 0.    ],\n",
       "       [0.7419, 0.1364, 0.0804, 0.034 , 0.0073, 0.    , 0.    , 0.    ,\n",
       "        0.    , 0.    , 0.    ],\n",
       "       [0.5591, 0.1793, 0.1426, 0.0823, 0.0322, 0.0045, 0.    , 0.    ,\n",
       "        0.    , 0.    , 0.    ],\n",
       "       [0.3959, 0.1782, 0.1711, 0.135 , 0.0834, 0.0308, 0.0056, 0.    ,\n",
       "        0.    , 0.    , 0.    ],\n",
       "       [0.2401, 0.1535, 0.1779, 0.1689, 0.1418, 0.0835, 0.0277, 0.0066,\n",
       "        0.    , 0.    , 0.    ],\n",
       "       [0.1394, 0.105 , 0.1427, 0.1764, 0.1712, 0.1424, 0.0825, 0.0339,\n",
       "        0.0065, 0.    , 0.    ],\n",
       "       [0.0691, 0.0648, 0.1053, 0.1454, 0.1781, 0.1737, 0.1403, 0.0861,\n",
       "        0.0302, 0.007 , 0.    ],\n",
       "       [0.0345, 0.035 , 0.0632, 0.0991, 0.1462, 0.1746, 0.1746, 0.1448,\n",
       "        0.0866, 0.0348, 0.0066],\n",
       "       [0.034 , 0.0379, 0.0638, 0.103 , 0.1417, 0.1793, 0.1776, 0.1389,\n",
       "        0.0826, 0.0334, 0.0078],\n",
       "       [0.0336, 0.0366, 0.0671, 0.1017, 0.1449, 0.1762, 0.173 , 0.1393,\n",
       "        0.0875, 0.0342, 0.0059]])"
      ]
     },
     "execution_count": 30,
     "metadata": {},
     "output_type": "execute_result"
    },
    {
     "data": {
      "text/plain": [
       "(11, 11)"
      ]
     },
     "execution_count": 30,
     "metadata": {},
     "output_type": "execute_result"
    },
    {
     "data": {
      "text/plain": [
       "array([1., 1., 1., 1., 1., 1., 1., 1., 1., 1., 1.])"
      ]
     },
     "execution_count": 30,
     "metadata": {},
     "output_type": "execute_result"
    },
    {
     "data": {
      "text/plain": [
       "array([[0.8763, 0.085 , 0.0326, 0.0061, 0.    , 0.    , 0.    , 0.    ,\n",
       "        0.    , 0.    , 0.    ],\n",
       "       [0.7406, 0.1373, 0.0825, 0.0341, 0.0055, 0.    , 0.    , 0.    ,\n",
       "        0.    , 0.    , 0.    ],\n",
       "       [0.5442, 0.1833, 0.1438, 0.0901, 0.032 , 0.0066, 0.    , 0.    ,\n",
       "        0.    , 0.    , 0.    ],\n",
       "       [0.3872, 0.1771, 0.178 , 0.1338, 0.0853, 0.0318, 0.0068, 0.    ,\n",
       "        0.    , 0.    , 0.    ],\n",
       "       [0.2394, 0.1445, 0.1709, 0.1769, 0.138 , 0.0888, 0.0342, 0.0073,\n",
       "        0.    , 0.    , 0.    ],\n",
       "       [0.132 , 0.1001, 0.1434, 0.1768, 0.1799, 0.139 , 0.0872, 0.0357,\n",
       "        0.0059, 0.    , 0.    ],\n",
       "       [0.0692, 0.0659, 0.104 , 0.144 , 0.1745, 0.1731, 0.1429, 0.0833,\n",
       "        0.0368, 0.0063, 0.    ],\n",
       "       [0.0341, 0.0335, 0.0626, 0.1062, 0.1468, 0.1736, 0.1752, 0.1441,\n",
       "        0.0822, 0.0358, 0.0059],\n",
       "       [0.0305, 0.038 , 0.0645, 0.1045, 0.1459, 0.1752, 0.1704, 0.1418,\n",
       "        0.0864, 0.0364, 0.0064],\n",
       "       [0.0345, 0.0329, 0.0653, 0.1083, 0.1438, 0.1751, 0.1697, 0.1381,\n",
       "        0.09  , 0.0356, 0.0067],\n",
       "       [0.033 , 0.04  , 0.0677, 0.1029, 0.1463, 0.1713, 0.1746, 0.1417,\n",
       "        0.082 , 0.0328, 0.0077]])"
      ]
     },
     "execution_count": 30,
     "metadata": {},
     "output_type": "execute_result"
    },
    {
     "data": {
      "text/plain": [
       "(11, 11)"
      ]
     },
     "execution_count": 30,
     "metadata": {},
     "output_type": "execute_result"
    },
    {
     "data": {
      "text/plain": [
       "array([1., 1., 1., 1., 1., 1., 1., 1., 1., 1., 1.])"
      ]
     },
     "execution_count": 30,
     "metadata": {},
     "output_type": "execute_result"
    },
    {
     "data": {
      "text/plain": [
       "array([[0.7369, 0.1407, 0.0842, 0.0328, 0.0054, 0.    , 0.    , 0.    ,\n",
       "        0.    , 0.    , 0.    ],\n",
       "       [0.5568, 0.1754, 0.1416, 0.0833, 0.0359, 0.007 , 0.    , 0.    ,\n",
       "        0.    , 0.    , 0.    ],\n",
       "       [0.3773, 0.1752, 0.1814, 0.1411, 0.0874, 0.0317, 0.0059, 0.    ,\n",
       "        0.    , 0.    , 0.    ],\n",
       "       [0.2417, 0.144 , 0.1702, 0.1786, 0.1443, 0.0834, 0.0301, 0.0077,\n",
       "        0.    , 0.    , 0.    ],\n",
       "       [0.1316, 0.1075, 0.1457, 0.178 , 0.1785, 0.1362, 0.0829, 0.0332,\n",
       "        0.0064, 0.    , 0.    ],\n",
       "       [0.0665, 0.0646, 0.103 , 0.1459, 0.1801, 0.1724, 0.1404, 0.087 ,\n",
       "        0.0335, 0.0066, 0.    ],\n",
       "       [0.0297, 0.0329, 0.0647, 0.1018, 0.145 , 0.1823, 0.1749, 0.1403,\n",
       "        0.088 , 0.0338, 0.0066],\n",
       "       [0.0314, 0.0305, 0.0686, 0.1008, 0.1523, 0.1795, 0.1675, 0.1384,\n",
       "        0.0905, 0.0342, 0.0063],\n",
       "       [0.0308, 0.0332, 0.065 , 0.1044, 0.1473, 0.1765, 0.1711, 0.1482,\n",
       "        0.0808, 0.0368, 0.0059],\n",
       "       [0.0354, 0.0347, 0.0661, 0.1086, 0.1485, 0.1697, 0.1766, 0.1378,\n",
       "        0.0833, 0.0332, 0.0061],\n",
       "       [0.0338, 0.0366, 0.0668, 0.0963, 0.1532, 0.1776, 0.1735, 0.1345,\n",
       "        0.0894, 0.0318, 0.0065]])"
      ]
     },
     "execution_count": 30,
     "metadata": {},
     "output_type": "execute_result"
    },
    {
     "data": {
      "text/plain": [
       "(11, 11)"
      ]
     },
     "execution_count": 30,
     "metadata": {},
     "output_type": "execute_result"
    },
    {
     "data": {
      "text/plain": [
       "array([1., 1., 1., 1., 1., 1., 1., 1., 1., 1., 1.])"
      ]
     },
     "execution_count": 30,
     "metadata": {},
     "output_type": "execute_result"
    },
    {
     "data": {
      "text/plain": [
       "array([[0.5709, 0.1718, 0.139 , 0.0802, 0.0314, 0.0067, 0.    , 0.    ,\n",
       "        0.    , 0.    , 0.    ],\n",
       "       [0.384 , 0.1782, 0.1761, 0.1376, 0.0832, 0.0332, 0.0077, 0.    ,\n",
       "        0.    , 0.    , 0.    ],\n",
       "       [0.2388, 0.1406, 0.1745, 0.1761, 0.1438, 0.086 , 0.0328, 0.0074,\n",
       "        0.    , 0.    , 0.    ],\n",
       "       [0.1324, 0.102 , 0.14  , 0.1771, 0.1749, 0.1426, 0.0877, 0.0366,\n",
       "        0.0067, 0.    , 0.    ],\n",
       "       [0.0648, 0.0702, 0.1019, 0.1507, 0.1747, 0.1723, 0.1401, 0.0835,\n",
       "        0.0356, 0.0062, 0.    ],\n",
       "       [0.0303, 0.0349, 0.0637, 0.1   , 0.1477, 0.1828, 0.1778, 0.143 ,\n",
       "        0.0804, 0.0328, 0.0066],\n",
       "       [0.0332, 0.0393, 0.0655, 0.1049, 0.147 , 0.1757, 0.1739, 0.1374,\n",
       "        0.0835, 0.0338, 0.0058],\n",
       "       [0.0324, 0.0375, 0.0664, 0.1019, 0.1478, 0.1735, 0.174 , 0.1415,\n",
       "        0.0836, 0.0347, 0.0067],\n",
       "       [0.0317, 0.0355, 0.0661, 0.1053, 0.1496, 0.1722, 0.1738, 0.1429,\n",
       "        0.0838, 0.0327, 0.0064],\n",
       "       [0.0327, 0.0363, 0.0663, 0.1036, 0.1462, 0.1744, 0.175 , 0.1446,\n",
       "        0.0819, 0.032 , 0.007 ],\n",
       "       [0.0335, 0.0398, 0.0645, 0.1014, 0.1455, 0.1761, 0.1736, 0.1361,\n",
       "        0.0883, 0.0348, 0.0064]])"
      ]
     },
     "execution_count": 30,
     "metadata": {},
     "output_type": "execute_result"
    },
    {
     "data": {
      "text/plain": [
       "(11, 11)"
      ]
     },
     "execution_count": 30,
     "metadata": {},
     "output_type": "execute_result"
    },
    {
     "data": {
      "text/plain": [
       "array([1., 1., 1., 1., 1., 1., 1., 1., 1., 1., 1.])"
      ]
     },
     "execution_count": 30,
     "metadata": {},
     "output_type": "execute_result"
    },
    {
     "data": {
      "text/plain": [
       "array([[0.3826, 0.1731, 0.177 , 0.1436, 0.0843, 0.0316, 0.0078, 0.    ,\n",
       "        0.    , 0.    , 0.    ],\n",
       "       [0.2422, 0.1528, 0.1773, 0.1709, 0.1317, 0.0837, 0.035 , 0.0064,\n",
       "        0.    , 0.    , 0.    ],\n",
       "       [0.1309, 0.1097, 0.1447, 0.1665, 0.1771, 0.1462, 0.0866, 0.0308,\n",
       "        0.0075, 0.    , 0.    ],\n",
       "       [0.0661, 0.0633, 0.1075, 0.143 , 0.1744, 0.1769, 0.1383, 0.0886,\n",
       "        0.0345, 0.0074, 0.    ],\n",
       "       [0.0311, 0.038 , 0.0668, 0.1052, 0.1474, 0.1691, 0.1781, 0.1421,\n",
       "        0.0816, 0.0345, 0.0061],\n",
       "       [0.0303, 0.0374, 0.0668, 0.1042, 0.1475, 0.183 , 0.1702, 0.1385,\n",
       "        0.084 , 0.0323, 0.0058],\n",
       "       [0.0295, 0.0359, 0.0685, 0.1046, 0.143 , 0.1728, 0.1782, 0.138 ,\n",
       "        0.0867, 0.0351, 0.0077],\n",
       "       [0.0315, 0.0391, 0.0682, 0.0988, 0.1512, 0.1654, 0.1832, 0.1354,\n",
       "        0.0874, 0.034 , 0.0058],\n",
       "       [0.0354, 0.0357, 0.0644, 0.1059, 0.1475, 0.1731, 0.1794, 0.1404,\n",
       "        0.0814, 0.0322, 0.0046],\n",
       "       [0.0321, 0.0364, 0.0626, 0.1025, 0.1504, 0.1837, 0.1721, 0.1387,\n",
       "        0.0812, 0.0336, 0.0067],\n",
       "       [0.0322, 0.0385, 0.0644, 0.1062, 0.1551, 0.1708, 0.169 , 0.1442,\n",
       "        0.0803, 0.0336, 0.0057]])"
      ]
     },
     "execution_count": 30,
     "metadata": {},
     "output_type": "execute_result"
    },
    {
     "data": {
      "text/plain": [
       "(11, 11)"
      ]
     },
     "execution_count": 30,
     "metadata": {},
     "output_type": "execute_result"
    },
    {
     "data": {
      "text/plain": [
       "array([1., 1., 1., 1., 1., 1., 1., 1., 1., 1., 1.])"
      ]
     },
     "execution_count": 30,
     "metadata": {},
     "output_type": "execute_result"
    },
    {
     "data": {
      "text/plain": [
       "array([[0.2387, 0.1421, 0.1774, 0.177 , 0.1382, 0.0841, 0.0347, 0.0078,\n",
       "        0.    , 0.    , 0.    ],\n",
       "       [0.1328, 0.1053, 0.1458, 0.1734, 0.1779, 0.14  , 0.0822, 0.0351,\n",
       "        0.0075, 0.    , 0.    ],\n",
       "       [0.068 , 0.0669, 0.1078, 0.1465, 0.1774, 0.1698, 0.1387, 0.0829,\n",
       "        0.0337, 0.0083, 0.    ],\n",
       "       [0.0297, 0.0354, 0.065 , 0.1017, 0.1488, 0.1692, 0.1815, 0.1465,\n",
       "        0.0818, 0.0331, 0.0073],\n",
       "       [0.0301, 0.0382, 0.0653, 0.1032, 0.1451, 0.1769, 0.1742, 0.144 ,\n",
       "        0.0839, 0.0338, 0.0053],\n",
       "       [0.0333, 0.0328, 0.0629, 0.1037, 0.1501, 0.1753, 0.1788, 0.1404,\n",
       "        0.081 , 0.0358, 0.0059],\n",
       "       [0.0327, 0.0335, 0.0678, 0.1078, 0.1425, 0.1773, 0.1776, 0.1386,\n",
       "        0.0812, 0.0343, 0.0067],\n",
       "       [0.0287, 0.0381, 0.065 , 0.1037, 0.1477, 0.1785, 0.1743, 0.1378,\n",
       "        0.0877, 0.0328, 0.0057],\n",
       "       [0.0302, 0.0345, 0.0662, 0.1013, 0.1436, 0.1791, 0.1761, 0.1436,\n",
       "        0.0838, 0.0346, 0.007 ],\n",
       "       [0.0311, 0.036 , 0.064 , 0.1086, 0.1393, 0.1807, 0.1736, 0.1425,\n",
       "        0.0835, 0.0347, 0.006 ],\n",
       "       [0.0322, 0.0362, 0.0652, 0.1069, 0.1473, 0.1736, 0.1745, 0.1468,\n",
       "        0.0803, 0.033 , 0.004 ]])"
      ]
     },
     "execution_count": 30,
     "metadata": {},
     "output_type": "execute_result"
    },
    {
     "data": {
      "text/plain": [
       "(11, 11)"
      ]
     },
     "execution_count": 30,
     "metadata": {},
     "output_type": "execute_result"
    },
    {
     "data": {
      "text/plain": [
       "array([1., 1., 1., 1., 1., 1., 1., 1., 1., 1., 1.])"
      ]
     },
     "execution_count": 30,
     "metadata": {},
     "output_type": "execute_result"
    },
    {
     "data": {
      "text/plain": [
       "array([[0.1324, 0.1045, 0.1469, 0.1767, 0.1716, 0.1429, 0.085 , 0.0344,\n",
       "        0.0056, 0.    , 0.    ],\n",
       "       [0.0704, 0.0599, 0.1025, 0.1465, 0.1798, 0.1755, 0.1384, 0.0868,\n",
       "        0.0331, 0.0071, 0.    ],\n",
       "       [0.0307, 0.039 , 0.0641, 0.0976, 0.1463, 0.1792, 0.1743, 0.1374,\n",
       "        0.0879, 0.0365, 0.007 ],\n",
       "       [0.0314, 0.035 , 0.0662, 0.1036, 0.1446, 0.1776, 0.1737, 0.1418,\n",
       "        0.0857, 0.0317, 0.0087],\n",
       "       [0.0307, 0.037 , 0.0593, 0.1021, 0.1503, 0.1709, 0.1781, 0.1431,\n",
       "        0.088 , 0.0336, 0.0069],\n",
       "       [0.033 , 0.0359, 0.0632, 0.1099, 0.1466, 0.177 , 0.1737, 0.1418,\n",
       "        0.0831, 0.0289, 0.0069],\n",
       "       [0.0337, 0.0369, 0.0638, 0.103 , 0.1475, 0.1804, 0.1758, 0.1402,\n",
       "        0.0803, 0.032 , 0.0064],\n",
       "       [0.0326, 0.0331, 0.0635, 0.1003, 0.1489, 0.1759, 0.1747, 0.1433,\n",
       "        0.0844, 0.037 , 0.0063],\n",
       "       [0.0302, 0.0342, 0.065 , 0.1053, 0.1519, 0.1755, 0.1732, 0.1357,\n",
       "        0.0874, 0.0348, 0.0068],\n",
       "       [0.0323, 0.0375, 0.0693, 0.1001, 0.1454, 0.1672, 0.1806, 0.1404,\n",
       "        0.0879, 0.0338, 0.0055],\n",
       "       [0.033 , 0.0359, 0.0622, 0.1075, 0.1476, 0.1741, 0.1748, 0.1442,\n",
       "        0.0812, 0.0324, 0.0071]])"
      ]
     },
     "execution_count": 30,
     "metadata": {},
     "output_type": "execute_result"
    },
    {
     "data": {
      "text/plain": [
       "(11, 11)"
      ]
     },
     "execution_count": 30,
     "metadata": {},
     "output_type": "execute_result"
    },
    {
     "data": {
      "text/plain": [
       "array([1., 1., 1., 1., 1., 1., 1., 1., 1., 1., 1.])"
      ]
     },
     "execution_count": 30,
     "metadata": {},
     "output_type": "execute_result"
    },
    {
     "data": {
      "text/plain": [
       "array([[0.0657, 0.0681, 0.1002, 0.1479, 0.1763, 0.1778, 0.1388, 0.0865,\n",
       "        0.0328, 0.0059, 0.    ],\n",
       "       [0.0307, 0.0364, 0.0617, 0.1046, 0.1452, 0.179 , 0.1689, 0.1461,\n",
       "        0.0866, 0.0343, 0.0065],\n",
       "       [0.0356, 0.036 , 0.0699, 0.1024, 0.1484, 0.1661, 0.1759, 0.1387,\n",
       "        0.0841, 0.0355, 0.0074],\n",
       "       [0.0329, 0.0385, 0.0603, 0.1039, 0.149 , 0.1753, 0.1735, 0.1371,\n",
       "        0.0889, 0.0339, 0.0067],\n",
       "       [0.0333, 0.0386, 0.0653, 0.1004, 0.1465, 0.1729, 0.1745, 0.1413,\n",
       "        0.0886, 0.0325, 0.0061],\n",
       "       [0.0326, 0.0365, 0.0648, 0.1038, 0.1396, 0.1749, 0.1719, 0.1434,\n",
       "        0.0873, 0.0369, 0.0083],\n",
       "       [0.0351, 0.0376, 0.0651, 0.1087, 0.1432, 0.1648, 0.1741, 0.1473,\n",
       "        0.0806, 0.038 , 0.0055],\n",
       "       [0.0336, 0.0389, 0.067 , 0.1019, 0.1451, 0.1721, 0.1769, 0.1396,\n",
       "        0.0865, 0.0327, 0.0057],\n",
       "       [0.0326, 0.0379, 0.067 , 0.0984, 0.1513, 0.1774, 0.1741, 0.1392,\n",
       "        0.0811, 0.0352, 0.0058],\n",
       "       [0.0299, 0.0349, 0.065 , 0.1072, 0.1454, 0.1736, 0.1764, 0.1425,\n",
       "        0.0872, 0.0322, 0.0057],\n",
       "       [0.0344, 0.0388, 0.0641, 0.0956, 0.147 , 0.1741, 0.177 , 0.1415,\n",
       "        0.0858, 0.0349, 0.0068]])"
      ]
     },
     "execution_count": 30,
     "metadata": {},
     "output_type": "execute_result"
    },
    {
     "data": {
      "text/plain": [
       "(11, 11)"
      ]
     },
     "execution_count": 30,
     "metadata": {},
     "output_type": "execute_result"
    },
    {
     "data": {
      "text/plain": [
       "array([1., 1., 1., 1., 1., 1., 1., 1., 1., 1., 1.])"
      ]
     },
     "execution_count": 30,
     "metadata": {},
     "output_type": "execute_result"
    },
    {
     "data": {
      "text/plain": [
       "array([[0.0292, 0.0367, 0.0665, 0.1088, 0.1457, 0.1769, 0.1705, 0.1445,\n",
       "        0.0848, 0.0298, 0.0066],\n",
       "       [0.0311, 0.035 , 0.0614, 0.1008, 0.1445, 0.1776, 0.1826, 0.1404,\n",
       "        0.0863, 0.0331, 0.0072],\n",
       "       [0.0323, 0.0384, 0.0644, 0.1051, 0.1475, 0.1749, 0.1733, 0.1384,\n",
       "        0.0858, 0.0328, 0.0071],\n",
       "       [0.0315, 0.0376, 0.0663, 0.1063, 0.1497, 0.18  , 0.1709, 0.135 ,\n",
       "        0.0813, 0.0349, 0.0065],\n",
       "       [0.0307, 0.0372, 0.0629, 0.1095, 0.1444, 0.1723, 0.1773, 0.1395,\n",
       "        0.0857, 0.0336, 0.0069],\n",
       "       [0.0336, 0.0382, 0.066 , 0.1068, 0.1417, 0.1788, 0.1738, 0.1383,\n",
       "        0.0861, 0.0312, 0.0055],\n",
       "       [0.0343, 0.0349, 0.068 , 0.1002, 0.1445, 0.1739, 0.1792, 0.138 ,\n",
       "        0.0843, 0.0355, 0.0072],\n",
       "       [0.0379, 0.0373, 0.061 , 0.1057, 0.1446, 0.1761, 0.1784, 0.1376,\n",
       "        0.0803, 0.0347, 0.0064],\n",
       "       [0.028 , 0.039 , 0.0632, 0.0974, 0.1492, 0.1802, 0.1798, 0.1429,\n",
       "        0.0802, 0.0337, 0.0064],\n",
       "       [0.0323, 0.039 , 0.0656, 0.1009, 0.1532, 0.167 , 0.183 , 0.1394,\n",
       "        0.0819, 0.0326, 0.0051],\n",
       "       [0.0299, 0.034 , 0.064 , 0.1031, 0.1499, 0.1844, 0.1744, 0.1395,\n",
       "        0.0852, 0.0299, 0.0057]])"
      ]
     },
     "execution_count": 30,
     "metadata": {},
     "output_type": "execute_result"
    },
    {
     "data": {
      "text/plain": [
       "(11, 11)"
      ]
     },
     "execution_count": 30,
     "metadata": {},
     "output_type": "execute_result"
    },
    {
     "data": {
      "text/plain": [
       "array([1., 1., 1., 1., 1., 1., 1., 1., 1., 1., 1.])"
      ]
     },
     "execution_count": 30,
     "metadata": {},
     "output_type": "execute_result"
    }
   ],
   "source": [
    "for z in range(0,11):\n",
    "    P_t[z,:,:]\n",
    "    P_t[z,:,:].shape\n",
    "    np.sum(P_t[z,:,:], axis = 1)"
   ]
  },
  {
   "cell_type": "code",
   "execution_count": 12,
   "metadata": {},
   "outputs": [
    {
     "data": {
      "text/plain": [
       "(100, 11, 11)"
      ]
     },
     "execution_count": 12,
     "metadata": {},
     "output_type": "execute_result"
    },
    {
     "data": {
      "text/plain": [
       "array([[1.    , 0.    , 0.    , 0.    , 0.    , 0.    , 0.    , 0.    ,\n",
       "        0.    , 0.    , 0.    ],\n",
       "       [0.9938, 0.0062, 0.    , 0.    , 0.    , 0.    , 0.    , 0.    ,\n",
       "        0.    , 0.    , 0.    ],\n",
       "       [0.9631, 0.0308, 0.0061, 0.    , 0.    , 0.    , 0.    , 0.    ,\n",
       "        0.    , 0.    , 0.    ],\n",
       "       [0.8768, 0.081 , 0.0368, 0.0054, 0.    , 0.    , 0.    , 0.    ,\n",
       "        0.    , 0.    , 0.    ],\n",
       "       [0.7349, 0.1369, 0.0893, 0.0331, 0.0058, 0.    , 0.    , 0.    ,\n",
       "        0.    , 0.    , 0.    ],\n",
       "       [0.5584, 0.1741, 0.1412, 0.0865, 0.0327, 0.0071, 0.    , 0.    ,\n",
       "        0.    , 0.    , 0.    ],\n",
       "       [0.384 , 0.1738, 0.1771, 0.1412, 0.0849, 0.0314, 0.0076, 0.    ,\n",
       "        0.    , 0.    , 0.    ],\n",
       "       [0.2364, 0.1396, 0.1747, 0.1793, 0.1435, 0.0882, 0.0321, 0.0062,\n",
       "        0.    , 0.    , 0.    ],\n",
       "       [0.1287, 0.11  , 0.1388, 0.1782, 0.1772, 0.1399, 0.0858, 0.035 ,\n",
       "        0.0064, 0.    , 0.    ],\n",
       "       [0.0678, 0.0646, 0.0979, 0.1469, 0.1805, 0.1761, 0.1413, 0.0845,\n",
       "        0.0336, 0.0068, 0.    ],\n",
       "       [0.0299, 0.0379, 0.0675, 0.105 , 0.1436, 0.1739, 0.1808, 0.1413,\n",
       "        0.0834, 0.0312, 0.0055]])"
      ]
     },
     "execution_count": 12,
     "metadata": {},
     "output_type": "execute_result"
    }
   ],
   "source": [
    "# define # of periods / decision epochs / stages\n",
    "T = 100\n",
    "\n",
    "# define # of rows & cols\n",
    "n = 11\n",
    "\n",
    "# create array for storing transition probs\n",
    "P = np.zeros((T,n,n),dtype=np.float64) # reflects steps 0 through 99\n",
    "\n",
    "P.shape\n",
    "\n",
    "# take first array of 0's and set equal to first set of transition probabilities\n",
    "P[0] = P_t[0]\n",
    "P[0]"
   ]
  },
  {
   "cell_type": "code",
   "execution_count": 13,
   "metadata": {},
   "outputs": [],
   "source": [
    "for item in range(1,T):\n",
    "    P[item] = np.matmul(P[item - 1], P_t[0])"
   ]
  },
  {
   "cell_type": "code",
   "execution_count": 14,
   "metadata": {},
   "outputs": [],
   "source": [
    "# map actions\n",
    "states = {\n",
    "    \n",
    "    0:'state1', \n",
    "    1:'state2', \n",
    "    2:'state3', \n",
    "    3:'state4', \n",
    "    4:'state4', \n",
    "    5:'state5', \n",
    "    6:'state6', \n",
    "    7:'state7',\n",
    "    8:'state8',\n",
    "    9:'state9',\n",
    "    10:'state10'\n",
    "    \n",
    "}"
   ]
  },
  {
   "cell_type": "code",
   "execution_count": 22,
   "metadata": {},
   "outputs": [],
   "source": [
    "# plots\n",
    "\n"
   ]
  },
  {
   "cell_type": "code",
   "execution_count": null,
   "metadata": {
    "colab": {},
    "colab_type": "code",
    "id": "rr_4T5B9rHvX"
   },
   "outputs": [],
   "source": [
    "# simulation(s)\n",
    "\n",
    "\n",
    "# recurrent states -- including explanation(s)\n",
    "\n",
    "\n",
    "# stationarity\n",
    "\n",
    "\n",
    "# periodicity\n"
   ]
  },
  {
   "cell_type": "code",
   "execution_count": null,
   "metadata": {
    "colab": {},
    "colab_type": "code",
    "id": "u3t1f87KrHvb"
   },
   "outputs": [],
   "source": []
  },
  {
   "cell_type": "markdown",
   "metadata": {
    "colab_type": "text",
    "id": "e4poZqrLrHve"
   },
   "source": [
    "### Step 3: Value Iteration"
   ]
  },
  {
   "cell_type": "code",
   "execution_count": null,
   "metadata": {
    "colab": {},
    "colab_type": "code",
    "id": "I1wOKI9WxLAv"
   },
   "outputs": [],
   "source": [
    "def value_iteration(P_t,RR,t=600):\n",
    "    \n",
    "  K,N,M = P_t.shape\n",
    "  q = np.zeros((K,N,1),dtype=np.float64)\n",
    "  # print(q)\n",
    "    \n",
    "  print('The shape of K,N,M is:', K,N,M) \n",
    "  print('The shape of q is:',q.shape) # creates eleven 11 x 1 arrays\n",
    "    \n",
    "  for i in range(0,N):\n",
    "    for k in range(0,K):\n",
    "        for j in range(0,M):\n",
    "            q[k,i,0] = q[k,i,0] + RR[k,i,j]*P_t[k,i,j]\n",
    "\n",
    "  v = np.zeros((N,t),dtype=np.float64)\n",
    "  d = np.zeros((N,t),dtype=np.float64)\n",
    "    \n",
    "  for n in range(1,t):   \n",
    "      for i in range(0,N):\n",
    "          rhs = np.zeros((1,K),dtype=np.float64)\n",
    "        \n",
    "          for k in range(0,K):\n",
    "              rhs[0][k] = q[k][i][0] + np.matmul(P_t[k,i,:],v[:,n-1]) \n",
    "            \n",
    "          v[i,n] = max(rhs[0])\n",
    "          d[i,n] = np.argmax(rhs[0])\n",
    "  \n",
    "  v = v.T\n",
    "  d = d.T\n",
    "\n",
    "  return v,d"
   ]
  },
  {
   "cell_type": "code",
   "execution_count": null,
   "metadata": {
    "colab": {
     "base_uri": "https://localhost:8080/",
     "height": 52
    },
    "colab_type": "code",
    "id": "JpPLW-_Oxwa4",
    "outputId": "dcb9406e-b27c-47c9-8b89-6d876ea1167b"
   },
   "outputs": [],
   "source": [
    "v,d=value_iteration(P_t,RR)"
   ]
  },
  {
   "cell_type": "code",
   "execution_count": null,
   "metadata": {
    "colab": {},
    "colab_type": "code",
    "id": "iSC0gmYBrHvt"
   },
   "outputs": [],
   "source": [
    "value_df = pd.DataFrame(v)\n",
    "value_df"
   ]
  },
  {
   "cell_type": "code",
   "execution_count": null,
   "metadata": {
    "colab": {},
    "colab_type": "code",
    "id": "9SvQUyk0rHvw"
   },
   "outputs": [],
   "source": [
    "policy_df = pd.DataFrame(d)\n",
    "policy_df.tail(10)"
   ]
  },
  {
   "cell_type": "markdown",
   "metadata": {
    "colab_type": "text",
    "id": "vvzHgFalrHv7"
   },
   "source": [
    "### Step 4: Value Iteration by Simulation"
   ]
  },
  {
   "cell_type": "code",
   "execution_count": null,
   "metadata": {
    "colab": {
     "base_uri": "https://localhost:8080/",
     "height": 35
    },
    "colab_type": "code",
    "id": "inSeKFuB0S3D",
    "outputId": "b0440917-b51a-4f5f-c3ad-0a95fc322d0e"
   },
   "outputs": [],
   "source": [
    "a = P_t.sum(axis=1)\n",
    "a.shape"
   ]
  },
  {
   "cell_type": "code",
   "execution_count": null,
   "metadata": {},
   "outputs": [],
   "source": [
    "pd.DataFrame(a)"
   ]
  },
  {
   "cell_type": "code",
   "execution_count": null,
   "metadata": {},
   "outputs": [],
   "source": [
    "a.sum(axis=1)"
   ]
  },
  {
   "cell_type": "code",
   "execution_count": null,
   "metadata": {
    "colab": {},
    "colab_type": "code",
    "id": "4yyC4sH41Cmr"
   },
   "outputs": [],
   "source": [
    "np.set_printoptions(precision=15)"
   ]
  },
  {
   "cell_type": "code",
   "execution_count": null,
   "metadata": {
    "colab": {
     "base_uri": "https://localhost:8080/",
     "height": 408
    },
    "colab_type": "code",
    "id": "EHjwr-pr00oH",
    "outputId": "66387c9c-92ec-445a-8389-1855ae5286fc"
   },
   "outputs": [],
   "source": [
    "P_t[9,:,:]"
   ]
  },
  {
   "cell_type": "code",
   "execution_count": null,
   "metadata": {
    "colab": {},
    "colab_type": "code",
    "id": "nGPnYOHJx76a"
   },
   "outputs": [],
   "source": [
    "#T= number of episodes \n",
    "# maximum number of transitions (=maximum number of simulations -1)\n",
    "\n",
    "\n",
    "def val_iter_sim(P_mat,RR,T=1000,Tmax=1000):\n",
    "  K,N,M = P_t.shape\n",
    "  # compute the expected reward (immediate)\n",
    "  q = np.zeros((K,N,1),dtype=np.float64)\n",
    "\n",
    "  for i in range(0,N):\n",
    "      for k in range(0,K):\n",
    "          for j in range(0,M):\n",
    "              q[k,i,0] = q[k,i,0] + RR[k,i,j]*P_t[k,i,j]\n",
    "\n",
    "\n",
    "  v = np.zeros((N,T+1),dtype=np.float64)\n",
    "  d = np.zeros((N,T+1),dtype=np.int)\n",
    "  visits = np.zeros((N,1),dtype=np.int)\n",
    "\n",
    "\n",
    "\n",
    "  for n in range(1,T):\n",
    "      t = 1\n",
    "      y0 = N-1\n",
    "      while (t<=Tmax+1):\n",
    "          visits[y0]+=1\n",
    "          for i in range(0,N):\n",
    "              if i==y0:\n",
    "                  rhs = np.zeros((1,K),dtype=np.float64)\n",
    "                  for k in range(0,K):\n",
    "                      rhs[0][k] = q[k][i][0] + np.matmul(P_t[k,i,:],v[:,n-1]) \n",
    "                  v[i,n] = max(rhs[0])\n",
    "                  if np.random.uniform(0,1,1)>=0.1:\n",
    "                      d[i,n] = np.argmax(rhs[0])\n",
    "                  else:\n",
    "                      d[i,n] = np.random.choice(range(0,K))\n",
    "          y1 = np.random.choice(range(0,N),p=P_t[d[y0,n],y0,:])\n",
    "          y0 = y1\n",
    "          t = t+1\n",
    "      v[:,n+1] = v[:,n]\n",
    "      d[:,n+1] = d[:,n]\n",
    "      \n",
    "  v = v.T\n",
    "  d = d.T\n",
    "  return v,d, visits"
   ]
  },
  {
   "cell_type": "code",
   "execution_count": null,
   "metadata": {
    "colab": {
     "base_uri": "https://localhost:8080/",
     "height": 292
    },
    "colab_type": "code",
    "id": "NR6TTT-Oywkr",
    "outputId": "d57196c0-b263-476d-96ba-ad26c67ccf60"
   },
   "outputs": [],
   "source": [
    "%%time\n",
    "\n",
    "v,d,visits=val_iter_sim(P_t,RR)"
   ]
  },
  {
   "cell_type": "code",
   "execution_count": null,
   "metadata": {
    "colab": {},
    "colab_type": "code",
    "id": "1fxvJ5eCrHv_",
    "outputId": "a9d87ce5-fa00-4d63-ea6a-30046a3b7296",
    "scrolled": true
   },
   "outputs": [],
   "source": [
    "pd.DataFrame(d)"
   ]
  },
  {
   "cell_type": "markdown",
   "metadata": {
    "colab_type": "text",
    "id": "prJJemHTrHwD"
   },
   "source": [
    "### Step 5: Q-Learning"
   ]
  },
  {
   "cell_type": "code",
   "execution_count": null,
   "metadata": {
    "colab": {},
    "colab_type": "code",
    "id": "wVFGBKSr21C3"
   },
   "outputs": [],
   "source": [
    "# Tmax=maximum number of transitions (=maximum number of simulations -1)\n",
    "\n",
    "def Q_learning(env=env,lr=0.01,Tmax=1000,T=1000):\n",
    "\n",
    "  v = np.zeros((env.n + 1,T+1),dtype=np.float64) #value\n",
    "  d = np.zeros((env.n + 1,T+1),dtype=np.int) #policy\n",
    "  visits = np.zeros((env.n + 1,env.n + 1),dtype=np.int) #current/action\n",
    "\n",
    "  Q = np.zeros((env.n + 1,env.n + 1),dtype=np.float64)\n",
    "\n",
    "  learning_rate = lr\n",
    "  for num_ep in range(1,T):\n",
    "      t = 1\n",
    "      current_state = env.state\n",
    "      while (t <= Tmax+1):\n",
    "          if t < Tmax / 2:\n",
    "              if np.random.uniform(0,1,1)>=((Tmax - t) / Tmax):\n",
    "                  action = np.argmax(Q[current_state,:]) #greedy\n",
    "              else:\n",
    "                  action = np.random.choice(range(0,K)) #explore\n",
    "          else:\n",
    "              action = np.argmax(Q[current_state,:]) #greedy\n",
    "          visits[current_state,action]+=1\n",
    "          #print(\"state: \" + str(env.state))\n",
    "          next_state, reward, done, z = env._step(action)\n",
    "          #print(\"action: \" + str(action))\n",
    "          #print(\"next state: \" + str(env.state))\n",
    "          \n",
    "          Q[current_state,action] = (1-learning_rate)*Q[current_state,action] + learning_rate*(reward + \n",
    "                                                                              0.99 * max(Q[next_state,:]))      \n",
    "          current_state = env.state\n",
    "          t += 1\n",
    "          \n",
    "  J = np.zeros((env.n + 1,1),dtype=np.float64)\n",
    "  d = np.zeros((env.n + 1,1),dtype=np.float64)\n",
    "  for j in range(0,env.n + 1):\n",
    "      J[j,0] = max(Q[j,:])\n",
    "      d[j,0] = np.argmax(Q[j,:])\n",
    "  return Q,J,d"
   ]
  },
  {
   "cell_type": "code",
   "execution_count": null,
   "metadata": {
    "colab": {},
    "colab_type": "code",
    "id": "kElkCeIg3w3_"
   },
   "outputs": [],
   "source": [
    "Q,J,d=Q_learning()"
   ]
  },
  {
   "cell_type": "code",
   "execution_count": null,
   "metadata": {
    "colab": {
     "base_uri": "https://localhost:8080/",
     "height": 370
    },
    "colab_type": "code",
    "id": "SNXGPAWLrHwJ",
    "outputId": "6cabbd5c-5463-4d29-d652-8971d54db340",
    "scrolled": false
   },
   "outputs": [],
   "source": [
    "pd.DataFrame(Q)"
   ]
  },
  {
   "cell_type": "code",
   "execution_count": null,
   "metadata": {
    "colab": {
     "base_uri": "https://localhost:8080/",
     "height": 370
    },
    "colab_type": "code",
    "id": "O3MgAbuBrHwP",
    "outputId": "d7cb2734-99d5-4b36-ccd2-489eeda31d60"
   },
   "outputs": [],
   "source": [
    "pd.DataFrame(d)"
   ]
  },
  {
   "cell_type": "markdown",
   "metadata": {
    "colab_type": "text",
    "id": "a7e0uM0U5xEq"
   },
   "source": [
    "### Q Learning using Prob Matrix\n"
   ]
  },
  {
   "cell_type": "code",
   "execution_count": null,
   "metadata": {
    "colab": {},
    "colab_type": "code",
    "id": "IXmlPE0a511R"
   },
   "outputs": [],
   "source": [
    "# T #number of episodes\n",
    "# Tmax = 1000\n",
    "#  gamma = 0.1\n",
    "T=50000\n",
    "Tmax=10000\n",
    "gamma=0.05\n",
    "def Q_learn_pmat(P_t,RR,T=5000,Tmax=1000,gamma=0.1,discount_rate=0.95):\n",
    "  K,N,M = P_t.shape\n",
    "  v = np.zeros((N,T+1),dtype=np.float64) #value\n",
    "  d = np.zeros((N,T+1),dtype=np.int) #policy\n",
    "  visits = np.zeros((N,K),dtype=np.int)\n",
    "\n",
    "  Q = np.zeros((N,K),dtype=np.float64)\n",
    "\n",
    "  # maximum number of transitions (=maximum number of simulations -1)\n",
    "\n",
    "  for num_ep in range(1,T):\n",
    "      t = 1\n",
    "      y0 = np.random.choice(range(0,N))\n",
    "      d0 = np.random.choice(range(0,K))\n",
    "      while (t<=Tmax+1):\n",
    "          visits[y0,d0]+=1\n",
    "          y1 = np.random.choice(range(0,N),p=P_t[d0,y0,:])\n",
    "          Q[y0,d0] = (1-gamma)*Q[y0,d0] + gamma*(RR[d0,y0,y1] + discount_rate * max(Q[y1,:]))\n",
    "          y0 = y1\n",
    "          if np.random.uniform(0,1,1)>=0.2:\n",
    "              d0 = np.argmax(Q[y1,:]) #greedy\n",
    "          else:\n",
    "              d0 = np.random.choice(range(0,K)) #explore\n",
    "          t = t+1\n",
    "\n",
    "\n",
    "  J = np.zeros((N,1),dtype=np.float64)\n",
    "  d = np.zeros((N,1),dtype=np.float64)\n",
    "  for j in range(0,N):\n",
    "      J[j,0] = max(Q[j,:])\n",
    "      d[j,0] = np.argmax(Q[j,:])\n",
    "  return J,d,visits,Q"
   ]
  },
  {
   "cell_type": "code",
   "execution_count": null,
   "metadata": {
    "colab": {},
    "colab_type": "code",
    "id": "Id9RIX4C6pje"
   },
   "outputs": [],
   "source": [
    "J,d,visits,Q=Q_learn_pmat(P_t,RR)"
   ]
  },
  {
   "cell_type": "code",
   "execution_count": null,
   "metadata": {
    "colab": {},
    "colab_type": "code",
    "id": "-6GvfoSArHwZ"
   },
   "outputs": [],
   "source": [
    "policy_df = pd.DataFrame(d)"
   ]
  },
  {
   "cell_type": "code",
   "execution_count": null,
   "metadata": {
    "colab": {
     "base_uri": "https://localhost:8080/",
     "height": 370
    },
    "colab_type": "code",
    "id": "1hpSMawLrHwi",
    "outputId": "d042c021-8331-42c6-eee2-5a343ba69ca2"
   },
   "outputs": [],
   "source": [
    "pd.DataFrame(Q)"
   ]
  },
  {
   "cell_type": "code",
   "execution_count": null,
   "metadata": {
    "colab": {
     "base_uri": "https://localhost:8080/",
     "height": 370
    },
    "colab_type": "code",
    "id": "AqqBanYvrHwm",
    "outputId": "3c1a7462-7305-4fe4-8437-5572bb51b601",
    "scrolled": false
   },
   "outputs": [],
   "source": [
    "policy_df"
   ]
  },
  {
   "cell_type": "markdown",
   "metadata": {
    "colab_type": "text",
    "id": "F8KqJ3eXrHwr"
   },
   "source": [
    "### Step 6: Simulation without probability matrix/RR"
   ]
  },
  {
   "cell_type": "code",
   "execution_count": null,
   "metadata": {
    "colab": {},
    "colab_type": "code",
    "id": "WC2h00CVrHws"
   },
   "outputs": [],
   "source": []
  }
 ],
 "metadata": {
  "colab": {
   "name": "gym_analysis_Group6.ipynb",
   "provenance": []
  },
  "kernelspec": {
   "display_name": "Python 3",
   "language": "python",
   "name": "python3"
  },
  "language_info": {
   "codemirror_mode": {
    "name": "ipython",
    "version": 3
   },
   "file_extension": ".py",
   "mimetype": "text/x-python",
   "name": "python",
   "nbconvert_exporter": "python",
   "pygments_lexer": "ipython3",
   "version": "3.7.7"
  }
 },
 "nbformat": 4,
 "nbformat_minor": 1
}
