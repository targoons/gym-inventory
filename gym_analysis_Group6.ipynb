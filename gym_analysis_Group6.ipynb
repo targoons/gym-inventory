{
  "nbformat": 4,
  "nbformat_minor": 0,
  "metadata": {
    "kernelspec": {
      "display_name": "Python 3",
      "language": "python",
      "name": "python3"
    },
    "language_info": {
      "codemirror_mode": {
        "name": "ipython",
        "version": 3
      },
      "file_extension": ".py",
      "mimetype": "text/x-python",
      "name": "python",
      "nbconvert_exporter": "python",
      "pygments_lexer": "ipython3",
      "version": "3.7.7"
    },
    "colab": {
      "name": "gym_analysis_Group6.ipynb",
      "provenance": []
    }
  },
  "cells": [
    {
      "cell_type": "markdown",
      "metadata": {
        "id": "rVWe09OarHtr",
        "colab_type": "text"
      },
      "source": [
        "<div>\n",
        "<img src=\"https://www.automation.com/getmedia/3c46e651-52ef-4d7e-9ee1-4e2132173f57/EUS031---Image\" width=\"250\" align=\"left\"/>\n",
        "</div>"
      ]
    },
    {
      "cell_type": "markdown",
      "metadata": {
        "id": "xId9RYtarHtt",
        "colab_type": "text"
      },
      "source": [
        "## Reinforcement Learning Final Project: Inventory Management\n",
        "Group 6: Michael, Annie, Targoon"
      ]
    },
    {
      "cell_type": "code",
      "metadata": {
        "id": "bK0HJ53YrHtu",
        "colab_type": "code",
        "colab": {}
      },
      "source": [
        "# 1. Problem Introduction\n",
        "    # - EDA / Markov Process Description\n",
        "# 2. Solve Problem in a small scale (Value Iteration)\n",
        "    # - Calculate Probability Matrix & Rewards by simulation\n",
        "    # - plot different graphs between optimal action vs initial state given different values\n",
        "# 3. Increase problem scaling (Value Iteration with Simulation & Q-Learning)"
      ],
      "execution_count": null,
      "outputs": []
    },
    {
      "cell_type": "markdown",
      "metadata": {
        "id": "8Exio1zorHt2",
        "colab_type": "text"
      },
      "source": [
        "### Necessary imports"
      ]
    },
    {
      "cell_type": "code",
      "metadata": {
        "id": "8h0J6GQKrKQl",
        "colab_type": "code",
        "colab": {
          "base_uri": "https://localhost:8080/",
          "height": 124
        },
        "outputId": "7a47a5fe-fca3-48e1-ed93-76cfbb4d118d"
      },
      "source": [
        ""
      ],
      "execution_count": null,
      "outputs": [
        {
          "output_type": "stream",
          "text": [
            "Requirement already satisfied: gym in /usr/local/lib/python3.6/dist-packages (0.17.2)\n",
            "Requirement already satisfied: numpy>=1.10.4 in /usr/local/lib/python3.6/dist-packages (from gym) (1.18.5)\n",
            "Requirement already satisfied: cloudpickle<1.4.0,>=1.2.0 in /usr/local/lib/python3.6/dist-packages (from gym) (1.3.0)\n",
            "Requirement already satisfied: pyglet<=1.5.0,>=1.4.0 in /usr/local/lib/python3.6/dist-packages (from gym) (1.5.0)\n",
            "Requirement already satisfied: scipy in /usr/local/lib/python3.6/dist-packages (from gym) (1.4.1)\n",
            "Requirement already satisfied: future in /usr/local/lib/python3.6/dist-packages (from pyglet<=1.5.0,>=1.4.0->gym) (0.16.0)\n"
          ],
          "name": "stdout"
        }
      ]
    },
    {
      "cell_type": "code",
      "metadata": {
        "id": "NRvdefo3rHt4",
        "colab_type": "code",
        "colab": {
          "base_uri": "https://localhost:8080/",
          "height": 35
        },
        "outputId": "ddce3f4b-7c88-4fd0-9bfd-1eed14d58dc2"
      },
      "source": [
        "#!!pip install gym\n",
        "#!pip install quantecon \n",
        "!pip install numpy==1.19.1\n",
        "\n",
        "import gym\n",
        "from gym import spaces\n",
        "from gym import utils\n",
        "from gym.utils import seeding\n",
        "\n",
        "import logging\n",
        "logger = logging.getLogger(__name__)\n",
        "\n",
        "import os\n",
        "from os.path import basename\n",
        "import sys\n",
        "import platform\n",
        "\n",
        "import gym\n",
        "from gym import spaces\n",
        "from gym import utils\n",
        "from gym.utils import seeding\n",
        "\n",
        "import pandas as pd\n",
        "import numpy as np\n",
        "import quantecon as qe\n",
        "\n",
        "import matplotlib.pyplot as plt\n",
        "\n",
        "from collections import Counter\n",
        "from itertools import groupby\n",
        "\n",
        "import warnings\n",
        "warnings.filterwarnings(\"ignore\") # supress warnings\n",
        "\n",
        "import matplotlib.pyplot as plt\n",
        "\n",
        "pd.set_option('display.max_colwidth', -1)\n",
        "pd.set_option('display.max_row', 20) # set max row display\n",
        "pd.set_option('display.max_columns', 20) # set max column width\n",
        "\n",
        "# enable ability to see the value of multiple statements at once\n",
        "from IPython.core.interactiveshell import InteractiveShell\n",
        "InteractiveShell.ast_node_interactivity = \"all\"\n",
        "\n",
        "%matplotlib inline"
      ],
      "execution_count": null,
      "outputs": [
        {
          "output_type": "stream",
          "text": [
            "Requirement already satisfied: numpy==1.19.1 in /usr/local/lib/python3.6/dist-packages (1.19.1)\n"
          ],
          "name": "stdout"
        }
      ]
    },
    {
      "cell_type": "code",
      "metadata": {
        "id": "6Wz0OYJ0rHuD",
        "colab_type": "code",
        "colab": {
          "base_uri": "https://localhost:8080/",
          "height": 35
        },
        "outputId": "4a827e6a-6fc9-46f6-de70-c0ac35dc77f6"
      },
      "source": [
        "# check python version\n",
        "from platform import python_version\n",
        "print(python_version())"
      ],
      "execution_count": null,
      "outputs": [
        {
          "output_type": "stream",
          "text": [
            "3.6.9\n"
          ],
          "name": "stdout"
        }
      ]
    },
    {
      "cell_type": "markdown",
      "metadata": {
        "id": "AWuYakazrHuL",
        "colab_type": "text"
      },
      "source": [
        "\"A controller receives the controlled\n",
        "system's state and a reward associated with the last state transition.\""
      ]
    },
    {
      "cell_type": "markdown",
      "metadata": {
        "id": "YeefXXc2rHuN",
        "colab_type": "text"
      },
      "source": [
        "### Instantiate class from gym environment"
      ]
    },
    {
      "cell_type": "code",
      "metadata": {
        "id": "bZPeZeAjrHuO",
        "colab_type": "code",
        "colab": {}
      },
      "source": [
        "class InventoryEnv(gym.Env, utils.EzPickle):\n",
        "    \"\"\"Inventory control with lost sales environment\n",
        "\n",
        "    TO BE EDITED\n",
        "\n",
        "    This environment corresponds to the version of the inventory control\n",
        "    with lost sales problem described in Example 1.1 in Algorithms for\n",
        "    Reinforcement Learning by Csaba Szepesvari (2010).\n",
        "    https://sites.ualberta.ca/~szepesva/RLBook.html\n",
        "    \"\"\"\n",
        "\n",
        "    # our problem statement does not fully define these parameters\n",
        "    # we will explain what happens to our optimal policy, given changing parameters -- we will show this w/ graphs\n",
        "    \n",
        "    def __init__(self, n=10, k=1, c=2, h=0, p=5, lam=5): # default values\n",
        "        self.n = n \n",
        "        self.action_space = spaces.Discrete(n + 1)\n",
        "        self.observation_space = spaces.Discrete(n + 1)\n",
        "        self.max = n # have to optimize max items held at certain\n",
        "        self.state = np.random.choice(range(n + 1))\n",
        "        self.k = k # fixed entry cost for ordering; k must be greater than 0\n",
        "        self.c = c # fixed price of purchase for items\n",
        "        self.h = h # proportionality value must be greater than 0; cost per unit; constant that we multiply by remaining inventory\n",
        "        self.p = p # p is price and must be greater than 0\n",
        "        self.lam = lam\n",
        "        \n",
        "        # we do not know what demand will be \n",
        "        # upon selling z units the manager is paid the monetary amount of p z, where p > 0.\n",
        "\n",
        "        # Set seed\n",
        "        self._seed()\n",
        "\n",
        "        # Start the first round\n",
        "        self._reset()\n",
        "\n",
        "    def demand(self):\n",
        "        return np.random.poisson(self.lam) # randomly generated demand based on poisson distribution\n",
        "\n",
        "    # transition probabilities\n",
        "    def transition(self, x, a, d): # action At gives the number of items ordered in the evening of day t\n",
        "        # x is initial state\n",
        "        \n",
        "        m = self.max\n",
        "        \n",
        "        # size of next inventory is xt+1\n",
        "        return max(min(x + a, m) - d, 0) # subtract the d (demand) that you will recieve the next day\n",
        "\n",
        "    def reward(self, x, a, y):\n",
        "        k = self.k\n",
        "        m = self.max # m is equal to n\n",
        "        c = self.c\n",
        "        h = self.h\n",
        "        p = self.p\n",
        "        \n",
        "        # a, amount purchased, + max inventory; if over amount of storage, affix penalty\n",
        "        if a + x > self.max:\n",
        "            return -99999\n",
        "        else:\n",
        "            r = -k * (a > 0) - c * max(min(x + a, m) - x, 0) - h * x + p * max(min(x + a, m) - y, 0)\n",
        "            return r\n",
        "\n",
        "    def _seed(self, seed=None):\n",
        "        self.np_random, seed = seeding.np_random(seed)\n",
        "        return [seed]\n",
        "\n",
        "    def _step(self, action):\n",
        "        assert self.action_space.contains(action)\n",
        "        obs = self.state\n",
        "        demand = self.demand()\n",
        "        obs2 = self.transition(obs, action, demand)\n",
        "        self.state = obs2\n",
        "        reward = self.reward(obs, action, obs2)\n",
        "        done = 0\n",
        "        return obs2, reward, done, {}\n",
        "\n",
        "    def _reset(self):\n",
        "        return self.state"
      ],
      "execution_count": null,
      "outputs": []
    },
    {
      "cell_type": "markdown",
      "metadata": {
        "id": "SzAbJ56NrHub",
        "colab_type": "text"
      },
      "source": [
        "We are going to start with a smaller sample set."
      ]
    },
    {
      "cell_type": "markdown",
      "metadata": {
        "id": "xJNP8nzgrHud",
        "colab_type": "text"
      },
      "source": [
        "### Step 1: Transition probability and Reward matrices"
      ]
    },
    {
      "cell_type": "code",
      "metadata": {
        "id": "2v5M5U4drHue",
        "colab_type": "code",
        "colab": {
          "base_uri": "https://localhost:8080/",
          "height": 35
        },
        "outputId": "385de656-45ef-4492-dc16-14767bea11c2"
      },
      "source": [
        "env = InventoryEnv()\n",
        "env.n"
      ],
      "execution_count": null,
      "outputs": [
        {
          "output_type": "execute_result",
          "data": {
            "text/plain": [
              "10"
            ]
          },
          "metadata": {
            "tags": []
          },
          "execution_count": 33
        }
      ]
    },
    {
      "cell_type": "code",
      "metadata": {
        "id": "pK2vS9UNvc0-",
        "colab_type": "code",
        "colab": {}
      },
      "source": [
        "#env = updated gym env\n",
        "#T= simulated demand iterations \n",
        "def transition_prob(env,T=10000):\n",
        "  P_t = np.zeros([env.n + 1, env.n + 1, env.n + 1]) #(action, current_state, next_state)\n",
        "  RR = np.zeros([env.n + 1, env.n + 1, env.n + 1]) \n",
        "  print('Shape of probability matrix and Reward Matrix is',RR.shape)\n",
        "\n",
        "  demand_list = []\n",
        "  for init_state in range(env.n + 1):\n",
        "      for action in range(env.n + 1):\n",
        "          final_state_list = []\n",
        "\n",
        "          for i in range(T):\n",
        "              demand = env.demand()\n",
        "              final_state = env.transition(init_state, action, demand)\n",
        "              \n",
        "              demand_list.append(demand)\n",
        "              final_state_list.append(final_state)\n",
        "              \n",
        "          final_state_count = Counter(final_state_list)\n",
        "          \n",
        "          \n",
        "          for (final_state,probability) in final_state_count.items():\n",
        "              P_t[action, init_state, final_state] = probability / T\n",
        "              \n",
        "          for final_state in range(env.n + 1):\n",
        "              RR[action, init_state, final_state] = env.reward(init_state, action, final_state)\n",
        "\n",
        "  return P_t,RR,demand_list"
      ],
      "execution_count": null,
      "outputs": []
    },
    {
      "cell_type": "code",
      "metadata": {
        "id": "8FlX0SI1w3b7",
        "colab_type": "code",
        "colab": {
          "base_uri": "https://localhost:8080/",
          "height": 35
        },
        "outputId": "100e2d4b-e8e0-4b76-8877-612e4239d53c"
      },
      "source": [
        "P_t,RR,demand_list = transition_prob(env)"
      ],
      "execution_count": null,
      "outputs": [
        {
          "output_type": "stream",
          "text": [
            "Shape of probability matrix and Reward Matrix is (11, 11, 11)\n"
          ],
          "name": "stdout"
        }
      ]
    },
    {
      "cell_type": "code",
      "metadata": {
        "scrolled": false,
        "id": "G1qyeuVXrHu1",
        "colab_type": "code",
        "colab": {
          "base_uri": "https://localhost:8080/",
          "height": 389
        },
        "outputId": "420fbd90-3ae6-4fc6-8c1f-f9d329008ba7"
      },
      "source": [
        "plt.hist(demand_list)"
      ],
      "execution_count": null,
      "outputs": [
        {
          "output_type": "execute_result",
          "data": {
            "text/plain": [
              "(array([1.50775e+05, 3.81708e+05, 3.89391e+05, 2.05763e+05, 6.56730e+04,\n",
              "        1.41320e+04, 2.28400e+03, 2.54000e+02, 1.50000e+01, 5.00000e+00]),\n",
              " array([ 0.               ,  2.1              ,  4.2              ,\n",
              "         6.300000000000001,  8.4              , 10.5              ,\n",
              "        12.600000000000001, 14.700000000000001, 16.8              ,\n",
              "        18.900000000000002, 21.               ]),\n",
              " <a list of 10 Patch objects>)"
            ]
          },
          "metadata": {
            "tags": []
          },
          "execution_count": 46
        },
        {
          "output_type": "display_data",
          "data": {
            "image/png": "[encoded data removed]",
            "text/plain": [
              "<Figure size 432x288 with 1 Axes>"
            ]
          },
          "metadata": {
            "tags": [],
            "needs_background": "light"
          }
        }
      ]
    },
    {
      "cell_type": "code",
      "metadata": {
        "id": "4N9273GDrHu8",
        "colab_type": "code",
        "colab": {
          "base_uri": "https://localhost:8080/",
          "height": 370
        },
        "outputId": "90437bc9-8c0a-409e-b95a-9f6c45c6bb7d"
      },
      "source": [
        "pd.DataFrame(P_t[5,:,:])"
      ],
      "execution_count": null,
      "outputs": [
        {
          "output_type": "execute_result",
          "data": {
            "text/html": [
              "<div>\n",
              "<style scoped>\n",
              "    .dataframe tbody tr th:only-of-type {\n",
              "        vertical-align: middle;\n",
              "    }\n",
              "\n",
              "    .dataframe tbody tr th {\n",
              "        vertical-align: top;\n",
              "    }\n",
              "\n",
              "    .dataframe thead th {\n",
              "        text-align: right;\n",
              "    }\n",
              "</style>\n",
              "<table border=\"1\" class=\"dataframe\">\n",
              "  <thead>\n",
              "    <tr style=\"text-align: right;\">\n",
              "      <th></th>\n",
              "      <th>0</th>\n",
              "      <th>1</th>\n",
              "      <th>2</th>\n",
              "      <th>3</th>\n",
              "      <th>4</th>\n",
              "      <th>5</th>\n",
              "      <th>6</th>\n",
              "      <th>7</th>\n",
              "      <th>8</th>\n",
              "      <th>9</th>\n",
              "      <th>10</th>\n",
              "    </tr>\n",
              "  </thead>\n",
              "  <tbody>\n",
              "    <tr>\n",
              "      <th>0</th>\n",
              "      <td>0.5650</td>\n",
              "      <td>0.1750</td>\n",
              "      <td>0.1343</td>\n",
              "      <td>0.0866</td>\n",
              "      <td>0.0332</td>\n",
              "      <td>0.0059</td>\n",
              "      <td>0.0000</td>\n",
              "      <td>0.0000</td>\n",
              "      <td>0.0000</td>\n",
              "      <td>0.0000</td>\n",
              "      <td>0.0000</td>\n",
              "    </tr>\n",
              "    <tr>\n",
              "      <th>1</th>\n",
              "      <td>0.3930</td>\n",
              "      <td>0.1723</td>\n",
              "      <td>0.1772</td>\n",
              "      <td>0.1375</td>\n",
              "      <td>0.0804</td>\n",
              "      <td>0.0324</td>\n",
              "      <td>0.0072</td>\n",
              "      <td>0.0000</td>\n",
              "      <td>0.0000</td>\n",
              "      <td>0.0000</td>\n",
              "      <td>0.0000</td>\n",
              "    </tr>\n",
              "    <tr>\n",
              "      <th>2</th>\n",
              "      <td>0.2399</td>\n",
              "      <td>0.1385</td>\n",
              "      <td>0.1766</td>\n",
              "      <td>0.1782</td>\n",
              "      <td>0.1400</td>\n",
              "      <td>0.0843</td>\n",
              "      <td>0.0344</td>\n",
              "      <td>0.0081</td>\n",
              "      <td>0.0000</td>\n",
              "      <td>0.0000</td>\n",
              "      <td>0.0000</td>\n",
              "    </tr>\n",
              "    <tr>\n",
              "      <th>3</th>\n",
              "      <td>0.1359</td>\n",
              "      <td>0.1079</td>\n",
              "      <td>0.1403</td>\n",
              "      <td>0.1743</td>\n",
              "      <td>0.1735</td>\n",
              "      <td>0.1437</td>\n",
              "      <td>0.0850</td>\n",
              "      <td>0.0330</td>\n",
              "      <td>0.0064</td>\n",
              "      <td>0.0000</td>\n",
              "      <td>0.0000</td>\n",
              "    </tr>\n",
              "    <tr>\n",
              "      <th>4</th>\n",
              "      <td>0.0655</td>\n",
              "      <td>0.0645</td>\n",
              "      <td>0.1088</td>\n",
              "      <td>0.1501</td>\n",
              "      <td>0.1782</td>\n",
              "      <td>0.1770</td>\n",
              "      <td>0.1309</td>\n",
              "      <td>0.0812</td>\n",
              "      <td>0.0368</td>\n",
              "      <td>0.0070</td>\n",
              "      <td>0.0000</td>\n",
              "    </tr>\n",
              "    <tr>\n",
              "      <th>5</th>\n",
              "      <td>0.0316</td>\n",
              "      <td>0.0362</td>\n",
              "      <td>0.0681</td>\n",
              "      <td>0.1062</td>\n",
              "      <td>0.1456</td>\n",
              "      <td>0.1725</td>\n",
              "      <td>0.1720</td>\n",
              "      <td>0.1368</td>\n",
              "      <td>0.0869</td>\n",
              "      <td>0.0368</td>\n",
              "      <td>0.0073</td>\n",
              "    </tr>\n",
              "    <tr>\n",
              "      <th>6</th>\n",
              "      <td>0.0320</td>\n",
              "      <td>0.0353</td>\n",
              "      <td>0.0591</td>\n",
              "      <td>0.1146</td>\n",
              "      <td>0.1498</td>\n",
              "      <td>0.1692</td>\n",
              "      <td>0.1773</td>\n",
              "      <td>0.1407</td>\n",
              "      <td>0.0836</td>\n",
              "      <td>0.0311</td>\n",
              "      <td>0.0073</td>\n",
              "    </tr>\n",
              "    <tr>\n",
              "      <th>7</th>\n",
              "      <td>0.0303</td>\n",
              "      <td>0.0332</td>\n",
              "      <td>0.0693</td>\n",
              "      <td>0.1039</td>\n",
              "      <td>0.1456</td>\n",
              "      <td>0.1713</td>\n",
              "      <td>0.1801</td>\n",
              "      <td>0.1416</td>\n",
              "      <td>0.0835</td>\n",
              "      <td>0.0336</td>\n",
              "      <td>0.0076</td>\n",
              "    </tr>\n",
              "    <tr>\n",
              "      <th>8</th>\n",
              "      <td>0.0333</td>\n",
              "      <td>0.0353</td>\n",
              "      <td>0.0686</td>\n",
              "      <td>0.1030</td>\n",
              "      <td>0.1498</td>\n",
              "      <td>0.1711</td>\n",
              "      <td>0.1759</td>\n",
              "      <td>0.1349</td>\n",
              "      <td>0.0884</td>\n",
              "      <td>0.0311</td>\n",
              "      <td>0.0086</td>\n",
              "    </tr>\n",
              "    <tr>\n",
              "      <th>9</th>\n",
              "      <td>0.0323</td>\n",
              "      <td>0.0370</td>\n",
              "      <td>0.0647</td>\n",
              "      <td>0.1050</td>\n",
              "      <td>0.1526</td>\n",
              "      <td>0.1750</td>\n",
              "      <td>0.1695</td>\n",
              "      <td>0.1375</td>\n",
              "      <td>0.0832</td>\n",
              "      <td>0.0362</td>\n",
              "      <td>0.0070</td>\n",
              "    </tr>\n",
              "    <tr>\n",
              "      <th>10</th>\n",
              "      <td>0.0357</td>\n",
              "      <td>0.0394</td>\n",
              "      <td>0.0670</td>\n",
              "      <td>0.1035</td>\n",
              "      <td>0.1468</td>\n",
              "      <td>0.1735</td>\n",
              "      <td>0.1746</td>\n",
              "      <td>0.1389</td>\n",
              "      <td>0.0832</td>\n",
              "      <td>0.0320</td>\n",
              "      <td>0.0054</td>\n",
              "    </tr>\n",
              "  </tbody>\n",
              "</table>\n",
              "</div>"
            ],
            "text/plain": [
              "         0       1       2       3       4       5       6       7       8  \\\n",
              "0   0.5650  0.1750  0.1343  0.0866  0.0332  0.0059  0.0000  0.0000  0.0000   \n",
              "1   0.3930  0.1723  0.1772  0.1375  0.0804  0.0324  0.0072  0.0000  0.0000   \n",
              "2   0.2399  0.1385  0.1766  0.1782  0.1400  0.0843  0.0344  0.0081  0.0000   \n",
              "3   0.1359  0.1079  0.1403  0.1743  0.1735  0.1437  0.0850  0.0330  0.0064   \n",
              "4   0.0655  0.0645  0.1088  0.1501  0.1782  0.1770  0.1309  0.0812  0.0368   \n",
              "5   0.0316  0.0362  0.0681  0.1062  0.1456  0.1725  0.1720  0.1368  0.0869   \n",
              "6   0.0320  0.0353  0.0591  0.1146  0.1498  0.1692  0.1773  0.1407  0.0836   \n",
              "7   0.0303  0.0332  0.0693  0.1039  0.1456  0.1713  0.1801  0.1416  0.0835   \n",
              "8   0.0333  0.0353  0.0686  0.1030  0.1498  0.1711  0.1759  0.1349  0.0884   \n",
              "9   0.0323  0.0370  0.0647  0.1050  0.1526  0.1750  0.1695  0.1375  0.0832   \n",
              "10  0.0357  0.0394  0.0670  0.1035  0.1468  0.1735  0.1746  0.1389  0.0832   \n",
              "\n",
              "         9      10  \n",
              "0   0.0000  0.0000  \n",
              "1   0.0000  0.0000  \n",
              "2   0.0000  0.0000  \n",
              "3   0.0000  0.0000  \n",
              "4   0.0070  0.0000  \n",
              "5   0.0368  0.0073  \n",
              "6   0.0311  0.0073  \n",
              "7   0.0336  0.0076  \n",
              "8   0.0311  0.0086  \n",
              "9   0.0362  0.0070  \n",
              "10  0.0320  0.0054  "
            ]
          },
          "metadata": {
            "tags": []
          },
          "execution_count": 47
        }
      ]
    },
    {
      "cell_type": "code",
      "metadata": {
        "id": "H1tCGjYHrHvF",
        "colab_type": "code",
        "colab": {
          "base_uri": "https://localhost:8080/",
          "height": 35
        },
        "outputId": "b15d7d41-3e93-4021-8e60-f4e81c2791d3"
      },
      "source": [
        "K,N,M = P_t.shape\n",
        "K,N,M"
      ],
      "execution_count": null,
      "outputs": [
        {
          "output_type": "execute_result",
          "data": {
            "text/plain": [
              "(11, 11, 11)"
            ]
          },
          "metadata": {
            "tags": []
          },
          "execution_count": 48
        }
      ]
    },
    {
      "cell_type": "code",
      "metadata": {
        "id": "WtqGGXrXrHvM",
        "colab_type": "code",
        "colab": {}
      },
      "source": [
        "# k = action\n",
        "# i = current state\n",
        "# j = next state"
      ],
      "execution_count": null,
      "outputs": []
    },
    {
      "cell_type": "markdown",
      "metadata": {
        "id": "B6HX00bHrHvS",
        "colab_type": "text"
      },
      "source": [
        "### Step 2: EDA"
      ]
    },
    {
      "cell_type": "code",
      "metadata": {
        "id": "nlm-1Lw_rHvT",
        "colab_type": "code",
        "colab": {},
        "outputId": "10c2a678-e540-420e-e9b1-a1d45417dd70"
      },
      "source": [
        "# transition probability is dependent on action(s) taken\n",
        "\n",
        "# note: it is possible for MDP's to have absorbing states\n",
        "\n",
        "\n",
        "P_t[1,:,:]\n",
        "\n",
        "P_t[1,:,:].shape"
      ],
      "execution_count": null,
      "outputs": [
        {
          "output_type": "execute_result",
          "data": {
            "text/plain": [
              "array([[0.9931, 0.0069, 0.    , 0.    , 0.    , 0.    , 0.    , 0.    ,\n",
              "        0.    , 0.    , 0.    ],\n",
              "       [0.9598, 0.0341, 0.0061, 0.    , 0.    , 0.    , 0.    , 0.    ,\n",
              "        0.    , 0.    , 0.    ],\n",
              "       [0.8794, 0.082 , 0.032 , 0.0066, 0.    , 0.    , 0.    , 0.    ,\n",
              "        0.    , 0.    , 0.    ],\n",
              "       [0.732 , 0.1349, 0.0901, 0.0354, 0.0076, 0.    , 0.    , 0.    ,\n",
              "        0.    , 0.    , 0.    ],\n",
              "       [0.549 , 0.1819, 0.1435, 0.084 , 0.0337, 0.0079, 0.    , 0.    ,\n",
              "        0.    , 0.    , 0.    ],\n",
              "       [0.3833, 0.1766, 0.1767, 0.1451, 0.0816, 0.0314, 0.0053, 0.    ,\n",
              "        0.    , 0.    , 0.    ],\n",
              "       [0.2332, 0.1461, 0.1748, 0.1761, 0.1435, 0.0844, 0.0335, 0.0084,\n",
              "        0.    , 0.    , 0.    ],\n",
              "       [0.1341, 0.1035, 0.1382, 0.1805, 0.1765, 0.1393, 0.0875, 0.0344,\n",
              "        0.006 , 0.    , 0.    ],\n",
              "       [0.0684, 0.065 , 0.1056, 0.1464, 0.1787, 0.176 , 0.1395, 0.0799,\n",
              "        0.0329, 0.0076, 0.    ],\n",
              "       [0.0309, 0.0374, 0.0641, 0.1046, 0.1477, 0.1761, 0.1726, 0.1392,\n",
              "        0.0899, 0.0292, 0.0083],\n",
              "       [0.0309, 0.0373, 0.0703, 0.1101, 0.1422, 0.1783, 0.1723, 0.1339,\n",
              "        0.0836, 0.0349, 0.0062]])"
            ]
          },
          "metadata": {
            "tags": []
          },
          "execution_count": 13
        },
        {
          "output_type": "execute_result",
          "data": {
            "text/plain": [
              "(11, 11)"
            ]
          },
          "metadata": {
            "tags": []
          },
          "execution_count": 13
        }
      ]
    },
    {
      "cell_type": "code",
      "metadata": {
        "id": "rr_4T5B9rHvX",
        "colab_type": "code",
        "colab": {}
      },
      "source": [
        "# simulation(s)\n",
        "\n",
        "\n",
        "# recurrent states -- including explanation(s)\n",
        "\n",
        "# stationarity\n",
        "\n",
        "# periodicity\n"
      ],
      "execution_count": null,
      "outputs": []
    },
    {
      "cell_type": "code",
      "metadata": {
        "id": "u3t1f87KrHvb",
        "colab_type": "code",
        "colab": {}
      },
      "source": [
        ""
      ],
      "execution_count": null,
      "outputs": []
    },
    {
      "cell_type": "markdown",
      "metadata": {
        "id": "e4poZqrLrHve",
        "colab_type": "text"
      },
      "source": [
        "### Step 3: Value Iteration"
      ]
    },
    {
      "cell_type": "code",
      "metadata": {
        "id": "I1wOKI9WxLAv",
        "colab_type": "code",
        "colab": {}
      },
      "source": [
        "def value_iteration(P_t,RR,t=600):\n",
        "  K,N,M = P_t.shape\n",
        "  q = np.zeros((K,N,1),dtype=np.float64) \n",
        "  print('The shape of K,N,M is:', K,N,M) \n",
        "  print('The shape of q is:',q.shape) # creates eleven 11 x 1 arrays\n",
        "  for i in range(0,N):\n",
        "    for k in range(0,K):\n",
        "        for j in range(0,M):\n",
        "            q[k,i,0] = q[k,i,0] + RR[k,i,j]*P_t[k,i,j]\n",
        "\n",
        "  v = np.zeros((N,t),dtype=np.float64)\n",
        "  d = np.zeros((N,t),dtype=np.float64)\n",
        "  for n in range(1,t):   \n",
        "      for i in range(0,N):\n",
        "          rhs = np.zeros((1,K),dtype=np.float64)\n",
        "          for k in range(0,K):\n",
        "              rhs[0][k] = q[k][i][0] + np.matmul(P_t[k,i,:],v[:,n-1]) \n",
        "          v[i,n] = max(rhs[0])\n",
        "          d[i,n] = np.argmax(rhs[0])\n",
        "  v = v.T\n",
        "  d = d.T\n",
        "  return v,d"
      ],
      "execution_count": null,
      "outputs": []
    },
    {
      "cell_type": "code",
      "metadata": {
        "id": "JpPLW-_Oxwa4",
        "colab_type": "code",
        "colab": {
          "base_uri": "https://localhost:8080/",
          "height": 52
        },
        "outputId": "dcb9406e-b27c-47c9-8b89-6d876ea1167b"
      },
      "source": [
        "v,d=value_iteration(P_t,RR)"
      ],
      "execution_count": null,
      "outputs": [
        {
          "output_type": "stream",
          "text": [
            "The shape of K,N,M is: 11 11 11\n",
            "The shape of q is: (11, 11, 1)\n"
          ],
          "name": "stdout"
        }
      ]
    },
    {
      "cell_type": "code",
      "metadata": {
        "id": "iSC0gmYBrHvt",
        "colab_type": "code",
        "colab": {}
      },
      "source": [
        "value_df = pd.DataFrame(v)"
      ],
      "execution_count": null,
      "outputs": []
    },
    {
      "cell_type": "code",
      "metadata": {
        "id": "9SvQUyk0rHvw",
        "colab_type": "code",
        "colab": {}
      },
      "source": [
        "policy_df = pd.DataFrame(d)"
      ],
      "execution_count": null,
      "outputs": []
    },
    {
      "cell_type": "code",
      "metadata": {
        "scrolled": true,
        "id": "y1qEHObTrHvz",
        "colab_type": "code",
        "colab": {
          "base_uri": "https://localhost:8080/",
          "height": 399
        },
        "outputId": "13ad3a95-2cc6-4e5b-997f-54f7bb52635e"
      },
      "source": [
        "value_df"
      ],
      "execution_count": null,
      "outputs": [
        {
          "output_type": "execute_result",
          "data": {
            "text/html": [
              "<div>\n",
              "<style scoped>\n",
              "    .dataframe tbody tr th:only-of-type {\n",
              "        vertical-align: middle;\n",
              "    }\n",
              "\n",
              "    .dataframe tbody tr th {\n",
              "        vertical-align: top;\n",
              "    }\n",
              "\n",
              "    .dataframe thead th {\n",
              "        text-align: right;\n",
              "    }\n",
              "</style>\n",
              "<table border=\"1\" class=\"dataframe\">\n",
              "  <thead>\n",
              "    <tr style=\"text-align: right;\">\n",
              "      <th></th>\n",
              "      <th>0</th>\n",
              "      <th>1</th>\n",
              "      <th>2</th>\n",
              "      <th>3</th>\n",
              "      <th>4</th>\n",
              "      <th>5</th>\n",
              "      <th>6</th>\n",
              "      <th>7</th>\n",
              "      <th>8</th>\n",
              "      <th>9</th>\n",
              "      <th>10</th>\n",
              "    </tr>\n",
              "  </thead>\n",
              "  <tbody>\n",
              "    <tr>\n",
              "      <th>0</th>\n",
              "      <td>0.000000</td>\n",
              "      <td>0.000000</td>\n",
              "      <td>0.000000</td>\n",
              "      <td>0.000000</td>\n",
              "      <td>0.000000</td>\n",
              "      <td>0.000000</td>\n",
              "      <td>0.000000</td>\n",
              "      <td>0.000000</td>\n",
              "      <td>0.000000</td>\n",
              "      <td>0.000000</td>\n",
              "      <td>0.000000</td>\n",
              "    </tr>\n",
              "    <tr>\n",
              "      <th>1</th>\n",
              "      <td>9.682500</td>\n",
              "      <td>11.652000</td>\n",
              "      <td>13.632500</td>\n",
              "      <td>15.552000</td>\n",
              "      <td>17.737000</td>\n",
              "      <td>20.688500</td>\n",
              "      <td>22.575500</td>\n",
              "      <td>23.671500</td>\n",
              "      <td>24.329000</td>\n",
              "      <td>24.781000</td>\n",
              "      <td>24.777000</td>\n",
              "    </tr>\n",
              "    <tr>\n",
              "      <th>2</th>\n",
              "      <td>23.851357</td>\n",
              "      <td>25.843799</td>\n",
              "      <td>27.802611</td>\n",
              "      <td>29.691770</td>\n",
              "      <td>31.678070</td>\n",
              "      <td>33.813681</td>\n",
              "      <td>35.810174</td>\n",
              "      <td>37.970937</td>\n",
              "      <td>40.468575</td>\n",
              "      <td>42.768813</td>\n",
              "      <td>44.627508</td>\n",
              "    </tr>\n",
              "    <tr>\n",
              "      <th>3</th>\n",
              "      <td>37.824851</td>\n",
              "      <td>39.828584</td>\n",
              "      <td>41.858119</td>\n",
              "      <td>43.672847</td>\n",
              "      <td>45.818059</td>\n",
              "      <td>47.798576</td>\n",
              "      <td>49.817056</td>\n",
              "      <td>51.987647</td>\n",
              "      <td>54.381507</td>\n",
              "      <td>56.685994</td>\n",
              "      <td>58.764569</td>\n",
              "    </tr>\n",
              "    <tr>\n",
              "      <th>4</th>\n",
              "      <td>51.837731</td>\n",
              "      <td>53.841183</td>\n",
              "      <td>55.870050</td>\n",
              "      <td>57.683981</td>\n",
              "      <td>59.831016</td>\n",
              "      <td>61.811595</td>\n",
              "      <td>63.829491</td>\n",
              "      <td>66.005177</td>\n",
              "      <td>68.404088</td>\n",
              "      <td>70.706192</td>\n",
              "      <td>72.777044</td>\n",
              "    </tr>\n",
              "    <tr>\n",
              "      <th>...</th>\n",
              "      <td>...</td>\n",
              "      <td>...</td>\n",
              "      <td>...</td>\n",
              "      <td>...</td>\n",
              "      <td>...</td>\n",
              "      <td>...</td>\n",
              "      <td>...</td>\n",
              "      <td>...</td>\n",
              "      <td>...</td>\n",
              "      <td>...</td>\n",
              "      <td>...</td>\n",
              "    </tr>\n",
              "    <tr>\n",
              "      <th>595</th>\n",
              "      <td>8334.075853</td>\n",
              "      <td>8336.079315</td>\n",
              "      <td>8338.108180</td>\n",
              "      <td>8339.922158</td>\n",
              "      <td>8342.069149</td>\n",
              "      <td>8344.049741</td>\n",
              "      <td>8346.067624</td>\n",
              "      <td>8348.241772</td>\n",
              "      <td>8350.640844</td>\n",
              "      <td>8352.943466</td>\n",
              "      <td>8355.015197</td>\n",
              "    </tr>\n",
              "    <tr>\n",
              "      <th>596</th>\n",
              "      <td>8348.089792</td>\n",
              "      <td>8350.093254</td>\n",
              "      <td>8352.122119</td>\n",
              "      <td>8353.936097</td>\n",
              "      <td>8356.083088</td>\n",
              "      <td>8358.063680</td>\n",
              "      <td>8360.081563</td>\n",
              "      <td>8362.255711</td>\n",
              "      <td>8364.654783</td>\n",
              "      <td>8366.957405</td>\n",
              "      <td>8369.029135</td>\n",
              "    </tr>\n",
              "    <tr>\n",
              "      <th>597</th>\n",
              "      <td>8362.103730</td>\n",
              "      <td>8364.107193</td>\n",
              "      <td>8366.136057</td>\n",
              "      <td>8367.950036</td>\n",
              "      <td>8370.097027</td>\n",
              "      <td>8372.077619</td>\n",
              "      <td>8374.095502</td>\n",
              "      <td>8376.269650</td>\n",
              "      <td>8378.668722</td>\n",
              "      <td>8380.971344</td>\n",
              "      <td>8383.043074</td>\n",
              "    </tr>\n",
              "    <tr>\n",
              "      <th>598</th>\n",
              "      <td>8376.117669</td>\n",
              "      <td>8378.121132</td>\n",
              "      <td>8380.149996</td>\n",
              "      <td>8381.963975</td>\n",
              "      <td>8384.110965</td>\n",
              "      <td>8386.091557</td>\n",
              "      <td>8388.109440</td>\n",
              "      <td>8390.283589</td>\n",
              "      <td>8392.682660</td>\n",
              "      <td>8394.985283</td>\n",
              "      <td>8397.057013</td>\n",
              "    </tr>\n",
              "    <tr>\n",
              "      <th>599</th>\n",
              "      <td>8390.131608</td>\n",
              "      <td>8392.135071</td>\n",
              "      <td>8394.163935</td>\n",
              "      <td>8395.977914</td>\n",
              "      <td>8398.124904</td>\n",
              "      <td>8400.105496</td>\n",
              "      <td>8402.123379</td>\n",
              "      <td>8404.297528</td>\n",
              "      <td>8406.696599</td>\n",
              "      <td>8408.999221</td>\n",
              "      <td>8411.070952</td>\n",
              "    </tr>\n",
              "  </tbody>\n",
              "</table>\n",
              "<p>600 rows × 11 columns</p>\n",
              "</div>"
            ],
            "text/plain": [
              "               0            1            2            3            4  \\\n",
              "0    0.000000     0.000000     0.000000     0.000000     0.000000      \n",
              "1    9.682500     11.652000    13.632500    15.552000    17.737000     \n",
              "2    23.851357    25.843799    27.802611    29.691770    31.678070     \n",
              "3    37.824851    39.828584    41.858119    43.672847    45.818059     \n",
              "4    51.837731    53.841183    55.870050    57.683981    59.831016     \n",
              "..         ...          ...          ...          ...          ...     \n",
              "595  8334.075853  8336.079315  8338.108180  8339.922158  8342.069149   \n",
              "596  8348.089792  8350.093254  8352.122119  8353.936097  8356.083088   \n",
              "597  8362.103730  8364.107193  8366.136057  8367.950036  8370.097027   \n",
              "598  8376.117669  8378.121132  8380.149996  8381.963975  8384.110965   \n",
              "599  8390.131608  8392.135071  8394.163935  8395.977914  8398.124904   \n",
              "\n",
              "               5            6            7            8            9  \\\n",
              "0    0.000000     0.000000     0.000000     0.000000     0.000000      \n",
              "1    20.688500    22.575500    23.671500    24.329000    24.781000     \n",
              "2    33.813681    35.810174    37.970937    40.468575    42.768813     \n",
              "3    47.798576    49.817056    51.987647    54.381507    56.685994     \n",
              "4    61.811595    63.829491    66.005177    68.404088    70.706192     \n",
              "..         ...          ...          ...          ...          ...     \n",
              "595  8344.049741  8346.067624  8348.241772  8350.640844  8352.943466   \n",
              "596  8358.063680  8360.081563  8362.255711  8364.654783  8366.957405   \n",
              "597  8372.077619  8374.095502  8376.269650  8378.668722  8380.971344   \n",
              "598  8386.091557  8388.109440  8390.283589  8392.682660  8394.985283   \n",
              "599  8400.105496  8402.123379  8404.297528  8406.696599  8408.999221   \n",
              "\n",
              "              10  \n",
              "0    0.000000     \n",
              "1    24.777000    \n",
              "2    44.627508    \n",
              "3    58.764569    \n",
              "4    72.777044    \n",
              "..         ...    \n",
              "595  8355.015197  \n",
              "596  8369.029135  \n",
              "597  8383.043074  \n",
              "598  8397.057013  \n",
              "599  8411.070952  \n",
              "\n",
              "[600 rows x 11 columns]"
            ]
          },
          "metadata": {
            "tags": []
          },
          "execution_count": 19
        }
      ]
    },
    {
      "cell_type": "code",
      "metadata": {
        "scrolled": false,
        "id": "loOgUZ31rHv4",
        "colab_type": "code",
        "colab": {
          "base_uri": "https://localhost:8080/",
          "height": 340
        },
        "outputId": "e1740ff6-417b-4fa5-aa42-bacaa5c06c98"
      },
      "source": [
        "policy_df.tail(10)"
      ],
      "execution_count": null,
      "outputs": [
        {
          "output_type": "execute_result",
          "data": {
            "text/html": [
              "<div>\n",
              "<style scoped>\n",
              "    .dataframe tbody tr th:only-of-type {\n",
              "        vertical-align: middle;\n",
              "    }\n",
              "\n",
              "    .dataframe tbody tr th {\n",
              "        vertical-align: top;\n",
              "    }\n",
              "\n",
              "    .dataframe thead th {\n",
              "        text-align: right;\n",
              "    }\n",
              "</style>\n",
              "<table border=\"1\" class=\"dataframe\">\n",
              "  <thead>\n",
              "    <tr style=\"text-align: right;\">\n",
              "      <th></th>\n",
              "      <th>0</th>\n",
              "      <th>1</th>\n",
              "      <th>2</th>\n",
              "      <th>3</th>\n",
              "      <th>4</th>\n",
              "      <th>5</th>\n",
              "      <th>6</th>\n",
              "      <th>7</th>\n",
              "      <th>8</th>\n",
              "      <th>9</th>\n",
              "      <th>10</th>\n",
              "    </tr>\n",
              "  </thead>\n",
              "  <tbody>\n",
              "    <tr>\n",
              "      <th>590</th>\n",
              "      <td>10.0</td>\n",
              "      <td>9.0</td>\n",
              "      <td>8.0</td>\n",
              "      <td>7.0</td>\n",
              "      <td>6.0</td>\n",
              "      <td>5.0</td>\n",
              "      <td>4.0</td>\n",
              "      <td>0.0</td>\n",
              "      <td>0.0</td>\n",
              "      <td>0.0</td>\n",
              "      <td>0.0</td>\n",
              "    </tr>\n",
              "    <tr>\n",
              "      <th>591</th>\n",
              "      <td>10.0</td>\n",
              "      <td>9.0</td>\n",
              "      <td>8.0</td>\n",
              "      <td>7.0</td>\n",
              "      <td>6.0</td>\n",
              "      <td>5.0</td>\n",
              "      <td>4.0</td>\n",
              "      <td>0.0</td>\n",
              "      <td>0.0</td>\n",
              "      <td>0.0</td>\n",
              "      <td>0.0</td>\n",
              "    </tr>\n",
              "    <tr>\n",
              "      <th>592</th>\n",
              "      <td>10.0</td>\n",
              "      <td>9.0</td>\n",
              "      <td>8.0</td>\n",
              "      <td>7.0</td>\n",
              "      <td>6.0</td>\n",
              "      <td>5.0</td>\n",
              "      <td>4.0</td>\n",
              "      <td>0.0</td>\n",
              "      <td>0.0</td>\n",
              "      <td>0.0</td>\n",
              "      <td>0.0</td>\n",
              "    </tr>\n",
              "    <tr>\n",
              "      <th>593</th>\n",
              "      <td>10.0</td>\n",
              "      <td>9.0</td>\n",
              "      <td>8.0</td>\n",
              "      <td>7.0</td>\n",
              "      <td>6.0</td>\n",
              "      <td>5.0</td>\n",
              "      <td>4.0</td>\n",
              "      <td>0.0</td>\n",
              "      <td>0.0</td>\n",
              "      <td>0.0</td>\n",
              "      <td>0.0</td>\n",
              "    </tr>\n",
              "    <tr>\n",
              "      <th>594</th>\n",
              "      <td>10.0</td>\n",
              "      <td>9.0</td>\n",
              "      <td>8.0</td>\n",
              "      <td>7.0</td>\n",
              "      <td>6.0</td>\n",
              "      <td>5.0</td>\n",
              "      <td>4.0</td>\n",
              "      <td>0.0</td>\n",
              "      <td>0.0</td>\n",
              "      <td>0.0</td>\n",
              "      <td>0.0</td>\n",
              "    </tr>\n",
              "    <tr>\n",
              "      <th>595</th>\n",
              "      <td>10.0</td>\n",
              "      <td>9.0</td>\n",
              "      <td>8.0</td>\n",
              "      <td>7.0</td>\n",
              "      <td>6.0</td>\n",
              "      <td>5.0</td>\n",
              "      <td>4.0</td>\n",
              "      <td>0.0</td>\n",
              "      <td>0.0</td>\n",
              "      <td>0.0</td>\n",
              "      <td>0.0</td>\n",
              "    </tr>\n",
              "    <tr>\n",
              "      <th>596</th>\n",
              "      <td>10.0</td>\n",
              "      <td>9.0</td>\n",
              "      <td>8.0</td>\n",
              "      <td>7.0</td>\n",
              "      <td>6.0</td>\n",
              "      <td>5.0</td>\n",
              "      <td>4.0</td>\n",
              "      <td>0.0</td>\n",
              "      <td>0.0</td>\n",
              "      <td>0.0</td>\n",
              "      <td>0.0</td>\n",
              "    </tr>\n",
              "    <tr>\n",
              "      <th>597</th>\n",
              "      <td>10.0</td>\n",
              "      <td>9.0</td>\n",
              "      <td>8.0</td>\n",
              "      <td>7.0</td>\n",
              "      <td>6.0</td>\n",
              "      <td>5.0</td>\n",
              "      <td>4.0</td>\n",
              "      <td>0.0</td>\n",
              "      <td>0.0</td>\n",
              "      <td>0.0</td>\n",
              "      <td>0.0</td>\n",
              "    </tr>\n",
              "    <tr>\n",
              "      <th>598</th>\n",
              "      <td>10.0</td>\n",
              "      <td>9.0</td>\n",
              "      <td>8.0</td>\n",
              "      <td>7.0</td>\n",
              "      <td>6.0</td>\n",
              "      <td>5.0</td>\n",
              "      <td>4.0</td>\n",
              "      <td>0.0</td>\n",
              "      <td>0.0</td>\n",
              "      <td>0.0</td>\n",
              "      <td>0.0</td>\n",
              "    </tr>\n",
              "    <tr>\n",
              "      <th>599</th>\n",
              "      <td>10.0</td>\n",
              "      <td>9.0</td>\n",
              "      <td>8.0</td>\n",
              "      <td>7.0</td>\n",
              "      <td>6.0</td>\n",
              "      <td>5.0</td>\n",
              "      <td>4.0</td>\n",
              "      <td>0.0</td>\n",
              "      <td>0.0</td>\n",
              "      <td>0.0</td>\n",
              "      <td>0.0</td>\n",
              "    </tr>\n",
              "  </tbody>\n",
              "</table>\n",
              "</div>"
            ],
            "text/plain": [
              "        0    1    2    3    4    5    6    7    8    9   10\n",
              "590  10.0  9.0  8.0  7.0  6.0  5.0  4.0  0.0  0.0  0.0  0.0\n",
              "591  10.0  9.0  8.0  7.0  6.0  5.0  4.0  0.0  0.0  0.0  0.0\n",
              "592  10.0  9.0  8.0  7.0  6.0  5.0  4.0  0.0  0.0  0.0  0.0\n",
              "593  10.0  9.0  8.0  7.0  6.0  5.0  4.0  0.0  0.0  0.0  0.0\n",
              "594  10.0  9.0  8.0  7.0  6.0  5.0  4.0  0.0  0.0  0.0  0.0\n",
              "595  10.0  9.0  8.0  7.0  6.0  5.0  4.0  0.0  0.0  0.0  0.0\n",
              "596  10.0  9.0  8.0  7.0  6.0  5.0  4.0  0.0  0.0  0.0  0.0\n",
              "597  10.0  9.0  8.0  7.0  6.0  5.0  4.0  0.0  0.0  0.0  0.0\n",
              "598  10.0  9.0  8.0  7.0  6.0  5.0  4.0  0.0  0.0  0.0  0.0\n",
              "599  10.0  9.0  8.0  7.0  6.0  5.0  4.0  0.0  0.0  0.0  0.0"
            ]
          },
          "metadata": {
            "tags": []
          },
          "execution_count": 20
        }
      ]
    },
    {
      "cell_type": "markdown",
      "metadata": {
        "id": "vvzHgFalrHv7",
        "colab_type": "text"
      },
      "source": [
        "### Step 4: Value Iteration by Simulation"
      ]
    },
    {
      "cell_type": "code",
      "metadata": {
        "id": "inSeKFuB0S3D",
        "colab_type": "code",
        "colab": {
          "base_uri": "https://localhost:8080/",
          "height": 35
        },
        "outputId": "b0440917-b51a-4f5f-c3ad-0a95fc322d0e"
      },
      "source": [
        "a=P_t.sum(axis=1)\n",
        "a.sum(axis=1)\n"
      ],
      "execution_count": null,
      "outputs": [
        {
          "output_type": "execute_result",
          "data": {
            "text/plain": [
              "array([1., 1., 1., 1., 1., 1., 1., 1., 1., 1., 1.])"
            ]
          },
          "metadata": {
            "tags": []
          },
          "execution_count": 23
        }
      ]
    },
    {
      "cell_type": "code",
      "metadata": {
        "id": "4yyC4sH41Cmr",
        "colab_type": "code",
        "colab": {}
      },
      "source": [
        "np.set_printoptions(precision=15)\n"
      ],
      "execution_count": null,
      "outputs": []
    },
    {
      "cell_type": "code",
      "metadata": {
        "id": "EHjwr-pr00oH",
        "colab_type": "code",
        "colab": {
          "base_uri": "https://localhost:8080/",
          "height": 408
        },
        "outputId": "66387c9c-92ec-445a-8389-1855ae5286fc"
      },
      "source": [
        "P_t[9,:,:]"
      ],
      "execution_count": null,
      "outputs": [
        {
          "output_type": "execute_result",
          "data": {
            "text/plain": [
              "array([[0.0674, 0.0697, 0.1061, 0.1494, 0.1739, 0.1718, 0.1418, 0.0787,\n",
              "        0.0338, 0.0074, 0.    ],\n",
              "       [0.    , 0.    , 0.    , 0.    , 0.    , 0.    , 0.    , 0.    ,\n",
              "        0.    , 0.    , 0.    ],\n",
              "       [0.    , 0.    , 0.    , 0.    , 0.    , 0.    , 0.    , 0.    ,\n",
              "        0.    , 0.    , 0.    ],\n",
              "       [0.    , 0.    , 0.    , 0.    , 0.    , 0.    , 0.    , 0.    ,\n",
              "        0.    , 0.    , 0.    ],\n",
              "       [0.    , 0.    , 0.    , 0.    , 0.    , 0.    , 0.    , 0.    ,\n",
              "        0.    , 0.    , 0.    ],\n",
              "       [0.    , 0.    , 0.    , 0.    , 0.    , 0.    , 0.    , 0.    ,\n",
              "        0.    , 0.    , 0.    ],\n",
              "       [0.    , 0.    , 0.    , 0.    , 0.    , 0.    , 0.    , 0.    ,\n",
              "        0.    , 0.    , 0.    ],\n",
              "       [0.    , 0.    , 0.    , 0.    , 0.    , 0.    , 0.    , 0.    ,\n",
              "        0.    , 0.    , 0.    ],\n",
              "       [0.    , 0.    , 0.    , 0.    , 0.    , 0.    , 0.    , 0.    ,\n",
              "        0.    , 0.    , 0.    ],\n",
              "       [0.    , 0.    , 0.    , 0.    , 0.    , 0.    , 0.    , 0.    ,\n",
              "        0.    , 0.    , 0.    ],\n",
              "       [0.    , 0.    , 0.    , 0.    , 0.    , 0.    , 0.    , 0.    ,\n",
              "        0.    , 0.    , 0.    ]])"
            ]
          },
          "metadata": {
            "tags": []
          },
          "execution_count": 31
        }
      ]
    },
    {
      "cell_type": "code",
      "metadata": {
        "id": "nGPnYOHJx76a",
        "colab_type": "code",
        "colab": {}
      },
      "source": [
        "#T= number of episodes \n",
        "# maximum number of transitions (=maximum number of simulations -1)\n",
        "\n",
        "\n",
        "def val_iter_sim(P_mat,RR,T=1000,Tmax=1000):\n",
        "  K,N,M = P_t.shape\n",
        "  # compute the expected reward (immediate)\n",
        "  q = np.zeros((K,N,1),dtype=np.float64)\n",
        "\n",
        "  for i in range(0,N):\n",
        "      for k in range(0,K):\n",
        "          for j in range(0,M):\n",
        "              q[k,i,0] = q[k,i,0] + RR[k,i,j]*P_t[k,i,j]\n",
        "\n",
        "\n",
        "  v = np.zeros((N,T+1),dtype=np.float64)\n",
        "  d = np.zeros((N,T+1),dtype=np.int)\n",
        "  visits = np.zeros((N,1),dtype=np.int)\n",
        "\n",
        "\n",
        "\n",
        "  for n in range(1,T):\n",
        "      t = 1\n",
        "      y0 = N-1\n",
        "      while (t<=Tmax+1):\n",
        "          visits[y0]+=1\n",
        "          for i in range(0,N):\n",
        "              if i==y0:\n",
        "                  rhs = np.zeros((1,K),dtype=np.float64)\n",
        "                  for k in range(0,K):\n",
        "                      rhs[0][k] = q[k][i][0] + np.matmul(P_t[k,i,:],v[:,n-1]) \n",
        "                  v[i,n] = max(rhs[0])\n",
        "                  if np.random.uniform(0,1,1)>=0.1:\n",
        "                      d[i,n] = np.argmax(rhs[0])\n",
        "                  else:\n",
        "                      d[i,n] = np.random.choice(range(0,K))\n",
        "          y1 = np.random.choice(range(0,N),p=P_t[d[y0,n],y0,:])\n",
        "          y0 = y1\n",
        "          t = t+1\n",
        "      v[:,n+1] = v[:,n]\n",
        "      d[:,n+1] = d[:,n]\n",
        "      \n",
        "  v = v.T\n",
        "  d = d.T\n",
        "  return v,d, visits"
      ],
      "execution_count": null,
      "outputs": []
    },
    {
      "cell_type": "code",
      "metadata": {
        "id": "NR6TTT-Oywkr",
        "colab_type": "code",
        "colab": {
          "base_uri": "https://localhost:8080/",
          "height": 292
        },
        "outputId": "d57196c0-b263-476d-96ba-ad26c67ccf60"
      },
      "source": [
        "v,d,visits=val_iter_sim(P_t,RR)"
      ],
      "execution_count": null,
      "outputs": [
        {
          "output_type": "error",
          "ename": "KeyboardInterrupt",
          "evalue": "ignored",
          "traceback": [
            "\u001b[0;31m---------------------------------------------------------------------------\u001b[0m",
            "\u001b[0;31mKeyboardInterrupt\u001b[0m                         Traceback (most recent call last)",
            "\u001b[0;32m<ipython-input-59-7bf5f52c2615>\u001b[0m in \u001b[0;36m<module>\u001b[0;34m()\u001b[0m\n\u001b[0;32m----> 1\u001b[0;31m \u001b[0mv\u001b[0m\u001b[0;34m,\u001b[0m\u001b[0md\u001b[0m\u001b[0;34m,\u001b[0m\u001b[0mvisits\u001b[0m\u001b[0;34m=\u001b[0m\u001b[0mval_iter_sim\u001b[0m\u001b[0;34m(\u001b[0m\u001b[0mP_t\u001b[0m\u001b[0;34m,\u001b[0m\u001b[0mRR\u001b[0m\u001b[0;34m)\u001b[0m\u001b[0;34m\u001b[0m\u001b[0;34m\u001b[0m\u001b[0m\n\u001b[0m",
            "\u001b[0;32m<ipython-input-51-fc555dac42dd>\u001b[0m in \u001b[0;36mval_iter_sim\u001b[0;34m(P_mat, RR, T, Tmax)\u001b[0m\n\u001b[1;32m     28\u001b[0m               \u001b[0;32mif\u001b[0m \u001b[0mi\u001b[0m\u001b[0;34m==\u001b[0m\u001b[0my0\u001b[0m\u001b[0;34m:\u001b[0m\u001b[0;34m\u001b[0m\u001b[0;34m\u001b[0m\u001b[0m\n\u001b[1;32m     29\u001b[0m                   \u001b[0mrhs\u001b[0m \u001b[0;34m=\u001b[0m \u001b[0mnp\u001b[0m\u001b[0;34m.\u001b[0m\u001b[0mzeros\u001b[0m\u001b[0;34m(\u001b[0m\u001b[0;34m(\u001b[0m\u001b[0;36m1\u001b[0m\u001b[0;34m,\u001b[0m\u001b[0mK\u001b[0m\u001b[0;34m)\u001b[0m\u001b[0;34m,\u001b[0m\u001b[0mdtype\u001b[0m\u001b[0;34m=\u001b[0m\u001b[0mnp\u001b[0m\u001b[0;34m.\u001b[0m\u001b[0mfloat64\u001b[0m\u001b[0;34m)\u001b[0m\u001b[0;34m\u001b[0m\u001b[0;34m\u001b[0m\u001b[0m\n\u001b[0;32m---> 30\u001b[0;31m                   \u001b[0;32mfor\u001b[0m \u001b[0mk\u001b[0m \u001b[0;32min\u001b[0m \u001b[0mrange\u001b[0m\u001b[0;34m(\u001b[0m\u001b[0;36m0\u001b[0m\u001b[0;34m,\u001b[0m\u001b[0mK\u001b[0m\u001b[0;34m)\u001b[0m\u001b[0;34m:\u001b[0m\u001b[0;34m\u001b[0m\u001b[0;34m\u001b[0m\u001b[0m\n\u001b[0m\u001b[1;32m     31\u001b[0m                       \u001b[0mrhs\u001b[0m\u001b[0;34m[\u001b[0m\u001b[0;36m0\u001b[0m\u001b[0;34m]\u001b[0m\u001b[0;34m[\u001b[0m\u001b[0mk\u001b[0m\u001b[0;34m]\u001b[0m \u001b[0;34m=\u001b[0m \u001b[0mq\u001b[0m\u001b[0;34m[\u001b[0m\u001b[0mk\u001b[0m\u001b[0;34m]\u001b[0m\u001b[0;34m[\u001b[0m\u001b[0mi\u001b[0m\u001b[0;34m]\u001b[0m\u001b[0;34m[\u001b[0m\u001b[0;36m0\u001b[0m\u001b[0;34m]\u001b[0m \u001b[0;34m+\u001b[0m \u001b[0mnp\u001b[0m\u001b[0;34m.\u001b[0m\u001b[0mmatmul\u001b[0m\u001b[0;34m(\u001b[0m\u001b[0mP_t\u001b[0m\u001b[0;34m[\u001b[0m\u001b[0mk\u001b[0m\u001b[0;34m,\u001b[0m\u001b[0mi\u001b[0m\u001b[0;34m,\u001b[0m\u001b[0;34m:\u001b[0m\u001b[0;34m]\u001b[0m\u001b[0;34m,\u001b[0m\u001b[0mv\u001b[0m\u001b[0;34m[\u001b[0m\u001b[0;34m:\u001b[0m\u001b[0;34m,\u001b[0m\u001b[0mn\u001b[0m\u001b[0;34m-\u001b[0m\u001b[0;36m1\u001b[0m\u001b[0;34m]\u001b[0m\u001b[0;34m)\u001b[0m\u001b[0;34m\u001b[0m\u001b[0;34m\u001b[0m\u001b[0m\n\u001b[1;32m     32\u001b[0m                   \u001b[0mv\u001b[0m\u001b[0;34m[\u001b[0m\u001b[0mi\u001b[0m\u001b[0;34m,\u001b[0m\u001b[0mn\u001b[0m\u001b[0;34m]\u001b[0m \u001b[0;34m=\u001b[0m \u001b[0mmax\u001b[0m\u001b[0;34m(\u001b[0m\u001b[0mrhs\u001b[0m\u001b[0;34m[\u001b[0m\u001b[0;36m0\u001b[0m\u001b[0;34m]\u001b[0m\u001b[0;34m)\u001b[0m\u001b[0;34m\u001b[0m\u001b[0;34m\u001b[0m\u001b[0m\n",
            "\u001b[0;31mKeyboardInterrupt\u001b[0m: "
          ]
        }
      ]
    },
    {
      "cell_type": "code",
      "metadata": {
        "scrolled": true,
        "id": "1fxvJ5eCrHv_",
        "colab_type": "code",
        "colab": {},
        "outputId": "a9d87ce5-fa00-4d63-ea6a-30046a3b7296"
      },
      "source": [
        "pd.DataFrame(d)"
      ],
      "execution_count": null,
      "outputs": [
        {
          "output_type": "execute_result",
          "data": {
            "text/html": [
              "<div>\n",
              "<style scoped>\n",
              "    .dataframe tbody tr th:only-of-type {\n",
              "        vertical-align: middle;\n",
              "    }\n",
              "\n",
              "    .dataframe tbody tr th {\n",
              "        vertical-align: top;\n",
              "    }\n",
              "\n",
              "    .dataframe thead th {\n",
              "        text-align: right;\n",
              "    }\n",
              "</style>\n",
              "<table border=\"1\" class=\"dataframe\">\n",
              "  <thead>\n",
              "    <tr style=\"text-align: right;\">\n",
              "      <th></th>\n",
              "      <th>0</th>\n",
              "      <th>1</th>\n",
              "      <th>2</th>\n",
              "      <th>3</th>\n",
              "      <th>4</th>\n",
              "      <th>5</th>\n",
              "      <th>6</th>\n",
              "      <th>7</th>\n",
              "      <th>8</th>\n",
              "      <th>9</th>\n",
              "      <th>10</th>\n",
              "    </tr>\n",
              "  </thead>\n",
              "  <tbody>\n",
              "    <tr>\n",
              "      <th>0</th>\n",
              "      <td>0</td>\n",
              "      <td>0</td>\n",
              "      <td>0</td>\n",
              "      <td>0</td>\n",
              "      <td>0</td>\n",
              "      <td>0</td>\n",
              "      <td>0</td>\n",
              "      <td>0</td>\n",
              "      <td>0</td>\n",
              "      <td>0</td>\n",
              "      <td>0</td>\n",
              "    </tr>\n",
              "    <tr>\n",
              "      <th>1</th>\n",
              "      <td>5</td>\n",
              "      <td>4</td>\n",
              "      <td>10</td>\n",
              "      <td>2</td>\n",
              "      <td>0</td>\n",
              "      <td>0</td>\n",
              "      <td>0</td>\n",
              "      <td>0</td>\n",
              "      <td>0</td>\n",
              "      <td>0</td>\n",
              "      <td>0</td>\n",
              "    </tr>\n",
              "    <tr>\n",
              "      <th>2</th>\n",
              "      <td>9</td>\n",
              "      <td>8</td>\n",
              "      <td>7</td>\n",
              "      <td>2</td>\n",
              "      <td>3</td>\n",
              "      <td>4</td>\n",
              "      <td>4</td>\n",
              "      <td>0</td>\n",
              "      <td>0</td>\n",
              "      <td>0</td>\n",
              "      <td>9</td>\n",
              "    </tr>\n",
              "    <tr>\n",
              "      <th>3</th>\n",
              "      <td>10</td>\n",
              "      <td>9</td>\n",
              "      <td>8</td>\n",
              "      <td>7</td>\n",
              "      <td>6</td>\n",
              "      <td>5</td>\n",
              "      <td>4</td>\n",
              "      <td>0</td>\n",
              "      <td>8</td>\n",
              "      <td>0</td>\n",
              "      <td>0</td>\n",
              "    </tr>\n",
              "    <tr>\n",
              "      <th>4</th>\n",
              "      <td>10</td>\n",
              "      <td>9</td>\n",
              "      <td>8</td>\n",
              "      <td>7</td>\n",
              "      <td>6</td>\n",
              "      <td>1</td>\n",
              "      <td>4</td>\n",
              "      <td>0</td>\n",
              "      <td>0</td>\n",
              "      <td>0</td>\n",
              "      <td>0</td>\n",
              "    </tr>\n",
              "    <tr>\n",
              "      <th>...</th>\n",
              "      <td>...</td>\n",
              "      <td>...</td>\n",
              "      <td>...</td>\n",
              "      <td>...</td>\n",
              "      <td>...</td>\n",
              "      <td>...</td>\n",
              "      <td>...</td>\n",
              "      <td>...</td>\n",
              "      <td>...</td>\n",
              "      <td>...</td>\n",
              "      <td>...</td>\n",
              "    </tr>\n",
              "    <tr>\n",
              "      <th>996</th>\n",
              "      <td>10</td>\n",
              "      <td>9</td>\n",
              "      <td>8</td>\n",
              "      <td>7</td>\n",
              "      <td>8</td>\n",
              "      <td>5</td>\n",
              "      <td>4</td>\n",
              "      <td>0</td>\n",
              "      <td>0</td>\n",
              "      <td>0</td>\n",
              "      <td>0</td>\n",
              "    </tr>\n",
              "    <tr>\n",
              "      <th>997</th>\n",
              "      <td>10</td>\n",
              "      <td>9</td>\n",
              "      <td>8</td>\n",
              "      <td>7</td>\n",
              "      <td>6</td>\n",
              "      <td>5</td>\n",
              "      <td>4</td>\n",
              "      <td>0</td>\n",
              "      <td>0</td>\n",
              "      <td>0</td>\n",
              "      <td>0</td>\n",
              "    </tr>\n",
              "    <tr>\n",
              "      <th>998</th>\n",
              "      <td>10</td>\n",
              "      <td>9</td>\n",
              "      <td>8</td>\n",
              "      <td>7</td>\n",
              "      <td>6</td>\n",
              "      <td>5</td>\n",
              "      <td>4</td>\n",
              "      <td>0</td>\n",
              "      <td>0</td>\n",
              "      <td>0</td>\n",
              "      <td>0</td>\n",
              "    </tr>\n",
              "    <tr>\n",
              "      <th>999</th>\n",
              "      <td>10</td>\n",
              "      <td>9</td>\n",
              "      <td>8</td>\n",
              "      <td>7</td>\n",
              "      <td>6</td>\n",
              "      <td>5</td>\n",
              "      <td>4</td>\n",
              "      <td>0</td>\n",
              "      <td>0</td>\n",
              "      <td>0</td>\n",
              "      <td>0</td>\n",
              "    </tr>\n",
              "    <tr>\n",
              "      <th>1000</th>\n",
              "      <td>10</td>\n",
              "      <td>9</td>\n",
              "      <td>8</td>\n",
              "      <td>7</td>\n",
              "      <td>6</td>\n",
              "      <td>5</td>\n",
              "      <td>4</td>\n",
              "      <td>0</td>\n",
              "      <td>0</td>\n",
              "      <td>0</td>\n",
              "      <td>0</td>\n",
              "    </tr>\n",
              "  </tbody>\n",
              "</table>\n",
              "<p>1001 rows × 11 columns</p>\n",
              "</div>"
            ],
            "text/plain": [
              "       0  1   2  3  4  5  6  7  8  9  10\n",
              "0     0   0  0   0  0  0  0  0  0  0  0 \n",
              "1     5   4  10  2  0  0  0  0  0  0  0 \n",
              "2     9   8  7   2  3  4  4  0  0  0  9 \n",
              "3     10  9  8   7  6  5  4  0  8  0  0 \n",
              "4     10  9  8   7  6  1  4  0  0  0  0 \n",
              "...   .. .. ..  .. .. .. .. .. .. .. .. \n",
              "996   10  9  8   7  8  5  4  0  0  0  0 \n",
              "997   10  9  8   7  6  5  4  0  0  0  0 \n",
              "998   10  9  8   7  6  5  4  0  0  0  0 \n",
              "999   10  9  8   7  6  5  4  0  0  0  0 \n",
              "1000  10  9  8   7  6  5  4  0  0  0  0 \n",
              "\n",
              "[1001 rows x 11 columns]"
            ]
          },
          "metadata": {
            "tags": []
          },
          "execution_count": 23
        }
      ]
    },
    {
      "cell_type": "markdown",
      "metadata": {
        "id": "prJJemHTrHwD",
        "colab_type": "text"
      },
      "source": [
        "### Step 5: Q-Learning (Need to be fixed)"
      ]
    },
    {
      "cell_type": "code",
      "metadata": {
        "id": "wVFGBKSr21C3",
        "colab_type": "code",
        "colab": {}
      },
      "source": [
        "# Tmax=maximum number of transitions (=maximum number of simulations -1)\n",
        "\n",
        "def Q_learning(env=env,lr=0.01,Tmax=1000,T=1000):\n",
        "\n",
        "  v = np.zeros((env.n + 1,T+1),dtype=np.float64) #value\n",
        "  d = np.zeros((env.n + 1,T+1),dtype=np.int) #policy\n",
        "  visits = np.zeros((env.n + 1,env.n + 1),dtype=np.int) #current/action\n",
        "\n",
        "  Q = np.zeros((env.n + 1,env.n + 1),dtype=np.float64)\n",
        "\n",
        "  learning_rate = lr\n",
        "  for num_ep in range(1,T):\n",
        "      t = 1\n",
        "      current_state = env.state\n",
        "      while (t <= Tmax+1):\n",
        "          if t < Tmax / 2:\n",
        "              if np.random.uniform(0,1,1)>=((Tmax - t) / Tmax):\n",
        "                  action = np.argmax(Q[current_state,:]) #greedy\n",
        "              else:\n",
        "                  action = np.random.choice(range(0,K)) #explore\n",
        "          else:\n",
        "              action = np.argmax(Q[current_state,:]) #greedy\n",
        "          visits[current_state,action]+=1\n",
        "          #print(\"state: \" + str(env.state))\n",
        "          next_state, reward, done, z = env._step(action)\n",
        "          #print(\"action: \" + str(action))\n",
        "          #print(\"next state: \" + str(env.state))\n",
        "          \n",
        "          Q[current_state,action] = (1-learning_rate)*Q[current_state,action] + learning_rate*(reward + \n",
        "                                                                              0.99 * max(Q[next_state,:]))      \n",
        "          current_state = env.state\n",
        "          t += 1\n",
        "          \n",
        "  J = np.zeros((env.n + 1,1),dtype=np.float64)\n",
        "  d = np.zeros((env.n + 1,1),dtype=np.float64)\n",
        "  for j in range(0,env.n + 1):\n",
        "      J[j,0] = max(Q[j,:])\n",
        "      d[j,0] = np.argmax(Q[j,:])\n",
        "  return Q,J,d"
      ],
      "execution_count": null,
      "outputs": []
    },
    {
      "cell_type": "code",
      "metadata": {
        "id": "kElkCeIg3w3_",
        "colab_type": "code",
        "colab": {}
      },
      "source": [
        "Q,J,d=Q_learning()"
      ],
      "execution_count": null,
      "outputs": []
    },
    {
      "cell_type": "code",
      "metadata": {
        "scrolled": false,
        "id": "SNXGPAWLrHwJ",
        "colab_type": "code",
        "colab": {
          "base_uri": "https://localhost:8080/",
          "height": 370
        },
        "outputId": "6cabbd5c-5463-4d29-d652-8971d54db340"
      },
      "source": [
        "pd.DataFrame(Q)"
      ],
      "execution_count": null,
      "outputs": [
        {
          "output_type": "execute_result",
          "data": {
            "text/html": [
              "<div>\n",
              "<style scoped>\n",
              "    .dataframe tbody tr th:only-of-type {\n",
              "        vertical-align: middle;\n",
              "    }\n",
              "\n",
              "    .dataframe tbody tr th {\n",
              "        vertical-align: top;\n",
              "    }\n",
              "\n",
              "    .dataframe thead th {\n",
              "        text-align: right;\n",
              "    }\n",
              "</style>\n",
              "<table border=\"1\" class=\"dataframe\">\n",
              "  <thead>\n",
              "    <tr style=\"text-align: right;\">\n",
              "      <th></th>\n",
              "      <th>0</th>\n",
              "      <th>1</th>\n",
              "      <th>2</th>\n",
              "      <th>3</th>\n",
              "      <th>4</th>\n",
              "      <th>5</th>\n",
              "      <th>6</th>\n",
              "      <th>7</th>\n",
              "      <th>8</th>\n",
              "      <th>9</th>\n",
              "      <th>10</th>\n",
              "    </tr>\n",
              "  </thead>\n",
              "  <tbody>\n",
              "    <tr>\n",
              "      <th>0</th>\n",
              "      <td>1323.193680</td>\n",
              "      <td>1325.076842</td>\n",
              "      <td>1328.046858</td>\n",
              "      <td>1330.619747</td>\n",
              "      <td>1332.278296</td>\n",
              "      <td>1334.387939</td>\n",
              "      <td>1334.756925</td>\n",
              "      <td>1336.389812</td>\n",
              "      <td>1336.112035</td>\n",
              "      <td>1338.120086</td>\n",
              "      <td>1336.097778</td>\n",
              "    </tr>\n",
              "    <tr>\n",
              "      <th>1</th>\n",
              "      <td>1325.601978</td>\n",
              "      <td>1327.485842</td>\n",
              "      <td>1329.738180</td>\n",
              "      <td>1331.864400</td>\n",
              "      <td>1333.919388</td>\n",
              "      <td>1334.787682</td>\n",
              "      <td>1339.282251</td>\n",
              "      <td>1336.144877</td>\n",
              "      <td>1335.543032</td>\n",
              "      <td>1335.241271</td>\n",
              "      <td>-98669.496585</td>\n",
              "    </tr>\n",
              "    <tr>\n",
              "      <th>2</th>\n",
              "      <td>1330.820184</td>\n",
              "      <td>1332.461081</td>\n",
              "      <td>1334.961321</td>\n",
              "      <td>1336.444236</td>\n",
              "      <td>1337.548614</td>\n",
              "      <td>1338.444155</td>\n",
              "      <td>1341.650845</td>\n",
              "      <td>1338.511925</td>\n",
              "      <td>1335.733516</td>\n",
              "      <td>-98669.188061</td>\n",
              "      <td>-98669.008231</td>\n",
              "    </tr>\n",
              "    <tr>\n",
              "      <th>3</th>\n",
              "      <td>1336.094229</td>\n",
              "      <td>1337.162473</td>\n",
              "      <td>1339.083138</td>\n",
              "      <td>1340.197868</td>\n",
              "      <td>1340.614323</td>\n",
              "      <td>1343.566585</td>\n",
              "      <td>1340.303837</td>\n",
              "      <td>1341.684768</td>\n",
              "      <td>-98669.776435</td>\n",
              "      <td>-98668.749445</td>\n",
              "      <td>-98670.033778</td>\n",
              "    </tr>\n",
              "    <tr>\n",
              "      <th>4</th>\n",
              "      <td>1340.352131</td>\n",
              "      <td>1340.637472</td>\n",
              "      <td>1341.855032</td>\n",
              "      <td>1342.270428</td>\n",
              "      <td>1343.462611</td>\n",
              "      <td>1346.035381</td>\n",
              "      <td>1342.877940</td>\n",
              "      <td>-98668.805625</td>\n",
              "      <td>-98671.328414</td>\n",
              "      <td>-98668.428048</td>\n",
              "      <td>-98669.660976</td>\n",
              "    </tr>\n",
              "    <tr>\n",
              "      <th>5</th>\n",
              "      <td>1344.322444</td>\n",
              "      <td>1344.162276</td>\n",
              "      <td>1344.654679</td>\n",
              "      <td>1344.319776</td>\n",
              "      <td>1347.570934</td>\n",
              "      <td>1342.956488</td>\n",
              "      <td>-98667.952653</td>\n",
              "      <td>-98668.165303</td>\n",
              "      <td>-98668.920052</td>\n",
              "      <td>-98668.193426</td>\n",
              "      <td>-98670.026572</td>\n",
              "    </tr>\n",
              "    <tr>\n",
              "      <th>6</th>\n",
              "      <td>1346.122307</td>\n",
              "      <td>1349.200643</td>\n",
              "      <td>1345.321043</td>\n",
              "      <td>1346.304456</td>\n",
              "      <td>1344.935940</td>\n",
              "      <td>-98668.863537</td>\n",
              "      <td>-98668.687539</td>\n",
              "      <td>-98668.643513</td>\n",
              "      <td>-98669.806089</td>\n",
              "      <td>-98669.790149</td>\n",
              "      <td>-98670.257636</td>\n",
              "    </tr>\n",
              "    <tr>\n",
              "      <th>7</th>\n",
              "      <td>1346.125416</td>\n",
              "      <td>1346.457605</td>\n",
              "      <td>1345.394892</td>\n",
              "      <td>1351.249558</td>\n",
              "      <td>-98672.548537</td>\n",
              "      <td>-98672.325584</td>\n",
              "      <td>-98673.505716</td>\n",
              "      <td>-98674.305031</td>\n",
              "      <td>-98673.119607</td>\n",
              "      <td>-98670.909319</td>\n",
              "      <td>-98672.465829</td>\n",
              "    </tr>\n",
              "    <tr>\n",
              "      <th>8</th>\n",
              "      <td>1354.820355</td>\n",
              "      <td>1342.145071</td>\n",
              "      <td>1337.923214</td>\n",
              "      <td>-98660.086620</td>\n",
              "      <td>-98667.233429</td>\n",
              "      <td>-98667.060296</td>\n",
              "      <td>-98664.024327</td>\n",
              "      <td>-98663.086656</td>\n",
              "      <td>-98666.117035</td>\n",
              "      <td>-98666.388785</td>\n",
              "      <td>-98665.748847</td>\n",
              "    </tr>\n",
              "    <tr>\n",
              "      <th>9</th>\n",
              "      <td>1239.050526</td>\n",
              "      <td>1352.484459</td>\n",
              "      <td>-94805.721962</td>\n",
              "      <td>-95104.946219</td>\n",
              "      <td>-95763.931912</td>\n",
              "      <td>-95982.956030</td>\n",
              "      <td>-95487.710266</td>\n",
              "      <td>-94890.520913</td>\n",
              "      <td>-94817.880829</td>\n",
              "      <td>-95353.928013</td>\n",
              "      <td>-95932.381785</td>\n",
              "    </tr>\n",
              "    <tr>\n",
              "      <th>10</th>\n",
              "      <td>1256.237440</td>\n",
              "      <td>-43104.428871</td>\n",
              "      <td>-47415.003251</td>\n",
              "      <td>-47385.467184</td>\n",
              "      <td>-50903.530497</td>\n",
              "      <td>-40824.476967</td>\n",
              "      <td>-49929.772132</td>\n",
              "      <td>-43665.085946</td>\n",
              "      <td>-49431.310374</td>\n",
              "      <td>-43094.021743</td>\n",
              "      <td>-45292.798679</td>\n",
              "    </tr>\n",
              "  </tbody>\n",
              "</table>\n",
              "</div>"
            ],
            "text/plain": [
              "              0             1             2             3             4  \\\n",
              "0   1323.193680  1325.076842   1328.046858   1330.619747   1332.278296    \n",
              "1   1325.601978  1327.485842   1329.738180   1331.864400   1333.919388    \n",
              "2   1330.820184  1332.461081   1334.961321   1336.444236   1337.548614    \n",
              "3   1336.094229  1337.162473   1339.083138   1340.197868   1340.614323    \n",
              "4   1340.352131  1340.637472   1341.855032   1342.270428   1343.462611    \n",
              "5   1344.322444  1344.162276   1344.654679   1344.319776   1347.570934    \n",
              "6   1346.122307  1349.200643   1345.321043   1346.304456   1344.935940    \n",
              "7   1346.125416  1346.457605   1345.394892   1351.249558  -98672.548537   \n",
              "8   1354.820355  1342.145071   1337.923214  -98660.086620 -98667.233429   \n",
              "9   1239.050526  1352.484459  -94805.721962 -95104.946219 -95763.931912   \n",
              "10  1256.237440 -43104.428871 -47415.003251 -47385.467184 -50903.530497   \n",
              "\n",
              "               5             6             7             8             9  \\\n",
              "0   1334.387939   1334.756925   1336.389812   1336.112035   1338.120086    \n",
              "1   1334.787682   1339.282251   1336.144877   1335.543032   1335.241271    \n",
              "2   1338.444155   1341.650845   1338.511925   1335.733516  -98669.188061   \n",
              "3   1343.566585   1340.303837   1341.684768  -98669.776435 -98668.749445   \n",
              "4   1346.035381   1342.877940  -98668.805625 -98671.328414 -98668.428048   \n",
              "5   1342.956488  -98667.952653 -98668.165303 -98668.920052 -98668.193426   \n",
              "6  -98668.863537 -98668.687539 -98668.643513 -98669.806089 -98669.790149   \n",
              "7  -98672.325584 -98673.505716 -98674.305031 -98673.119607 -98670.909319   \n",
              "8  -98667.060296 -98664.024327 -98663.086656 -98666.117035 -98666.388785   \n",
              "9  -95982.956030 -95487.710266 -94890.520913 -94817.880829 -95353.928013   \n",
              "10 -40824.476967 -49929.772132 -43665.085946 -49431.310374 -43094.021743   \n",
              "\n",
              "              10  \n",
              "0   1336.097778   \n",
              "1  -98669.496585  \n",
              "2  -98669.008231  \n",
              "3  -98670.033778  \n",
              "4  -98669.660976  \n",
              "5  -98670.026572  \n",
              "6  -98670.257636  \n",
              "7  -98672.465829  \n",
              "8  -98665.748847  \n",
              "9  -95932.381785  \n",
              "10 -45292.798679  "
            ]
          },
          "metadata": {
            "tags": []
          },
          "execution_count": 62
        }
      ]
    },
    {
      "cell_type": "code",
      "metadata": {
        "id": "O3MgAbuBrHwP",
        "colab_type": "code",
        "colab": {
          "base_uri": "https://localhost:8080/",
          "height": 370
        },
        "outputId": "d7cb2734-99d5-4b36-ccd2-489eeda31d60"
      },
      "source": [
        "pd.DataFrame(d)"
      ],
      "execution_count": null,
      "outputs": [
        {
          "output_type": "execute_result",
          "data": {
            "text/html": [
              "<div>\n",
              "<style scoped>\n",
              "    .dataframe tbody tr th:only-of-type {\n",
              "        vertical-align: middle;\n",
              "    }\n",
              "\n",
              "    .dataframe tbody tr th {\n",
              "        vertical-align: top;\n",
              "    }\n",
              "\n",
              "    .dataframe thead th {\n",
              "        text-align: right;\n",
              "    }\n",
              "</style>\n",
              "<table border=\"1\" class=\"dataframe\">\n",
              "  <thead>\n",
              "    <tr style=\"text-align: right;\">\n",
              "      <th></th>\n",
              "      <th>0</th>\n",
              "    </tr>\n",
              "  </thead>\n",
              "  <tbody>\n",
              "    <tr>\n",
              "      <th>0</th>\n",
              "      <td>9.0</td>\n",
              "    </tr>\n",
              "    <tr>\n",
              "      <th>1</th>\n",
              "      <td>6.0</td>\n",
              "    </tr>\n",
              "    <tr>\n",
              "      <th>2</th>\n",
              "      <td>6.0</td>\n",
              "    </tr>\n",
              "    <tr>\n",
              "      <th>3</th>\n",
              "      <td>5.0</td>\n",
              "    </tr>\n",
              "    <tr>\n",
              "      <th>4</th>\n",
              "      <td>5.0</td>\n",
              "    </tr>\n",
              "    <tr>\n",
              "      <th>5</th>\n",
              "      <td>4.0</td>\n",
              "    </tr>\n",
              "    <tr>\n",
              "      <th>6</th>\n",
              "      <td>1.0</td>\n",
              "    </tr>\n",
              "    <tr>\n",
              "      <th>7</th>\n",
              "      <td>3.0</td>\n",
              "    </tr>\n",
              "    <tr>\n",
              "      <th>8</th>\n",
              "      <td>0.0</td>\n",
              "    </tr>\n",
              "    <tr>\n",
              "      <th>9</th>\n",
              "      <td>1.0</td>\n",
              "    </tr>\n",
              "    <tr>\n",
              "      <th>10</th>\n",
              "      <td>0.0</td>\n",
              "    </tr>\n",
              "  </tbody>\n",
              "</table>\n",
              "</div>"
            ],
            "text/plain": [
              "      0\n",
              "0   9.0\n",
              "1   6.0\n",
              "2   6.0\n",
              "3   5.0\n",
              "4   5.0\n",
              "5   4.0\n",
              "6   1.0\n",
              "7   3.0\n",
              "8   0.0\n",
              "9   1.0\n",
              "10  0.0"
            ]
          },
          "metadata": {
            "tags": []
          },
          "execution_count": 63
        }
      ]
    },
    {
      "cell_type": "markdown",
      "metadata": {
        "id": "a7e0uM0U5xEq",
        "colab_type": "text"
      },
      "source": [
        "### Q Learning using Prob Matrix\n"
      ]
    },
    {
      "cell_type": "code",
      "metadata": {
        "id": "IXmlPE0a511R",
        "colab_type": "code",
        "colab": {}
      },
      "source": [
        "#    T #number of episodes\n",
        "# Tmax = 1000\n",
        "#  gamma = 0.1\n",
        "T=50000\n",
        "Tmax=10000\n",
        "gamma=0.05\n",
        "def Q_learn_pmat(P_t,RR,T=5000,Tmax=1000,gamma=0.1,discount_rate=0.95):\n",
        "  K,N,M = P_t.shape\n",
        "  v = np.zeros((N,T+1),dtype=np.float64) #value\n",
        "  d = np.zeros((N,T+1),dtype=np.int) #policy\n",
        "  visits = np.zeros((N,K),dtype=np.int)\n",
        "\n",
        "  Q = np.zeros((N,K),dtype=np.float64)\n",
        "\n",
        "  # maximum number of transitions (=maximum number of simulations -1)\n",
        "\n",
        "  for num_ep in range(1,T):\n",
        "      t = 1\n",
        "      y0 = np.random.choice(range(0,N))\n",
        "      d0 = np.random.choice(range(0,K))\n",
        "      while (t<=Tmax+1):\n",
        "          visits[y0,d0]+=1\n",
        "          y1 = np.random.choice(range(0,N),p=P_t[d0,y0,:])\n",
        "          Q[y0,d0] = (1-gamma)*Q[y0,d0] + gamma*(RR[d0,y0,y1] + discount_rate * max(Q[y1,:]))\n",
        "          y0 = y1\n",
        "          if np.random.uniform(0,1,1)>=0.2:\n",
        "              d0 = np.argmax(Q[y1,:]) #greedy\n",
        "          else:\n",
        "              d0 = np.random.choice(range(0,K)) #explore\n",
        "          t = t+1\n",
        "\n",
        "\n",
        "  J = np.zeros((N,1),dtype=np.float64)\n",
        "  d = np.zeros((N,1),dtype=np.float64)\n",
        "  for j in range(0,N):\n",
        "      J[j,0] = max(Q[j,:])\n",
        "      d[j,0] = np.argmax(Q[j,:])\n",
        "  return J,d,visits,Q"
      ],
      "execution_count": null,
      "outputs": []
    },
    {
      "cell_type": "code",
      "metadata": {
        "id": "Id9RIX4C6pje",
        "colab_type": "code",
        "colab": {}
      },
      "source": [
        "J,d,visits,Q=Q_learn_pmat(P_t,RR)"
      ],
      "execution_count": null,
      "outputs": []
    },
    {
      "cell_type": "code",
      "metadata": {
        "id": "-6GvfoSArHwZ",
        "colab_type": "code",
        "colab": {}
      },
      "source": [
        "policy_df = pd.DataFrame(d)"
      ],
      "execution_count": null,
      "outputs": []
    },
    {
      "cell_type": "code",
      "metadata": {
        "id": "1hpSMawLrHwi",
        "colab_type": "code",
        "colab": {
          "base_uri": "https://localhost:8080/",
          "height": 370
        },
        "outputId": "d042c021-8331-42c6-eee2-5a343ba69ca2"
      },
      "source": [
        "pd.DataFrame(Q)"
      ],
      "execution_count": null,
      "outputs": [
        {
          "output_type": "execute_result",
          "data": {
            "text/html": [
              "<div>\n",
              "<style scoped>\n",
              "    .dataframe tbody tr th:only-of-type {\n",
              "        vertical-align: middle;\n",
              "    }\n",
              "\n",
              "    .dataframe tbody tr th {\n",
              "        vertical-align: top;\n",
              "    }\n",
              "\n",
              "    .dataframe thead th {\n",
              "        text-align: right;\n",
              "    }\n",
              "</style>\n",
              "<table border=\"1\" class=\"dataframe\">\n",
              "  <thead>\n",
              "    <tr style=\"text-align: right;\">\n",
              "      <th></th>\n",
              "      <th>0</th>\n",
              "      <th>1</th>\n",
              "      <th>2</th>\n",
              "      <th>3</th>\n",
              "      <th>4</th>\n",
              "      <th>5</th>\n",
              "      <th>6</th>\n",
              "      <th>7</th>\n",
              "      <th>8</th>\n",
              "      <th>9</th>\n",
              "      <th>10</th>\n",
              "    </tr>\n",
              "  </thead>\n",
              "  <tbody>\n",
              "    <tr>\n",
              "      <th>0</th>\n",
              "      <td>257.898405</td>\n",
              "      <td>259.708115</td>\n",
              "      <td>261.656880</td>\n",
              "      <td>265.762813</td>\n",
              "      <td>268.391621</td>\n",
              "      <td>269.133547</td>\n",
              "      <td>268.680107</td>\n",
              "      <td>268.721359</td>\n",
              "      <td>269.123699</td>\n",
              "      <td>271.184967</td>\n",
              "      <td>268.615813</td>\n",
              "    </tr>\n",
              "    <tr>\n",
              "      <th>1</th>\n",
              "      <td>262.808802</td>\n",
              "      <td>264.612673</td>\n",
              "      <td>267.302482</td>\n",
              "      <td>268.808500</td>\n",
              "      <td>270.233628</td>\n",
              "      <td>269.453221</td>\n",
              "      <td>269.765335</td>\n",
              "      <td>268.390334</td>\n",
              "      <td>269.790685</td>\n",
              "      <td>271.306658</td>\n",
              "      <td>-99732.805368</td>\n",
              "    </tr>\n",
              "    <tr>\n",
              "      <th>2</th>\n",
              "      <td>267.716849</td>\n",
              "      <td>268.844713</td>\n",
              "      <td>271.711829</td>\n",
              "      <td>270.384523</td>\n",
              "      <td>273.292405</td>\n",
              "      <td>271.996018</td>\n",
              "      <td>272.648890</td>\n",
              "      <td>272.761250</td>\n",
              "      <td>273.233928</td>\n",
              "      <td>-99732.191168</td>\n",
              "      <td>-99731.078919</td>\n",
              "    </tr>\n",
              "    <tr>\n",
              "      <th>3</th>\n",
              "      <td>272.241965</td>\n",
              "      <td>273.354940</td>\n",
              "      <td>273.489665</td>\n",
              "      <td>272.830589</td>\n",
              "      <td>273.492295</td>\n",
              "      <td>275.648958</td>\n",
              "      <td>272.997566</td>\n",
              "      <td>273.314759</td>\n",
              "      <td>-99731.615416</td>\n",
              "      <td>-99731.715634</td>\n",
              "      <td>-99731.886089</td>\n",
              "    </tr>\n",
              "    <tr>\n",
              "      <th>4</th>\n",
              "      <td>276.802501</td>\n",
              "      <td>276.719926</td>\n",
              "      <td>274.911826</td>\n",
              "      <td>276.913858</td>\n",
              "      <td>276.877354</td>\n",
              "      <td>278.593008</td>\n",
              "      <td>275.527947</td>\n",
              "      <td>-99733.474538</td>\n",
              "      <td>-99729.732338</td>\n",
              "      <td>-99730.008476</td>\n",
              "      <td>-99728.884127</td>\n",
              "    </tr>\n",
              "    <tr>\n",
              "      <th>5</th>\n",
              "      <td>277.809210</td>\n",
              "      <td>277.586209</td>\n",
              "      <td>278.243844</td>\n",
              "      <td>277.654807</td>\n",
              "      <td>277.246081</td>\n",
              "      <td>277.379935</td>\n",
              "      <td>-99733.029381</td>\n",
              "      <td>-99732.181495</td>\n",
              "      <td>-99732.102261</td>\n",
              "      <td>-99732.318133</td>\n",
              "      <td>-99731.495740</td>\n",
              "    </tr>\n",
              "    <tr>\n",
              "      <th>6</th>\n",
              "      <td>281.088263</td>\n",
              "      <td>280.826056</td>\n",
              "      <td>280.858873</td>\n",
              "      <td>280.708136</td>\n",
              "      <td>282.486237</td>\n",
              "      <td>-99731.172803</td>\n",
              "      <td>-99731.250018</td>\n",
              "      <td>-99732.660997</td>\n",
              "      <td>-99730.295588</td>\n",
              "      <td>-99729.969625</td>\n",
              "      <td>-99732.527003</td>\n",
              "    </tr>\n",
              "    <tr>\n",
              "      <th>7</th>\n",
              "      <td>281.968107</td>\n",
              "      <td>282.913323</td>\n",
              "      <td>282.908518</td>\n",
              "      <td>284.619979</td>\n",
              "      <td>-99730.992236</td>\n",
              "      <td>-99730.559546</td>\n",
              "      <td>-99731.120685</td>\n",
              "      <td>-99730.492989</td>\n",
              "      <td>-99730.320253</td>\n",
              "      <td>-99731.899351</td>\n",
              "      <td>-99733.294995</td>\n",
              "    </tr>\n",
              "    <tr>\n",
              "      <th>8</th>\n",
              "      <td>289.521372</td>\n",
              "      <td>284.222682</td>\n",
              "      <td>283.383809</td>\n",
              "      <td>-99732.766579</td>\n",
              "      <td>-99732.654278</td>\n",
              "      <td>-99731.846073</td>\n",
              "      <td>-99730.391255</td>\n",
              "      <td>-99732.397992</td>\n",
              "      <td>-99732.014363</td>\n",
              "      <td>-99732.541498</td>\n",
              "      <td>-99733.134389</td>\n",
              "    </tr>\n",
              "    <tr>\n",
              "      <th>9</th>\n",
              "      <td>289.720986</td>\n",
              "      <td>287.278906</td>\n",
              "      <td>-99731.106080</td>\n",
              "      <td>-99732.906011</td>\n",
              "      <td>-99731.746506</td>\n",
              "      <td>-99733.057459</td>\n",
              "      <td>-99733.283772</td>\n",
              "      <td>-99731.634433</td>\n",
              "      <td>-99734.861133</td>\n",
              "      <td>-99729.541533</td>\n",
              "      <td>-99733.180136</td>\n",
              "    </tr>\n",
              "    <tr>\n",
              "      <th>10</th>\n",
              "      <td>292.283130</td>\n",
              "      <td>-99732.760400</td>\n",
              "      <td>-99731.379541</td>\n",
              "      <td>-99734.341393</td>\n",
              "      <td>-99730.885161</td>\n",
              "      <td>-99732.601839</td>\n",
              "      <td>-99735.103863</td>\n",
              "      <td>-99733.765119</td>\n",
              "      <td>-99731.287490</td>\n",
              "      <td>-99733.148450</td>\n",
              "      <td>-99731.244381</td>\n",
              "    </tr>\n",
              "  </tbody>\n",
              "</table>\n",
              "</div>"
            ],
            "text/plain": [
              "             0             1             2             3             4  \\\n",
              "0   257.898405  259.708115    261.656880    265.762813    268.391621     \n",
              "1   262.808802  264.612673    267.302482    268.808500    270.233628     \n",
              "2   267.716849  268.844713    271.711829    270.384523    273.292405     \n",
              "3   272.241965  273.354940    273.489665    272.830589    273.492295     \n",
              "4   276.802501  276.719926    274.911826    276.913858    276.877354     \n",
              "5   277.809210  277.586209    278.243844    277.654807    277.246081     \n",
              "6   281.088263  280.826056    280.858873    280.708136    282.486237     \n",
              "7   281.968107  282.913323    282.908518    284.619979   -99730.992236   \n",
              "8   289.521372  284.222682    283.383809   -99732.766579 -99732.654278   \n",
              "9   289.720986  287.278906   -99731.106080 -99732.906011 -99731.746506   \n",
              "10  292.283130 -99732.760400 -99731.379541 -99734.341393 -99730.885161   \n",
              "\n",
              "               5             6             7             8             9  \\\n",
              "0   269.133547    268.680107    268.721359    269.123699    271.184967     \n",
              "1   269.453221    269.765335    268.390334    269.790685    271.306658     \n",
              "2   271.996018    272.648890    272.761250    273.233928   -99732.191168   \n",
              "3   275.648958    272.997566    273.314759   -99731.615416 -99731.715634   \n",
              "4   278.593008    275.527947   -99733.474538 -99729.732338 -99730.008476   \n",
              "5   277.379935   -99733.029381 -99732.181495 -99732.102261 -99732.318133   \n",
              "6  -99731.172803 -99731.250018 -99732.660997 -99730.295588 -99729.969625   \n",
              "7  -99730.559546 -99731.120685 -99730.492989 -99730.320253 -99731.899351   \n",
              "8  -99731.846073 -99730.391255 -99732.397992 -99732.014363 -99732.541498   \n",
              "9  -99733.057459 -99733.283772 -99731.634433 -99734.861133 -99729.541533   \n",
              "10 -99732.601839 -99735.103863 -99733.765119 -99731.287490 -99733.148450   \n",
              "\n",
              "              10  \n",
              "0   268.615813    \n",
              "1  -99732.805368  \n",
              "2  -99731.078919  \n",
              "3  -99731.886089  \n",
              "4  -99728.884127  \n",
              "5  -99731.495740  \n",
              "6  -99732.527003  \n",
              "7  -99733.294995  \n",
              "8  -99733.134389  \n",
              "9  -99733.180136  \n",
              "10 -99731.244381  "
            ]
          },
          "metadata": {
            "tags": []
          },
          "execution_count": 80
        }
      ]
    },
    {
      "cell_type": "code",
      "metadata": {
        "scrolled": false,
        "id": "AqqBanYvrHwm",
        "colab_type": "code",
        "colab": {
          "base_uri": "https://localhost:8080/",
          "height": 370
        },
        "outputId": "3c1a7462-7305-4fe4-8437-5572bb51b601"
      },
      "source": [
        "policy_df"
      ],
      "execution_count": null,
      "outputs": [
        {
          "output_type": "execute_result",
          "data": {
            "text/html": [
              "<div>\n",
              "<style scoped>\n",
              "    .dataframe tbody tr th:only-of-type {\n",
              "        vertical-align: middle;\n",
              "    }\n",
              "\n",
              "    .dataframe tbody tr th {\n",
              "        vertical-align: top;\n",
              "    }\n",
              "\n",
              "    .dataframe thead th {\n",
              "        text-align: right;\n",
              "    }\n",
              "</style>\n",
              "<table border=\"1\" class=\"dataframe\">\n",
              "  <thead>\n",
              "    <tr style=\"text-align: right;\">\n",
              "      <th></th>\n",
              "      <th>0</th>\n",
              "    </tr>\n",
              "  </thead>\n",
              "  <tbody>\n",
              "    <tr>\n",
              "      <th>0</th>\n",
              "      <td>9.0</td>\n",
              "    </tr>\n",
              "    <tr>\n",
              "      <th>1</th>\n",
              "      <td>9.0</td>\n",
              "    </tr>\n",
              "    <tr>\n",
              "      <th>2</th>\n",
              "      <td>4.0</td>\n",
              "    </tr>\n",
              "    <tr>\n",
              "      <th>3</th>\n",
              "      <td>5.0</td>\n",
              "    </tr>\n",
              "    <tr>\n",
              "      <th>4</th>\n",
              "      <td>5.0</td>\n",
              "    </tr>\n",
              "    <tr>\n",
              "      <th>5</th>\n",
              "      <td>2.0</td>\n",
              "    </tr>\n",
              "    <tr>\n",
              "      <th>6</th>\n",
              "      <td>4.0</td>\n",
              "    </tr>\n",
              "    <tr>\n",
              "      <th>7</th>\n",
              "      <td>3.0</td>\n",
              "    </tr>\n",
              "    <tr>\n",
              "      <th>8</th>\n",
              "      <td>0.0</td>\n",
              "    </tr>\n",
              "    <tr>\n",
              "      <th>9</th>\n",
              "      <td>0.0</td>\n",
              "    </tr>\n",
              "    <tr>\n",
              "      <th>10</th>\n",
              "      <td>0.0</td>\n",
              "    </tr>\n",
              "  </tbody>\n",
              "</table>\n",
              "</div>"
            ],
            "text/plain": [
              "      0\n",
              "0   9.0\n",
              "1   9.0\n",
              "2   4.0\n",
              "3   5.0\n",
              "4   5.0\n",
              "5   2.0\n",
              "6   4.0\n",
              "7   3.0\n",
              "8   0.0\n",
              "9   0.0\n",
              "10  0.0"
            ]
          },
          "metadata": {
            "tags": []
          },
          "execution_count": 81
        }
      ]
    },
    {
      "cell_type": "markdown",
      "metadata": {
        "id": "F8KqJ3eXrHwr",
        "colab_type": "text"
      },
      "source": [
        "### Step 6: Simulate withour probability matrix/RR"
      ]
    },
    {
      "cell_type": "code",
      "metadata": {
        "id": "WC2h00CVrHws",
        "colab_type": "code",
        "colab": {}
      },
      "source": [
        ""
      ],
      "execution_count": null,
      "outputs": []
    },
    {
      "cell_type": "code",
      "metadata": {
        "id": "zZEfIcQcrHww",
        "colab_type": "code",
        "colab": {}
      },
      "source": [
        ""
      ],
      "execution_count": null,
      "outputs": []
    },
    {
      "cell_type": "markdown",
      "metadata": {
        "id": "lq6f6JplrHw2",
        "colab_type": "text"
      },
      "source": [
        "### Step 7:"
      ]
    },
    {
      "cell_type": "code",
      "metadata": {
        "id": "m6sNPNsLrHw3",
        "colab_type": "code",
        "colab": {}
      },
      "source": [
        ""
      ],
      "execution_count": null,
      "outputs": []
    },
    {
      "cell_type": "code",
      "metadata": {
        "id": "roTE4xA6rHw6",
        "colab_type": "code",
        "colab": {}
      },
      "source": [
        ""
      ],
      "execution_count": null,
      "outputs": []
    },
    {
      "cell_type": "code",
      "metadata": {
        "id": "JH_N-8HKrHw-",
        "colab_type": "code",
        "colab": {}
      },
      "source": [
        ""
      ],
      "execution_count": null,
      "outputs": []
    }
  ]
}