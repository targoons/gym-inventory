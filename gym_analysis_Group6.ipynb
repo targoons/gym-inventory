{
 "cells": [
  {
   "cell_type": "markdown",
   "metadata": {
    "colab_type": "text",
    "id": "rVWe09OarHtr"
   },
   "source": [
    "<div>\n",
    "<img src=\"https://www.automation.com/getmedia/3c46e651-52ef-4d7e-9ee1-4e2132173f57/EUS031---Image\" width=\"250\" align=\"left\"/>\n",
    "</div>"
   ]
  },
  {
   "cell_type": "markdown",
   "metadata": {
    "colab_type": "text",
    "id": "xId9RYtarHtt"
   },
   "source": [
    "## Reinforcement Learning Final Project: Inventory Management\n",
    "Group 6: Michael, Annie, Targoon"
   ]
  },
  {
   "cell_type": "code",
   "execution_count": 1,
   "metadata": {
    "colab": {},
    "colab_type": "code",
    "id": "bK0HJ53YrHtu"
   },
   "outputs": [],
   "source": [
    "# 1. Problem Introduction\n",
    "    # - EDA / Markov Process Description\n",
    "# 2. Solve Problem in a small scale (Value Iteration)\n",
    "    # - Calculate Probability Matrix & Rewards by simulation\n",
    "    # - plot different graphs between optimal action vs initial state given different values\n",
    "# 3. Increase problem scaling (Value Iteration with Simulation & Q-Learning)"
   ]
  },
  {
   "cell_type": "markdown",
   "metadata": {
    "colab_type": "text",
    "id": "8Exio1zorHt2"
   },
   "source": [
    "### Necessary imports"
   ]
  },
  {
   "cell_type": "code",
   "execution_count": 2,
   "metadata": {
    "colab": {
     "base_uri": "https://localhost:8080/",
     "height": 35
    },
    "colab_type": "code",
    "id": "NRvdefo3rHt4",
    "outputId": "ddce3f4b-7c88-4fd0-9bfd-1eed14d58dc2"
   },
   "outputs": [
    {
     "name": "stderr",
     "output_type": "stream",
     "text": [
      "/Users/colella2/opt/anaconda3/lib/python3.7/site-packages/numba/np/ufunc/parallel.py:355: NumbaWarning: \u001b[1mThe TBB threading layer requires TBB version 2019.5 or later i.e., TBB_INTERFACE_VERSION >= 11005. Found TBB_INTERFACE_VERSION = 10005. The TBB threading layer is disabled.\u001b[0m\n",
      "  warnings.warn(problem)\n"
     ]
    }
   ],
   "source": [
    "#!!pip install gym\n",
    "#!pip install quantecon \n",
    "#!pip install numpy==1.19.1\n",
    "\n",
    "import gym\n",
    "from gym import spaces\n",
    "from gym import utils\n",
    "from gym.utils import seeding\n",
    "\n",
    "import logging\n",
    "logger = logging.getLogger(__name__)\n",
    "\n",
    "import os\n",
    "from os.path import basename\n",
    "import sys\n",
    "import platform\n",
    "\n",
    "import gym\n",
    "from gym import spaces\n",
    "from gym import utils\n",
    "from gym.utils import seeding\n",
    "\n",
    "import pandas as pd\n",
    "import numpy as np\n",
    "import quantecon as qe\n",
    "\n",
    "import matplotlib.pyplot as plt\n",
    "\n",
    "from collections import Counter\n",
    "from itertools import groupby\n",
    "\n",
    "import warnings\n",
    "warnings.filterwarnings(\"ignore\") # supress warnings\n",
    "\n",
    "import matplotlib.pyplot as plt\n",
    "\n",
    "pd.set_option('display.max_colwidth', -1)\n",
    "pd.set_option('display.max_row', 20) # set max row display\n",
    "pd.set_option('display.max_columns', 20) # set max column width\n",
    "\n",
    "# enable ability to see the value of multiple statements at once\n",
    "from IPython.core.interactiveshell import InteractiveShell\n",
    "InteractiveShell.ast_node_interactivity = \"all\"\n",
    "\n",
    "%matplotlib inline"
   ]
  },
  {
   "cell_type": "code",
   "execution_count": 3,
   "metadata": {
    "colab": {
     "base_uri": "https://localhost:8080/",
     "height": 35
    },
    "colab_type": "code",
    "id": "6Wz0OYJ0rHuD",
    "outputId": "4a827e6a-6fc9-46f6-de70-c0ac35dc77f6"
   },
   "outputs": [
    {
     "name": "stdout",
     "output_type": "stream",
     "text": [
      "3.7.7\n"
     ]
    }
   ],
   "source": [
    "# check python version\n",
    "from platform import python_version\n",
    "print(python_version())"
   ]
  },
  {
   "cell_type": "markdown",
   "metadata": {
    "colab_type": "text",
    "id": "YeefXXc2rHuN"
   },
   "source": [
    "### Instantiate class from gym environment"
   ]
  },
  {
   "cell_type": "code",
   "execution_count": 4,
   "metadata": {
    "colab": {},
    "colab_type": "code",
    "id": "bZPeZeAjrHuO"
   },
   "outputs": [],
   "source": [
    "class InventoryEnv(gym.Env, utils.EzPickle):\n",
    "    \"\"\"Inventory control with lost sales environment\n",
    "\n",
    "    TO BE EDITED\n",
    "\n",
    "    This environment corresponds to the version of the inventory control\n",
    "    with lost sales problem described in Example 1.1 in Algorithms for\n",
    "    Reinforcement Learning by Csaba Szepesvari (2010).\n",
    "    https://sites.ualberta.ca/~szepesva/RLBook.html\n",
    "    \"\"\"\n",
    "\n",
    "    # our problem statement does not fully define these parameters\n",
    "    # we will explain what happens to our optimal policy, given changing parameters -- we will show this w/ graphs\n",
    "    \n",
    "    def __init__(self, n=10, k=1, c=2, h=0, p=5, lam=5): # default values\n",
    "        self.n = n \n",
    "        self.action_space = spaces.Discrete(n + 1)\n",
    "        self.observation_space = spaces.Discrete(n + 1)\n",
    "        self.max = n # have to optimize max items held at certain\n",
    "        self.state = np.random.choice(range(n + 1))\n",
    "        self.k = k # fixed entry cost for ordering; k must be greater than 0\n",
    "        self.c = c # fixed price of purchase for items\n",
    "        self.h = h # proportionality value must be greater than 0; cost per unit; constant that we multiply by remaining inventory\n",
    "        self.p = p # p is price and must be greater than 0\n",
    "        self.lam = lam\n",
    "        \n",
    "        # we do not know what demand will be \n",
    "        # upon selling z units the manager is paid the monetary amount of p z, where p > 0.\n",
    "\n",
    "        # Set seed\n",
    "        self._seed()\n",
    "\n",
    "        # Start the first round\n",
    "        self._reset()\n",
    "\n",
    "    def demand(self):\n",
    "        return np.random.poisson(self.lam) # randomly generated demand based on poisson distribution\n",
    "\n",
    "    # transition probabilities\n",
    "    def transition(self, x, a, d): # action At gives the number of items ordered in the evening of day t\n",
    "        # x is initial state\n",
    "        \n",
    "        m = self.max\n",
    "        \n",
    "        # size of next inventory is xt+1\n",
    "        return max(min(x + a, m) - d, 0) # subtract the d (demand) that you will recieve the next day\n",
    "\n",
    "    # a controller receives the controlled system's state and a reward associated with the last state transition\n",
    "    def reward(self, x, a, y):\n",
    "        k = self.k\n",
    "        m = self.max # m is equal to n\n",
    "        c = self.c\n",
    "        h = self.h\n",
    "        p = self.p\n",
    "        \n",
    "        # a, amount purchased, + max inventory; if over amount of storage, affix penalty\n",
    "        if a + x > self.max:\n",
    "            return -99999\n",
    "        else:\n",
    "            r = -k * (a > 0) - c * max(min(x + a, m) - x, 0) - h * x + p * max(min(x + a, m) - y, 0)\n",
    "            return r\n",
    "\n",
    "    def _seed(self, seed=None):\n",
    "        self.np_random, seed = seeding.np_random(seed)\n",
    "        return [seed]\n",
    "\n",
    "    def _step(self, action):\n",
    "        assert self.action_space.contains(action)\n",
    "        obs = self.state\n",
    "        demand = self.demand()\n",
    "        obs2 = self.transition(obs, action, demand)\n",
    "        self.state = obs2\n",
    "        reward = self.reward(obs, action, obs2)\n",
    "        done = 0\n",
    "        return obs2, reward, done, {}\n",
    "\n",
    "    def _reset(self):\n",
    "        return self.state"
   ]
  },
  {
   "cell_type": "markdown",
   "metadata": {
    "colab_type": "text",
    "id": "SzAbJ56NrHub"
   },
   "source": [
    "We are going to start with a smaller sample set."
   ]
  },
  {
   "cell_type": "markdown",
   "metadata": {
    "colab_type": "text",
    "id": "xJNP8nzgrHud"
   },
   "source": [
    "### Step 1: Transition probability and Reward matrices"
   ]
  },
  {
   "cell_type": "code",
   "execution_count": 5,
   "metadata": {
    "colab": {
     "base_uri": "https://localhost:8080/",
     "height": 35
    },
    "colab_type": "code",
    "id": "2v5M5U4drHue",
    "outputId": "385de656-45ef-4492-dc16-14767bea11c2"
   },
   "outputs": [
    {
     "data": {
      "text/plain": [
       "10"
      ]
     },
     "execution_count": 5,
     "metadata": {},
     "output_type": "execute_result"
    }
   ],
   "source": [
    "env = InventoryEnv()\n",
    "env.n"
   ]
  },
  {
   "cell_type": "code",
   "execution_count": 6,
   "metadata": {
    "colab": {},
    "colab_type": "code",
    "id": "pK2vS9UNvc0-"
   },
   "outputs": [],
   "source": [
    "#env = updated gym env\n",
    "#T= simulated demand iterations \n",
    "\n",
    "def transition_prob(env,T=10000):\n",
    "  P_t = np.zeros([env.n + 1, env.n + 1, env.n + 1]) #(action, current_state, next_state)\n",
    "  RR = np.zeros([env.n + 1, env.n + 1, env.n + 1]) \n",
    "  print('Shape of probability matrix and Reward Matrix is',RR.shape)\n",
    "\n",
    "  demand_list = []\n",
    "  for init_state in range(env.n + 1):\n",
    "      for action in range(env.n + 1):\n",
    "          final_state_list = []\n",
    "\n",
    "          for i in range(T):\n",
    "              demand = env.demand()\n",
    "              final_state = env.transition(init_state, action, demand)\n",
    "              \n",
    "              demand_list.append(demand)\n",
    "              final_state_list.append(final_state)\n",
    "              \n",
    "          final_state_count = Counter(final_state_list)\n",
    "          \n",
    "          \n",
    "          for (final_state,probability) in final_state_count.items():\n",
    "              P_t[action, init_state, final_state] = probability / T\n",
    "              \n",
    "          for final_state in range(env.n + 1):\n",
    "              RR[action, init_state, final_state] = env.reward(init_state, action, final_state)\n",
    "\n",
    "  return P_t,RR,demand_list"
   ]
  },
  {
   "cell_type": "code",
   "execution_count": 7,
   "metadata": {
    "colab": {
     "base_uri": "https://localhost:8080/",
     "height": 35
    },
    "colab_type": "code",
    "id": "8FlX0SI1w3b7",
    "outputId": "100e2d4b-e8e0-4b76-8877-612e4239d53c"
   },
   "outputs": [
    {
     "name": "stdout",
     "output_type": "stream",
     "text": [
      "Shape of probability matrix and Reward Matrix is (11, 11, 11)\n"
     ]
    }
   ],
   "source": [
    "P_t,RR,demand_list = transition_prob(env)"
   ]
  },
  {
   "cell_type": "code",
   "execution_count": 8,
   "metadata": {
    "colab": {
     "base_uri": "https://localhost:8080/",
     "height": 389
    },
    "colab_type": "code",
    "id": "G1qyeuVXrHu1",
    "outputId": "420fbd90-3ae6-4fc6-8c1f-f9d329008ba7",
    "scrolled": false
   },
   "outputs": [
    {
     "data": {
      "text/plain": [
       "(array([4.88840e+04, 2.71170e+05, 4.25324e+05, 3.03551e+05, 1.22604e+05,\n",
       "        3.18840e+04, 5.75500e+03, 7.34000e+02, 8.80000e+01, 6.00000e+00]),\n",
       " array([ 0.,  2.,  4.,  6.,  8., 10., 12., 14., 16., 18., 20.]),\n",
       " <a list of 10 Patch objects>)"
      ]
     },
     "execution_count": 8,
     "metadata": {},
     "output_type": "execute_result"
    },
    {
     "data": {
      "image/png": "[encoded data removed]",
      "text/plain": [
       "<Figure size 432x288 with 1 Axes>"
      ]
     },
     "metadata": {
      "needs_background": "light"
     },
     "output_type": "display_data"
    }
   ],
   "source": [
    "plt.hist(demand_list)"
   ]
  },
  {
   "cell_type": "code",
   "execution_count": 9,
   "metadata": {
    "colab": {
     "base_uri": "https://localhost:8080/",
     "height": 370
    },
    "colab_type": "code",
    "id": "4N9273GDrHu8",
    "outputId": "90437bc9-8c0a-409e-b95a-9f6c45c6bb7d"
   },
   "outputs": [
    {
     "data": {
      "text/html": [
       "<div>\n",
       "<style scoped>\n",
       "    .dataframe tbody tr th:only-of-type {\n",
       "        vertical-align: middle;\n",
       "    }\n",
       "\n",
       "    .dataframe tbody tr th {\n",
       "        vertical-align: top;\n",
       "    }\n",
       "\n",
       "    .dataframe thead th {\n",
       "        text-align: right;\n",
       "    }\n",
       "</style>\n",
       "<table border=\"1\" class=\"dataframe\">\n",
       "  <thead>\n",
       "    <tr style=\"text-align: right;\">\n",
       "      <th></th>\n",
       "      <th>0</th>\n",
       "      <th>1</th>\n",
       "      <th>2</th>\n",
       "      <th>3</th>\n",
       "      <th>4</th>\n",
       "      <th>5</th>\n",
       "      <th>6</th>\n",
       "      <th>7</th>\n",
       "      <th>8</th>\n",
       "      <th>9</th>\n",
       "      <th>10</th>\n",
       "    </tr>\n",
       "  </thead>\n",
       "  <tbody>\n",
       "    <tr>\n",
       "      <th>0</th>\n",
       "      <td>0.5578</td>\n",
       "      <td>0.1806</td>\n",
       "      <td>0.1422</td>\n",
       "      <td>0.0832</td>\n",
       "      <td>0.0308</td>\n",
       "      <td>0.0054</td>\n",
       "      <td>0.0000</td>\n",
       "      <td>0.0000</td>\n",
       "      <td>0.0000</td>\n",
       "      <td>0.0000</td>\n",
       "      <td>0.0000</td>\n",
       "    </tr>\n",
       "    <tr>\n",
       "      <th>1</th>\n",
       "      <td>0.3859</td>\n",
       "      <td>0.1760</td>\n",
       "      <td>0.1728</td>\n",
       "      <td>0.1415</td>\n",
       "      <td>0.0824</td>\n",
       "      <td>0.0335</td>\n",
       "      <td>0.0079</td>\n",
       "      <td>0.0000</td>\n",
       "      <td>0.0000</td>\n",
       "      <td>0.0000</td>\n",
       "      <td>0.0000</td>\n",
       "    </tr>\n",
       "    <tr>\n",
       "      <th>2</th>\n",
       "      <td>0.2339</td>\n",
       "      <td>0.1439</td>\n",
       "      <td>0.1740</td>\n",
       "      <td>0.1808</td>\n",
       "      <td>0.1437</td>\n",
       "      <td>0.0818</td>\n",
       "      <td>0.0347</td>\n",
       "      <td>0.0072</td>\n",
       "      <td>0.0000</td>\n",
       "      <td>0.0000</td>\n",
       "      <td>0.0000</td>\n",
       "    </tr>\n",
       "    <tr>\n",
       "      <th>3</th>\n",
       "      <td>0.1297</td>\n",
       "      <td>0.1067</td>\n",
       "      <td>0.1434</td>\n",
       "      <td>0.1719</td>\n",
       "      <td>0.1801</td>\n",
       "      <td>0.1383</td>\n",
       "      <td>0.0877</td>\n",
       "      <td>0.0348</td>\n",
       "      <td>0.0074</td>\n",
       "      <td>0.0000</td>\n",
       "      <td>0.0000</td>\n",
       "    </tr>\n",
       "    <tr>\n",
       "      <th>4</th>\n",
       "      <td>0.0704</td>\n",
       "      <td>0.0655</td>\n",
       "      <td>0.1034</td>\n",
       "      <td>0.1499</td>\n",
       "      <td>0.1751</td>\n",
       "      <td>0.1751</td>\n",
       "      <td>0.1371</td>\n",
       "      <td>0.0826</td>\n",
       "      <td>0.0349</td>\n",
       "      <td>0.0060</td>\n",
       "      <td>0.0000</td>\n",
       "    </tr>\n",
       "    <tr>\n",
       "      <th>5</th>\n",
       "      <td>0.0329</td>\n",
       "      <td>0.0368</td>\n",
       "      <td>0.0658</td>\n",
       "      <td>0.1036</td>\n",
       "      <td>0.1491</td>\n",
       "      <td>0.1784</td>\n",
       "      <td>0.1767</td>\n",
       "      <td>0.1390</td>\n",
       "      <td>0.0804</td>\n",
       "      <td>0.0322</td>\n",
       "      <td>0.0051</td>\n",
       "    </tr>\n",
       "    <tr>\n",
       "      <th>6</th>\n",
       "      <td>0.0338</td>\n",
       "      <td>0.0373</td>\n",
       "      <td>0.0641</td>\n",
       "      <td>0.1099</td>\n",
       "      <td>0.1419</td>\n",
       "      <td>0.1711</td>\n",
       "      <td>0.1767</td>\n",
       "      <td>0.1400</td>\n",
       "      <td>0.0864</td>\n",
       "      <td>0.0315</td>\n",
       "      <td>0.0073</td>\n",
       "    </tr>\n",
       "    <tr>\n",
       "      <th>7</th>\n",
       "      <td>0.0353</td>\n",
       "      <td>0.0365</td>\n",
       "      <td>0.0694</td>\n",
       "      <td>0.1009</td>\n",
       "      <td>0.1502</td>\n",
       "      <td>0.1745</td>\n",
       "      <td>0.1733</td>\n",
       "      <td>0.1353</td>\n",
       "      <td>0.0844</td>\n",
       "      <td>0.0334</td>\n",
       "      <td>0.0068</td>\n",
       "    </tr>\n",
       "    <tr>\n",
       "      <th>8</th>\n",
       "      <td>0.0307</td>\n",
       "      <td>0.0367</td>\n",
       "      <td>0.0669</td>\n",
       "      <td>0.1072</td>\n",
       "      <td>0.1457</td>\n",
       "      <td>0.1710</td>\n",
       "      <td>0.1720</td>\n",
       "      <td>0.1445</td>\n",
       "      <td>0.0824</td>\n",
       "      <td>0.0357</td>\n",
       "      <td>0.0072</td>\n",
       "    </tr>\n",
       "    <tr>\n",
       "      <th>9</th>\n",
       "      <td>0.0326</td>\n",
       "      <td>0.0364</td>\n",
       "      <td>0.0612</td>\n",
       "      <td>0.1027</td>\n",
       "      <td>0.1503</td>\n",
       "      <td>0.1731</td>\n",
       "      <td>0.1752</td>\n",
       "      <td>0.1399</td>\n",
       "      <td>0.0877</td>\n",
       "      <td>0.0352</td>\n",
       "      <td>0.0057</td>\n",
       "    </tr>\n",
       "    <tr>\n",
       "      <th>10</th>\n",
       "      <td>0.0335</td>\n",
       "      <td>0.0354</td>\n",
       "      <td>0.0673</td>\n",
       "      <td>0.1064</td>\n",
       "      <td>0.1435</td>\n",
       "      <td>0.1691</td>\n",
       "      <td>0.1729</td>\n",
       "      <td>0.1486</td>\n",
       "      <td>0.0825</td>\n",
       "      <td>0.0327</td>\n",
       "      <td>0.0081</td>\n",
       "    </tr>\n",
       "  </tbody>\n",
       "</table>\n",
       "</div>"
      ],
      "text/plain": [
       "         0       1       2       3       4       5       6       7       8  \\\n",
       "0   0.5578  0.1806  0.1422  0.0832  0.0308  0.0054  0.0000  0.0000  0.0000   \n",
       "1   0.3859  0.1760  0.1728  0.1415  0.0824  0.0335  0.0079  0.0000  0.0000   \n",
       "2   0.2339  0.1439  0.1740  0.1808  0.1437  0.0818  0.0347  0.0072  0.0000   \n",
       "3   0.1297  0.1067  0.1434  0.1719  0.1801  0.1383  0.0877  0.0348  0.0074   \n",
       "4   0.0704  0.0655  0.1034  0.1499  0.1751  0.1751  0.1371  0.0826  0.0349   \n",
       "5   0.0329  0.0368  0.0658  0.1036  0.1491  0.1784  0.1767  0.1390  0.0804   \n",
       "6   0.0338  0.0373  0.0641  0.1099  0.1419  0.1711  0.1767  0.1400  0.0864   \n",
       "7   0.0353  0.0365  0.0694  0.1009  0.1502  0.1745  0.1733  0.1353  0.0844   \n",
       "8   0.0307  0.0367  0.0669  0.1072  0.1457  0.1710  0.1720  0.1445  0.0824   \n",
       "9   0.0326  0.0364  0.0612  0.1027  0.1503  0.1731  0.1752  0.1399  0.0877   \n",
       "10  0.0335  0.0354  0.0673  0.1064  0.1435  0.1691  0.1729  0.1486  0.0825   \n",
       "\n",
       "         9      10  \n",
       "0   0.0000  0.0000  \n",
       "1   0.0000  0.0000  \n",
       "2   0.0000  0.0000  \n",
       "3   0.0000  0.0000  \n",
       "4   0.0060  0.0000  \n",
       "5   0.0322  0.0051  \n",
       "6   0.0315  0.0073  \n",
       "7   0.0334  0.0068  \n",
       "8   0.0357  0.0072  \n",
       "9   0.0352  0.0057  \n",
       "10  0.0327  0.0081  "
      ]
     },
     "execution_count": 9,
     "metadata": {},
     "output_type": "execute_result"
    }
   ],
   "source": [
    "pd.DataFrame(P_t[5,:,:])"
   ]
  },
  {
   "cell_type": "code",
   "execution_count": 10,
   "metadata": {
    "colab": {
     "base_uri": "https://localhost:8080/",
     "height": 35
    },
    "colab_type": "code",
    "id": "H1tCGjYHrHvF",
    "outputId": "b15d7d41-3e93-4021-8e60-f4e81c2791d3"
   },
   "outputs": [
    {
     "data": {
      "text/plain": [
       "(11, 11, 11)"
      ]
     },
     "execution_count": 10,
     "metadata": {},
     "output_type": "execute_result"
    }
   ],
   "source": [
    "K,N,M = P_t.shape\n",
    "K,N,M"
   ]
  },
  {
   "cell_type": "code",
   "execution_count": 11,
   "metadata": {
    "colab": {},
    "colab_type": "code",
    "id": "WtqGGXrXrHvM"
   },
   "outputs": [],
   "source": [
    "# k = action\n",
    "# i = current state\n",
    "# j = next state"
   ]
  },
  {
   "cell_type": "markdown",
   "metadata": {
    "colab_type": "text",
    "id": "B6HX00bHrHvS"
   },
   "source": [
    "### Step 2: EDA"
   ]
  },
  {
   "cell_type": "code",
   "execution_count": 25,
   "metadata": {
    "colab": {},
    "colab_type": "code",
    "id": "nlm-1Lw_rHvT",
    "outputId": "10c2a678-e540-420e-e9b1-a1d45417dd70"
   },
   "outputs": [
    {
     "data": {
      "text/plain": [
       "array([[0.9938, 0.0062, 0.    , 0.    , 0.    , 0.    , 0.    , 0.    ,\n",
       "        0.    , 0.    , 0.    ],\n",
       "       [0.9593, 0.0338, 0.0069, 0.    , 0.    , 0.    , 0.    , 0.    ,\n",
       "        0.    , 0.    , 0.    ],\n",
       "       [0.8698, 0.0875, 0.0351, 0.0076, 0.    , 0.    , 0.    , 0.    ,\n",
       "        0.    , 0.    , 0.    ],\n",
       "       [0.7469, 0.1328, 0.0806, 0.0333, 0.0064, 0.    , 0.    , 0.    ,\n",
       "        0.    , 0.    , 0.    ],\n",
       "       [0.5576, 0.1766, 0.1409, 0.0829, 0.0357, 0.0063, 0.    , 0.    ,\n",
       "        0.    , 0.    , 0.    ],\n",
       "       [0.3851, 0.1799, 0.174 , 0.1385, 0.0842, 0.032 , 0.0063, 0.    ,\n",
       "        0.    , 0.    , 0.    ],\n",
       "       [0.2321, 0.1407, 0.1761, 0.1824, 0.1426, 0.082 , 0.0357, 0.0084,\n",
       "        0.    , 0.    , 0.    ],\n",
       "       [0.1365, 0.1044, 0.1448, 0.1731, 0.1735, 0.142 , 0.0872, 0.0332,\n",
       "        0.0053, 0.    , 0.    ],\n",
       "       [0.068 , 0.0675, 0.1075, 0.1441, 0.1731, 0.1715, 0.1464, 0.0833,\n",
       "        0.032 , 0.0066, 0.    ],\n",
       "       [0.0322, 0.0382, 0.0678, 0.1053, 0.1486, 0.175 , 0.1713, 0.1391,\n",
       "        0.0823, 0.0343, 0.0059],\n",
       "       [0.0291, 0.0386, 0.0668, 0.1067, 0.141 , 0.1793, 0.1736, 0.1442,\n",
       "        0.0832, 0.0318, 0.0057]])"
      ]
     },
     "execution_count": 25,
     "metadata": {},
     "output_type": "execute_result"
    },
    {
     "data": {
      "text/plain": [
       "(11, 11)"
      ]
     },
     "execution_count": 25,
     "metadata": {},
     "output_type": "execute_result"
    },
    {
     "data": {
      "text/plain": [
       "array([1., 1., 1., 1., 1., 1., 1., 1., 1., 1., 1.])"
      ]
     },
     "execution_count": 25,
     "metadata": {},
     "output_type": "execute_result"
    }
   ],
   "source": [
    "# transition probability is dependent on action(s) taken\n",
    "# note: it is possible for MDP's to have absorbing states\n",
    "\n",
    "# all probabilities should be betw. 0 and 1\n",
    "# confirm values are as expected\n",
    "P_t[1,:,:]\n",
    "\n",
    "P_t[1,:,:].shape\n",
    "\n",
    "# sum to validate probabilities add to 1\n",
    "np.sum(P_t[1,:,:], axis = 1)"
   ]
  },
  {
   "cell_type": "code",
   "execution_count": null,
   "metadata": {
    "colab": {},
    "colab_type": "code",
    "id": "rr_4T5B9rHvX"
   },
   "outputs": [],
   "source": [
    "# simulation(s)\n",
    "\n",
    "\n",
    "# recurrent states -- including explanation(s)\n",
    "\n",
    "\n",
    "# stationarity\n",
    "\n",
    "\n",
    "# periodicity\n"
   ]
  },
  {
   "cell_type": "code",
   "execution_count": null,
   "metadata": {
    "colab": {},
    "colab_type": "code",
    "id": "u3t1f87KrHvb"
   },
   "outputs": [],
   "source": []
  },
  {
   "cell_type": "markdown",
   "metadata": {
    "colab_type": "text",
    "id": "e4poZqrLrHve"
   },
   "source": [
    "### Step 3: Value Iteration"
   ]
  },
  {
   "cell_type": "code",
   "execution_count": 19,
   "metadata": {
    "colab": {},
    "colab_type": "code",
    "id": "I1wOKI9WxLAv"
   },
   "outputs": [],
   "source": [
    "def value_iteration(P_t,RR,t=600):\n",
    "    \n",
    "  K,N,M = P_t.shape\n",
    "  q = np.zeros((K,N,1),dtype=np.float64)\n",
    "  # print(q)\n",
    "    \n",
    "  print('The shape of K,N,M is:', K,N,M) \n",
    "  print('The shape of q is:',q.shape) # creates eleven 11 x 1 arrays\n",
    "    \n",
    "  for i in range(0,N):\n",
    "    for k in range(0,K):\n",
    "        for j in range(0,M):\n",
    "            q[k,i,0] = q[k,i,0] + RR[k,i,j]*P_t[k,i,j]\n",
    "\n",
    "  v = np.zeros((N,t),dtype=np.float64)\n",
    "  d = np.zeros((N,t),dtype=np.float64)\n",
    "    \n",
    "  for n in range(1,t):   \n",
    "      for i in range(0,N):\n",
    "          rhs = np.zeros((1,K),dtype=np.float64)\n",
    "        \n",
    "          for k in range(0,K):\n",
    "              rhs[0][k] = q[k][i][0] + np.matmul(P_t[k,i,:],v[:,n-1]) \n",
    "            \n",
    "          v[i,n] = max(rhs[0])\n",
    "          d[i,n] = np.argmax(rhs[0])\n",
    "  \n",
    "  v = v.T\n",
    "  d = d.T\n",
    "\n",
    "  return v,d"
   ]
  },
  {
   "cell_type": "code",
   "execution_count": 20,
   "metadata": {
    "colab": {
     "base_uri": "https://localhost:8080/",
     "height": 52
    },
    "colab_type": "code",
    "id": "JpPLW-_Oxwa4",
    "outputId": "dcb9406e-b27c-47c9-8b89-6d876ea1167b"
   },
   "outputs": [
    {
     "name": "stdout",
     "output_type": "stream",
     "text": [
      "The shape of K,N,M is: 11 11 11\n",
      "The shape of q is: (11, 11, 1)\n"
     ]
    }
   ],
   "source": [
    "v,d=value_iteration(P_t,RR)"
   ]
  },
  {
   "cell_type": "code",
   "execution_count": 21,
   "metadata": {
    "colab": {},
    "colab_type": "code",
    "id": "iSC0gmYBrHvt"
   },
   "outputs": [
    {
     "data": {
      "text/html": [
       "<div>\n",
       "<style scoped>\n",
       "    .dataframe tbody tr th:only-of-type {\n",
       "        vertical-align: middle;\n",
       "    }\n",
       "\n",
       "    .dataframe tbody tr th {\n",
       "        vertical-align: top;\n",
       "    }\n",
       "\n",
       "    .dataframe thead th {\n",
       "        text-align: right;\n",
       "    }\n",
       "</style>\n",
       "<table border=\"1\" class=\"dataframe\">\n",
       "  <thead>\n",
       "    <tr style=\"text-align: right;\">\n",
       "      <th></th>\n",
       "      <th>0</th>\n",
       "      <th>1</th>\n",
       "      <th>2</th>\n",
       "      <th>3</th>\n",
       "      <th>4</th>\n",
       "      <th>5</th>\n",
       "      <th>6</th>\n",
       "      <th>7</th>\n",
       "      <th>8</th>\n",
       "      <th>9</th>\n",
       "      <th>10</th>\n",
       "    </tr>\n",
       "  </thead>\n",
       "  <tbody>\n",
       "    <tr>\n",
       "      <th>0</th>\n",
       "      <td>0.000000</td>\n",
       "      <td>0.000000</td>\n",
       "      <td>0.000000</td>\n",
       "      <td>0.000000</td>\n",
       "      <td>0.000000</td>\n",
       "      <td>0.000000</td>\n",
       "      <td>0.000000</td>\n",
       "      <td>0.000000</td>\n",
       "      <td>0.000000</td>\n",
       "      <td>0.000000</td>\n",
       "      <td>0.000000</td>\n",
       "    </tr>\n",
       "    <tr>\n",
       "      <th>1</th>\n",
       "      <td>9.676000</td>\n",
       "      <td>11.597500</td>\n",
       "      <td>13.690500</td>\n",
       "      <td>15.696500</td>\n",
       "      <td>17.901000</td>\n",
       "      <td>20.558500</td>\n",
       "      <td>22.445000</td>\n",
       "      <td>23.635500</td>\n",
       "      <td>24.499500</td>\n",
       "      <td>24.782500</td>\n",
       "      <td>24.771500</td>\n",
       "    </tr>\n",
       "    <tr>\n",
       "      <th>2</th>\n",
       "      <td>23.808197</td>\n",
       "      <td>25.713671</td>\n",
       "      <td>27.773432</td>\n",
       "      <td>29.821405</td>\n",
       "      <td>31.817318</td>\n",
       "      <td>33.830253</td>\n",
       "      <td>35.796830</td>\n",
       "      <td>37.984176</td>\n",
       "      <td>40.585219</td>\n",
       "      <td>42.787050</td>\n",
       "      <td>44.621812</td>\n",
       "    </tr>\n",
       "    <tr>\n",
       "      <th>3</th>\n",
       "      <td>37.887236</td>\n",
       "      <td>39.890989</td>\n",
       "      <td>41.838841</td>\n",
       "      <td>43.842842</td>\n",
       "      <td>45.962185</td>\n",
       "      <td>47.975287</td>\n",
       "      <td>49.848271</td>\n",
       "      <td>51.975345</td>\n",
       "      <td>54.511344</td>\n",
       "      <td>56.720101</td>\n",
       "      <td>58.801581</td>\n",
       "    </tr>\n",
       "    <tr>\n",
       "      <th>4</th>\n",
       "      <td>51.950429</td>\n",
       "      <td>53.953534</td>\n",
       "      <td>55.901477</td>\n",
       "      <td>57.904394</td>\n",
       "      <td>60.025615</td>\n",
       "      <td>62.039096</td>\n",
       "      <td>63.910249</td>\n",
       "      <td>66.069621</td>\n",
       "      <td>68.603203</td>\n",
       "      <td>70.802178</td>\n",
       "      <td>72.864015</td>\n",
       "    </tr>\n",
       "    <tr>\n",
       "      <th>...</th>\n",
       "      <td>...</td>\n",
       "      <td>...</td>\n",
       "      <td>...</td>\n",
       "      <td>...</td>\n",
       "      <td>...</td>\n",
       "      <td>...</td>\n",
       "      <td>...</td>\n",
       "      <td>...</td>\n",
       "      <td>...</td>\n",
       "      <td>...</td>\n",
       "      <td>...</td>\n",
       "    </tr>\n",
       "    <tr>\n",
       "      <th>595</th>\n",
       "      <td>8366.666896</td>\n",
       "      <td>8368.670058</td>\n",
       "      <td>8370.618004</td>\n",
       "      <td>8372.620980</td>\n",
       "      <td>8374.742009</td>\n",
       "      <td>8376.755450</td>\n",
       "      <td>8378.626704</td>\n",
       "      <td>8380.780163</td>\n",
       "      <td>8383.314661</td>\n",
       "      <td>8385.515495</td>\n",
       "      <td>8387.580505</td>\n",
       "    </tr>\n",
       "    <tr>\n",
       "      <th>596</th>\n",
       "      <td>8380.735788</td>\n",
       "      <td>8382.738950</td>\n",
       "      <td>8384.686896</td>\n",
       "      <td>8386.689872</td>\n",
       "      <td>8388.810902</td>\n",
       "      <td>8390.824343</td>\n",
       "      <td>8392.695597</td>\n",
       "      <td>8394.849055</td>\n",
       "      <td>8397.383553</td>\n",
       "      <td>8399.584388</td>\n",
       "      <td>8401.649397</td>\n",
       "    </tr>\n",
       "    <tr>\n",
       "      <th>597</th>\n",
       "      <td>8394.804680</td>\n",
       "      <td>8396.807842</td>\n",
       "      <td>8398.755788</td>\n",
       "      <td>8400.758765</td>\n",
       "      <td>8402.879794</td>\n",
       "      <td>8404.893235</td>\n",
       "      <td>8406.764489</td>\n",
       "      <td>8408.917948</td>\n",
       "      <td>8411.452445</td>\n",
       "      <td>8413.653280</td>\n",
       "      <td>8415.718290</td>\n",
       "    </tr>\n",
       "    <tr>\n",
       "      <th>598</th>\n",
       "      <td>8408.873573</td>\n",
       "      <td>8410.876734</td>\n",
       "      <td>8412.824680</td>\n",
       "      <td>8414.827657</td>\n",
       "      <td>8416.948686</td>\n",
       "      <td>8418.962127</td>\n",
       "      <td>8420.833381</td>\n",
       "      <td>8422.986840</td>\n",
       "      <td>8425.521338</td>\n",
       "      <td>8427.722172</td>\n",
       "      <td>8429.787182</td>\n",
       "    </tr>\n",
       "    <tr>\n",
       "      <th>599</th>\n",
       "      <td>8422.942465</td>\n",
       "      <td>8424.945627</td>\n",
       "      <td>8426.893573</td>\n",
       "      <td>8428.896549</td>\n",
       "      <td>8431.017578</td>\n",
       "      <td>8433.031020</td>\n",
       "      <td>8434.902274</td>\n",
       "      <td>8437.055732</td>\n",
       "      <td>8439.590230</td>\n",
       "      <td>8441.791065</td>\n",
       "      <td>8443.856074</td>\n",
       "    </tr>\n",
       "  </tbody>\n",
       "</table>\n",
       "<p>600 rows × 11 columns</p>\n",
       "</div>"
      ],
      "text/plain": [
       "               0            1            2            3            4  \\\n",
       "0    0.000000     0.000000     0.000000     0.000000     0.000000      \n",
       "1    9.676000     11.597500    13.690500    15.696500    17.901000     \n",
       "2    23.808197    25.713671    27.773432    29.821405    31.817318     \n",
       "3    37.887236    39.890989    41.838841    43.842842    45.962185     \n",
       "4    51.950429    53.953534    55.901477    57.904394    60.025615     \n",
       "..         ...          ...          ...          ...          ...     \n",
       "595  8366.666896  8368.670058  8370.618004  8372.620980  8374.742009   \n",
       "596  8380.735788  8382.738950  8384.686896  8386.689872  8388.810902   \n",
       "597  8394.804680  8396.807842  8398.755788  8400.758765  8402.879794   \n",
       "598  8408.873573  8410.876734  8412.824680  8414.827657  8416.948686   \n",
       "599  8422.942465  8424.945627  8426.893573  8428.896549  8431.017578   \n",
       "\n",
       "               5            6            7            8            9  \\\n",
       "0    0.000000     0.000000     0.000000     0.000000     0.000000      \n",
       "1    20.558500    22.445000    23.635500    24.499500    24.782500     \n",
       "2    33.830253    35.796830    37.984176    40.585219    42.787050     \n",
       "3    47.975287    49.848271    51.975345    54.511344    56.720101     \n",
       "4    62.039096    63.910249    66.069621    68.603203    70.802178     \n",
       "..         ...          ...          ...          ...          ...     \n",
       "595  8376.755450  8378.626704  8380.780163  8383.314661  8385.515495   \n",
       "596  8390.824343  8392.695597  8394.849055  8397.383553  8399.584388   \n",
       "597  8404.893235  8406.764489  8408.917948  8411.452445  8413.653280   \n",
       "598  8418.962127  8420.833381  8422.986840  8425.521338  8427.722172   \n",
       "599  8433.031020  8434.902274  8437.055732  8439.590230  8441.791065   \n",
       "\n",
       "              10  \n",
       "0    0.000000     \n",
       "1    24.771500    \n",
       "2    44.621812    \n",
       "3    58.801581    \n",
       "4    72.864015    \n",
       "..         ...    \n",
       "595  8387.580505  \n",
       "596  8401.649397  \n",
       "597  8415.718290  \n",
       "598  8429.787182  \n",
       "599  8443.856074  \n",
       "\n",
       "[600 rows x 11 columns]"
      ]
     },
     "execution_count": 21,
     "metadata": {},
     "output_type": "execute_result"
    }
   ],
   "source": [
    "value_df = pd.DataFrame(v)\n",
    "value_df"
   ]
  },
  {
   "cell_type": "code",
   "execution_count": 22,
   "metadata": {
    "colab": {},
    "colab_type": "code",
    "id": "9SvQUyk0rHvw"
   },
   "outputs": [
    {
     "data": {
      "text/html": [
       "<div>\n",
       "<style scoped>\n",
       "    .dataframe tbody tr th:only-of-type {\n",
       "        vertical-align: middle;\n",
       "    }\n",
       "\n",
       "    .dataframe tbody tr th {\n",
       "        vertical-align: top;\n",
       "    }\n",
       "\n",
       "    .dataframe thead th {\n",
       "        text-align: right;\n",
       "    }\n",
       "</style>\n",
       "<table border=\"1\" class=\"dataframe\">\n",
       "  <thead>\n",
       "    <tr style=\"text-align: right;\">\n",
       "      <th></th>\n",
       "      <th>0</th>\n",
       "      <th>1</th>\n",
       "      <th>2</th>\n",
       "      <th>3</th>\n",
       "      <th>4</th>\n",
       "      <th>5</th>\n",
       "      <th>6</th>\n",
       "      <th>7</th>\n",
       "      <th>8</th>\n",
       "      <th>9</th>\n",
       "      <th>10</th>\n",
       "    </tr>\n",
       "  </thead>\n",
       "  <tbody>\n",
       "    <tr>\n",
       "      <th>590</th>\n",
       "      <td>10.0</td>\n",
       "      <td>9.0</td>\n",
       "      <td>8.0</td>\n",
       "      <td>7.0</td>\n",
       "      <td>6.0</td>\n",
       "      <td>5.0</td>\n",
       "      <td>4.0</td>\n",
       "      <td>0.0</td>\n",
       "      <td>0.0</td>\n",
       "      <td>0.0</td>\n",
       "      <td>0.0</td>\n",
       "    </tr>\n",
       "    <tr>\n",
       "      <th>591</th>\n",
       "      <td>10.0</td>\n",
       "      <td>9.0</td>\n",
       "      <td>8.0</td>\n",
       "      <td>7.0</td>\n",
       "      <td>6.0</td>\n",
       "      <td>5.0</td>\n",
       "      <td>4.0</td>\n",
       "      <td>0.0</td>\n",
       "      <td>0.0</td>\n",
       "      <td>0.0</td>\n",
       "      <td>0.0</td>\n",
       "    </tr>\n",
       "    <tr>\n",
       "      <th>592</th>\n",
       "      <td>10.0</td>\n",
       "      <td>9.0</td>\n",
       "      <td>8.0</td>\n",
       "      <td>7.0</td>\n",
       "      <td>6.0</td>\n",
       "      <td>5.0</td>\n",
       "      <td>4.0</td>\n",
       "      <td>0.0</td>\n",
       "      <td>0.0</td>\n",
       "      <td>0.0</td>\n",
       "      <td>0.0</td>\n",
       "    </tr>\n",
       "    <tr>\n",
       "      <th>593</th>\n",
       "      <td>10.0</td>\n",
       "      <td>9.0</td>\n",
       "      <td>8.0</td>\n",
       "      <td>7.0</td>\n",
       "      <td>6.0</td>\n",
       "      <td>5.0</td>\n",
       "      <td>4.0</td>\n",
       "      <td>0.0</td>\n",
       "      <td>0.0</td>\n",
       "      <td>0.0</td>\n",
       "      <td>0.0</td>\n",
       "    </tr>\n",
       "    <tr>\n",
       "      <th>594</th>\n",
       "      <td>10.0</td>\n",
       "      <td>9.0</td>\n",
       "      <td>8.0</td>\n",
       "      <td>7.0</td>\n",
       "      <td>6.0</td>\n",
       "      <td>5.0</td>\n",
       "      <td>4.0</td>\n",
       "      <td>0.0</td>\n",
       "      <td>0.0</td>\n",
       "      <td>0.0</td>\n",
       "      <td>0.0</td>\n",
       "    </tr>\n",
       "    <tr>\n",
       "      <th>595</th>\n",
       "      <td>10.0</td>\n",
       "      <td>9.0</td>\n",
       "      <td>8.0</td>\n",
       "      <td>7.0</td>\n",
       "      <td>6.0</td>\n",
       "      <td>5.0</td>\n",
       "      <td>4.0</td>\n",
       "      <td>0.0</td>\n",
       "      <td>0.0</td>\n",
       "      <td>0.0</td>\n",
       "      <td>0.0</td>\n",
       "    </tr>\n",
       "    <tr>\n",
       "      <th>596</th>\n",
       "      <td>10.0</td>\n",
       "      <td>9.0</td>\n",
       "      <td>8.0</td>\n",
       "      <td>7.0</td>\n",
       "      <td>6.0</td>\n",
       "      <td>5.0</td>\n",
       "      <td>4.0</td>\n",
       "      <td>0.0</td>\n",
       "      <td>0.0</td>\n",
       "      <td>0.0</td>\n",
       "      <td>0.0</td>\n",
       "    </tr>\n",
       "    <tr>\n",
       "      <th>597</th>\n",
       "      <td>10.0</td>\n",
       "      <td>9.0</td>\n",
       "      <td>8.0</td>\n",
       "      <td>7.0</td>\n",
       "      <td>6.0</td>\n",
       "      <td>5.0</td>\n",
       "      <td>4.0</td>\n",
       "      <td>0.0</td>\n",
       "      <td>0.0</td>\n",
       "      <td>0.0</td>\n",
       "      <td>0.0</td>\n",
       "    </tr>\n",
       "    <tr>\n",
       "      <th>598</th>\n",
       "      <td>10.0</td>\n",
       "      <td>9.0</td>\n",
       "      <td>8.0</td>\n",
       "      <td>7.0</td>\n",
       "      <td>6.0</td>\n",
       "      <td>5.0</td>\n",
       "      <td>4.0</td>\n",
       "      <td>0.0</td>\n",
       "      <td>0.0</td>\n",
       "      <td>0.0</td>\n",
       "      <td>0.0</td>\n",
       "    </tr>\n",
       "    <tr>\n",
       "      <th>599</th>\n",
       "      <td>10.0</td>\n",
       "      <td>9.0</td>\n",
       "      <td>8.0</td>\n",
       "      <td>7.0</td>\n",
       "      <td>6.0</td>\n",
       "      <td>5.0</td>\n",
       "      <td>4.0</td>\n",
       "      <td>0.0</td>\n",
       "      <td>0.0</td>\n",
       "      <td>0.0</td>\n",
       "      <td>0.0</td>\n",
       "    </tr>\n",
       "  </tbody>\n",
       "</table>\n",
       "</div>"
      ],
      "text/plain": [
       "        0    1    2    3    4    5    6    7    8    9   10\n",
       "590  10.0  9.0  8.0  7.0  6.0  5.0  4.0  0.0  0.0  0.0  0.0\n",
       "591  10.0  9.0  8.0  7.0  6.0  5.0  4.0  0.0  0.0  0.0  0.0\n",
       "592  10.0  9.0  8.0  7.0  6.0  5.0  4.0  0.0  0.0  0.0  0.0\n",
       "593  10.0  9.0  8.0  7.0  6.0  5.0  4.0  0.0  0.0  0.0  0.0\n",
       "594  10.0  9.0  8.0  7.0  6.0  5.0  4.0  0.0  0.0  0.0  0.0\n",
       "595  10.0  9.0  8.0  7.0  6.0  5.0  4.0  0.0  0.0  0.0  0.0\n",
       "596  10.0  9.0  8.0  7.0  6.0  5.0  4.0  0.0  0.0  0.0  0.0\n",
       "597  10.0  9.0  8.0  7.0  6.0  5.0  4.0  0.0  0.0  0.0  0.0\n",
       "598  10.0  9.0  8.0  7.0  6.0  5.0  4.0  0.0  0.0  0.0  0.0\n",
       "599  10.0  9.0  8.0  7.0  6.0  5.0  4.0  0.0  0.0  0.0  0.0"
      ]
     },
     "execution_count": 22,
     "metadata": {},
     "output_type": "execute_result"
    }
   ],
   "source": [
    "policy_df = pd.DataFrame(d)\n",
    "policy_df.tail(10)"
   ]
  },
  {
   "cell_type": "markdown",
   "metadata": {
    "colab_type": "text",
    "id": "vvzHgFalrHv7"
   },
   "source": [
    "### Step 4: Value Iteration by Simulation"
   ]
  },
  {
   "cell_type": "code",
   "execution_count": null,
   "metadata": {
    "colab": {
     "base_uri": "https://localhost:8080/",
     "height": 35
    },
    "colab_type": "code",
    "id": "inSeKFuB0S3D",
    "outputId": "b0440917-b51a-4f5f-c3ad-0a95fc322d0e"
   },
   "outputs": [],
   "source": [
    "a = P_t.sum(axis=1)\n",
    "a.shape"
   ]
  },
  {
   "cell_type": "code",
   "execution_count": null,
   "metadata": {},
   "outputs": [],
   "source": [
    "pd.DataFrame(a)"
   ]
  },
  {
   "cell_type": "code",
   "execution_count": null,
   "metadata": {},
   "outputs": [],
   "source": [
    "a.sum(axis=1)"
   ]
  },
  {
   "cell_type": "code",
   "execution_count": null,
   "metadata": {
    "colab": {},
    "colab_type": "code",
    "id": "4yyC4sH41Cmr"
   },
   "outputs": [],
   "source": [
    "np.set_printoptions(precision=15)"
   ]
  },
  {
   "cell_type": "code",
   "execution_count": null,
   "metadata": {
    "colab": {
     "base_uri": "https://localhost:8080/",
     "height": 408
    },
    "colab_type": "code",
    "id": "EHjwr-pr00oH",
    "outputId": "66387c9c-92ec-445a-8389-1855ae5286fc"
   },
   "outputs": [],
   "source": [
    "P_t[9,:,:]"
   ]
  },
  {
   "cell_type": "code",
   "execution_count": null,
   "metadata": {
    "colab": {},
    "colab_type": "code",
    "id": "nGPnYOHJx76a"
   },
   "outputs": [],
   "source": [
    "#T= number of episodes \n",
    "# maximum number of transitions (=maximum number of simulations -1)\n",
    "\n",
    "\n",
    "def val_iter_sim(P_mat,RR,T=1000,Tmax=1000):\n",
    "  K,N,M = P_t.shape\n",
    "  # compute the expected reward (immediate)\n",
    "  q = np.zeros((K,N,1),dtype=np.float64)\n",
    "\n",
    "  for i in range(0,N):\n",
    "      for k in range(0,K):\n",
    "          for j in range(0,M):\n",
    "              q[k,i,0] = q[k,i,0] + RR[k,i,j]*P_t[k,i,j]\n",
    "\n",
    "\n",
    "  v = np.zeros((N,T+1),dtype=np.float64)\n",
    "  d = np.zeros((N,T+1),dtype=np.int)\n",
    "  visits = np.zeros((N,1),dtype=np.int)\n",
    "\n",
    "\n",
    "\n",
    "  for n in range(1,T):\n",
    "      t = 1\n",
    "      y0 = N-1\n",
    "      while (t<=Tmax+1):\n",
    "          visits[y0]+=1\n",
    "          for i in range(0,N):\n",
    "              if i==y0:\n",
    "                  rhs = np.zeros((1,K),dtype=np.float64)\n",
    "                  for k in range(0,K):\n",
    "                      rhs[0][k] = q[k][i][0] + np.matmul(P_t[k,i,:],v[:,n-1]) \n",
    "                  v[i,n] = max(rhs[0])\n",
    "                  if np.random.uniform(0,1,1)>=0.1:\n",
    "                      d[i,n] = np.argmax(rhs[0])\n",
    "                  else:\n",
    "                      d[i,n] = np.random.choice(range(0,K))\n",
    "          y1 = np.random.choice(range(0,N),p=P_t[d[y0,n],y0,:])\n",
    "          y0 = y1\n",
    "          t = t+1\n",
    "      v[:,n+1] = v[:,n]\n",
    "      d[:,n+1] = d[:,n]\n",
    "      \n",
    "  v = v.T\n",
    "  d = d.T\n",
    "  return v,d, visits"
   ]
  },
  {
   "cell_type": "code",
   "execution_count": null,
   "metadata": {
    "colab": {
     "base_uri": "https://localhost:8080/",
     "height": 292
    },
    "colab_type": "code",
    "id": "NR6TTT-Oywkr",
    "outputId": "d57196c0-b263-476d-96ba-ad26c67ccf60"
   },
   "outputs": [],
   "source": [
    "%%time\n",
    "\n",
    "v,d,visits=val_iter_sim(P_t,RR)"
   ]
  },
  {
   "cell_type": "code",
   "execution_count": null,
   "metadata": {
    "colab": {},
    "colab_type": "code",
    "id": "1fxvJ5eCrHv_",
    "outputId": "a9d87ce5-fa00-4d63-ea6a-30046a3b7296",
    "scrolled": true
   },
   "outputs": [],
   "source": [
    "pd.DataFrame(d)"
   ]
  },
  {
   "cell_type": "markdown",
   "metadata": {
    "colab_type": "text",
    "id": "prJJemHTrHwD"
   },
   "source": [
    "### Step 5: Q-Learning (Need to be fixed)"
   ]
  },
  {
   "cell_type": "code",
   "execution_count": null,
   "metadata": {
    "colab": {},
    "colab_type": "code",
    "id": "wVFGBKSr21C3"
   },
   "outputs": [],
   "source": [
    "# Tmax=maximum number of transitions (=maximum number of simulations -1)\n",
    "\n",
    "def Q_learning(env=env,lr=0.01,Tmax=1000,T=1000):\n",
    "\n",
    "  v = np.zeros((env.n + 1,T+1),dtype=np.float64) #value\n",
    "  d = np.zeros((env.n + 1,T+1),dtype=np.int) #policy\n",
    "  visits = np.zeros((env.n + 1,env.n + 1),dtype=np.int) #current/action\n",
    "\n",
    "  Q = np.zeros((env.n + 1,env.n + 1),dtype=np.float64)\n",
    "\n",
    "  learning_rate = lr\n",
    "  for num_ep in range(1,T):\n",
    "      t = 1\n",
    "      current_state = env.state\n",
    "      while (t <= Tmax+1):\n",
    "          if t < Tmax / 2:\n",
    "              if np.random.uniform(0,1,1)>=((Tmax - t) / Tmax):\n",
    "                  action = np.argmax(Q[current_state,:]) #greedy\n",
    "              else:\n",
    "                  action = np.random.choice(range(0,K)) #explore\n",
    "          else:\n",
    "              action = np.argmax(Q[current_state,:]) #greedy\n",
    "          visits[current_state,action]+=1\n",
    "          #print(\"state: \" + str(env.state))\n",
    "          next_state, reward, done, z = env._step(action)\n",
    "          #print(\"action: \" + str(action))\n",
    "          #print(\"next state: \" + str(env.state))\n",
    "          \n",
    "          Q[current_state,action] = (1-learning_rate)*Q[current_state,action] + learning_rate*(reward + \n",
    "                                                                              0.99 * max(Q[next_state,:]))      \n",
    "          current_state = env.state\n",
    "          t += 1\n",
    "          \n",
    "  J = np.zeros((env.n + 1,1),dtype=np.float64)\n",
    "  d = np.zeros((env.n + 1,1),dtype=np.float64)\n",
    "  for j in range(0,env.n + 1):\n",
    "      J[j,0] = max(Q[j,:])\n",
    "      d[j,0] = np.argmax(Q[j,:])\n",
    "  return Q,J,d"
   ]
  },
  {
   "cell_type": "code",
   "execution_count": null,
   "metadata": {
    "colab": {},
    "colab_type": "code",
    "id": "kElkCeIg3w3_"
   },
   "outputs": [],
   "source": [
    "Q,J,d=Q_learning()"
   ]
  },
  {
   "cell_type": "code",
   "execution_count": null,
   "metadata": {
    "colab": {
     "base_uri": "https://localhost:8080/",
     "height": 370
    },
    "colab_type": "code",
    "id": "SNXGPAWLrHwJ",
    "outputId": "6cabbd5c-5463-4d29-d652-8971d54db340",
    "scrolled": false
   },
   "outputs": [],
   "source": [
    "pd.DataFrame(Q)"
   ]
  },
  {
   "cell_type": "code",
   "execution_count": null,
   "metadata": {
    "colab": {
     "base_uri": "https://localhost:8080/",
     "height": 370
    },
    "colab_type": "code",
    "id": "O3MgAbuBrHwP",
    "outputId": "d7cb2734-99d5-4b36-ccd2-489eeda31d60"
   },
   "outputs": [],
   "source": [
    "pd.DataFrame(d)"
   ]
  },
  {
   "cell_type": "markdown",
   "metadata": {
    "colab_type": "text",
    "id": "a7e0uM0U5xEq"
   },
   "source": [
    "### Q Learning using Prob Matrix\n"
   ]
  },
  {
   "cell_type": "code",
   "execution_count": null,
   "metadata": {
    "colab": {},
    "colab_type": "code",
    "id": "IXmlPE0a511R"
   },
   "outputs": [],
   "source": [
    "#    T #number of episodes\n",
    "# Tmax = 1000\n",
    "#  gamma = 0.1\n",
    "T=50000\n",
    "Tmax=10000\n",
    "gamma=0.05\n",
    "def Q_learn_pmat(P_t,RR,T=5000,Tmax=1000,gamma=0.1,discount_rate=0.95):\n",
    "  K,N,M = P_t.shape\n",
    "  v = np.zeros((N,T+1),dtype=np.float64) #value\n",
    "  d = np.zeros((N,T+1),dtype=np.int) #policy\n",
    "  visits = np.zeros((N,K),dtype=np.int)\n",
    "\n",
    "  Q = np.zeros((N,K),dtype=np.float64)\n",
    "\n",
    "  # maximum number of transitions (=maximum number of simulations -1)\n",
    "\n",
    "  for num_ep in range(1,T):\n",
    "      t = 1\n",
    "      y0 = np.random.choice(range(0,N))\n",
    "      d0 = np.random.choice(range(0,K))\n",
    "      while (t<=Tmax+1):\n",
    "          visits[y0,d0]+=1\n",
    "          y1 = np.random.choice(range(0,N),p=P_t[d0,y0,:])\n",
    "          Q[y0,d0] = (1-gamma)*Q[y0,d0] + gamma*(RR[d0,y0,y1] + discount_rate * max(Q[y1,:]))\n",
    "          y0 = y1\n",
    "          if np.random.uniform(0,1,1)>=0.2:\n",
    "              d0 = np.argmax(Q[y1,:]) #greedy\n",
    "          else:\n",
    "              d0 = np.random.choice(range(0,K)) #explore\n",
    "          t = t+1\n",
    "\n",
    "\n",
    "  J = np.zeros((N,1),dtype=np.float64)\n",
    "  d = np.zeros((N,1),dtype=np.float64)\n",
    "  for j in range(0,N):\n",
    "      J[j,0] = max(Q[j,:])\n",
    "      d[j,0] = np.argmax(Q[j,:])\n",
    "  return J,d,visits,Q"
   ]
  },
  {
   "cell_type": "code",
   "execution_count": null,
   "metadata": {
    "colab": {},
    "colab_type": "code",
    "id": "Id9RIX4C6pje"
   },
   "outputs": [],
   "source": [
    "J,d,visits,Q=Q_learn_pmat(P_t,RR)"
   ]
  },
  {
   "cell_type": "code",
   "execution_count": null,
   "metadata": {
    "colab": {},
    "colab_type": "code",
    "id": "-6GvfoSArHwZ"
   },
   "outputs": [],
   "source": [
    "policy_df = pd.DataFrame(d)"
   ]
  },
  {
   "cell_type": "code",
   "execution_count": null,
   "metadata": {
    "colab": {
     "base_uri": "https://localhost:8080/",
     "height": 370
    },
    "colab_type": "code",
    "id": "1hpSMawLrHwi",
    "outputId": "d042c021-8331-42c6-eee2-5a343ba69ca2"
   },
   "outputs": [],
   "source": [
    "pd.DataFrame(Q)"
   ]
  },
  {
   "cell_type": "code",
   "execution_count": null,
   "metadata": {
    "colab": {
     "base_uri": "https://localhost:8080/",
     "height": 370
    },
    "colab_type": "code",
    "id": "AqqBanYvrHwm",
    "outputId": "3c1a7462-7305-4fe4-8437-5572bb51b601",
    "scrolled": false
   },
   "outputs": [],
   "source": [
    "policy_df"
   ]
  },
  {
   "cell_type": "markdown",
   "metadata": {
    "colab_type": "text",
    "id": "F8KqJ3eXrHwr"
   },
   "source": [
    "### Step 6: Simulate withour probability matrix/RR"
   ]
  },
  {
   "cell_type": "code",
   "execution_count": null,
   "metadata": {
    "colab": {},
    "colab_type": "code",
    "id": "WC2h00CVrHws"
   },
   "outputs": [],
   "source": []
  },
  {
   "cell_type": "code",
   "execution_count": null,
   "metadata": {
    "colab": {},
    "colab_type": "code",
    "id": "zZEfIcQcrHww"
   },
   "outputs": [],
   "source": []
  },
  {
   "cell_type": "markdown",
   "metadata": {
    "colab_type": "text",
    "id": "lq6f6JplrHw2"
   },
   "source": [
    "### Step 7:"
   ]
  },
  {
   "cell_type": "code",
   "execution_count": null,
   "metadata": {
    "colab": {},
    "colab_type": "code",
    "id": "m6sNPNsLrHw3"
   },
   "outputs": [],
   "source": []
  },
  {
   "cell_type": "code",
   "execution_count": null,
   "metadata": {
    "colab": {},
    "colab_type": "code",
    "id": "roTE4xA6rHw6"
   },
   "outputs": [],
   "source": []
  },
  {
   "cell_type": "code",
   "execution_count": null,
   "metadata": {
    "colab": {},
    "colab_type": "code",
    "id": "JH_N-8HKrHw-"
   },
   "outputs": [],
   "source": []
  }
 ],
 "metadata": {
  "colab": {
   "name": "gym_analysis_Group6.ipynb",
   "provenance": []
  },
  "kernelspec": {
   "display_name": "Python 3",
   "language": "python",
   "name": "python3"
  },
  "language_info": {
   "codemirror_mode": {
    "name": "ipython",
    "version": 3
   },
   "file_extension": ".py",
   "mimetype": "text/x-python",
   "name": "python",
   "nbconvert_exporter": "python",
   "pygments_lexer": "ipython3",
   "version": "3.7.7"
  }
 },
 "nbformat": 4,
 "nbformat_minor": 1
}
